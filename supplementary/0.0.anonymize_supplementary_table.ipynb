{
 "cells": [
  {
   "cell_type": "code",
   "execution_count": 1,
   "metadata": {},
   "outputs": [],
   "source": [
    "import pandas as pd"
   ]
  },
  {
   "cell_type": "code",
   "execution_count": 2,
   "metadata": {},
   "outputs": [],
   "source": [
    "# name of each discipline\n",
    "field_name = pd.read_csv(\"../data/mag/FieldsOfStudy.txt\", sep=\"\\t\",\n",
    "                        names = [\"FieldOfStudyId\", \"Rank\", \"NormalizedName\", \"DisplayName\",\n",
    "                                 \"MainType\", \"Level\", \"PaperCount\", \"CitationCount\", \"CreatedDate\"],\n",
    "                       usecols=['FieldOfStudyId','DisplayName']).rename(columns={'DisplayName':'Field'})"
   ]
  },
  {
   "cell_type": "code",
   "execution_count": 3,
   "metadata": {},
   "outputs": [
    {
     "name": "stdout",
     "output_type": "stream",
     "text": [
      "CPU times: user 29.3 s, sys: 6.83 s, total: 36.1 s\n",
      "Wall time: 36.3 s\n"
     ]
    }
   ],
   "source": [
    "%%time\n",
    "# calculated discipline of all scientists in MAG\n",
    "field_parent = pd.read_csv(\"/scratch/fl1092/capstone/conflated/AuthorFields.csv\",sep='\\t',\n",
    "        usecols=['NewAuthorId', 'Parent'], dtype={'NewAuthorId':int, 'Parent':int}).rename(\n",
    "    columns={'Parent':'FieldOfStudyId'})\n",
    "assert(field_parent.FieldOfStudyId.nunique() == 19)"
   ]
  },
  {
   "cell_type": "code",
   "execution_count": 4,
   "metadata": {},
   "outputs": [],
   "source": [
    "def getJournalField(df):\n",
    "    jfield = (\n",
    "        pd.concat([pd.read_csv('/scratch/fl1092/capstone/bigmem/Elsevier_journal_top_fields.csv',sep='\\t',\n",
    "                     usecols=['issn','Parent','Score'],dtype={'issn':str,'Parent':int,'Score':float})],\n",
    "                  ignore_index=True, sort=False)\n",
    "        .assign(issn = lambda _: _.issn.apply(lambda x: '0'*(8-len(x)) + x))\n",
    "        .sort_values(by='Score',ascending=False).drop_duplicates(subset=['issn'],keep='first')\n",
    "        .merge(field_name, left_on='Parent', right_on='FieldOfStudyId')\n",
    "    )\n",
    "    \n",
    "    jfield = jfield[['issn','FieldOfStudyId','Field']]\n",
    "    \n",
    "    df = df.merge(jfield, on='issn')\n",
    "    \n",
    "    return df\n",
    "    \n",
    "def getScientistField(df):\n",
    "    df = df.merge(field_parent, on='NewAuthorId')\n",
    "    df = df.merge(field_name, on='FieldOfStudyId')\n",
    "    \n",
    "    return df"
   ]
  },
  {
   "cell_type": "code",
   "execution_count": 5,
   "metadata": {},
   "outputs": [],
   "source": [
    "def printTable(table, multiplier=1):\n",
    "    # multiplier: when printing table, print percentage value\n",
    "    \n",
    "    top15_fields = pd.DataFrame({'Discipline':['Biology', 'Business', 'Chemistry', 'Computer science', 'Economics',\n",
    "                                     'Engineering', 'Geology', 'Materials science', 'Mathematics', 'Medicine',\n",
    "                                     'Philosophy', 'Physics', 'Political science' ,'Psychology', 'Sociology']})\n",
    "    table = table.merge(\n",
    "        top15_fields.rename(columns={'Discipline':'Field'}),\n",
    "        on='Field')\n",
    "    \n",
    "    t1 = (\n",
    "        table.Field.value_counts().reset_index()\n",
    "        .rename(columns={'index':'Discipline', 'Field':'Number of editors'})\n",
    "    )\n",
    "    t2 = (\n",
    "        table.Field.value_counts(normalize=True).reset_index()\n",
    "        .rename(columns={'index':'Discipline', 'Field':'Percentage'})\n",
    "    )\n",
    "    \n",
    "    t1 = top15_fields.merge(t1, on=['Discipline']).merge(t2, on=['Discipline']).fillna(0)\n",
    "    \n",
    "    t1 = (\n",
    "        t1.assign(Percentage = t1.Percentage.apply(lambda x: x*multiplier))\n",
    "        .sort_values('Percentage', ascending=False)\n",
    "    )\n",
    "    \n",
    "    print(f'Total: {t1[\"Number of editors\"].sum()}')\n",
    "    \n",
    "    return t1"
   ]
  },
  {
   "cell_type": "markdown",
   "metadata": {},
   "source": [
    "### MAG editors"
   ]
  },
  {
   "cell_type": "code",
   "execution_count": 6,
   "metadata": {},
   "outputs": [],
   "source": [
    "editors = pd.read_csv(\"/scratch/fl1092/capstone/elsevier/editors.csv\", sep='\\t',\n",
    "                     usecols=[\"NewAuthorId\", \"issn\", \"start_year\", \"end_year\"],\n",
    "                     dtype={\"NewAuthorId\":int, \"issn\":str, \"start_year\":int, \"end_year\":int})"
   ]
  },
  {
   "cell_type": "code",
   "execution_count": 7,
   "metadata": {},
   "outputs": [
    {
     "name": "stdout",
     "output_type": "stream",
     "text": [
      "CPU times: user 39.7 s, sys: 10.5 s, total: 50.2 s\n",
      "Wall time: 50.3 s\n"
     ]
    }
   ],
   "source": [
    "%%time\n",
    "table1 = getScientistField(editors)"
   ]
  },
  {
   "cell_type": "markdown",
   "metadata": {},
   "source": [
    "### Gender editors"
   ]
  },
  {
   "cell_type": "code",
   "execution_count": 8,
   "metadata": {},
   "outputs": [],
   "source": [
    "editors = pd.read_csv(\"/scratch/fl1092/capstone/temp/EditorsUnion.csv\",sep='\\t',\n",
    "                      usecols=['ElEditorID','issn','start_year','end_year','gender'],\n",
    "                     dtype={'ElEditorID':int,'issn':str,'start_year':int,'end_year':int,'gender':str})"
   ]
  },
  {
   "cell_type": "code",
   "execution_count": 9,
   "metadata": {},
   "outputs": [
    {
     "name": "stdout",
     "output_type": "stream",
     "text": [
      "CPU times: user 110 ms, sys: 40.8 ms, total: 151 ms\n",
      "Wall time: 151 ms\n"
     ]
    }
   ],
   "source": [
    "%%time\n",
    "table2 = getJournalField(editors)"
   ]
  },
  {
   "cell_type": "markdown",
   "metadata": {},
   "source": [
    "### All editors"
   ]
  },
  {
   "cell_type": "code",
   "execution_count": 10,
   "metadata": {},
   "outputs": [],
   "source": [
    "def getFirstLastName(df, col):\n",
    "    df = df.assign(First = df[col].apply(lambda x: x.split()[0]))\n",
    "    df = df.assign(last = df[col].apply(lambda x: x.split()[-1]))\n",
    "    \n",
    "    return df\n",
    "\n",
    "def addDataSet(df, editors):\n",
    "    df = df.merge(editors.assign(Exist=1), on=['issn', 'First', 'last'], how='left').fillna(0)\n",
    "    \n",
    "    df = df[df.Exist == 0]\n",
    "    \n",
    "    return df\n",
    "\n",
    "editors = pd.read_csv('/scratch/fl1092/capstone/revise/EditorsRawData.csv',sep='\\t',\n",
    "                     usecols=['issn','last','First'], dtype={'issn':str})\n",
    "\n",
    "toAdd1 = (\n",
    "    pd.read_csv('/scratch/fl1092/capstone/temp/ManualSociologyEditors.csv',sep='\\t',\n",
    "                dtype={'issn':str,'start_year':int,'end_year':int,'gender':str,'Name':str})\n",
    "    .pipe(getFirstLastName, 'Name')\n",
    "    .pipe(addDataSet, editors)\n",
    ")\n",
    "\n",
    "editors = (\n",
    "    pd.concat([editors, toAdd1[['issn','last','First']] ])\n",
    ")\n",
    "\n",
    "toAdd2 = (\n",
    "    pd.read_csv(\"/scratch/fl1092/capstone/temp/EditorsUnion.csv\",sep='\\t',\n",
    "                usecols=['issn','Name'],\n",
    "                dtype={'issn':str,'Name':str})\n",
    "    .drop_duplicates()\n",
    "    .pipe(getJournalField)\n",
    "    .query('FieldOfStudyId == 144133560')\n",
    "    .pipe(getFirstLastName, 'Name')\n",
    "    .pipe(addDataSet, editors)\n",
    "    .drop('Name', axis=1)\n",
    "    .drop_duplicates()\n",
    ")\n",
    "\n",
    "editors = (\n",
    "    pd.concat([editors, toAdd2[['issn','last','First']] ])\n",
    ")\n",
    "assert(editors.duplicated().any()==False)\n",
    "\n",
    "# (105962, 3) 1816\n",
    "# (131, 7)\n",
    "# (99, 8)\n",
    "# (106061, 3)"
   ]
  },
  {
   "cell_type": "code",
   "execution_count": 11,
   "metadata": {},
   "outputs": [
    {
     "name": "stdout",
     "output_type": "stream",
     "text": [
      "CPU times: user 111 ms, sys: 36.9 ms, total: 148 ms\n",
      "Wall time: 147 ms\n"
     ]
    }
   ],
   "source": [
    "%%time\n",
    "table3 = getJournalField(editors)"
   ]
  },
  {
   "cell_type": "markdown",
   "metadata": {},
   "source": [
    "# Tables"
   ]
  },
  {
   "cell_type": "code",
   "execution_count": 12,
   "metadata": {},
   "outputs": [
    {
     "name": "stdout",
     "output_type": "stream",
     "text": [
      "Total: 19698\n",
      "Total: 80776\n",
      "Total: 102964\n"
     ]
    }
   ],
   "source": [
    "t1 = printTable(table1)\n",
    "t2 = printTable(table2)\n",
    "t3 = printTable(table3)"
   ]
  },
  {
   "cell_type": "code",
   "execution_count": 13,
   "metadata": {},
   "outputs": [],
   "source": [
    "t1.to_csv('../data/supplementary/EditorsMAGTable.csv',index=False,sep='\\t')\n",
    "t2.to_csv('../data/supplementary/EditorsGenderTable.csv',index=False,sep='\\t')\n",
    "t3.to_csv('../data/supplementary/EditorsRawTable.csv',index=False,sep='\\t')"
   ]
  },
  {
   "cell_type": "code",
   "execution_count": 14,
   "metadata": {},
   "outputs": [
    {
     "data": {
      "text/html": [
       "<div>\n",
       "<style scoped>\n",
       "    .dataframe tbody tr th:only-of-type {\n",
       "        vertical-align: middle;\n",
       "    }\n",
       "\n",
       "    .dataframe tbody tr th {\n",
       "        vertical-align: top;\n",
       "    }\n",
       "\n",
       "    .dataframe thead th {\n",
       "        text-align: right;\n",
       "    }\n",
       "</style>\n",
       "<table border=\"1\" class=\"dataframe\">\n",
       "  <thead>\n",
       "    <tr style=\"text-align: right;\">\n",
       "      <th></th>\n",
       "      <th>Discipline</th>\n",
       "      <th>Number of editors</th>\n",
       "      <th>Percentage</th>\n",
       "    </tr>\n",
       "  </thead>\n",
       "  <tbody>\n",
       "    <tr>\n",
       "      <th>0</th>\n",
       "      <td>Biology</td>\n",
       "      <td>3949</td>\n",
       "      <td>0.200477</td>\n",
       "    </tr>\n",
       "    <tr>\n",
       "      <th>4</th>\n",
       "      <td>Economics</td>\n",
       "      <td>3537</td>\n",
       "      <td>0.179561</td>\n",
       "    </tr>\n",
       "    <tr>\n",
       "      <th>3</th>\n",
       "      <td>Computer science</td>\n",
       "      <td>2318</td>\n",
       "      <td>0.117677</td>\n",
       "    </tr>\n",
       "    <tr>\n",
       "      <th>11</th>\n",
       "      <td>Physics</td>\n",
       "      <td>1725</td>\n",
       "      <td>0.087572</td>\n",
       "    </tr>\n",
       "    <tr>\n",
       "      <th>8</th>\n",
       "      <td>Mathematics</td>\n",
       "      <td>1633</td>\n",
       "      <td>0.082902</td>\n",
       "    </tr>\n",
       "    <tr>\n",
       "      <th>9</th>\n",
       "      <td>Medicine</td>\n",
       "      <td>1357</td>\n",
       "      <td>0.068890</td>\n",
       "    </tr>\n",
       "    <tr>\n",
       "      <th>2</th>\n",
       "      <td>Chemistry</td>\n",
       "      <td>1216</td>\n",
       "      <td>0.061732</td>\n",
       "    </tr>\n",
       "    <tr>\n",
       "      <th>13</th>\n",
       "      <td>Psychology</td>\n",
       "      <td>1039</td>\n",
       "      <td>0.052746</td>\n",
       "    </tr>\n",
       "    <tr>\n",
       "      <th>12</th>\n",
       "      <td>Political science</td>\n",
       "      <td>786</td>\n",
       "      <td>0.039903</td>\n",
       "    </tr>\n",
       "    <tr>\n",
       "      <th>5</th>\n",
       "      <td>Engineering</td>\n",
       "      <td>761</td>\n",
       "      <td>0.038633</td>\n",
       "    </tr>\n",
       "    <tr>\n",
       "      <th>1</th>\n",
       "      <td>Business</td>\n",
       "      <td>398</td>\n",
       "      <td>0.020205</td>\n",
       "    </tr>\n",
       "    <tr>\n",
       "      <th>7</th>\n",
       "      <td>Materials science</td>\n",
       "      <td>392</td>\n",
       "      <td>0.019900</td>\n",
       "    </tr>\n",
       "    <tr>\n",
       "      <th>6</th>\n",
       "      <td>Geology</td>\n",
       "      <td>368</td>\n",
       "      <td>0.018682</td>\n",
       "    </tr>\n",
       "    <tr>\n",
       "      <th>10</th>\n",
       "      <td>Philosophy</td>\n",
       "      <td>122</td>\n",
       "      <td>0.006194</td>\n",
       "    </tr>\n",
       "    <tr>\n",
       "      <th>14</th>\n",
       "      <td>Sociology</td>\n",
       "      <td>97</td>\n",
       "      <td>0.004924</td>\n",
       "    </tr>\n",
       "  </tbody>\n",
       "</table>\n",
       "</div>"
      ],
      "text/plain": [
       "           Discipline  Number of editors  Percentage\n",
       "0             Biology               3949    0.200477\n",
       "4           Economics               3537    0.179561\n",
       "3    Computer science               2318    0.117677\n",
       "11            Physics               1725    0.087572\n",
       "8         Mathematics               1633    0.082902\n",
       "9            Medicine               1357    0.068890\n",
       "2           Chemistry               1216    0.061732\n",
       "13         Psychology               1039    0.052746\n",
       "12  Political science                786    0.039903\n",
       "5         Engineering                761    0.038633\n",
       "1            Business                398    0.020205\n",
       "7   Materials science                392    0.019900\n",
       "6             Geology                368    0.018682\n",
       "10         Philosophy                122    0.006194\n",
       "14          Sociology                 97    0.004924"
      ]
     },
     "execution_count": 14,
     "metadata": {},
     "output_type": "execute_result"
    }
   ],
   "source": [
    "t1"
   ]
  },
  {
   "cell_type": "code",
   "execution_count": 15,
   "metadata": {},
   "outputs": [
    {
     "data": {
      "text/html": [
       "<div>\n",
       "<style scoped>\n",
       "    .dataframe tbody tr th:only-of-type {\n",
       "        vertical-align: middle;\n",
       "    }\n",
       "\n",
       "    .dataframe tbody tr th {\n",
       "        vertical-align: top;\n",
       "    }\n",
       "\n",
       "    .dataframe thead th {\n",
       "        text-align: right;\n",
       "    }\n",
       "</style>\n",
       "<table border=\"1\" class=\"dataframe\">\n",
       "  <thead>\n",
       "    <tr style=\"text-align: right;\">\n",
       "      <th></th>\n",
       "      <th>Discipline</th>\n",
       "      <th>Number of editors</th>\n",
       "      <th>Percentage</th>\n",
       "    </tr>\n",
       "  </thead>\n",
       "  <tbody>\n",
       "    <tr>\n",
       "      <th>0</th>\n",
       "      <td>Biology</td>\n",
       "      <td>22474</td>\n",
       "      <td>0.278226</td>\n",
       "    </tr>\n",
       "    <tr>\n",
       "      <th>9</th>\n",
       "      <td>Medicine</td>\n",
       "      <td>17442</td>\n",
       "      <td>0.215930</td>\n",
       "    </tr>\n",
       "    <tr>\n",
       "      <th>4</th>\n",
       "      <td>Economics</td>\n",
       "      <td>7129</td>\n",
       "      <td>0.088256</td>\n",
       "    </tr>\n",
       "    <tr>\n",
       "      <th>3</th>\n",
       "      <td>Computer science</td>\n",
       "      <td>6190</td>\n",
       "      <td>0.076632</td>\n",
       "    </tr>\n",
       "    <tr>\n",
       "      <th>11</th>\n",
       "      <td>Physics</td>\n",
       "      <td>5783</td>\n",
       "      <td>0.071593</td>\n",
       "    </tr>\n",
       "    <tr>\n",
       "      <th>2</th>\n",
       "      <td>Chemistry</td>\n",
       "      <td>4409</td>\n",
       "      <td>0.054583</td>\n",
       "    </tr>\n",
       "    <tr>\n",
       "      <th>8</th>\n",
       "      <td>Mathematics</td>\n",
       "      <td>4040</td>\n",
       "      <td>0.050015</td>\n",
       "    </tr>\n",
       "    <tr>\n",
       "      <th>13</th>\n",
       "      <td>Psychology</td>\n",
       "      <td>3831</td>\n",
       "      <td>0.047427</td>\n",
       "    </tr>\n",
       "    <tr>\n",
       "      <th>5</th>\n",
       "      <td>Engineering</td>\n",
       "      <td>3024</td>\n",
       "      <td>0.037437</td>\n",
       "    </tr>\n",
       "    <tr>\n",
       "      <th>12</th>\n",
       "      <td>Political science</td>\n",
       "      <td>2494</td>\n",
       "      <td>0.030876</td>\n",
       "    </tr>\n",
       "    <tr>\n",
       "      <th>7</th>\n",
       "      <td>Materials science</td>\n",
       "      <td>1354</td>\n",
       "      <td>0.016762</td>\n",
       "    </tr>\n",
       "    <tr>\n",
       "      <th>6</th>\n",
       "      <td>Geology</td>\n",
       "      <td>1164</td>\n",
       "      <td>0.014410</td>\n",
       "    </tr>\n",
       "    <tr>\n",
       "      <th>1</th>\n",
       "      <td>Business</td>\n",
       "      <td>861</td>\n",
       "      <td>0.010659</td>\n",
       "    </tr>\n",
       "    <tr>\n",
       "      <th>10</th>\n",
       "      <td>Philosophy</td>\n",
       "      <td>433</td>\n",
       "      <td>0.005361</td>\n",
       "    </tr>\n",
       "    <tr>\n",
       "      <th>14</th>\n",
       "      <td>Sociology</td>\n",
       "      <td>148</td>\n",
       "      <td>0.001832</td>\n",
       "    </tr>\n",
       "  </tbody>\n",
       "</table>\n",
       "</div>"
      ],
      "text/plain": [
       "           Discipline  Number of editors  Percentage\n",
       "0             Biology              22474    0.278226\n",
       "9            Medicine              17442    0.215930\n",
       "4           Economics               7129    0.088256\n",
       "3    Computer science               6190    0.076632\n",
       "11            Physics               5783    0.071593\n",
       "2           Chemistry               4409    0.054583\n",
       "8         Mathematics               4040    0.050015\n",
       "13         Psychology               3831    0.047427\n",
       "5         Engineering               3024    0.037437\n",
       "12  Political science               2494    0.030876\n",
       "7   Materials science               1354    0.016762\n",
       "6             Geology               1164    0.014410\n",
       "1            Business                861    0.010659\n",
       "10         Philosophy                433    0.005361\n",
       "14          Sociology                148    0.001832"
      ]
     },
     "execution_count": 15,
     "metadata": {},
     "output_type": "execute_result"
    }
   ],
   "source": [
    "t2"
   ]
  },
  {
   "cell_type": "code",
   "execution_count": 16,
   "metadata": {},
   "outputs": [
    {
     "data": {
      "text/html": [
       "<div>\n",
       "<style scoped>\n",
       "    .dataframe tbody tr th:only-of-type {\n",
       "        vertical-align: middle;\n",
       "    }\n",
       "\n",
       "    .dataframe tbody tr th {\n",
       "        vertical-align: top;\n",
       "    }\n",
       "\n",
       "    .dataframe thead th {\n",
       "        text-align: right;\n",
       "    }\n",
       "</style>\n",
       "<table border=\"1\" class=\"dataframe\">\n",
       "  <thead>\n",
       "    <tr style=\"text-align: right;\">\n",
       "      <th></th>\n",
       "      <th>Discipline</th>\n",
       "      <th>Number of editors</th>\n",
       "      <th>Percentage</th>\n",
       "    </tr>\n",
       "  </thead>\n",
       "  <tbody>\n",
       "    <tr>\n",
       "      <th>0</th>\n",
       "      <td>Biology</td>\n",
       "      <td>27914</td>\n",
       "      <td>0.271104</td>\n",
       "    </tr>\n",
       "    <tr>\n",
       "      <th>9</th>\n",
       "      <td>Medicine</td>\n",
       "      <td>18005</td>\n",
       "      <td>0.174867</td>\n",
       "    </tr>\n",
       "    <tr>\n",
       "      <th>11</th>\n",
       "      <td>Physics</td>\n",
       "      <td>9348</td>\n",
       "      <td>0.090789</td>\n",
       "    </tr>\n",
       "    <tr>\n",
       "      <th>4</th>\n",
       "      <td>Economics</td>\n",
       "      <td>8649</td>\n",
       "      <td>0.084000</td>\n",
       "    </tr>\n",
       "    <tr>\n",
       "      <th>3</th>\n",
       "      <td>Computer science</td>\n",
       "      <td>8226</td>\n",
       "      <td>0.079892</td>\n",
       "    </tr>\n",
       "    <tr>\n",
       "      <th>2</th>\n",
       "      <td>Chemistry</td>\n",
       "      <td>7238</td>\n",
       "      <td>0.070296</td>\n",
       "    </tr>\n",
       "    <tr>\n",
       "      <th>8</th>\n",
       "      <td>Mathematics</td>\n",
       "      <td>5977</td>\n",
       "      <td>0.058049</td>\n",
       "    </tr>\n",
       "    <tr>\n",
       "      <th>13</th>\n",
       "      <td>Psychology</td>\n",
       "      <td>4248</td>\n",
       "      <td>0.041257</td>\n",
       "    </tr>\n",
       "    <tr>\n",
       "      <th>5</th>\n",
       "      <td>Engineering</td>\n",
       "      <td>3839</td>\n",
       "      <td>0.037285</td>\n",
       "    </tr>\n",
       "    <tr>\n",
       "      <th>12</th>\n",
       "      <td>Political science</td>\n",
       "      <td>2875</td>\n",
       "      <td>0.027922</td>\n",
       "    </tr>\n",
       "    <tr>\n",
       "      <th>6</th>\n",
       "      <td>Geology</td>\n",
       "      <td>2464</td>\n",
       "      <td>0.023931</td>\n",
       "    </tr>\n",
       "    <tr>\n",
       "      <th>7</th>\n",
       "      <td>Materials science</td>\n",
       "      <td>2240</td>\n",
       "      <td>0.021755</td>\n",
       "    </tr>\n",
       "    <tr>\n",
       "      <th>1</th>\n",
       "      <td>Business</td>\n",
       "      <td>1155</td>\n",
       "      <td>0.011218</td>\n",
       "    </tr>\n",
       "    <tr>\n",
       "      <th>10</th>\n",
       "      <td>Philosophy</td>\n",
       "      <td>614</td>\n",
       "      <td>0.005963</td>\n",
       "    </tr>\n",
       "    <tr>\n",
       "      <th>14</th>\n",
       "      <td>Sociology</td>\n",
       "      <td>172</td>\n",
       "      <td>0.001670</td>\n",
       "    </tr>\n",
       "  </tbody>\n",
       "</table>\n",
       "</div>"
      ],
      "text/plain": [
       "           Discipline  Number of editors  Percentage\n",
       "0             Biology              27914    0.271104\n",
       "9            Medicine              18005    0.174867\n",
       "11            Physics               9348    0.090789\n",
       "4           Economics               8649    0.084000\n",
       "3    Computer science               8226    0.079892\n",
       "2           Chemistry               7238    0.070296\n",
       "8         Mathematics               5977    0.058049\n",
       "13         Psychology               4248    0.041257\n",
       "5         Engineering               3839    0.037285\n",
       "12  Political science               2875    0.027922\n",
       "6             Geology               2464    0.023931\n",
       "7   Materials science               2240    0.021755\n",
       "1            Business               1155    0.011218\n",
       "10         Philosophy                614    0.005963\n",
       "14          Sociology                172    0.001670"
      ]
     },
     "execution_count": 16,
     "metadata": {},
     "output_type": "execute_result"
    }
   ],
   "source": [
    "t3"
   ]
  },
  {
   "cell_type": "markdown",
   "metadata": {},
   "source": [
    "# Anonymize editor annual self-publication count and rate"
   ]
  },
  {
   "cell_type": "code",
   "execution_count": 1,
   "metadata": {},
   "outputs": [],
   "source": [
    "import pandas as pd"
   ]
  },
  {
   "cell_type": "code",
   "execution_count": 2,
   "metadata": {},
   "outputs": [
    {
     "name": "stdout",
     "output_type": "stream",
     "text": [
      "(325866578, 3)\n",
      "CPU times: user 42.3 s, sys: 13.7 s, total: 56 s\n",
      "Wall time: 56.4 s\n"
     ]
    }
   ],
   "source": [
    "%%time\n",
    "authorProd = (\n",
    "    pd.read_csv(\"/scratch/fl1092/capstone/conflated/PaperCountAnnual.csv\", sep='\\t')\n",
    "    .rename(columns={'PaperCount':'Productivity'})\n",
    ")"
   ]
  },
  {
   "cell_type": "code",
   "execution_count": 3,
   "metadata": {},
   "outputs": [
    {
     "name": "stdout",
     "output_type": "stream",
     "text": [
      "(120948543, 4)\n",
      "CPU times: user 24.1 s, sys: 5.1 s, total: 29.2 s\n",
      "Wall time: 29.4 s\n"
     ]
    }
   ],
   "source": [
    "%%time\n",
    "author_career = pd.read_csv('/scratch/fl1092/capstone/conflated/AuthorEraDisp.csv',\n",
    "            sep='\\t', memory_map=True,\n",
    "            usecols=['NewAuthorId', 'Yfp', 'Ylp', 'Parent'],\n",
    "            dtype={'NewAuthorId':int, 'Yfp':int, 'Ylp':int, 'Parent':int})\n",
    "print(author_career.shape) # 120948543"
   ]
  },
  {
   "cell_type": "code",
   "execution_count": 4,
   "metadata": {},
   "outputs": [],
   "source": [
    "editor_gender = pd.read_csv('/scratch/fl1092/capstone/revise/EditorGender.csv',sep='\\t',\n",
    "                           dtype={'NewAuthorId':int,'issn':str, 'start_year':int, 'end_year':int, 'gender':str})\n",
    "editor_gender = editor_gender[editor_gender.start_year < 2015]"
   ]
  },
  {
   "cell_type": "code",
   "execution_count": 5,
   "metadata": {},
   "outputs": [
    {
     "name": "stdout",
     "output_type": "stream",
     "text": [
      "CPU times: user 38.6 s, sys: 10.9 s, total: 49.5 s\n",
      "Wall time: 49.7 s\n"
     ]
    }
   ],
   "source": [
    "%%time\n",
    "editor_attribute = editor_gender.merge(author_career, on='NewAuthorId')"
   ]
  },
  {
   "cell_type": "code",
   "execution_count": 6,
   "metadata": {},
   "outputs": [],
   "source": [
    "def getFull(df, left, right):\n",
    "    full = []\n",
    "    df = df.assign(Year0 = lambda df: df.start_year-1)\n",
    "    \n",
    "    for year in range(df[left].min(), df[right].max() + 1):\n",
    "        (\n",
    "            full.append(df[(df[left] <= year) & (df[right] >= year)]\n",
    "                        .assign(EditorYear = lambda df: year-df.Year0)\n",
    "                       )\n",
    "        )\n",
    "    \n",
    "    return pd.concat(full, ignore_index=True, sort=False)"
   ]
  },
  {
   "cell_type": "code",
   "execution_count": 7,
   "metadata": {},
   "outputs": [],
   "source": [
    "editors = pd.read_csv(\n",
    "    '/scratch/fl1092/capstone/revise/EditorsLeftRight.csv',sep='\\t',\n",
    "    usecols=['NewAuthorId','issn','start_year','left','right']\n",
    ").assign(Year0 = lambda df: df.start_year - 1)"
   ]
  },
  {
   "cell_type": "code",
   "execution_count": 8,
   "metadata": {},
   "outputs": [
    {
     "data": {
      "text/plain": [
       "((119553, 4), -4, 5)"
      ]
     },
     "execution_count": 8,
     "metadata": {},
     "output_type": "execute_result"
    }
   ],
   "source": [
    "full_range = getFull(editors, 'left', 'right').drop(\n",
    "    ['start_year','left','right'], axis=1)\n",
    "full_range.shape, full_range.EditorYear.min(), full_range.EditorYear.max()"
   ]
  },
  {
   "cell_type": "code",
   "execution_count": 9,
   "metadata": {},
   "outputs": [
    {
     "name": "stdout",
     "output_type": "stream",
     "text": [
      "(41354, 7)\n",
      "(24470, 4)\n",
      "(119553, 8)\n"
     ]
    }
   ],
   "source": [
    "papers = (\n",
    "    pd.read_csv(\n",
    "        f\"/scratch/fl1092/capstone/revise/EditorJournalPublicationNoEditorial/5.csv\",sep='\\t',\n",
    "        dtype={'NewAuthorId':int,'issn':str,'Year0':int,\n",
    "               'PaperId':int,'Year':int,'Editorial':int}\n",
    "    )\n",
    "    .assign(EditorYear = lambda df: df.Year - df.Year0)\n",
    ")\n",
    "\n",
    "assert((papers.Editorial == 0).all())\n",
    "assert(papers.EditorYear.min() == -4)\n",
    "assert(papers.EditorYear.max() == 5)\n",
    "\n",
    "paper_count = (\n",
    "    papers.groupby(['NewAuthorId','issn','EditorYear']).PaperId.nunique()\n",
    "    .reset_index()\n",
    "    .rename(columns={'PaperId':'JournalCount'})\n",
    ")\n",
    "\n",
    "paper_count = (\n",
    "    full_range.merge(paper_count, on=['NewAuthorId','issn','EditorYear'], how='left')\n",
    "    .assign(Year = lambda df: df.Year0 + df.EditorYear)\n",
    "    .merge(authorProd, on=['NewAuthorId','Year'], how='left')\n",
    "    .fillna({'JournalCount':0})\n",
    "    \n",
    "    .assign(Percentage=lambda df: df.JournalCount/df.Productivity)\n",
    "    .fillna({'Percentage':0})\n",
    ")"
   ]
  },
  {
   "cell_type": "code",
   "execution_count": 39,
   "metadata": {},
   "outputs": [
    {
     "data": {
      "text/plain": [
       "(119553, 14)"
      ]
     },
     "execution_count": 39,
     "metadata": {},
     "output_type": "execute_result"
    }
   ],
   "source": [
    "toPlot = paper_count.merge(editor_attribute, on=['NewAuthorId','issn'])\n",
    "\n",
    "# anonymize issn and authorId #\n",
    "anoIssn = toPlot[['issn']].drop_duplicates().reset_index().rename(columns={'index':'AnoIssn'})\n",
    "anoID = toPlot[['NewAuthorId']].drop_duplicates().reset_index().rename(columns={'index':'AnoID'})\n",
    "\n",
    "toPlot = (\n",
    "    toPlot.merge(anoIssn, on='issn') \n",
    "    .merge(anoID, on='NewAuthorId')\n",
    "    .drop(['issn','NewAuthorId'], axis=1)\n",
    "    .rename(columns={'AnoIssn':'issn', 'AnoID':'NewAuthorId'})\n",
    ")\n",
    "########\n",
    "toPlot.shape"
   ]
  },
  {
   "cell_type": "code",
   "execution_count": 42,
   "metadata": {},
   "outputs": [],
   "source": [
    "toPlot.reset_index().to_csv('../data/figure_3_selfpub_regression.csv',\n",
    "                                 columns=['NewAuthorId','issn','EditorYear','JournalCount','Productivity','Percentage',\n",
    "                                         'gender','start_year'], index=False)"
   ]
  },
  {
   "cell_type": "code",
   "execution_count": null,
   "metadata": {},
   "outputs": [],
   "source": []
  }
 ],
 "metadata": {
  "kernelspec": {
   "display_name": "Python 3",
   "language": "python",
   "name": "python3"
  },
  "language_info": {
   "codemirror_mode": {
    "name": "ipython",
    "version": 3
   },
   "file_extension": ".py",
   "mimetype": "text/x-python",
   "name": "python",
   "nbconvert_exporter": "python",
   "pygments_lexer": "ipython3",
   "version": "3.8.2"
  }
 },
 "nbformat": 4,
 "nbformat_minor": 4
}
