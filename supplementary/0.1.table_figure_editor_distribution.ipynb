{
 "cells": [
  {
   "cell_type": "code",
   "execution_count": 1,
   "metadata": {},
   "outputs": [],
   "source": [
    "import pandas as pd"
   ]
  },
  {
   "cell_type": "code",
   "execution_count": 2,
   "metadata": {},
   "outputs": [],
   "source": [
    "t1 = pd.read_csv('../data/supplementary/EditorsMAGTable.csv', sep='\\t')\n",
    "t2 = pd.read_csv('../data/supplementary/EditorsGenderTable.csv', sep='\\t')\n",
    "t3 = pd.read_csv('../data/supplementary/EditorsRawTable.csv',sep='\\t')"
   ]
  },
  {
   "cell_type": "code",
   "execution_count": 3,
   "metadata": {},
   "outputs": [
    {
     "data": {
      "text/plain": [
       "(15, 4)"
      ]
     },
     "execution_count": 3,
     "metadata": {},
     "output_type": "execute_result"
    }
   ],
   "source": [
    "big_table = (\n",
    "    t1.rename(columns={'Percentage': 'MAG-matched'}).drop('Number of editors', axis=1)\n",
    "    .merge(\n",
    "        t2.rename(columns={'Percentage': 'Gender-identified'}).drop('Number of editors', axis=1),\n",
    "        on='Discipline')\n",
    "    .merge(\n",
    "        t3.rename(columns={'Percentage': 'All'}).drop('Number of editors', axis=1),\n",
    "        on='Discipline')\n",
    ")\n",
    "big_table.shape"
   ]
  },
  {
   "cell_type": "code",
   "execution_count": 4,
   "metadata": {},
   "outputs": [
    {
     "data": {
      "text/html": [
       "<div>\n",
       "<style scoped>\n",
       "    .dataframe tbody tr th:only-of-type {\n",
       "        vertical-align: middle;\n",
       "    }\n",
       "\n",
       "    .dataframe tbody tr th {\n",
       "        vertical-align: top;\n",
       "    }\n",
       "\n",
       "    .dataframe thead th {\n",
       "        text-align: right;\n",
       "    }\n",
       "</style>\n",
       "<table border=\"1\" class=\"dataframe\">\n",
       "  <thead>\n",
       "    <tr style=\"text-align: right;\">\n",
       "      <th></th>\n",
       "      <th>Discipline</th>\n",
       "      <th>MAG-matched</th>\n",
       "      <th>Gender-identified</th>\n",
       "      <th>All</th>\n",
       "    </tr>\n",
       "  </thead>\n",
       "  <tbody>\n",
       "    <tr>\n",
       "      <th>0</th>\n",
       "      <td>Biology</td>\n",
       "      <td>0.200477</td>\n",
       "      <td>0.278226</td>\n",
       "      <td>0.271104</td>\n",
       "    </tr>\n",
       "    <tr>\n",
       "      <th>1</th>\n",
       "      <td>Economics</td>\n",
       "      <td>0.179561</td>\n",
       "      <td>0.088256</td>\n",
       "      <td>0.084000</td>\n",
       "    </tr>\n",
       "    <tr>\n",
       "      <th>2</th>\n",
       "      <td>Computer science</td>\n",
       "      <td>0.117677</td>\n",
       "      <td>0.076632</td>\n",
       "      <td>0.079892</td>\n",
       "    </tr>\n",
       "    <tr>\n",
       "      <th>3</th>\n",
       "      <td>Physics</td>\n",
       "      <td>0.087572</td>\n",
       "      <td>0.071593</td>\n",
       "      <td>0.090789</td>\n",
       "    </tr>\n",
       "    <tr>\n",
       "      <th>4</th>\n",
       "      <td>Mathematics</td>\n",
       "      <td>0.082902</td>\n",
       "      <td>0.050015</td>\n",
       "      <td>0.058049</td>\n",
       "    </tr>\n",
       "  </tbody>\n",
       "</table>\n",
       "</div>"
      ],
      "text/plain": [
       "         Discipline  MAG-matched  Gender-identified       All\n",
       "0           Biology     0.200477           0.278226  0.271104\n",
       "1         Economics     0.179561           0.088256  0.084000\n",
       "2  Computer science     0.117677           0.076632  0.079892\n",
       "3           Physics     0.087572           0.071593  0.090789\n",
       "4       Mathematics     0.082902           0.050015  0.058049"
      ]
     },
     "execution_count": 4,
     "metadata": {},
     "output_type": "execute_result"
    }
   ],
   "source": [
    "big_table.head()"
   ]
  },
  {
   "cell_type": "code",
   "execution_count": 5,
   "metadata": {},
   "outputs": [],
   "source": [
    "from matplotlib import pyplot as plt\n",
    "from scipy.stats import pearsonr\n",
    "import matplotlib\n",
    "\n",
    "font = {'size': 7}\n",
    "matplotlib.rc('font', **font)\n",
    "\n",
    "matplotlib.rcParams['pdf.fonttype'] = 42\n",
    "matplotlib.rcParams['ps.fonttype'] = 42\n",
    "\n",
    "matplotlib.rcParams['grid.linewidth'] = 0.5\n",
    "matplotlib.rcParams['axes.linewidth'] = 0.5"
   ]
  },
  {
   "cell_type": "code",
   "execution_count": 6,
   "metadata": {},
   "outputs": [],
   "source": [
    "locs = {\n",
    "    'Geology': {'xy': (0.004, 0.022), 'arc': 3, 'rad': '-.2'},\n",
    "    \n",
    "}"
   ]
  },
  {
   "cell_type": "code",
   "execution_count": 7,
   "metadata": {},
   "outputs": [],
   "source": [
    "def styleAx(ax):\n",
    "    ax.set_xlim(0, 0.3)\n",
    "    ax.set_ylim(0, 0.3)\n",
    "    \n",
    "#     ax.set_xscale('log')\n",
    "#     ax.set_yscale('log')\n",
    "    \n",
    "    ax.spines['right'].set_visible(False)\n",
    "    ax.spines['top'].set_visible(False)\n",
    "    ax.grid(b=True, ls=':')"
   ]
  },
  {
   "cell_type": "code",
   "execution_count": 8,
   "metadata": {},
   "outputs": [],
   "source": [
    "def plotFieldScatter(ax, df, col1, col2, locs=None):\n",
    "    ax.plot(df[col1], df[col2], marker='s', markersize=3, ls='None')\n",
    "    ax.plot([0, 0.4], [0, 0.4], c='grey', alpha=0.5)\n",
    "    \n",
    "    sp = pearsonr(df[col1], df[col2])\n",
    "    print(sp)\n",
    "    \n",
    "    if sp[1] < 0.001:\n",
    "        ax.text(0.02, 0.27, f'$r$ = {round(sp[0], 2)}, $p < 0.001$', fontsize=8)\n",
    "    \n",
    "    if locs is None: return\n",
    "    \n",
    "    for ind, row in df.iterrows():\n",
    "        if row['Discipline'] not in locs: continue\n",
    "        fDic = locs[row['Discipline']]\n",
    "        xy = fDic['xy']\n",
    "        arc = fDic['arc']\n",
    "        rad = fDic['rad']\n",
    "        \n",
    "        ax.annotate(row['Discipline'], xy=(row[col1],row[col2]), xycoords='data',fontsize=6,\n",
    "                    xytext=xy, textcoords='data',\n",
    "                    arrowprops=dict(arrowstyle=\"-\", linewidth=0.3,shrinkA=0,connectionstyle=f\"arc{arc},rad={rad}\"))"
   ]
  },
  {
   "cell_type": "code",
   "execution_count": 9,
   "metadata": {},
   "outputs": [],
   "source": [
    "locs_a = {\n",
    "    'Biology': {'xy': (0.16, 0.255), 'arc': 3, 'rad': '-.2'},\n",
    "    'Medicine': {'xy': (0.06, 0.19), 'arc': 3, 'rad': '-.2'},\n",
    "    'Economics': {'xy': (0.16, 0.06), 'arc': 3, 'rad': '.1'},\n",
    "}\n",
    "\n",
    "locs_b = {\n",
    "    'Medicine': {'xy': (0.21, 0.155), 'arc': 3, 'rad': '-.1'},\n",
    "}\n",
    "\n",
    "locs_c = {\n",
    "    'Biology': {'xy': (0.26, 0.18), 'arc': 3, 'rad': '-.2'},\n",
    "    'Medicine': {'xy': (0.23, 0.08), 'arc': 3, 'rad': '-.2'},\n",
    "    'Economics': {'xy': (0.06, 0.19), 'arc': 3, 'rad': '.1'},\n",
    "}"
   ]
  },
  {
   "cell_type": "code",
   "execution_count": 10,
   "metadata": {},
   "outputs": [],
   "source": [
    "import numpy as np"
   ]
  },
  {
   "cell_type": "code",
   "execution_count": 11,
   "metadata": {},
   "outputs": [
    {
     "name": "stdout",
     "output_type": "stream",
     "text": [
      "(0.9876657000707263, 7.460462065247607e-12)\n",
      "(0.785640962123271, 0.0005175057410215877)\n"
     ]
    },
    {
     "data": {
      "image/png": "[encoded data removed]",
      "text/plain": [
       "<Figure size 518.74x518.74 with 2 Axes>"
      ]
     },
     "metadata": {
      "needs_background": "light"
     },
     "output_type": "display_data"
    }
   ],
   "source": [
    "cm = 1/2.54  # centimeters in inches\n",
    "fig = plt.figure(figsize=(18.3*cm, 18.3*cm))\n",
    "\n",
    "ax = plt.subplot(2, 2, 1)\n",
    "styleAx(ax)\n",
    "plotFieldScatter(ax, big_table, 'Gender-identified', 'All', locs_b)\n",
    "ax.set_xlabel('x')\n",
    "ax.set_ylabel('y')\n",
    "\n",
    "ax = plt.subplot(2, 2, 2)\n",
    "styleAx(ax)\n",
    "plotFieldScatter(ax, big_table, 'MAG-matched', 'All', locs_a)\n",
    "ax.set_xlabel('x')\n",
    "ax.set_ylabel('y')\n",
    "\n",
    "plt.tight_layout()\n",
    "plt.savefig('../figures/representativeness_correlation.pdf', bbox_inches = 'tight', pad_inches = 0)"
   ]
  },
  {
   "cell_type": "code",
   "execution_count": 12,
   "metadata": {},
   "outputs": [
    {
     "name": "stdout",
     "output_type": "stream",
     "text": [
      "\\begin{tabular}{lrr}\n",
      "\\toprule\n",
      "       Discipline &  Number of editors &  Percentage \\\\\n",
      "\\midrule\n",
      "          Biology &               3949 &       20.05 \\\\\n",
      "        Economics &               3537 &       17.96 \\\\\n",
      " Computer science &               2318 &       11.77 \\\\\n",
      "          Physics &               1725 &        8.76 \\\\\n",
      "      Mathematics &               1633 &        8.29 \\\\\n",
      "         Medicine &               1357 &        6.89 \\\\\n",
      "        Chemistry &               1216 &        6.17 \\\\\n",
      "       Psychology &               1039 &        5.27 \\\\\n",
      "Political science &                786 &        3.99 \\\\\n",
      "      Engineering &                761 &        3.86 \\\\\n",
      "         Business &                398 &        2.02 \\\\\n",
      "Materials science &                392 &        1.99 \\\\\n",
      "          Geology &                368 &        1.87 \\\\\n",
      "       Philosophy &                122 &        0.62 \\\\\n",
      "        Sociology &                 97 &        0.49 \\\\\n",
      "\\bottomrule\n",
      "\\end{tabular}\n",
      "\n"
     ]
    }
   ],
   "source": [
    "print(t1.assign(Percentage = lambda df: df.Percentage.apply(lambda x: x*100)).to_latex(index=False, float_format=\"%.2f\"))"
   ]
  },
  {
   "cell_type": "code",
   "execution_count": 13,
   "metadata": {},
   "outputs": [
    {
     "name": "stdout",
     "output_type": "stream",
     "text": [
      "\\begin{tabular}{lrr}\n",
      "\\toprule\n",
      "       Discipline &  Number of editors &  Percentage \\\\\n",
      "\\midrule\n",
      "          Biology &              22474 &       27.82 \\\\\n",
      "         Medicine &              17442 &       21.59 \\\\\n",
      "        Economics &               7129 &        8.83 \\\\\n",
      " Computer science &               6190 &        7.66 \\\\\n",
      "          Physics &               5783 &        7.16 \\\\\n",
      "        Chemistry &               4409 &        5.46 \\\\\n",
      "      Mathematics &               4040 &        5.00 \\\\\n",
      "       Psychology &               3831 &        4.74 \\\\\n",
      "      Engineering &               3024 &        3.74 \\\\\n",
      "Political science &               2494 &        3.09 \\\\\n",
      "Materials science &               1354 &        1.68 \\\\\n",
      "          Geology &               1164 &        1.44 \\\\\n",
      "         Business &                861 &        1.07 \\\\\n",
      "       Philosophy &                433 &        0.54 \\\\\n",
      "        Sociology &                148 &        0.18 \\\\\n",
      "\\bottomrule\n",
      "\\end{tabular}\n",
      "\n"
     ]
    }
   ],
   "source": [
    "print(t2.assign(Percentage = lambda df: df.Percentage.apply(lambda x: x*100)).to_latex(index=False, float_format=\"%.2f\"))"
   ]
  },
  {
   "cell_type": "code",
   "execution_count": 14,
   "metadata": {},
   "outputs": [
    {
     "name": "stdout",
     "output_type": "stream",
     "text": [
      "\\begin{tabular}{lrr}\n",
      "\\toprule\n",
      "       Discipline &  Number of editors &  Percentage \\\\\n",
      "\\midrule\n",
      "          Biology &              27914 &       27.11 \\\\\n",
      "         Medicine &              18005 &       17.49 \\\\\n",
      "          Physics &               9348 &        9.08 \\\\\n",
      "        Economics &               8649 &        8.40 \\\\\n",
      " Computer science &               8226 &        7.99 \\\\\n",
      "        Chemistry &               7238 &        7.03 \\\\\n",
      "      Mathematics &               5977 &        5.80 \\\\\n",
      "       Psychology &               4248 &        4.13 \\\\\n",
      "      Engineering &               3839 &        3.73 \\\\\n",
      "Political science &               2875 &        2.79 \\\\\n",
      "          Geology &               2464 &        2.39 \\\\\n",
      "Materials science &               2240 &        2.18 \\\\\n",
      "         Business &               1155 &        1.12 \\\\\n",
      "       Philosophy &                614 &        0.60 \\\\\n",
      "        Sociology &                172 &        0.17 \\\\\n",
      "\\bottomrule\n",
      "\\end{tabular}\n",
      "\n"
     ]
    }
   ],
   "source": [
    "print(t3.assign(Percentage = lambda df: df.Percentage.apply(lambda x: x*100)).to_latex(index=False, float_format=\"%.2f\"))"
   ]
  },
  {
   "cell_type": "code",
   "execution_count": null,
   "metadata": {},
   "outputs": [],
   "source": []
  }
 ],
 "metadata": {
  "kernelspec": {
   "display_name": "Python 3",
   "language": "python",
   "name": "python3"
  },
  "language_info": {
   "codemirror_mode": {
    "name": "ipython",
    "version": 3
   },
   "file_extension": ".py",
   "mimetype": "text/x-python",
   "name": "python",
   "nbconvert_exporter": "python",
   "pygments_lexer": "ipython3",
   "version": "3.8.2"
  }
 },
 "nbformat": 4,
 "nbformat_minor": 4
}
