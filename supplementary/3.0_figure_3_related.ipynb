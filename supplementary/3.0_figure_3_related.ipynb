{
 "cells": [
  {
   "cell_type": "code",
   "execution_count": 1,
   "metadata": {},
   "outputs": [],
   "source": [
    "import pandas as pd\n",
    "\n",
    "from statsmodels.formula.api import ols\n",
    "from scipy.stats import ttest_ind\n",
    "from statsmodels.iolib.summary2 import summary_col"
   ]
  },
  {
   "cell_type": "code",
   "execution_count": 7,
   "metadata": {},
   "outputs": [],
   "source": [
    "def regression(df, years, model, typ=None):\n",
    "    if typ is not None:\n",
    "        df = df.query(f'{typ} == 1')\n",
    "    \n",
    "    toTest = [df[df.EditorYear == year] for year in years]\n",
    "    toTest = pd.concat(toTest, ignore_index=True, sort=False)\n",
    "    toTest = toTest.assign(isAfter = toTest.EditorYear > 0)\n",
    "    print(toTest.shape)\n",
    "    \n",
    "    model = ols(model, data=toTest)\n",
    "    \n",
    "    #results = model.fit(cov_type = 'HAC', cov_kwds={'maxlags':1})\n",
    "    results = model.fit(cov_type = 'cluster', cov_kwds={'groups': toTest['NewAuthorId']})\n",
    "    \n",
    "    \n",
    "    return results"
   ]
  },
  {
   "cell_type": "code",
   "execution_count": 23,
   "metadata": {},
   "outputs": [],
   "source": [
    "def printRow(res, predictor='', name='', vspace=0.2, bottomRow=False):\n",
    "    \n",
    "    if bottomRow:\n",
    "        print(f'Observations & {int(res.nobs)} \\\\\\\\')\n",
    "        print(f'Adjusted $R^2$ & {round(res.rsquared, 3)} \\\\\\\\')\n",
    "        #out += '\\multirow{3}{*}{' + '{:,}'.format(int(res.nobs))+ '}'+ ' & \\multirow{3}{*}{' + f'{round(res.rsquared, 3)}' + '}'+ '\\\\vspace*{'+f'{vspace}'+'cm}\\\\\\\\'\n",
    "    \n",
    "    else:\n",
    "        beta = round(res.params[predictor], 3)\n",
    "        lo = round(res.conf_int().loc[predictor][0], 3)\n",
    "        hi = round(res.conf_int().loc[predictor][1], 3)\n",
    "        pval = res.pvalues[predictor]\n",
    "        pval = f'{round(pval, 3)}' if pval >= 0.001 else '{:e}'.format(pval) #'$< 0.001$'\n",
    "\n",
    "        out = f'{name} & ' + f'{beta} & {(lo, hi)} & {pval} &'\n",
    "\n",
    "        out += ' & \\\\vspace*{'+f'{vspace}'+'cm}\\\\\\\\'\n",
    "        print(out)"
   ]
  },
  {
   "cell_type": "code",
   "execution_count": 12,
   "metadata": {},
   "outputs": [
    {
     "data": {
      "text/plain": [
       "(119553, 8)"
      ]
     },
     "execution_count": 12,
     "metadata": {},
     "output_type": "execute_result"
    }
   ],
   "source": [
    "toPlot = pd.read_csv('../data/figure_3_selfpub_regression.csv')\n",
    "toPlot.shape"
   ]
  },
  {
   "cell_type": "code",
   "execution_count": 13,
   "metadata": {},
   "outputs": [
    {
     "data": {
      "text/html": [
       "<div>\n",
       "<style scoped>\n",
       "    .dataframe tbody tr th:only-of-type {\n",
       "        vertical-align: middle;\n",
       "    }\n",
       "\n",
       "    .dataframe tbody tr th {\n",
       "        vertical-align: top;\n",
       "    }\n",
       "\n",
       "    .dataframe thead th {\n",
       "        text-align: right;\n",
       "    }\n",
       "</style>\n",
       "<table border=\"1\" class=\"dataframe\">\n",
       "  <thead>\n",
       "    <tr style=\"text-align: right;\">\n",
       "      <th></th>\n",
       "      <th>NewAuthorId</th>\n",
       "      <th>issn</th>\n",
       "      <th>EditorYear</th>\n",
       "      <th>JournalCount</th>\n",
       "      <th>Productivity</th>\n",
       "      <th>Percentage</th>\n",
       "      <th>gender</th>\n",
       "      <th>start_year</th>\n",
       "    </tr>\n",
       "  </thead>\n",
       "  <tbody>\n",
       "    <tr>\n",
       "      <th>0</th>\n",
       "      <td>0</td>\n",
       "      <td>0</td>\n",
       "      <td>-4</td>\n",
       "      <td>1.0</td>\n",
       "      <td>2.0</td>\n",
       "      <td>0.5</td>\n",
       "      <td>male</td>\n",
       "      <td>1956</td>\n",
       "    </tr>\n",
       "    <tr>\n",
       "      <th>1</th>\n",
       "      <td>0</td>\n",
       "      <td>0</td>\n",
       "      <td>-3</td>\n",
       "      <td>0.0</td>\n",
       "      <td>1.0</td>\n",
       "      <td>0.0</td>\n",
       "      <td>male</td>\n",
       "      <td>1956</td>\n",
       "    </tr>\n",
       "    <tr>\n",
       "      <th>2</th>\n",
       "      <td>0</td>\n",
       "      <td>0</td>\n",
       "      <td>-2</td>\n",
       "      <td>0.0</td>\n",
       "      <td>NaN</td>\n",
       "      <td>0.0</td>\n",
       "      <td>male</td>\n",
       "      <td>1956</td>\n",
       "    </tr>\n",
       "    <tr>\n",
       "      <th>3</th>\n",
       "      <td>0</td>\n",
       "      <td>0</td>\n",
       "      <td>-1</td>\n",
       "      <td>0.0</td>\n",
       "      <td>NaN</td>\n",
       "      <td>0.0</td>\n",
       "      <td>male</td>\n",
       "      <td>1956</td>\n",
       "    </tr>\n",
       "    <tr>\n",
       "      <th>4</th>\n",
       "      <td>0</td>\n",
       "      <td>0</td>\n",
       "      <td>0</td>\n",
       "      <td>0.0</td>\n",
       "      <td>3.0</td>\n",
       "      <td>0.0</td>\n",
       "      <td>male</td>\n",
       "      <td>1956</td>\n",
       "    </tr>\n",
       "  </tbody>\n",
       "</table>\n",
       "</div>"
      ],
      "text/plain": [
       "   NewAuthorId  issn  EditorYear  JournalCount  Productivity  Percentage  \\\n",
       "0            0     0          -4           1.0           2.0         0.5   \n",
       "1            0     0          -3           0.0           1.0         0.0   \n",
       "2            0     0          -2           0.0           NaN         0.0   \n",
       "3            0     0          -1           0.0           NaN         0.0   \n",
       "4            0     0           0           0.0           3.0         0.0   \n",
       "\n",
       "  gender  start_year  \n",
       "0   male        1956  \n",
       "1   male        1956  \n",
       "2   male        1956  \n",
       "3   male        1956  \n",
       "4   male        1956  "
      ]
     },
     "execution_count": 13,
     "metadata": {},
     "output_type": "execute_result"
    }
   ],
   "source": [
    "toPlot.head()"
   ]
  },
  {
   "cell_type": "code",
   "execution_count": 14,
   "metadata": {},
   "outputs": [
    {
     "data": {
      "text/plain": [
       "(119553, 8)"
      ]
     },
     "execution_count": 14,
     "metadata": {},
     "output_type": "execute_result"
    }
   ],
   "source": [
    "toPlot = toPlot.assign(JournalCount = lambda df: (df.JournalCount-df.JournalCount.mean())/df.JournalCount.std())\n",
    "\n",
    "toPlot.shape # 119553"
   ]
  },
  {
   "cell_type": "code",
   "execution_count": 15,
   "metadata": {},
   "outputs": [
    {
     "name": "stdout",
     "output_type": "stream",
     "text": [
      "(119553, 9)\n",
      "CPU times: user 45.7 s, sys: 5.21 s, total: 50.9 s\n",
      "Wall time: 30.8 s\n"
     ]
    }
   ],
   "source": [
    "%%time\n",
    "resCount = regression(\n",
    "    toPlot,\n",
    "    [-1,-2,-3,-4,0,1,2,3,4,5],\n",
    "    'JournalCount ~ start_year + EditorYear + isAfter + EditorYear:isAfter + gender + isAfter:gender + C(issn) '\n",
    ")"
   ]
  },
  {
   "cell_type": "code",
   "execution_count": 16,
   "metadata": {},
   "outputs": [
    {
     "data": {
      "text/html": [
       "<table class=\"simpletable\">\n",
       "<tr>\n",
       "                 <td></td>                <th>Regression</th>\n",
       "</tr>\n",
       "<tr>\n",
       "  <th>EditorYear</th>                      <td>0.029***</td> \n",
       "</tr>\n",
       "<tr>\n",
       "  <th></th>                                 <td>(0.002)</td> \n",
       "</tr>\n",
       "<tr>\n",
       "  <th>EditorYear:isAfter[T.True]</th>      <td>-0.031***</td>\n",
       "</tr>\n",
       "<tr>\n",
       "  <th></th>                                 <td>(0.004)</td> \n",
       "</tr>\n",
       "<tr>\n",
       "  <th>isAfter[T.True]</th>                 <td>0.053***</td> \n",
       "</tr>\n",
       "<tr>\n",
       "  <th></th>                                 <td>(0.016)</td> \n",
       "</tr>\n",
       "<tr>\n",
       "  <th>gender[T.male]</th>                  <td>0.046***</td> \n",
       "</tr>\n",
       "<tr>\n",
       "  <th></th>                                 <td>(0.013)</td> \n",
       "</tr>\n",
       "<tr>\n",
       "  <th>isAfter[T.True]:gender[T.male]</th>   <td>0.035**</td> \n",
       "</tr>\n",
       "<tr>\n",
       "  <th></th>                                 <td>(0.016)</td> \n",
       "</tr>\n",
       "<tr>\n",
       "  <th>R-squared</th>                         <td>0.167</td>  \n",
       "</tr>\n",
       "<tr>\n",
       "  <th>R-squared Adj.</th>                    <td>0.160</td>  \n",
       "</tr>\n",
       "<tr>\n",
       "  <th>N</th>                                <td>119,553</td> \n",
       "</tr>\n",
       "</table>"
      ],
      "text/plain": [
       "<class 'statsmodels.iolib.summary2.Summary'>\n",
       "\"\"\"\n",
       "\n",
       "=========================================\n",
       "                               Regression\n",
       "-----------------------------------------\n",
       "EditorYear                     0.029***  \n",
       "                               (0.002)   \n",
       "EditorYear:isAfter[T.True]     -0.031*** \n",
       "                               (0.004)   \n",
       "isAfter[T.True]                0.053***  \n",
       "                               (0.016)   \n",
       "gender[T.male]                 0.046***  \n",
       "                               (0.013)   \n",
       "isAfter[T.True]:gender[T.male] 0.035**   \n",
       "                               (0.016)   \n",
       "R-squared                      0.167     \n",
       "R-squared Adj.                 0.160     \n",
       "N                              119,553   \n",
       "=========================================\n",
       "Standard errors in parentheses.\n",
       "* p<.1, ** p<.05, ***p<.01\n",
       "\"\"\""
      ]
     },
     "execution_count": 16,
     "metadata": {},
     "output_type": "execute_result"
    }
   ],
   "source": [
    "summary = summary_col(\n",
    "    [resCount],\n",
    "    stars=True,\n",
    "    model_names = ['Regression'],\n",
    "    float_format='%0.3f',\n",
    "    info_dict={\n",
    "        'N':lambda x: \"{0:,}\".format(int(x.nobs)),\n",
    "    },\n",
    "    regressor_order=['EditorYear', 'EditorYear:isAfter[T.True]', 'isAfter[T.True]', 'gender[T.male]',\n",
    "                    'isAfter[T.True]:gender[T.male]'\n",
    "                    ],\n",
    "    drop_omitted=True\n",
    ")\n",
    "summary"
   ]
  },
  {
   "cell_type": "code",
   "execution_count": 24,
   "metadata": {},
   "outputs": [
    {
     "name": "stdout",
     "output_type": "stream",
     "text": [
      "After editorship starts ($\\beta_1$) & 0.053 & (0.021, 0.086) & 0.001 & & \\vspace*{0.2cm}\\\\\n",
      "Year since editorship starts ($\\beta_2$) & 0.029 & (0.025, 0.034) & 2.745745e-43 & & \\vspace*{0.2cm}\\\\\n",
      "After editorship starts $\\times$ Year since editorship starts ($\\beta_3$) & -0.031 & (-0.038, -0.024) & 2.921876e-18 & & \\vspace*{0.2cm}\\\\\n",
      "Male ($\\beta_4$) & 0.046 & (0.02, 0.071) & 5.051811e-04 & & \\vspace*{0.2cm}\\\\\n",
      "After editorship starts $\\times$ Male ($\\beta_5$) & 0.035 & (0.004, 0.067) & 0.027 & & \\vspace*{0.4cm}\\\\\n",
      "Observations & 119553 \\\\\n",
      "Adjusted $R^2$ & 0.167 \\\\\n"
     ]
    }
   ],
   "source": [
    "printRow(resCount, 'isAfter[T.True]', 'After editorship starts ($\\\\beta_1$)')\n",
    "printRow(resCount, 'EditorYear', 'Year since editorship starts ($\\\\beta_2$)')\n",
    "printRow(resCount, 'EditorYear:isAfter[T.True]', 'After editorship starts $\\\\times$ Year since editorship starts ($\\\\beta_3$)')\n",
    "printRow(resCount, 'gender[T.male]', 'Male ($\\\\beta_4$)')    \n",
    "printRow(resCount, 'isAfter[T.True]:gender[T.male]', 'After editorship starts $\\\\times$ Male ($\\\\beta_5$)', 0.4)    \n",
    "printRow(resCount, bottomRow=True)"
   ]
  },
  {
   "cell_type": "code",
   "execution_count": 20,
   "metadata": {},
   "outputs": [
    {
     "name": "stdout",
     "output_type": "stream",
     "text": [
      "(119553, 9)\n",
      "CPU times: user 46.3 s, sys: 4.8 s, total: 51.1 s\n",
      "Wall time: 31 s\n"
     ]
    }
   ],
   "source": [
    "%%time\n",
    "resRate = regression(\n",
    "    toPlot,\n",
    "    [-1,-2,-3,-4,0,1,2,3,4,5],\n",
    "    'Percentage ~ start_year + EditorYear + isAfter + EditorYear:isAfter + gender + isAfter:gender + C(issn) '\n",
    ")"
   ]
  },
  {
   "cell_type": "code",
   "execution_count": 21,
   "metadata": {},
   "outputs": [
    {
     "data": {
      "text/html": [
       "<table class=\"simpletable\">\n",
       "<tr>\n",
       "                 <td></td>                <th>Regression</th>\n",
       "</tr>\n",
       "<tr>\n",
       "  <th>EditorYear</th>                      <td>0.003***</td> \n",
       "</tr>\n",
       "<tr>\n",
       "  <th></th>                                 <td>(0.000)</td> \n",
       "</tr>\n",
       "<tr>\n",
       "  <th>EditorYear:isAfter[T.True]</th>      <td>-0.004***</td>\n",
       "</tr>\n",
       "<tr>\n",
       "  <th></th>                                 <td>(0.001)</td> \n",
       "</tr>\n",
       "<tr>\n",
       "  <th>isAfter[T.True]</th>                 <td>0.008***</td> \n",
       "</tr>\n",
       "<tr>\n",
       "  <th></th>                                 <td>(0.003)</td> \n",
       "</tr>\n",
       "<tr>\n",
       "  <th>gender[T.male]</th>                  <td>-0.005**</td> \n",
       "</tr>\n",
       "<tr>\n",
       "  <th></th>                                 <td>(0.002)</td> \n",
       "</tr>\n",
       "<tr>\n",
       "  <th>isAfter[T.True]:gender[T.male]</th>   <td>0.007**</td> \n",
       "</tr>\n",
       "<tr>\n",
       "  <th></th>                                 <td>(0.003)</td> \n",
       "</tr>\n",
       "<tr>\n",
       "  <th>R-squared</th>                         <td>0.087</td>  \n",
       "</tr>\n",
       "<tr>\n",
       "  <th>R-squared Adj.</th>                    <td>0.079</td>  \n",
       "</tr>\n",
       "<tr>\n",
       "  <th>N</th>                                <td>119,553</td> \n",
       "</tr>\n",
       "</table>"
      ],
      "text/plain": [
       "<class 'statsmodels.iolib.summary2.Summary'>\n",
       "\"\"\"\n",
       "\n",
       "=========================================\n",
       "                               Regression\n",
       "-----------------------------------------\n",
       "EditorYear                     0.003***  \n",
       "                               (0.000)   \n",
       "EditorYear:isAfter[T.True]     -0.004*** \n",
       "                               (0.001)   \n",
       "isAfter[T.True]                0.008***  \n",
       "                               (0.003)   \n",
       "gender[T.male]                 -0.005**  \n",
       "                               (0.002)   \n",
       "isAfter[T.True]:gender[T.male] 0.007**   \n",
       "                               (0.003)   \n",
       "R-squared                      0.087     \n",
       "R-squared Adj.                 0.079     \n",
       "N                              119,553   \n",
       "=========================================\n",
       "Standard errors in parentheses.\n",
       "* p<.1, ** p<.05, ***p<.01\n",
       "\"\"\""
      ]
     },
     "execution_count": 21,
     "metadata": {},
     "output_type": "execute_result"
    }
   ],
   "source": [
    "summary = summary_col(\n",
    "    [resRate],\n",
    "    stars=True,\n",
    "    model_names = ['Regression'],\n",
    "    float_format='%0.3f',\n",
    "    info_dict={\n",
    "        'N':lambda x: \"{0:,}\".format(int(x.nobs)),\n",
    "    },\n",
    "    regressor_order=['EditorYear', 'EditorYear:isAfter[T.True]', 'isAfter[T.True]', 'gender[T.male]',\n",
    "                    'isAfter[T.True]:gender[T.male]'\n",
    "                    ],\n",
    "    drop_omitted=True\n",
    ")\n",
    "summary"
   ]
  },
  {
   "cell_type": "code",
   "execution_count": 25,
   "metadata": {},
   "outputs": [
    {
     "name": "stdout",
     "output_type": "stream",
     "text": [
      "After editorship starts ($\\beta_1$) & 0.008 & (0.002, 0.014) & 0.008 & & \\vspace*{0.2cm}\\\\\n",
      "Year since editorship starts ($\\beta_2$) & 0.003 & (0.002, 0.003) & 6.276878e-11 & & \\vspace*{0.2cm}\\\\\n",
      "After editorship starts $\\times$ Year since editorship starts ($\\beta_3$) & -0.004 & (-0.006, -0.003) & 5.165952e-12 & & \\vspace*{0.2cm}\\\\\n",
      "Male ($\\beta_4$) & -0.005 & (-0.01, -0.001) & 0.025 & & \\vspace*{0.2cm}\\\\\n",
      "After editorship starts $\\times$ Male ($\\beta_5$) & 0.007 & (0.001, 0.012) & 0.017 & & \\vspace*{0.4cm}\\\\\n",
      "Observations & 119553 \\\\\n",
      "Adjusted $R^2$ & 0.087 \\\\\n"
     ]
    }
   ],
   "source": [
    "printRow(resRate, 'isAfter[T.True]', 'After editorship starts ($\\\\beta_1$)')\n",
    "printRow(resRate, 'EditorYear', 'Year since editorship starts ($\\\\beta_2$)')\n",
    "printRow(resRate, 'EditorYear:isAfter[T.True]', 'After editorship starts $\\\\times$ Year since editorship starts ($\\\\beta_3$)')\n",
    "printRow(resRate, 'gender[T.male]', 'Male ($\\\\beta_4$)')    \n",
    "printRow(resRate, 'isAfter[T.True]:gender[T.male]', 'After editorship starts $\\\\times$ Male ($\\\\beta_5$)', 0.4)    \n",
    "printRow(resRate, bottomRow=True)"
   ]
  },
  {
   "cell_type": "code",
   "execution_count": null,
   "metadata": {},
   "outputs": [],
   "source": []
  }
 ],
 "metadata": {
  "kernelspec": {
   "display_name": "Python 3",
   "language": "python",
   "name": "python3"
  },
  "language_info": {
   "codemirror_mode": {
    "name": "ipython",
    "version": 3
   },
   "file_extension": ".py",
   "mimetype": "text/x-python",
   "name": "python",
   "nbconvert_exporter": "python",
   "pygments_lexer": "ipython3",
   "version": "3.8.2"
  }
 },
 "nbformat": 4,
 "nbformat_minor": 4
}
