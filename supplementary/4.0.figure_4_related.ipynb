{
 "cells": [
  {
   "cell_type": "markdown",
   "metadata": {},
   "source": [
    "# contents\n",
    "\n",
    "The new way of picking the outliers: those with most absolute count (instead of percentage).\n",
    "\n",
    "- Outlier of editors\n",
    "- Outlier of journals"
   ]
  },
  {
   "cell_type": "code",
   "execution_count": 1,
   "metadata": {},
   "outputs": [],
   "source": [
    "import pandas as pd"
   ]
  },
  {
   "cell_type": "code",
   "execution_count": 2,
   "metadata": {},
   "outputs": [],
   "source": [
    "editors = pd.read_csv(\"/scratch/fl1092/capstone/elsevier/editors.csv\", sep='\\t',\n",
    "                     usecols=[\"NewAuthorId\", \"issn\", \"start_year\", \"end_year\"],\n",
    "                     dtype={\"NewAuthorId\":int, \"issn\":str, \"start_year\":int, \"end_year\":int})\n",
    "\n",
    "assert(editors.issn.apply(lambda x: len(x) ==8).all())\n",
    "assert(editors[(editors.start_year >= 2018) | (editors.start_year < 1950)].shape[0]==0)"
   ]
  },
  {
   "cell_type": "code",
   "execution_count": 3,
   "metadata": {},
   "outputs": [
    {
     "name": "stdout",
     "output_type": "stream",
     "text": [
      "CPU times: user 13.3 s, sys: 5.51 s, total: 18.8 s\n",
      "Wall time: 36.5 s\n"
     ]
    }
   ],
   "source": [
    "%%time\n",
    "paper_journal = pd.read_csv(\"/scratch/fl1092/capstone/mag/PaperJournals.csv\", sep='\\t', memory_map=True,\n",
    "                        usecols=['PaperId', 'JournalId'], dtype={'PaperId':int, 'JournalId':int})\n",
    "\n",
    "paper_journal = paper_journal.rename(columns={'JournalId':'PaperJournalId'})\n",
    "\n",
    "elsevier_journals = pd.read_csv(\"/scratch/fl1092/capstone/bigmem/Journals_matched.csv\", sep=\"\\t\",\n",
    "                               usecols=['JournalId','issn'],\n",
    "                               dtype={'CitationCount':int,'DisplayName':str,'JournalId':int,\n",
    "                                      'PaperCount':int,'Rank':int,'issn':str})"
   ]
  },
  {
   "cell_type": "code",
   "execution_count": 4,
   "metadata": {},
   "outputs": [
    {
     "name": "stdout",
     "output_type": "stream",
     "text": [
      "CPU times: user 33.2 s, sys: 7.07 s, total: 40.2 s\n",
      "Wall time: 1min 14s\n"
     ]
    }
   ],
   "source": [
    "%%time\n",
    "papers = pd.read_csv(\"/scratch/fl1092/capstone/elsevier/EditorsPaperNoEditorials.csv\", sep='\\t',\n",
    "                    dtype={'NewAuthorId':int, 'PaperId':int, 'Year':int})\n",
    "assert(papers.duplicated(subset=['NewAuthorId','PaperId']).any()==False)\n",
    "\n",
    "papers = (\n",
    "    papers.merge(editors, on='NewAuthorId')\n",
    "    .merge(paper_journal, on='PaperId')\n",
    "    .merge(elsevier_journals, on='issn')\n",
    ")"
   ]
  },
  {
   "cell_type": "code",
   "execution_count": 5,
   "metadata": {},
   "outputs": [],
   "source": [
    "papers = papers.assign(edit=papers.PaperJournalId == papers.JournalId)\n",
    "\n",
    "papers = papers.assign(during = papers.apply(\n",
    "    lambda row: (row['Year'] >= row['start_year']) & (row['Year'] <= row['end_year']) ,axis=1))\n",
    "\n",
    "papers = papers.assign(during = papers.during & papers.edit)"
   ]
  },
  {
   "cell_type": "code",
   "execution_count": 6,
   "metadata": {},
   "outputs": [],
   "source": [
    "assert( (papers[papers.during==True].edit == True).all() == True)"
   ]
  },
  {
   "cell_type": "code",
   "execution_count": 7,
   "metadata": {},
   "outputs": [],
   "source": [
    "papers = papers.drop(['issn','JournalId','start_year','end_year'], axis=1).drop_duplicates()\n",
    "\n",
    "papers = papers.sort_values(by=['edit','during'],ascending=False)\n",
    "papers = papers.drop_duplicates(subset=['NewAuthorId','PaperId'], keep='first')"
   ]
  },
  {
   "cell_type": "code",
   "execution_count": 8,
   "metadata": {},
   "outputs": [
    {
     "data": {
      "text/plain": [
       "(10327, 2)"
      ]
     },
     "execution_count": 8,
     "metadata": {},
     "output_type": "execute_result"
    }
   ],
   "source": [
    "during = (\n",
    "    papers[(papers.edit == True) & (papers.during==True)]\n",
    "    .groupby(['NewAuthorId']).PaperId.nunique().reset_index()\n",
    "    .rename(columns={'PaperId':'PaperCount'})\n",
    ")\n",
    "during.shape # 10327"
   ]
  },
  {
   "cell_type": "code",
   "execution_count": 9,
   "metadata": {},
   "outputs": [
    {
     "name": "stdout",
     "output_type": "stream",
     "text": [
      "(10327, 3)\n"
     ]
    }
   ],
   "source": [
    "total = papers.groupby('NewAuthorId').PaperId.nunique().reset_index().rename(columns={'PaperId':'Count'})\n",
    "conflict = papers.groupby(['NewAuthorId','during','edit']).PaperId.nunique().reset_index().rename(\n",
    "    columns={'PaperId':'Conflict'})\n",
    "\n",
    "conflict = conflict[(conflict.during==True) & (conflict.edit==True)].drop(['during','edit'], axis=1)\n",
    "\n",
    "conflict = conflict.merge(total, on='NewAuthorId')\n",
    "print(conflict.shape) # (10327, 5)\n",
    "\n",
    "conflict = conflict.assign(percent=conflict.Conflict/conflict.Count)"
   ]
  },
  {
   "cell_type": "code",
   "execution_count": null,
   "metadata": {},
   "outputs": [],
   "source": [
    "conflict[conflict.Count >= 30].sort_values(by='percent', ascending=False).head(15).to_csv(\n",
    "    '/scratch/fl1092/capstone/revise/extreme.csv',sep='\\t',index=False)"
   ]
  },
  {
   "cell_type": "markdown",
   "metadata": {},
   "source": [
    "# Plot outliers"
   ]
  },
  {
   "cell_type": "code",
   "execution_count": 10,
   "metadata": {},
   "outputs": [],
   "source": [
    "import pandas as pd\n",
    "import numpy as np\n",
    "import scipy.stats\n",
    "import math\n",
    "\n",
    "import matplotlib\n",
    "from matplotlib import pyplot as plt\n",
    "from matplotlib.patches import Patch\n",
    "import matplotlib.gridspec as gridspec\n",
    "\n",
    "matplotlib.rcParams['pdf.fonttype'] = 42\n",
    "matplotlib.rcParams['ps.fonttype'] = 42\n",
    "matplotlib.rcParams['grid.linewidth'] = 0.5\n",
    "matplotlib.rcParams['axes.linewidth'] = 0.5\n",
    "plt.rcParams[\"font.size\"] = 7\n",
    "\n",
    "width=0.6"
   ]
  },
  {
   "cell_type": "code",
   "execution_count": 11,
   "metadata": {},
   "outputs": [
    {
     "data": {
      "text/plain": [
       "((12553, 3), (58382, 3))"
      ]
     },
     "execution_count": 11,
     "metadata": {},
     "output_type": "execute_result"
    }
   ],
   "source": [
    "editor_papers = pd.read_csv(\"/scratch/fl1092/capstone/temp/JournalOutlierEditorPapers.csv\", sep='\\t',\n",
    "                           dtype={\"issn\":str,\"Year\":int,\"Count\":int})\n",
    "\n",
    "total_papers = pd.read_csv(\"/scratch/fl1092/capstone/temp/JournalOutlierTotalPapers.csv\", sep='\\t',\n",
    "                         dtype={\"issn\":str,\"Year\":int,\"Total\":int})\n",
    "\n",
    "editor_papers.shape, total_papers.shape # (12553, 3), (58382, 3)"
   ]
  },
  {
   "cell_type": "code",
   "execution_count": 12,
   "metadata": {},
   "outputs": [],
   "source": [
    "# https://stackoverflow.com/questions/10481990/matplotlib-axis-with-two-scales-shared-origin\n",
    "\n",
    "def align_yaxis(ax1, v1, ax2, v2):\n",
    "    \"\"\"adjust ax2 ylimit so that v2 in ax2 is aligned to v1 in ax1\"\"\"\n",
    "    _, y1 = ax1.transData.transform((0, v1))\n",
    "    _, y2 = ax2.transData.transform((0, v2))\n",
    "    inv = ax2.transData.inverted()\n",
    "    _, dy = inv.transform((0, 0)) - inv.transform((0, y1-y2))\n",
    "    miny, maxy = ax2.get_ylim()\n",
    "    ax2.set_ylim(miny+dy, maxy+dy)"
   ]
  },
  {
   "cell_type": "code",
   "execution_count": 13,
   "metadata": {},
   "outputs": [],
   "source": [
    "def aSum(lists):\n",
    "    return [sum([l[ind] for l in lists]) for ind in range(len(lists[0]))]"
   ]
  },
  {
   "cell_type": "code",
   "execution_count": 14,
   "metadata": {},
   "outputs": [],
   "source": [
    "def styleAx(ax, ax2, ytop, xleft, xright):\n",
    "    ### set lim ###\n",
    "    lo, hi = ax.get_ylim()\n",
    "    if ytop is not None:\n",
    "        hi = ytop\n",
    "    left_lo = - hi * 0.2\n",
    "    ax.set_ylim(left_lo, hi)\n",
    "    \n",
    "    ax2.set_ylim(-0.2, 1)\n",
    "    \n",
    "    ax.set_xlim(xleft, xright)\n",
    "    ### set lim ###\n",
    "    \n",
    "    ### spine color ###\n",
    "    ax2.spines['right'].set_color('red')\n",
    "    ax2.tick_params(axis='y', colors='red')\n",
    "    ### spine color ###\n",
    "    \n",
    "    ### control spines ###\n",
    "    ax.spines['bottom'].set_position('zero')\n",
    "    ax.spines['right'].set_visible(False)\n",
    "    ax.spines['top'].set_visible(False)\n",
    "    \n",
    "    ax2.spines['top'].set_visible(False)\n",
    "    ax2.spines['bottom'].set_visible(False)\n",
    "    ax2.spines['left'].set_visible(False)\n",
    "    \n",
    "    ### control spines ###\n",
    "    \n",
    "    ax.set_yticks([x for x in ax.get_yticks() if x >=0 and x < hi])\n",
    "    ax2.set_yticks([0, 0.2, 0.4, 0.6, 0.8, 1])\n",
    "    ax2.set_yticklabels(['0', '20', '40', '60', '80', '100'])\n",
    "    \n",
    "    align_yaxis(ax, 0, ax2, 0)\n",
    "    ax2.spines['right'].set_bounds(0, 1)\n",
    "    ax.spines['left'].set_bounds(0, hi)\n",
    "    \n",
    "    return left_lo"
   ]
  },
  {
   "cell_type": "code",
   "execution_count": 31,
   "metadata": {},
   "outputs": [],
   "source": [
    "def plotEditor(ID, ax, msg='', ytop=None, unify=False):\n",
    "    # unify: whether unify y-axis across row\n",
    "    ax2 = ax.twinx()   \n",
    "    \n",
    "    #colors = ['#8dd3c7','#ffffb3','#bebada','#fb8072']\n",
    "    colors = ['#02c6c7','#ffae01','#008b00','#ff0200']\n",
    "    \n",
    "    sub_papers = papers[papers.NewAuthorId == ID] # subset of papers by this editor\n",
    "    bad_papers = (\n",
    "        sub_papers.merge(elsevier_journals, left_on='PaperJournalId', right_on='JournalId', how='left')\n",
    "        .fillna('')\n",
    "    )\n",
    "    # find the issn of those papers, if paper is not published in an Elseiver journal, issn is nan\n",
    "    assert(sub_papers.shape[0] == bad_papers.shape[0])\n",
    "    \n",
    "    bad_count = bad_papers.groupby(['Year','issn','during','edit']).PaperId.nunique().reset_index()\n",
    "    \n",
    "    x= [year for year in range(bad_count.Year.min(), bad_count.Year.max()+1)]\n",
    "    \n",
    "    issn = list(bad_count[bad_count.edit==True].issn.unique())\n",
    "    \n",
    "    journals = [[] for i in issn]\n",
    "    notj = []\n",
    "    notedit = []\n",
    "    \n",
    "    if len(issn) == 1:\n",
    "        issnlabel=[\"Editor's journal\"]\n",
    "    elif len(issn) == 2:\n",
    "        issnlabel=[\"Editor's $1^{st}$ journal\",\"Editor's $2^{nd}$ journal\"]\n",
    "    elif len(issn) == 3:\n",
    "        issnlabel=[\"Editor's $1^{st}$ journal\",\"Editor's $2^{nd}$ journal\",\n",
    "                  \"Editor's $3^{rd}$ journal\"]\n",
    "    elif len(issn) == 4:\n",
    "        issnlabel=[\"Editor's $1^{st}$ journal\",\"Editor's $2^{nd}$ journal\",\n",
    "                   \"Editor's $3^{rd}$ journal\",\"Editor's $4^{th}$ journal\"]\n",
    "    else:\n",
    "        print(\"ERROR!\")\n",
    "        \n",
    "    highest = bad_count.groupby('Year').PaperId.sum().reset_index().PaperId.max()\n",
    "    if not unify:\n",
    "        ytop=highest*1.1\n",
    "\n",
    "    for year in range(bad_count.Year.min(), bad_count.Year.max()+1):\n",
    "        for ind, j in enumerate(issn):\n",
    "            \n",
    "            df = bad_count[(bad_count.issn == j) &\n",
    "                           (bad_count.Year == year) &\n",
    "                           (bad_count.during == True) &\n",
    "                           (bad_count.edit == True)\n",
    "                          ]\n",
    "            journals[ind].append(df.PaperId.sum())\n",
    "        \n",
    "        df = bad_count[(bad_count.Year == year) & (bad_count.during == False) & (bad_count.edit == True)]\n",
    "        notj.append(df.PaperId.sum())\n",
    "        \n",
    "        df = bad_count[(bad_count.Year == year) & (bad_count.edit == False)]\n",
    "        notedit.append(df.PaperId.sum())\n",
    "        \n",
    "    assert(bad_papers.shape[0] == bad_count.PaperId.sum())\n",
    "    assert(bad_papers.shape[0] == sum(aSum(journals)) + sum(notj) + sum(notedit))\n",
    "        \n",
    "    ax.bar(x, journals[0], width, label=issnlabel[0], color=colors[0])\n",
    "    for i in range(1, len(journals)):\n",
    "        ax.bar(x, journals[i], width, label=issnlabel[i], color=colors[i], bottom=aSum(journals[:i]))\n",
    "        \n",
    "    if sum(notj) != 0:\n",
    "        ax.bar(x, notj, width, bottom=aSum(journals), color='black',\n",
    "               label=\"Editor's journal but\\nnot during editorship\" )\n",
    "    if sum(notedit) != 0:\n",
    "        ax.bar(x, notedit, width, bottom=aSum([aSum(journals), notj]), color='grey', label='Other journals')\n",
    "    \n",
    "    left_lo = styleAx(ax, ax2, ytop, bad_count.Year.min()-0.5, bad_count.Year.max()+0.5)\n",
    "    multiplier = 0.75\n",
    "    \n",
    "    for ind, j in enumerate(issn):\n",
    "        row = editors[(editors.NewAuthorId == ID) & (editors.issn == j)]\n",
    "        left, right = int(row.start_year), int(row.end_year)\n",
    "        ax.hlines(multiplier * left_lo, left, right, color=colors[ind], linewidths=1)\n",
    "        \n",
    "        multiplier += 0.1\n",
    "        \n",
    "    steps = []\n",
    "    running_sum, inj = 0, 0\n",
    "    most = 0\n",
    "    for i in range(len(x)):\n",
    "        running_sum += aSum(journals)[i] + notj[i] + notedit[i]\n",
    "        inj += aSum(journals)[i]\n",
    "        steps.append(inj/running_sum)\n",
    "        most = max(most, inj/running_sum)\n",
    "    print(\"highest percentage:\", most)\n",
    "    \n",
    "    ax2.step([i+1 for i in x], steps, color='red', lw=0.5)\n",
    "    \n",
    "    ax.set_ylabel('Paper count')\n",
    "    \n",
    "    ax.text(0.5, 0.98, f'{attri[attri.NewAuthorId == ID].Field.values[0]}, {attri[attri.NewAuthorId == ID].gender.values[0]}',\n",
    "            horizontalalignment='center', verticalalignment='center', transform=ax.transAxes, fontsize=9)"
   ]
  },
  {
   "cell_type": "code",
   "execution_count": 32,
   "metadata": {},
   "outputs": [],
   "source": [
    "# originally, 5.main_questions/9.editor-in-chief_and_journal_level_analysis.ipynb#cartel-within-a-journal\n",
    "width=0.6\n",
    "\n",
    "def plotJournal(issn, ax, ytop, middle=False):\n",
    "    ax2 = ax.twinx()   \n",
    "    \n",
    "    total = total_papers[total_papers.issn == issn]\n",
    "    editor = editor_papers[editor_papers.issn == issn]\n",
    "    \n",
    "    if issn == '':\n",
    "        total = total[total.Year >= 2000]\n",
    "        editor = editor[editor.Year >= 2000]\n",
    "    \n",
    "    running_b, running_t = 0, 0\n",
    "    steps=[]\n",
    "    \n",
    "    MAX =  min(total.Year.max()+1, 2019)\n",
    "    \n",
    "    for year in range(total.Year.min(), MAX):\n",
    "        bottom = editor[editor.Year == year].Count.values\n",
    "        if len(bottom) != 0: bottom = bottom[0]\n",
    "        else: bottom=0\n",
    "            \n",
    "        top = total[total.Year == year].Total.values\n",
    "        if len(top) != 0: top = top[0]\n",
    "        else: top=0\n",
    "        \n",
    "        ax.bar(year, bottom, width, color='#5ac0c0', label='Paper authored by editor(s) of the journal')\n",
    "        ax.bar(year, top-bottom, width, color='gray', bottom=bottom, label='Paper authored by other scientists')\n",
    "        \n",
    "        running_b += bottom\n",
    "        running_t += top\n",
    "        steps.append(running_b/running_t if top!=0 else 0)\n",
    "        \n",
    "    ax.legend(handles=[Patch(facecolor='#5ac0c0', label='Paper authored by editor(s) of the journal'),\n",
    "                      Patch(facecolor='gray', label='Paper authored by other scientists')],\n",
    "             loc='upper left')\n",
    "    \n",
    "    if issn == '':\n",
    "        ax.set_xticks([x for x in range(math.ceil(total.Year.min()/5)*5, math.floor((MAX-1)/5)*5 + 1, 5)])\n",
    "        print([x for x in range(math.ceil(total.Year.min()/5)*5, math.floor((MAX-1)/5)*5, 5)])\n",
    "        \n",
    "    ax2.step([year for year in range(total.Year.min(), MAX)], steps, color='red', lw=0.5)\n",
    "    \n",
    "    styleAx(ax, ax2, ytop, total.Year.min()-0.5, MAX-0.5)\n",
    "    \n",
    "    if middle:\n",
    "    # ax2.set_ylabel(\"Proportion of papers authored by the\\njournal's editor(s) out of all papers\\npublished in the journal to date\", c='red')\n",
    "        ax2.set_ylabel(\"Percentage of papers authored by the journal's editor(s) out of all papers published in the journal to date\", c='red')\n",
    "        \n",
    "    ax.set_ylabel('Paper count')"
   ]
  },
  {
   "cell_type": "markdown",
   "metadata": {},
   "source": [
    "#### other attributes of editors"
   ]
  },
  {
   "cell_type": "code",
   "execution_count": 17,
   "metadata": {},
   "outputs": [
    {
     "name": "stdout",
     "output_type": "stream",
     "text": [
      "(15984, 3)\n",
      "(15984, 3)\n"
     ]
    }
   ],
   "source": [
    "editor_gender = pd.read_csv('/scratch/fl1092/capstone/revise/EditorGender.csv',sep='\\t',\n",
    "                            usecols=['NewAuthorId','issn','gender'],\n",
    "                            dtype={'NewAuthorId':int,'issn':str, 'start_year':int, 'end_year':int, 'gender':str})\n",
    "print(editor_gender.shape)\n",
    "editor_gender = editor_gender.drop_duplicates()\n",
    "print(editor_gender.shape)"
   ]
  },
  {
   "cell_type": "code",
   "execution_count": 18,
   "metadata": {},
   "outputs": [
    {
     "data": {
      "text/plain": [
       "male      13331\n",
       "female     2653\n",
       "Name: gender, dtype: int64"
      ]
     },
     "execution_count": 18,
     "metadata": {},
     "output_type": "execute_result"
    }
   ],
   "source": [
    "editor_gender.gender.value_counts()"
   ]
  },
  {
   "cell_type": "code",
   "execution_count": 19,
   "metadata": {},
   "outputs": [
    {
     "name": "stdout",
     "output_type": "stream",
     "text": [
      "(15984, 2)\n",
      "(14476, 2)\n"
     ]
    },
    {
     "data": {
      "text/plain": [
       "False"
      ]
     },
     "execution_count": 19,
     "metadata": {},
     "output_type": "execute_result"
    }
   ],
   "source": [
    "editor_gender = pd.read_csv('/scratch/fl1092/capstone/revise/EditorGender.csv',sep='\\t',\n",
    "                            usecols=['NewAuthorId','gender'],\n",
    "                            dtype={'NewAuthorId':int,'issn':str, 'start_year':int, 'end_year':int, 'gender':str})\n",
    "print(editor_gender.shape)\n",
    "editor_gender = editor_gender.drop_duplicates()\n",
    "print(editor_gender.shape)\n",
    "\n",
    "editor_gender.duplicated().any()"
   ]
  },
  {
   "cell_type": "code",
   "execution_count": 20,
   "metadata": {},
   "outputs": [
    {
     "name": "stdout",
     "output_type": "stream",
     "text": [
      "(120948543, 2)\n",
      "CPU times: user 18.5 s, sys: 7.14 s, total: 25.6 s\n",
      "Wall time: 49.9 s\n"
     ]
    }
   ],
   "source": [
    "%%time\n",
    "author_career = pd.read_csv('/scratch/fl1092/capstone/conflated/AuthorEraDisp.csv',\n",
    "            sep='\\t', memory_map=True,\n",
    "            usecols=['NewAuthorId', 'Parent'],\n",
    "            dtype={'NewAuthorId':int, 'Yfp':int, 'Ylp':int, 'Parent':int})\n",
    "print(author_career.shape)"
   ]
  },
  {
   "cell_type": "code",
   "execution_count": 21,
   "metadata": {},
   "outputs": [
    {
     "data": {
      "text/plain": [
       "(19, 2)"
      ]
     },
     "execution_count": 21,
     "metadata": {},
     "output_type": "execute_result"
    }
   ],
   "source": [
    "field_name = (\n",
    "    pd.read_csv(\"/scratch/fl1092/capstone/advanced/FieldsOfStudy.txt\", sep=\"\\t\",\n",
    "                        names = [\"FieldOfStudyId\", \"Rank\", \"NormalizedName\", \"DisplayName\",\n",
    "                                 \"MainType\", \"Level\", \"PaperCount\", \"CitationCount\", \"CreatedDate\"],\n",
    "                       usecols=['FieldOfStudyId','DisplayName','Level'])\n",
    "    .rename(columns={'DisplayName':'Field', 'FieldOfStudyId':'Parent'})\n",
    "    .query('Level == 0')\n",
    "    .drop('Level', axis=1)\n",
    ")\n",
    "field_name.shape"
   ]
  },
  {
   "cell_type": "code",
   "execution_count": 22,
   "metadata": {},
   "outputs": [],
   "source": [
    "jfield = (\n",
    "    pd.read_csv(\"/scratch/fl1092/capstone/bigmem/Elsevier_journal_top_fields.csv\", sep='\\t', index_col=0)\n",
    "    .merge(field_name, on='Parent')\n",
    ")"
   ]
  },
  {
   "cell_type": "code",
   "execution_count": 23,
   "metadata": {},
   "outputs": [
    {
     "name": "stdout",
     "output_type": "stream",
     "text": [
      "CPU times: user 39.3 s, sys: 10.2 s, total: 49.5 s\n",
      "Wall time: 1min 29s\n"
     ]
    }
   ],
   "source": [
    "%%time\n",
    "attri = (\n",
    "    conflict[conflict.Count >= 30].sort_values(by='percent', ascending=False).head(100).reset_index(drop=True)\n",
    "    .reset_index()\n",
    "    .merge(editor_gender, on='NewAuthorId', how='left')\n",
    "    .fillna('')\n",
    "    .merge(author_career, on='NewAuthorId')\n",
    "    .merge(field_name, on='Parent')\n",
    "    .sort_values(by='index')\n",
    ")"
   ]
  },
  {
   "cell_type": "code",
   "execution_count": 25,
   "metadata": {},
   "outputs": [],
   "source": [
    "import scipy"
   ]
  },
  {
   "cell_type": "code",
   "execution_count": 26,
   "metadata": {},
   "outputs": [],
   "source": [
    "attri = attri.assign(gender = attri.gender.apply(lambda x: 'man' if x == 'male' else 'woman'))"
   ]
  },
  {
   "cell_type": "code",
   "execution_count": 33,
   "metadata": {},
   "outputs": [
    {
     "name": "stdout",
     "output_type": "stream",
     "text": [
      "highest percentage: 0.6190476190476191\n",
      "highest percentage: 0.6551724137931034\n",
      "highest percentage: 0.6086956521739131\n",
      "highest percentage: 0.6585365853658537\n",
      "highest percentage: 0.6190476190476191\n",
      "highest percentage: 0.7647058823529411\n",
      "highest percentage: 0.8571428571428571\n",
      "highest percentage: 0.7096774193548387\n",
      "highest percentage: 0.5538461538461539\n",
      "highest percentage: 0.51953125\n",
      "highest percentage: 0.625\n",
      "highest percentage: 0.7272727272727273\n"
     ]
    },
    {
     "data": {
      "image/png": "[encoded data removed]",
      "text/plain": [
       "<Figure size 518.74x510.236 with 24 Axes>"
      ]
     },
     "metadata": {
      "needs_background": "light"
     },
     "output_type": "display_data"
    }
   ],
   "source": [
    "cm = 1/2.54\n",
    "plt.figure(figsize=(18.3*cm, 18*cm))\n",
    "\n",
    "ax = plt.subplot(4, 3, 1)\n",
    "plotEditor(23259107, ax, ytop=6)\n",
    "\n",
    "ax = plt.subplot(4, 3, 2)\n",
    "plotEditor(34940835, ax, ytop=6)\n",
    "\n",
    "ax = plt.subplot(4, 3, 3)\n",
    "plotEditor(59881263, ax, ytop=6)\n",
    "\n",
    "ax = plt.subplot(4, 3, 4)\n",
    "plotEditor(3184549, ax, ytop=8)\n",
    "ax.set_yticks([0, 2, 4, 6, 8])\n",
    "\n",
    "ax = plt.subplot(4, 3, 5)\n",
    "plotEditor(74697510, ax, ytop=8)\n",
    "\n",
    "ax = plt.subplot(4, 3, 6)\n",
    "plotEditor(117684713, ax, ytop=8)\n",
    "\n",
    "ax = plt.subplot(4, 3, 7)\n",
    "plotEditor(106856087, ax, ytop=8)\n",
    "ax.set_yticks([0, 2, 4, 6, 8])\n",
    "\n",
    "ax = plt.subplot(4, 3, 8)\n",
    "plotEditor(127379378, ax, ytop=8)\n",
    "\n",
    "ax = plt.subplot(4, 3, 9)\n",
    "plotEditor(7182511, ax, ytop=8)\n",
    "\n",
    "ax = plt.subplot(4, 3, 10)\n",
    "plotEditor(51286327, ax, ytop=11)\n",
    "\n",
    "ax = plt.subplot(4, 3, 11)\n",
    "plotEditor(14508310, ax, ytop=11)\n",
    "\n",
    "ax = plt.subplot(4, 3, 12)\n",
    "plotEditor(23284928, ax, ytop=11)\n",
    "\n",
    "plt.tight_layout()\n",
    "\n",
    "plt.savefig('../figures/fig_3_revision_supp_top15.pdf', bbox_inches = 'tight', pad_inches = 0)"
   ]
  },
  {
   "cell_type": "code",
   "execution_count": null,
   "metadata": {},
   "outputs": [],
   "source": []
  }
 ],
 "metadata": {
  "kernelspec": {
   "display_name": "Python 3",
   "language": "python",
   "name": "python3"
  },
  "language_info": {
   "codemirror_mode": {
    "name": "ipython",
    "version": 3
   },
   "file_extension": ".py",
   "mimetype": "text/x-python",
   "name": "python",
   "nbconvert_exporter": "python",
   "pygments_lexer": "ipython3",
   "version": "3.8.5"
  }
 },
 "nbformat": 4,
 "nbformat_minor": 4
}
