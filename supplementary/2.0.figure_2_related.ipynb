{
 "cells": [
  {
   "cell_type": "code",
   "execution_count": 28,
   "metadata": {},
   "outputs": [],
   "source": [
    "import pandas as pd\n",
    "import numpy as np\n",
    "import scipy.stats\n",
    "from matplotlib import pyplot as plt\n",
    "import matplotlib.gridspec as gridspec\n",
    "import matplotlib\n",
    "from matplotlib.lines import Line2D\n",
    "\n",
    "matplotlib.rcParams['pdf.fonttype'] = 42\n",
    "matplotlib.rcParams['ps.fonttype'] = 42\n",
    "matplotlib.rcParams['grid.linewidth'] = 0.5\n",
    "matplotlib.rcParams['axes.linewidth'] = 0.5"
   ]
  },
  {
   "cell_type": "code",
   "execution_count": 29,
   "metadata": {},
   "outputs": [],
   "source": [
    "fields = (\n",
    "    pd.read_csv('../data/supplementary/AllFields.csv', sep='\\t',\n",
    "                dtype={'Discipline':str, 'FieldOfStudyId':int})\n",
    "    .rename(columns={'Discipline':'Field'})\n",
    ")"
   ]
  },
  {
   "cell_type": "code",
   "execution_count": 30,
   "metadata": {},
   "outputs": [
    {
     "name": "stdout",
     "output_type": "stream",
     "text": [
      "(8127, 4)\n",
      "(1751, 4)\n",
      "(1013, 4)\n",
      "CPU times: user 7.3 ms, sys: 3.07 ms, total: 10.4 ms\n",
      "Wall time: 9.97 ms\n"
     ]
    }
   ],
   "source": [
    "%%time\n",
    "authors = pd.read_csv('../data/figure_4/AuthorGenderCount.csv',sep='\\t',usecols=['gender','Year','Field','Count'],\n",
    "                      dtype={'gender':str,'Year':int,'Field':str,'Count':int})\n",
    "print(authors.shape)\n",
    "\n",
    "editors = pd.read_csv('../data/figure_4/EditorGenderCount.csv',sep='\\t',usecols=['gender','Year','Field','Count'],\n",
    "                      dtype={'gender':str,'Year':int,'Field':str,'Count':int})\n",
    "print(editors.shape)\n",
    "\n",
    "eic = pd.read_csv('../data/figure_4/ChiefGenderCount.csv',sep='\\t',usecols=['gender','Year','Field','Count'],\n",
    "                      dtype={'gender':str,'Year':int,'Field':str,'Count':int})\n",
    "print(eic.shape)"
   ]
  },
  {
   "cell_type": "code",
   "execution_count": 31,
   "metadata": {},
   "outputs": [],
   "source": [
    "authors = authors.merge(fields, on='Field')\n",
    "editors = editors.merge(fields, on='Field')\n",
    "eic = eic.merge(fields, on='Field')"
   ]
  },
  {
   "cell_type": "code",
   "execution_count": 33,
   "metadata": {},
   "outputs": [],
   "source": [
    "dfs = [authors, editors, eic]"
   ]
  },
  {
   "cell_type": "markdown",
   "metadata": {},
   "source": [
    "### Excluding Biology\n",
    "#### Supplementary figure 8"
   ]
  },
  {
   "cell_type": "code",
   "execution_count": 32,
   "metadata": {},
   "outputs": [],
   "source": [
    "def calcCI(p, n):\n",
    "    p=p/100\n",
    "    return np.sqrt(p*(1-p)/n)*scipy.stats.t.ppf((1+0.95)/2., n-1)\n",
    "\n",
    "def computeTrend(fr, field=None, col='Year', colMin=1970, colMax=2018):\n",
    "    # col: the column to get percentage; could be Year, or Decade etc.\n",
    "    \n",
    "    if field is not None:\n",
    "        fr = fr[fr.Field == field]\n",
    "    \n",
    "    total = fr.groupby(col).Count.sum().reset_index()\n",
    "    female = fr.groupby([col, 'gender']).Count.sum().reset_index().rename(columns={'Count':'Fcount'})\n",
    "    female = female[female.gender == 'female']\n",
    "    \n",
    "    total = total.merge(female, on=col, how='left')\n",
    "    total = total.assign(Percent = total.Fcount/total.Count*100)\n",
    "    \n",
    "    df = pd.DataFrame({col: [x for x in range(colMin, colMax+1)]})    \n",
    "    df = df.merge(total, on=col, how='left').fillna(0).sort_values(by=col)\n",
    "    \n",
    "    return (df[col].values, df.Percent.values, df.Count.values)\n",
    "\n",
    "def plotTrend(ax, x, y, n, color='green', lw=1):\n",
    "    ax.plot(x, y, color=color, lw=lw)\n",
    "    \n",
    "    ci = [calcCI(y[i], n[i])*100 for i in range(len(x))]\n",
    "    lo = [y[i]-ci[i] for i in range(len(x))]\n",
    "    hi = [y[i]+ci[i] for i in range(len(x))]\n",
    "    \n",
    "    ax.fill_between(x, lo, hi, color=color, alpha=0.1)\n",
    "    \n",
    "def plotTemporal(ax, xy, lw=1):\n",
    "    # xy: [(x, p, n)]\n",
    "    \n",
    "    plotTrend(ax, xy[0][0], xy[0][1], xy[0][2], colors[0], lw)\n",
    "    plotTrend(ax, xy[1][0], xy[1][1], xy[1][2], colors[1], lw)\n",
    "    plotTrend(ax, xy[2][0], xy[2][1], xy[2][2], colors[2], lw)\n",
    "    \n",
    "    ax.set_xlim(1970, 2018)\n",
    "    ax.set_ylim(0, 1)\n",
    "    \n",
    "    ax.set_xticks([1970, 1980, 1990, 2000, 2010])\n",
    "    ax.set_yticks([0, 25, 50, 75, 100])\n",
    "    ax.grid(b=True, ls=':')\n",
    "    ax.tick_params(length=0)"
   ]
  },
  {
   "cell_type": "code",
   "execution_count": 34,
   "metadata": {},
   "outputs": [
    {
     "name": "stdout",
     "output_type": "stream",
     "text": [
      "CPU times: user 99.6 ms, sys: 0 ns, total: 99.6 ms\n",
      "Wall time: 99.4 ms\n"
     ]
    }
   ],
   "source": [
    "%%time\n",
    "bio = [computeTrend(df.query('FieldOfStudyId == 86803240')) for df in dfs]\n",
    "nobio = [computeTrend(df.query('FieldOfStudyId != 86803240')) for df in dfs]\n",
    "maintrend = [computeTrend(df) for df in dfs]"
   ]
  },
  {
   "cell_type": "code",
   "execution_count": 36,
   "metadata": {},
   "outputs": [],
   "source": [
    "colors = ['#4daf4a', '#377eb8', '#ff7f00']"
   ]
  },
  {
   "cell_type": "code",
   "execution_count": 37,
   "metadata": {},
   "outputs": [
    {
     "name": "stdout",
     "output_type": "stream",
     "text": [
      "CPU times: user 255 ms, sys: 10.8 ms, total: 266 ms\n",
      "Wall time: 280 ms\n"
     ]
    },
    {
     "data": {
      "image/png": "[encoded data removed]",
      "text/plain": [
       "<Figure size 518.74x198.425 with 2 Axes>"
      ]
     },
     "metadata": {
      "needs_background": "light"
     },
     "output_type": "display_data"
    }
   ],
   "source": [
    "%%time\n",
    "cm = 1/2.54  # centimeters in inches\n",
    "plt.figure(figsize=(18.3*cm, 7*cm))\n",
    "plt.rcParams.update({'font.size': 7})\n",
    "\n",
    "lines = [Line2D([0], [0], color=colors[0], lw=1),\n",
    "        Line2D([0], [0], color=colors[1], lw=1),\n",
    "        Line2D([0], [0], color=colors[2], lw=1)]\n",
    "\n",
    "#######\n",
    "ax = plt.subplot(1, 2, 1)\n",
    "plotTemporal(ax, maintrend)\n",
    "ax.set_ylabel('Percentage female')\n",
    "\n",
    "ax = plt.subplot(1, 2, 2)\n",
    "plotTemporal(ax, nobio)\n",
    "ax.set_ylabel('Percentage female')\n",
    "\n",
    "plt.tight_layout()\n",
    "\n",
    "plt.savefig('../figures/sup_4_gender_trend_bio_nobio.pdf', bbox_inches = 'tight', pad_inches = 0)"
   ]
  },
  {
   "cell_type": "markdown",
   "metadata": {},
   "source": [
    "Other supplementary figures see notebook `figure_2/1.plot_figure_2.ipynb`."
   ]
  },
  {
   "cell_type": "code",
   "execution_count": null,
   "metadata": {},
   "outputs": [],
   "source": []
  }
 ],
 "metadata": {
  "kernelspec": {
   "display_name": "Python 3",
   "language": "python",
   "name": "python3"
  },
  "language_info": {
   "codemirror_mode": {
    "name": "ipython",
    "version": 3
   },
   "file_extension": ".py",
   "mimetype": "text/x-python",
   "name": "python",
   "nbconvert_exporter": "python",
   "pygments_lexer": "ipython3",
   "version": "3.8.5"
  }
 },
 "nbformat": 4,
 "nbformat_minor": 4
}
