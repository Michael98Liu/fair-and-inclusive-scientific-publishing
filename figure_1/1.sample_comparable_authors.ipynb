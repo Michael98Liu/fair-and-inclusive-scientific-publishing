{
 "cells": [
  {
   "cell_type": "markdown",
   "metadata": {},
   "source": [
    "# Sample authors while controlling for year-of-first-publication\n",
    "\n",
    "For each editor, this notebook samples a set of authors whose year-of-first-publication matches that of the editor. For the sake of demonstration, we picked a subset of authors to match against so that the code could finish in a reasonable amount of time."
   ]
  },
  {
   "cell_type": "code",
   "execution_count": 1,
   "metadata": {},
   "outputs": [],
   "source": [
    "import pandas as pd\n",
    "import numpy as np\n",
    "from tqdm.notebook import tqdm"
   ]
  },
  {
   "cell_type": "code",
   "execution_count": 2,
   "metadata": {},
   "outputs": [
    {
     "data": {
      "text/plain": [
       "(10, 4)"
      ]
     },
     "execution_count": 2,
     "metadata": {},
     "output_type": "execute_result"
    }
   ],
   "source": [
    "editors = pd.read_csv(\"../data/SampleEditors.csv\", sep='\\t',\n",
    "                      dtype={'issn':str,'NewAuthorId':int,'start_year':int,'end_year':int})\n",
    "editors.shape"
   ]
  },
  {
   "cell_type": "code",
   "execution_count": 3,
   "metadata": {},
   "outputs": [
    {
     "data": {
      "text/plain": [
       "(10, 4)"
      ]
     },
     "execution_count": 3,
     "metadata": {},
     "output_type": "execute_result"
    }
   ],
   "source": [
    "editor_career = pd.read_csv('../data/EditorCareerDiscipline.csv',sep='\\t',\n",
    "                           dtype={'NewAuthorId':int,'Yfp':int,'Ylp':int,'Parent':int})\n",
    "editor_career.shape"
   ]
  },
  {
   "cell_type": "code",
   "execution_count": 4,
   "metadata": {},
   "outputs": [
    {
     "name": "stdout",
     "output_type": "stream",
     "text": [
      "(4097, 2)\n",
      "CPU times: user 1.77 ms, sys: 661 µs, total: 2.43 ms\n",
      "Wall time: 2.32 ms\n"
     ]
    }
   ],
   "source": [
    "%%time\n",
    "# the first year that an author has a known affiliation\n",
    "first_year = pd.read_csv('../data/figure_1/FirstYearWithKnownAff.csv',sep='\\t',\n",
    "                         dtype={'NewAuthorId':int,'Year':int})\n",
    "first_year = first_year.rename(columns={'Year':'FirstYear'})\n",
    "print(first_year.shape)"
   ]
  },
  {
   "cell_type": "code",
   "execution_count": 5,
   "metadata": {},
   "outputs": [
    {
     "name": "stdout",
     "output_type": "stream",
     "text": [
      "(4097, 4)\n",
      "CPU times: user 3.63 ms, sys: 2 µs, total: 3.63 ms\n",
      "Wall time: 3.47 ms\n"
     ]
    }
   ],
   "source": [
    "%%time\n",
    "author_career = pd.read_csv('../data/figure_1/AuthorEraDisp.csv',\n",
    "            sep='\\t', memory_map=True,\n",
    "            usecols=['NewAuthorId', 'Parent', 'Yfp', 'Ylp'], # \n",
    "            dtype={'NewAuthorId':int, 'Yfp':int, 'Ylp':int, 'Parent':int})\n",
    "print(author_career.shape)"
   ]
  },
  {
   "cell_type": "code",
   "execution_count": 6,
   "metadata": {},
   "outputs": [
    {
     "name": "stdout",
     "output_type": "stream",
     "text": [
      "(10, 7)\n"
     ]
    }
   ],
   "source": [
    "editors = editors.merge(editor_career, on='NewAuthorId')\n",
    "print(editors.shape)"
   ]
  },
  {
   "cell_type": "code",
   "execution_count": 7,
   "metadata": {},
   "outputs": [],
   "source": [
    "def sample(df, year):\n",
    "    dfs = []\n",
    "    \n",
    "    for seed in range(50):\n",
    "        np.random.seed(seed)\n",
    "\n",
    "        sampled = df.groupby(['EditorsNewId','issn']).apply(\n",
    "                    lambda x: x.filter([np.random.choice(x.index)], axis=0)).reset_index(drop=True)\n",
    "        \n",
    "        dfs.append(sampled)\n",
    "        \n",
    "    return pd.concat(dfs, ignore_index=True, sort=False)"
   ]
  },
  {
   "cell_type": "code",
   "execution_count": 8,
   "metadata": {},
   "outputs": [],
   "source": [
    "def match(editors, author_career):\n",
    "    dfs = []\n",
    "\n",
    "    for year in tqdm(range(editors.Yfp.max(), editors.Yfp.min()-1, -1)):\n",
    "\n",
    "        edi = editors[editors.Yfp == year]\n",
    "        aut = author_career[author_career.Yfp == year]\n",
    "\n",
    "        if edi.shape[0] == 0 or aut.shape[0] == 0: continue\n",
    "\n",
    "        matched = edi.rename(columns={'NewAuthorId':'EditorsNewId'}).merge(aut, on='Yfp')\n",
    "        matched = matched[~matched.NewAuthorId.isin(editors.NewAuthorId)]\n",
    "\n",
    "        # make sure that at least one aff was known before\n",
    "        matched = matched.merge(first_year, on='NewAuthorId')\n",
    "        matched = matched[matched.start_year >= matched.FirstYear] \n",
    "\n",
    "        sampled = sample(matched, year)\n",
    "        \n",
    "        dfs.append(sampled)\n",
    "        \n",
    "    return pd.concat(dfs, ignore_index=True, sort=False)"
   ]
  },
  {
   "cell_type": "code",
   "execution_count": 9,
   "metadata": {},
   "outputs": [
    {
     "data": {
      "application/vnd.jupyter.widget-view+json": {
       "model_id": "f98ce973db8e46dca247387734dfffeb",
       "version_major": 2,
       "version_minor": 0
      },
      "text/plain": [
       "  0%|          | 0/38 [00:00<?, ?it/s]"
      ]
     },
     "metadata": {},
     "output_type": "display_data"
    },
    {
     "name": "stdout",
     "output_type": "stream",
     "text": [
      "(500, 11)\n",
      "CPU times: user 1.6 s, sys: 18.2 ms, total: 1.62 s\n",
      "Wall time: 1.63 s\n"
     ]
    }
   ],
   "source": [
    "%%time\n",
    "matched = match(editors, author_career)\n",
    "print(matched.shape)"
   ]
  },
  {
   "cell_type": "code",
   "execution_count": 10,
   "metadata": {},
   "outputs": [
    {
     "data": {
      "text/html": [
       "<div>\n",
       "<style scoped>\n",
       "    .dataframe tbody tr th:only-of-type {\n",
       "        vertical-align: middle;\n",
       "    }\n",
       "\n",
       "    .dataframe tbody tr th {\n",
       "        vertical-align: top;\n",
       "    }\n",
       "\n",
       "    .dataframe thead th {\n",
       "        text-align: right;\n",
       "    }\n",
       "</style>\n",
       "<table border=\"1\" class=\"dataframe\">\n",
       "  <thead>\n",
       "    <tr style=\"text-align: right;\">\n",
       "      <th></th>\n",
       "      <th>EditorsNewId</th>\n",
       "      <th>issn</th>\n",
       "      <th>start_year</th>\n",
       "      <th>end_year</th>\n",
       "      <th>Yfp</th>\n",
       "      <th>Ylp_x</th>\n",
       "      <th>Parent_x</th>\n",
       "      <th>NewAuthorId</th>\n",
       "      <th>Ylp_y</th>\n",
       "      <th>Parent_y</th>\n",
       "      <th>FirstYear</th>\n",
       "    </tr>\n",
       "  </thead>\n",
       "  <tbody>\n",
       "    <tr>\n",
       "      <th>0</th>\n",
       "      <td>51058137</td>\n",
       "      <td>1744117X</td>\n",
       "      <td>2015</td>\n",
       "      <td>2019</td>\n",
       "      <td>2005</td>\n",
       "      <td>2018</td>\n",
       "      <td>86803240</td>\n",
       "      <td>109209386</td>\n",
       "      <td>2017</td>\n",
       "      <td>71924100</td>\n",
       "      <td>2007</td>\n",
       "    </tr>\n",
       "    <tr>\n",
       "      <th>1</th>\n",
       "      <td>51058137</td>\n",
       "      <td>1744117X</td>\n",
       "      <td>2015</td>\n",
       "      <td>2019</td>\n",
       "      <td>2005</td>\n",
       "      <td>2018</td>\n",
       "      <td>86803240</td>\n",
       "      <td>77219952</td>\n",
       "      <td>2006</td>\n",
       "      <td>185592680</td>\n",
       "      <td>2005</td>\n",
       "    </tr>\n",
       "    <tr>\n",
       "      <th>2</th>\n",
       "      <td>51058137</td>\n",
       "      <td>1744117X</td>\n",
       "      <td>2015</td>\n",
       "      <td>2019</td>\n",
       "      <td>2005</td>\n",
       "      <td>2018</td>\n",
       "      <td>86803240</td>\n",
       "      <td>100417127</td>\n",
       "      <td>2015</td>\n",
       "      <td>86803240</td>\n",
       "      <td>2006</td>\n",
       "    </tr>\n",
       "    <tr>\n",
       "      <th>3</th>\n",
       "      <td>51058137</td>\n",
       "      <td>1744117X</td>\n",
       "      <td>2015</td>\n",
       "      <td>2019</td>\n",
       "      <td>2005</td>\n",
       "      <td>2018</td>\n",
       "      <td>86803240</td>\n",
       "      <td>104119401</td>\n",
       "      <td>2005</td>\n",
       "      <td>71924100</td>\n",
       "      <td>2005</td>\n",
       "    </tr>\n",
       "    <tr>\n",
       "      <th>4</th>\n",
       "      <td>51058137</td>\n",
       "      <td>1744117X</td>\n",
       "      <td>2015</td>\n",
       "      <td>2019</td>\n",
       "      <td>2005</td>\n",
       "      <td>2018</td>\n",
       "      <td>86803240</td>\n",
       "      <td>141947269</td>\n",
       "      <td>2007</td>\n",
       "      <td>192562407</td>\n",
       "      <td>2007</td>\n",
       "    </tr>\n",
       "  </tbody>\n",
       "</table>\n",
       "</div>"
      ],
      "text/plain": [
       "   EditorsNewId      issn  start_year  end_year   Yfp  Ylp_x  Parent_x  \\\n",
       "0      51058137  1744117X        2015      2019  2005   2018  86803240   \n",
       "1      51058137  1744117X        2015      2019  2005   2018  86803240   \n",
       "2      51058137  1744117X        2015      2019  2005   2018  86803240   \n",
       "3      51058137  1744117X        2015      2019  2005   2018  86803240   \n",
       "4      51058137  1744117X        2015      2019  2005   2018  86803240   \n",
       "\n",
       "   NewAuthorId  Ylp_y   Parent_y  FirstYear  \n",
       "0    109209386   2017   71924100       2007  \n",
       "1     77219952   2006  185592680       2005  \n",
       "2    100417127   2015   86803240       2006  \n",
       "3    104119401   2005   71924100       2005  \n",
       "4    141947269   2007  192562407       2007  "
      ]
     },
     "execution_count": 10,
     "metadata": {},
     "output_type": "execute_result"
    }
   ],
   "source": [
    "matched.head()"
   ]
  },
  {
   "cell_type": "code",
   "execution_count": null,
   "metadata": {},
   "outputs": [],
   "source": []
  }
 ],
 "metadata": {
  "kernelspec": {
   "display_name": "Python 3",
   "language": "python",
   "name": "python3"
  },
  "language_info": {
   "codemirror_mode": {
    "name": "ipython",
    "version": 3
   },
   "file_extension": ".py",
   "mimetype": "text/x-python",
   "name": "python",
   "nbconvert_exporter": "python",
   "pygments_lexer": "ipython3",
   "version": "3.8.5"
  }
 },
 "nbformat": 4,
 "nbformat_minor": 4
}
