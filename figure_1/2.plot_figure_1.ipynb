{
 "cells": [
  {
   "cell_type": "markdown",
   "metadata": {},
   "source": [
    "# Figure 1"
   ]
  },
  {
   "cell_type": "code",
   "execution_count": 1,
   "metadata": {},
   "outputs": [],
   "source": [
    "import pandas as pd\n",
    "import numpy as np\n",
    "import scipy.stats as st\n",
    "\n",
    "import matplotlib\n",
    "from matplotlib import pyplot as plt\n",
    "from matplotlib.colors import LinearSegmentedColormap\n",
    "\n",
    "cm = 1/2.54  # centimeters in inches\n",
    "font = {'size': 7}\n",
    "matplotlib.rc('font', **font)\n",
    "\n",
    "matplotlib.rcParams['pdf.fonttype'] = 42\n",
    "matplotlib.rcParams['ps.fonttype'] = 42\n",
    "\n",
    "matplotlib.rcParams['grid.linewidth'] = 0.5\n",
    "matplotlib.rcParams['axes.linewidth'] = 0.5"
   ]
  },
  {
   "cell_type": "code",
   "execution_count": 2,
   "metadata": {},
   "outputs": [],
   "source": [
    "def calcHeight(ys, confidence=0.95):\n",
    "    means = [y.mean() for y in ys]\n",
    "    errs = [st.sem(y)*st.t.ppf((1 + confidence) / 2., y.shape[0]-1) for y in ys]\n",
    "    \n",
    "    return max(means[0] +errs[0], means[1]+errs[1])"
   ]
  },
  {
   "cell_type": "code",
   "execution_count": 14,
   "metadata": {},
   "outputs": [],
   "source": [
    "def plotPvalue(ax, x, y, pVal, ytop, lw=0.2, c='black'):\n",
    "    # x: [x0, x1]\n",
    "    # y: [y0, y1]\n",
    "    height = max(y[0], y[1])\n",
    "    gap = ytop * 0.05\n",
    "    vlength = ytop * 0.03\n",
    "    \n",
    "    yPos = height + gap + vlength\n",
    "    ax.hlines(yPos, x[0], x[1], color=c, lw=lw)\n",
    "    ax.vlines(x[0], height + gap, yPos, color=c, lw=lw)\n",
    "    ax.vlines(x[1], height + gap, yPos, color=c, lw=lw)\n",
    "    \n",
    "    stars = 'p < 0.001' if pVal < 0.001 else '**' if pVal < 0.01 else '*' if pVal < 0.05 else f'p={round(pVal, 2)}'\n",
    "    offset = 0.01 if pVal < 0.05 else 0.04\n",
    "    \n",
    "    ax.text((x[0] + x[1])/2, yPos + offset*ytop, stars, ha='center', color=c)"
   ]
  },
  {
   "cell_type": "code",
   "execution_count": 15,
   "metadata": {},
   "outputs": [],
   "source": [
    "def plotBar(ax, ys, ytop, confidence=0.95, showP=True, ttest=True):\n",
    "    colors = [(0.3, 0.69, 0.29, 0.2), (0.216, 0.494, 0.72, 0.2)]\n",
    "    \n",
    "    means = [y.mean() for y in ys]\n",
    "    errs = [st.sem(y)*st.t.ppf((1 + confidence) / 2., y.shape[0]-1) for y in ys]\n",
    "    if ttest:\n",
    "        p_value = st.ttest_ind(ys[0], ys[1], permutations=1000).pvalue\n",
    "    else:\n",
    "        a = ys[0].sum()\n",
    "        b = ys[0].shape[0]-ys[0].sum()\n",
    "        \n",
    "        c = ys[1].sum()\n",
    "        d = ys[1].shape[0]-ys[1].sum()\n",
    "        conti = [[a, b], [c, d]]\n",
    "        res = st.fisher_exact(conti)\n",
    "        p_value = res[1]\n",
    "    \n",
    "    x = [i+1 for i in range(len(ys))]\n",
    "    \n",
    "    ax.bar(x, means, width = 0.6, yerr=errs, color=colors, error_kw={'elinewidth':0.5}, linewidth=0.2,\n",
    "           edgecolor=['black','black'])\n",
    "    \n",
    "    if showP:\n",
    "        height = [means[i] + errs[i] for i in range(len(ys))]\n",
    "        \n",
    "        plotPvalue(ax, x, height, p_value, max(height))"
   ]
  },
  {
   "cell_type": "code",
   "execution_count": 16,
   "metadata": {},
   "outputs": [],
   "source": [
    "def plotBox(ax, ys, ytop, confidence=0.95, showP=True):\n",
    "    colors = ['#4daf4a', '#377eb8']\n",
    "    \n",
    "    p_value = st.ttest_ind(ys[0], ys[1], permutations=1000)\n",
    "    \n",
    "    x = [i+1 for i in range(len(ys))]\n",
    "    \n",
    "    box1 = ax.boxplot(ys[0], positions = [1], showfliers=False, showmeans=True, widths=0.6, patch_artist=True,\n",
    "                      whis = [5, 95],\n",
    "               meanprops = dict(marker='D', markerfacecolor='#4daf4a', markersize=1, \n",
    "                                markeredgecolor='#4daf4a', markeredgewidth=1.5),\n",
    "              boxprops = dict(linewidth=0.4, facecolor=(0.3, 0.69, 0.29, 0.2)),\n",
    "               whiskerprops = dict(linewidth=0.2),\n",
    "              capprops = dict(linewidth=0.2),\n",
    "            medianprops = dict(linewidth=0.4))\n",
    "    \n",
    "    top1 = max([_.get_ydata()[0] for _ in box1['caps']])\n",
    "    \n",
    "    box2 = ax.boxplot(ys[1], positions = [2], showfliers=False, showmeans=True, widths=0.6, patch_artist=True,\n",
    "                      whis = [5, 95],\n",
    "               meanprops = dict(marker='o', markerfacecolor='#377eb8', markersize=3,\n",
    "                                markeredgecolor='#377eb8'),\n",
    "              boxprops = dict(linewidth=0.4, facecolor=(0.216, 0.494, 0.72, 0.2)),\n",
    "               whiskerprops = dict(linewidth=0.2),\n",
    "               capprops = dict(linewidth=0.2),\n",
    "                medianprops = dict(linewidth=0.4))\n",
    "    \n",
    "    top2 = max([_.get_ydata()[0] for _ in box2['caps']])\n",
    "    \n",
    "    top = max(top1, top2)\n",
    "    \n",
    "    plotPvalue(ax, x, [top, top], p_value.pvalue, top)\n",
    "    \n",
    "    return box1, box2"
   ]
  },
  {
   "cell_type": "markdown",
   "metadata": {},
   "source": [
    "## Load data"
   ]
  },
  {
   "cell_type": "code",
   "execution_count": 17,
   "metadata": {},
   "outputs": [],
   "source": [
    "estats = pd.read_csv('../data/figure_1/EditorStats.csv',sep='\\t',\n",
    "                     dtype={'Parent':int,'Year0':int,'EPriorPaperCount':int,'EPriorCitationCount':int,\n",
    "                            'EHindex':int,'ETop':bool,'EColabCount':int,'Age':int})\n",
    "\n",
    "astats = pd.read_csv('../data/figure_1/AuthorStats.csv',sep='\\t',\n",
    "                     dtype={'Parent':int,'Year0':int,'APriorPaperCount':float,'APriorCitationCount':float,\n",
    "                            'AHindex':float,'ATop':float,'AColabCount':float})"
   ]
  },
  {
   "cell_type": "markdown",
   "metadata": {},
   "source": [
    "## a, b, c, d, e"
   ]
  },
  {
   "cell_type": "code",
   "execution_count": 18,
   "metadata": {},
   "outputs": [
    {
     "data": {
      "image/png": "[encoded data removed]",
      "text/plain": [
       "<Figure size 518.74x113.386 with 5 Axes>"
      ]
     },
     "metadata": {
      "needs_background": "light"
     },
     "output_type": "display_data"
    }
   ],
   "source": [
    "cm = 1/2.54  # centimeters in inches\n",
    "plt.figure(figsize=(18.3*cm, 4*cm))\n",
    "\n",
    "ax = plt.subplot(1, 5, 1)\n",
    "plotBox(ax, [astats.APriorPaperCount.values, estats.EPriorPaperCount.values], 150)\n",
    "        \n",
    "ax.set_xticks([1, 2])\n",
    "ax.set_xticklabels(['Scientist', 'Editor'])\n",
    "ax.set_ylabel('Paper count')\n",
    "ax.spines['right'].set_visible(False)\n",
    "ax.spines['top'].set_visible(False)\n",
    "#ax.set_yticks([0, 30, 60, 90, 120, 150])\n",
    "#ax.set_ylim(0, 150)\n",
    "ax.set_xlim(0.5, 2.5)\n",
    "\n",
    "ax = plt.subplot(1, 5, 2)\n",
    "plotBox(ax, [astats.APriorCitationCount.values, estats.EPriorCitationCount.values], 2500)\n",
    "ax.set_xticks([1, 2])\n",
    "ax.set_xticklabels(['Scientist', 'Editor'])\n",
    "ax.set_ylabel('Citation count')\n",
    "ax.spines['right'].set_visible(False)\n",
    "ax.spines['top'].set_visible(False)\n",
    "#ax.set_ylim(0, 2500)\n",
    "ax.set_xlim(0.5, 2.5)\n",
    "\n",
    "ax = plt.subplot(1, 5, 3)\n",
    "plotBox(ax, [astats.AHindex.values, estats.EHindex.values], 22)\n",
    "ax.set_xticks([1, 2])\n",
    "ax.set_xticklabels(['Scientist', 'Editor'])\n",
    "ax.set_ylabel('H-index')\n",
    "ax.spines['right'].set_visible(False)\n",
    "ax.spines['top'].set_visible(False)\n",
    "#ax.set_ylim(0, 22)\n",
    "ax.set_xlim(0.5, 2.5)\n",
    "\n",
    "ax = plt.subplot(1, 5, 4)\n",
    "plotBox(ax, [astats.AColabCount.values, estats.EColabCount.values], 240)\n",
    "ax.set_xticks([1, 2])\n",
    "ax.set_xticklabels(['Scientist', 'Editor'])\n",
    "ax.set_ylabel('Collaborator count')\n",
    "ax.spines['right'].set_visible(False)\n",
    "ax.spines['top'].set_visible(False)\n",
    "#ax.set_ylim(0, 240)\n",
    "ax.set_xlim(0.5, 2.5)\n",
    "\n",
    "\n",
    "ax = plt.subplot(1, 5, 5)\n",
    "plotBar(ax, [astats.ATop.values, estats.ETop.values], 0.48, ttest=False)\n",
    "ax.set_xticks([1, 2])\n",
    "ax.set_xticklabels(['Scientist', 'Editor'])\n",
    "ax.set_ylabel('Percentage of affiliations\\namongst top-100')\n",
    "ax.spines['right'].set_visible(False)\n",
    "ax.spines['top'].set_visible(False)\n",
    "ax.set_yticks([0, 0.1, 0.2, 0.3, 0.4])\n",
    "ax.set_yticklabels([0, 10, 20, 30, 40])\n",
    "#ax.set_ylim(0, 0.48)\n",
    "ax.set_xlim(0.5, 2.5)\n",
    "\n",
    "plt.tight_layout()\n",
    "\n",
    "plt.savefig('../figures/main_1_box.pdf', bbox_inches = 'tight', pad_inches = 0)"
   ]
  },
  {
   "cell_type": "markdown",
   "metadata": {},
   "source": [
    "## f, g, h, i, j, k"
   ]
  },
  {
   "cell_type": "code",
   "execution_count": 8,
   "metadata": {},
   "outputs": [],
   "source": [
    "def meanCI(a, conf=0.95):\n",
    "    mean, sem, m = np.mean(a), st.sem(a), st.t.ppf((1+conf)/2., len(a)-1)\n",
    "    return mean, sem*1.96"
   ]
  },
  {
   "cell_type": "code",
   "execution_count": 9,
   "metadata": {},
   "outputs": [],
   "source": [
    "def plot_curve(df, x, y, role, y_min, y_max, x_min, x_max, ax, window):\n",
    "    df.fillna(0, inplace=True)\n",
    "    meandf = pd.DataFrame()\n",
    "\n",
    "    for year in range(x_min-window, x_max+1):\n",
    "        data = df[ df[x] == year ][y].tolist()\n",
    "        mid, lo, hi = mean_confidence_interval(data)\n",
    "        meandf = meandf.append({x: year, 'mean': mid, 'lo': lo, 'hi': hi}, ignore_index=True)\n",
    "\n",
    "    meandf.fillna(0, inplace=True)\n",
    "\n",
    "    meandf['hi'] = meandf.hi.rolling(window, center=False).mean()\n",
    "    meandf['lo'] = meandf.lo.rolling(window, center=False).mean()\n",
    "    meandf['mean'] = meandf['mean'].rolling(window, center=False).mean()\n",
    "\n",
    "    meandf = meandf[(meandf[x] >= x_min) & (meandf[x] <= x_max)]\n",
    "\n",
    "    if role == 'editors':\n",
    "        line, = ax.plot(meandf[x], meandf['mean'], alpha=1, color='#4daf4a', linewidth=1.2)\n",
    "        ax.fill_between(meandf[x], meandf['lo'], meandf['hi'], alpha = 0.1, color='#4daf4a')\n",
    "    elif role == 'authors':\n",
    "        line, = ax.plot(meandf[x], meandf['mean'], alpha=1, color='#377eb8', linewidth=1.2)\n",
    "        ax.fill_between(meandf[x], meandf['lo'], meandf['hi'], alpha = 0.1, color='#377eb8')\n",
    "        \n",
    "    ax.set_ylim([y_min, y_max])\n",
    "    ax.set_xlim([x_min, x_max])\n",
    "\n",
    "    return line"
   ]
  },
  {
   "cell_type": "code",
   "execution_count": 10,
   "metadata": {},
   "outputs": [],
   "source": [
    "def plot_dots(df, outcome, ax, style, c, x_min=1980, x_max=2017):\n",
    "    for year in range(x_min, x_max+1):\n",
    "        sub = df[df.Year0 == year]\n",
    "        v = sub[outcome].values\n",
    "        \n",
    "        me, sem = meanCI(v, 0.95)\n",
    "        ax.errorbar(year, me, yerr=sem, color=c, fmt=style, elinewidth=0.5, ms=2)"
   ]
  },
  {
   "cell_type": "code",
   "execution_count": 11,
   "metadata": {},
   "outputs": [],
   "source": [
    "def plotTemporal(ax, a, e, ylim):\n",
    "    if a is not None:\n",
    "        plot_dots(astats, a, ax, 'x', '#4daf4a') # author\n",
    "    plot_dots(estats, e, ax, 'o', '#377eb8')\n",
    "    \n",
    "    ax.set_xticks([1980,1990,2000,2010])\n",
    "    ax.spines['right'].set_visible(False)\n",
    "    ax.spines['top'].set_visible(False)\n",
    "    ax.grid(b=True, ls=':')\n",
    "    ax.set_ylim(0, ylim)"
   ]
  },
  {
   "cell_type": "code",
   "execution_count": 12,
   "metadata": {},
   "outputs": [
    {
     "data": {
      "image/png": "[encoded data removed]",
      "text/plain": [
       "<Figure size 518.74x198.425 with 6 Axes>"
      ]
     },
     "metadata": {
      "needs_background": "light"
     },
     "output_type": "display_data"
    }
   ],
   "source": [
    "cm = 1/2.54  # centimeters in inches\n",
    "plt.figure(figsize=(18.3*cm, 7*cm))\n",
    "\n",
    "outcomes = [['APriorPaperCount','EPriorPaperCount'],\n",
    "            ['APriorCitationCount','EPriorCitationCount'],\n",
    "            ['AHindex','EHindex'],        \n",
    "            ['AColabCount','EColabCount'],\n",
    "           ['ATop','ETop']]\n",
    "\n",
    "ylims = [230, 3800, 27, 440, 0.6, 28]\n",
    "\n",
    "axes = [plt.subplot(2, 3, 1), plt.subplot(2, 3, 2), plt.subplot(2, 3, 3),\n",
    "       plt.subplot(2, 3, 4), plt.subplot(2, 3, 5), plt.subplot(2, 3, 6)]\n",
    "\n",
    "for i in range(5):\n",
    "    plotTemporal(axes[i], *outcomes[i], ylims[i])\n",
    "    \n",
    "plotTemporal(axes[5], None, 'Age', ylims[5])\n",
    "axes[5].set_ylim(0, 33)\n",
    "# this is plotting standard error of mean, and not 95% CI !!!\n",
    "\n",
    "axes[0].set_ylabel('Paper count')\n",
    "axes[1].set_ylabel('Citation count')\n",
    "axes[2].set_ylabel('H-index')\n",
    "axes[3].set_ylabel('Collaborator count')\n",
    "axes[4].set_ylabel('Percentage of affiliations\\namongst top-100')\n",
    "axes[5].set_ylabel('Academic age upon\\nstart of editorship')\n",
    "\n",
    "# top-100\n",
    "axes[4].set_ylabel('Percentage of affiliations\\namongst top-100')\n",
    "axes[4].set_yticks([0.2, 0.4, 0.6])\n",
    "axes[4].set_yticklabels(['20', '40', '60'])\n",
    "axes[4].set_ylim(0, 0.65)\n",
    "\n",
    "plt.tight_layout()\n",
    "\n",
    "#plt.savefig('../figures/fig_1_fghijk.pdf', bbox_inches = 'tight', pad_inches = 0)"
   ]
  },
  {
   "cell_type": "markdown",
   "metadata": {},
   "source": [
    "## l"
   ]
  },
  {
   "cell_type": "code",
   "execution_count": 13,
   "metadata": {},
   "outputs": [],
   "source": [
    "def fieldMean(stats):\n",
    "    \n",
    "    stats = stats.assign(Count=1)\n",
    "    df = stats.groupby('Discipline').agg({'EPriorPaperCount':'mean','EPriorCitationCount':'mean',\n",
    "                                     'ETop':'mean','Age':'mean','Count':sum}).sort_values(\n",
    "        by='Count', ascending=False).reset_index().head(16)\n",
    "    \n",
    "    return df"
   ]
  },
  {
   "cell_type": "code",
   "execution_count": 14,
   "metadata": {},
   "outputs": [],
   "source": [
    "df = fieldMean(estats.rename(columns={'Parent':'FieldOfStudyId'}))"
   ]
  },
  {
   "cell_type": "code",
   "execution_count": 15,
   "metadata": {},
   "outputs": [
    {
     "data": {
      "text/html": [
       "<div>\n",
       "<style scoped>\n",
       "    .dataframe tbody tr th:only-of-type {\n",
       "        vertical-align: middle;\n",
       "    }\n",
       "\n",
       "    .dataframe tbody tr th {\n",
       "        vertical-align: top;\n",
       "    }\n",
       "\n",
       "    .dataframe thead th {\n",
       "        text-align: right;\n",
       "    }\n",
       "</style>\n",
       "<table border=\"1\" class=\"dataframe\">\n",
       "  <thead>\n",
       "    <tr style=\"text-align: right;\">\n",
       "      <th></th>\n",
       "      <th>Discipline</th>\n",
       "      <th>EPriorPaperCount</th>\n",
       "      <th>EPriorCitationCount</th>\n",
       "      <th>ETop</th>\n",
       "      <th>Age</th>\n",
       "      <th>Count</th>\n",
       "    </tr>\n",
       "  </thead>\n",
       "  <tbody>\n",
       "    <tr>\n",
       "      <th>0</th>\n",
       "      <td>Biology</td>\n",
       "      <td>142.832119</td>\n",
       "      <td>2915.671005</td>\n",
       "      <td>0.330557</td>\n",
       "      <td>22.458355</td>\n",
       "      <td>3842</td>\n",
       "    </tr>\n",
       "    <tr>\n",
       "      <th>1</th>\n",
       "      <td>Economics</td>\n",
       "      <td>54.556069</td>\n",
       "      <td>1105.845954</td>\n",
       "      <td>0.375723</td>\n",
       "      <td>18.595087</td>\n",
       "      <td>3460</td>\n",
       "    </tr>\n",
       "    <tr>\n",
       "      <th>2</th>\n",
       "      <td>Computer science</td>\n",
       "      <td>120.537748</td>\n",
       "      <td>2007.431788</td>\n",
       "      <td>0.324503</td>\n",
       "      <td>19.156291</td>\n",
       "      <td>2265</td>\n",
       "    </tr>\n",
       "    <tr>\n",
       "      <th>3</th>\n",
       "      <td>Physics</td>\n",
       "      <td>136.490775</td>\n",
       "      <td>1679.795203</td>\n",
       "      <td>0.381919</td>\n",
       "      <td>23.744157</td>\n",
       "      <td>1626</td>\n",
       "    </tr>\n",
       "    <tr>\n",
       "      <th>4</th>\n",
       "      <td>Mathematics</td>\n",
       "      <td>90.623161</td>\n",
       "      <td>1235.389635</td>\n",
       "      <td>0.404990</td>\n",
       "      <td>21.712732</td>\n",
       "      <td>1563</td>\n",
       "    </tr>\n",
       "    <tr>\n",
       "      <th>5</th>\n",
       "      <td>Medicine</td>\n",
       "      <td>96.059406</td>\n",
       "      <td>2054.980198</td>\n",
       "      <td>0.395278</td>\n",
       "      <td>20.239909</td>\n",
       "      <td>1313</td>\n",
       "    </tr>\n",
       "    <tr>\n",
       "      <th>6</th>\n",
       "      <td>Chemistry</td>\n",
       "      <td>148.949066</td>\n",
       "      <td>2311.984720</td>\n",
       "      <td>0.308149</td>\n",
       "      <td>22.915959</td>\n",
       "      <td>1178</td>\n",
       "    </tr>\n",
       "    <tr>\n",
       "      <th>7</th>\n",
       "      <td>Psychology</td>\n",
       "      <td>71.172448</td>\n",
       "      <td>1750.674926</td>\n",
       "      <td>0.301288</td>\n",
       "      <td>19.267592</td>\n",
       "      <td>1009</td>\n",
       "    </tr>\n",
       "    <tr>\n",
       "      <th>8</th>\n",
       "      <td>Political science</td>\n",
       "      <td>50.784288</td>\n",
       "      <td>656.049268</td>\n",
       "      <td>0.320905</td>\n",
       "      <td>18.006658</td>\n",
       "      <td>751</td>\n",
       "    </tr>\n",
       "    <tr>\n",
       "      <th>9</th>\n",
       "      <td>Engineering</td>\n",
       "      <td>100.255782</td>\n",
       "      <td>865.360544</td>\n",
       "      <td>0.322449</td>\n",
       "      <td>19.978231</td>\n",
       "      <td>735</td>\n",
       "    </tr>\n",
       "    <tr>\n",
       "      <th>10</th>\n",
       "      <td>Business</td>\n",
       "      <td>40.012821</td>\n",
       "      <td>997.092308</td>\n",
       "      <td>0.248718</td>\n",
       "      <td>16.297436</td>\n",
       "      <td>390</td>\n",
       "    </tr>\n",
       "    <tr>\n",
       "      <th>11</th>\n",
       "      <td>Materials science</td>\n",
       "      <td>96.405263</td>\n",
       "      <td>1246.157895</td>\n",
       "      <td>0.350000</td>\n",
       "      <td>21.876316</td>\n",
       "      <td>380</td>\n",
       "    </tr>\n",
       "    <tr>\n",
       "      <th>12</th>\n",
       "      <td>Geology</td>\n",
       "      <td>84.661064</td>\n",
       "      <td>1415.257703</td>\n",
       "      <td>0.361345</td>\n",
       "      <td>21.918768</td>\n",
       "      <td>357</td>\n",
       "    </tr>\n",
       "    <tr>\n",
       "      <th>13</th>\n",
       "      <td>Philosophy</td>\n",
       "      <td>40.598131</td>\n",
       "      <td>677.971963</td>\n",
       "      <td>0.467290</td>\n",
       "      <td>18.102804</td>\n",
       "      <td>107</td>\n",
       "    </tr>\n",
       "    <tr>\n",
       "      <th>14</th>\n",
       "      <td>Sociology</td>\n",
       "      <td>44.250000</td>\n",
       "      <td>656.840909</td>\n",
       "      <td>0.284091</td>\n",
       "      <td>18.340909</td>\n",
       "      <td>88</td>\n",
       "    </tr>\n",
       "  </tbody>\n",
       "</table>\n",
       "</div>"
      ],
      "text/plain": [
       "           Discipline  EPriorPaperCount  EPriorCitationCount      ETop  \\\n",
       "0             Biology        142.832119          2915.671005  0.330557   \n",
       "1           Economics         54.556069          1105.845954  0.375723   \n",
       "2    Computer science        120.537748          2007.431788  0.324503   \n",
       "3             Physics        136.490775          1679.795203  0.381919   \n",
       "4         Mathematics         90.623161          1235.389635  0.404990   \n",
       "5            Medicine         96.059406          2054.980198  0.395278   \n",
       "6           Chemistry        148.949066          2311.984720  0.308149   \n",
       "7          Psychology         71.172448          1750.674926  0.301288   \n",
       "8   Political science         50.784288           656.049268  0.320905   \n",
       "9         Engineering        100.255782           865.360544  0.322449   \n",
       "10           Business         40.012821           997.092308  0.248718   \n",
       "11  Materials science         96.405263          1246.157895  0.350000   \n",
       "12            Geology         84.661064          1415.257703  0.361345   \n",
       "13         Philosophy         40.598131           677.971963  0.467290   \n",
       "14          Sociology         44.250000           656.840909  0.284091   \n",
       "\n",
       "          Age  Count  \n",
       "0   22.458355   3842  \n",
       "1   18.595087   3460  \n",
       "2   19.156291   2265  \n",
       "3   23.744157   1626  \n",
       "4   21.712732   1563  \n",
       "5   20.239909   1313  \n",
       "6   22.915959   1178  \n",
       "7   19.267592   1009  \n",
       "8   18.006658    751  \n",
       "9   19.978231    735  \n",
       "10  16.297436    390  \n",
       "11  21.876316    380  \n",
       "12  21.918768    357  \n",
       "13  18.102804    107  \n",
       "14  18.340909     88  "
      ]
     },
     "execution_count": 15,
     "metadata": {},
     "output_type": "execute_result"
    }
   ],
   "source": [
    "df"
   ]
  },
  {
   "cell_type": "code",
   "execution_count": 16,
   "metadata": {},
   "outputs": [],
   "source": [
    "cmap = LinearSegmentedColormap.from_list(\"\", [(0, 'grey'),(0.2, 'dodgerblue'),(0.4, 'green'),(0.6, 'gold'),(1,\"red\")])\n",
    "MIN, MAX = df.ETop.min(), df.ETop.max()\n",
    "LEN=MAX-MIN\n",
    "\n",
    "toColor = lambda x: cmap((x-MIN)/LEN)\n",
    "calcSize= lambda x: (x-15)**2*12+80\n",
    "\n",
    "df = df.assign(markerolor=df.ETop.apply(toColor))   \n",
    "df = df.assign(markersize=df.Age.apply(calcSize))"
   ]
  },
  {
   "cell_type": "code",
   "execution_count": 17,
   "metadata": {},
   "outputs": [
    {
     "data": {
      "image/png": "[encoded data removed]",
      "text/plain": [
       "<Figure size 623.622x198.425 with 1 Axes>"
      ]
     },
     "metadata": {
      "needs_background": "light"
     },
     "output_type": "display_data"
    }
   ],
   "source": [
    "plt.figure(figsize=(22*cm, 7*cm))\n",
    "\n",
    "ax = plt.gca()\n",
    "ax.set_xlim(0, 165)\n",
    "ax.set_ylim(0, 3300)\n",
    "\n",
    "ax.set_yticks([0, 1000, 2000, 3000])\n",
    "ax.set_xticks([0, 50, 100, 150])\n",
    "ax.spines['right'].set_visible(False)\n",
    "ax.spines['top'].set_visible(False)\n",
    "ax.grid(b=True, ls=':')\n",
    "ax.set_xlabel('Paper count')\n",
    "ax.set_ylabel('Citation count')\n",
    "\n",
    "plt.scatter(x=df.EPriorPaperCount, y=df.EPriorCitationCount, s=df.markersize, c = df.markerolor, alpha=0.8)\n",
    "\n",
    "for ind, row in df.iterrows():\n",
    "    ax.annotate(row['Discipline'], (row['EPriorPaperCount']+3, row['EPriorCitationCount']+10))\n",
    "\n",
    "#plt.savefig('../figures/fig_1_l.pdf', bbox_inches = 'tight', pad_inches = 0)"
   ]
  },
  {
   "cell_type": "code",
   "execution_count": 18,
   "metadata": {},
   "outputs": [
    {
     "data": {
      "text/plain": [
       "[Text(1.5015897379673229, 0, '25'),\n",
       " Text(60.06358951869311, 0, '30'),\n",
       " Text(118.62558929941889, 0, '35'),\n",
       " Text(177.18758908014476, 0, '40'),\n",
       " Text(235.74958886087055, 0, '45')]"
      ]
     },
     "execution_count": 18,
     "metadata": {},
     "output_type": "execute_result"
    },
    {
     "data": {
      "image/png": "[encoded data removed]",
      "text/plain": [
       "<Figure size 226.772x2.83465 with 1 Axes>"
      ]
     },
     "metadata": {
      "needs_background": "light"
     },
     "output_type": "display_data"
    }
   ],
   "source": [
    "gradient = np.linspace(0, 1, 256)\n",
    "gradient = np.vstack((gradient, gradient))\n",
    "\n",
    "plt.figure(figsize=(8*cm, 0.1*cm))\n",
    "ax = plt.gca()\n",
    "ax.imshow(gradient, aspect='auto', cmap=cmap)\n",
    "ax.set_yticks([])\n",
    "ax.spines['right'].set_visible(False)\n",
    "ax.spines['top'].set_visible(False)\n",
    "ax.spines['left'].set_visible(False)\n",
    "\n",
    "ticks = [0.25, 0.3, 0.35, 0.4, 0.45]\n",
    "pos = [(x-MIN)/LEN*256 for x in ticks]\n",
    "\n",
    "ax.set_xticks(pos)\n",
    "ax.set_xticklabels([int(x*100) for x in ticks])"
   ]
  },
  {
   "cell_type": "code",
   "execution_count": 19,
   "metadata": {},
   "outputs": [
    {
     "data": {
      "text/plain": [
       "<matplotlib.collections.PathCollection at 0x14e30a8b2700>"
      ]
     },
     "execution_count": 19,
     "metadata": {},
     "output_type": "execute_result"
    },
    {
     "data": {
      "image/png": "[encoded data removed]",
      "text/plain": [
       "<Figure size 226.772x56.6929 with 1 Axes>"
      ]
     },
     "metadata": {
      "needs_background": "light"
     },
     "output_type": "display_data"
    }
   ],
   "source": [
    "plt.figure(figsize=(8*cm, 2*cm))\n",
    "ax = plt.gca()\n",
    "\n",
    "xs=[16, 18, 20, 22, 24]\n",
    "ax.set_xlim(15.5, 25.2)\n",
    "ax.set_xticks([16, 18, 20, 22, 24])\n",
    "ax.set_ylim(0, 2)\n",
    "ax.spines['right'].set_visible(False)\n",
    "ax.spines['top'].set_visible(False)\n",
    "ax.spines['left'].set_visible(False)\n",
    "ax.set_yticks([])\n",
    "\n",
    "ax.scatter(xs, [1, 1, 1, 1, 1], s=[calcSize(x) for x in xs], c='gray')"
   ]
  },
  {
   "cell_type": "code",
   "execution_count": null,
   "metadata": {},
   "outputs": [],
   "source": []
  }
 ],
 "metadata": {
  "kernelspec": {
   "display_name": "Python 3",
   "language": "python",
   "name": "python3"
  },
  "language_info": {
   "codemirror_mode": {
    "name": "ipython",
    "version": 3
   },
   "file_extension": ".py",
   "mimetype": "text/x-python",
   "name": "python",
   "nbconvert_exporter": "python",
   "pygments_lexer": "ipython3",
   "version": "3.8.5"
  }
 },
 "nbformat": 4,
 "nbformat_minor": 4
}
