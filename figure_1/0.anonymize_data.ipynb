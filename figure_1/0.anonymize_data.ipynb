{
 "cells": [
  {
   "cell_type": "markdown",
   "metadata": {},
   "source": [
    "# Anonymize data for figure 1\n",
    "\n",
    "The original data used for plots are organized such that each row represents an editor and a comparable author. But since the dataframe contains identifying information of editors such as paper count, citation count, rank of first affiliation etc. that, once combined, may be able to identify an editor, we remove the ID of each row and shuffles data within each group of Year0 and field-of-study, such that you can no longer identify scientists from the data we use, while preserving the overall distribution of attributes of the population.\n",
    "\n",
    "This notebook is only to show the steps taken to anonymize the data and **cannot be executed**."
   ]
  },
  {
   "cell_type": "code",
   "execution_count": 1,
   "metadata": {},
   "outputs": [],
   "source": [
    "import pandas as pd\n",
    "import numpy as np"
   ]
  },
  {
   "cell_type": "code",
   "execution_count": 2,
   "metadata": {},
   "outputs": [
    {
     "name": "stdout",
     "output_type": "stream",
     "text": [
      "(116959592, 2)\n",
      "CPU times: user 26.1 s, sys: 8 s, total: 34.1 s\n",
      "Wall time: 34.4 s\n"
     ]
    }
   ],
   "source": [
    "%%time\n",
    "fields = (\n",
    "    pd.read_csv('../data/supplementary/AllFields.csv', sep='\\t',\n",
    "                dtype={'Discipline':str, 'FieldOfStudyId':int})\n",
    "    .rename(columns={'FieldOfStudyId':'Parent'})\n",
    ")\n",
    "\n",
    "author_field = (\n",
    "    pd.read_csv('/scratch/fl1092/capstone/conflated/AuthorEraDisp.csv',\n",
    "            sep='\\t', usecols=['NewAuthorId', 'Parent'], dtype={'NewAuthorId':int, 'Parent':int})\n",
    "    \n",
    "    .merge(fields, on=['Parent'])\n",
    "    .drop('Parent', axis=1)\n",
    ")\n",
    "print(author_field.shape)"
   ]
  },
  {
   "cell_type": "code",
   "execution_count": 3,
   "metadata": {},
   "outputs": [],
   "source": [
    "stats = pd.read_csv('/scratch/fl1092/capstone/temp/Figure1AllAuthors.csv', sep='\\t',\n",
    "                   usecols=['NewAuthorId','Yfp','Aylp','Parent','EditorsNewId','issn','Year0','Eylp',\n",
    "                            'APriorPaperCount','EPriorPaperCount','APriorCitationCount','EPriorCitationCount',\n",
    "                           'AHindex','EHindex','Arank','Erank','AColabCount','EColabCount'],\n",
    "                   dtype={'NewAuthorId':int,'Yfp':int,'Aylp':int,'Parent':int,'EditorsNewId':int,'issn':str,\n",
    "                            'Year0':int,'Eylp':int,'APriorPaperCount':int,'EPriorPaperCount':int,\n",
    "                            'APriorCitationCount':int,'EPriorCitationCount':int, 'AHindex':int, 'EHindex':int,\n",
    "                         'Arank':int,'Erank':int,'AColabCount':int,'EColabCount':int})\n",
    "\n",
    "# whether the scientist is affiliated with top-100 institution or not\n",
    "stats = stats.assign(ATop = stats.Arank <= 100)\n",
    "stats = stats.assign(ETop = stats.Erank <= 100)\n",
    "\n",
    "# only plot between 1980 and 2017\n",
    "stats = stats[(stats.Year0 >= 1980) & (stats.Year0 <= 2017) ]\n",
    "\n",
    "# plot the 15 fields\n",
    "stats = stats.merge(fields, on=['Parent'])\n",
    "\n",
    "stats = stats.assign(Age=stats.Year0-stats.Yfp+1)\n",
    "\n",
    "estats = stats[['Parent', 'Yfp', 'Year0', 'EditorsNewId','issn','Age','Discipline',\n",
    "                'EPriorPaperCount','EPriorCitationCount','EHindex','ETop','EColabCount']].drop_duplicates()\n",
    "\n",
    "## calculate the mean values of all sampled authors for each editor\n",
    "outcomes = ['APriorPaperCount', 'APriorCitationCount', 'AHindex', 'ATop', 'AColabCount']\n",
    "astats = (\n",
    "    stats.groupby(['EditorsNewId','issn','Parent','Year0','Discipline'])\n",
    "    .agg({x: np.mean for x in outcomes}).reset_index()\n",
    ")"
   ]
  },
  {
   "cell_type": "code",
   "execution_count": 4,
   "metadata": {},
   "outputs": [
    {
     "name": "stdout",
     "output_type": "stream",
     "text": [
      "(943089, 23)\n",
      "CPU times: user 38.9 s, sys: 10.4 s, total: 49.3 s\n",
      "Wall time: 49.6 s\n"
     ]
    }
   ],
   "source": [
    "%%time\n",
    "stats = stats.merge(author_field.rename(columns={'Discipline':'AuthorField'}), on='NewAuthorId')\n",
    "print(stats.shape)"
   ]
  },
  {
   "cell_type": "code",
   "execution_count": 5,
   "metadata": {},
   "outputs": [],
   "source": [
    "outcomes = ['PriorPaperCount', 'PriorCitationCount', 'Hindex', 'Top', 'ColabCount']"
   ]
  },
  {
   "cell_type": "code",
   "execution_count": 6,
   "metadata": {},
   "outputs": [],
   "source": [
    "# shuffle within each group of year0 and discipline\n",
    "# such that the distribution over time and discipline is preserved\n",
    "shuffled_estats = (\n",
    "    estats[['Discipline', 'Parent', 'Year0', 'Age']]\n",
    "    .sort_values(by=['Discipline','Parent','Year0','Age'])\n",
    "    .reset_index(drop=True)\n",
    ")\n",
    "shuffled_astats = (\n",
    "    astats[['Discipline', 'Parent', 'Year0']]\n",
    "    .sort_values(by=['Discipline','Parent','Year0'])\n",
    "    .reset_index(drop=True)\n",
    ")\n",
    "shuffled_stats = (\n",
    "    stats[['AuthorField','Year0']]\n",
    "    .sort_values(by=['AuthorField','Year0'])\n",
    "    .reset_index(drop=True)\n",
    ")\n",
    "\n",
    "for outcome in outcomes:\n",
    "    \n",
    "    es = (\n",
    "        estats[['Discipline','Parent', 'Year0', 'E'+outcome]]\n",
    "        .sort_values(by=['Discipline','Parent','Year0','E'+outcome])\n",
    "        .reset_index(drop=True)\n",
    "    )\n",
    "    shuffled_estats['E'+outcome] = es['E'+outcome]\n",
    "    \n",
    "    ast = (\n",
    "        astats[['Discipline','Parent', 'Year0', 'A'+outcome]]\n",
    "        .sort_values(by=['Discipline','Parent','Year0','A'+outcome])\n",
    "        .reset_index(drop=True)\n",
    "    )\n",
    "    shuffled_astats['A'+outcome] = ast['A'+outcome]\n",
    "    \n",
    "    st = (\n",
    "        stats[['AuthorField','Year0','A'+outcome]]\n",
    "        .sort_values(by=['AuthorField','Year0','A'+outcome])\n",
    "        .reset_index(drop=True)\n",
    "    )\n",
    "    shuffled_stats['A'+outcome] = st['A'+outcome]"
   ]
  },
  {
   "cell_type": "code",
   "execution_count": 7,
   "metadata": {},
   "outputs": [],
   "source": [
    "shuffled_estats.to_csv('../data/figure_1/EditorStats.csv',sep='\\t',index=False)"
   ]
  },
  {
   "cell_type": "code",
   "execution_count": 8,
   "metadata": {},
   "outputs": [],
   "source": [
    "shuffled_astats.to_csv('../data/figure_1/AuthorStats.csv',sep='\\t',index=False)"
   ]
  },
  {
   "cell_type": "code",
   "execution_count": 9,
   "metadata": {},
   "outputs": [],
   "source": [
    "shuffled_stats.to_csv('../data/figure_1/AuthorIndividualStats.csv',sep='\\t',index=False)"
   ]
  }
 ],
 "metadata": {
  "kernelspec": {
   "display_name": "Python 3",
   "language": "python",
   "name": "python3"
  },
  "language_info": {
   "codemirror_mode": {
    "name": "ipython",
    "version": 3
   },
   "file_extension": ".py",
   "mimetype": "text/x-python",
   "name": "python",
   "nbconvert_exporter": "python",
   "pygments_lexer": "ipython3",
   "version": "3.8.5"
  }
 },
 "nbformat": 4,
 "nbformat_minor": 4
}
