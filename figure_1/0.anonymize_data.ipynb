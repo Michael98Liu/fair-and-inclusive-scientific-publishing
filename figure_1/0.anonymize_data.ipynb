{
 "cells": [
  {
   "cell_type": "markdown",
   "metadata": {},
   "source": [
    "# Anonymize data for figure 1\n",
    "\n",
    "The original data used for plots are organized such that each row represents an editor and a comparable author. But since the dataframe contains identifying information of editors such as paper count, citation count, rank of first affiliation etc. that, once combined, may be able to identify an editor, we remove the ID of each row and shuffles data within each group of Year0 and field-of-study, such that you can no longer identify scientists from the data we use, while preserving the overall distribution of attributes of the population.\n",
    "\n",
    "This notebook is only to show the steps taken to anonymize the data and **cannot be executed**."
   ]
  },
  {
   "cell_type": "code",
   "execution_count": 26,
   "metadata": {},
   "outputs": [],
   "source": [
    "import pandas as pd\n",
    "import numpy as np"
   ]
  },
  {
   "cell_type": "code",
   "execution_count": 52,
   "metadata": {},
   "outputs": [
    {
     "name": "stdout",
     "output_type": "stream",
     "text": [
      "(976950, 18)\n",
      "(955350, 20)\n",
      "(19107, 11)\n",
      "(19107, 9)\n"
     ]
    }
   ],
   "source": [
    "stats = pd.read_csv('/scratch/fl1092/capstone/temp/Figure1AllAuthors.csv', sep='\\t',\n",
    "                   usecols=['NewAuthorId','Yfp','Aylp','Parent','EditorsNewId','issn','Year0','Eylp',\n",
    "                            'APriorPaperCount','EPriorPaperCount','APriorCitationCount','EPriorCitationCount',\n",
    "                           'AHindex','EHindex','Arank','Erank','AColabCount','EColabCount'],\n",
    "                   dtype={'NewAuthorId':int,'Yfp':int,'Aylp':int,'Parent':int,'EditorsNewId':int,'issn':str,\n",
    "                            'Year0':int,'Eylp':int,'APriorPaperCount':int,'EPriorPaperCount':int,\n",
    "                            'APriorCitationCount':int,'EPriorCitationCount':int, 'AHindex':int, 'EHindex':int,\n",
    "                         'Arank':int,'Erank':int,'AColabCount':int,'EColabCount':int})\n",
    "\n",
    "print(stats.shape)\n",
    "\n",
    "# whether the scientist is affiliated with top-100 institution or not\n",
    "stats = stats.assign(ATop = stats.Arank <= 100)\n",
    "stats = stats.assign(ETop = stats.Erank <= 100)\n",
    "\n",
    "# only plot between 1980 and 2017\n",
    "stats = stats[(stats.Year0 >= 1980) & (stats.Year0 <= 2017) ]\n",
    "print(stats.shape)\n",
    "\n",
    "stats = stats.assign(Age=stats.Year0-stats.Yfp+1)\n",
    "\n",
    "estats = stats[['Parent', 'Yfp', 'Year0', 'EditorsNewId','issn','Age',\n",
    "                'EPriorPaperCount','EPriorCitationCount','EHindex','ETop','EColabCount']].drop_duplicates()\n",
    "print(estats.shape) # (19107, 7)\n",
    "\n",
    "## calculate the mean values of all sampled authors for each editor\n",
    "outcomes = ['APriorPaperCount', 'APriorCitationCount', 'AHindex', 'ATop', 'AColabCount']\n",
    "astats = stats.groupby(['EditorsNewId','issn','Parent','Year0']).agg({x: np.mean for x in outcomes}).reset_index()\n",
    "print(astats.shape)"
   ]
  },
  {
   "cell_type": "code",
   "execution_count": 54,
   "metadata": {},
   "outputs": [],
   "source": [
    "outcomes = ['PriorPaperCount', 'PriorCitationCount', 'Hindex', 'Top', 'ColabCount']"
   ]
  },
  {
   "cell_type": "code",
   "execution_count": 55,
   "metadata": {},
   "outputs": [],
   "source": [
    "shuffled_estats = estats[['Parent', 'Year0', 'Age']].sort_values(by=['Parent','Year0','Age'])\n",
    "shuffled_astats = astats[['Parent', 'Year0']].sort_values(by=['Parent','Year0'])\n",
    "\n",
    "for outcome in outcomes:\n",
    "    \n",
    "    es = estats[['Parent', 'Year0', 'E'+outcome]].sort_values(by=['Parent','Year0','E'+outcome])\n",
    "    shuffled_estats['E'+outcome] = es['E'+outcome]\n",
    "    \n",
    "    ast = astats[['Parent', 'Year0', 'A'+outcome]].sort_values(by=['Parent','Year0','A'+outcome])\n",
    "    shuffled_astats['A'+outcome] = ast['A'+outcome]"
   ]
  },
  {
   "cell_type": "code",
   "execution_count": 56,
   "metadata": {},
   "outputs": [
    {
     "data": {
      "text/plain": [
       "((19107, 8), (19107, 7))"
      ]
     },
     "execution_count": 56,
     "metadata": {},
     "output_type": "execute_result"
    }
   ],
   "source": [
    "shuffled_estats.shape, shuffled_astats.shape"
   ]
  },
  {
   "cell_type": "code",
   "execution_count": 57,
   "metadata": {},
   "outputs": [],
   "source": [
    "shuffled_estats.to_csv('../data/figure_1/EditorStats.csv',sep='\\t',index=False)"
   ]
  },
  {
   "cell_type": "code",
   "execution_count": 58,
   "metadata": {},
   "outputs": [],
   "source": [
    "shuffled_astats.to_csv('../data/figure_1/AuthorStats.csv',sep='\\t',index=False)"
   ]
  },
  {
   "cell_type": "code",
   "execution_count": null,
   "metadata": {},
   "outputs": [],
   "source": []
  }
 ],
 "metadata": {
  "kernelspec": {
   "display_name": "Python 3",
   "language": "python",
   "name": "python3"
  },
  "language_info": {
   "codemirror_mode": {
    "name": "ipython",
    "version": 3
   },
   "file_extension": ".py",
   "mimetype": "text/x-python",
   "name": "python",
   "nbconvert_exporter": "python",
   "pygments_lexer": "ipython3",
   "version": "3.8.5"
  }
 },
 "nbformat": 4,
 "nbformat_minor": 4
}
