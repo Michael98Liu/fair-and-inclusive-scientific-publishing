{
 "cells": [
  {
   "cell_type": "markdown",
   "metadata": {},
   "source": [
    "# Anonymize data for figure 1\n",
    "\n",
    "The original data used for plots are organized such that each row represents an editor and a comparable author. But since the dataframe contains identifying information of editors such as paper count, citation count, rank of first affiliation etc. that, once combined, may be able to identify an editor, we remove the ID of each row and shuffles data within each group of Year0 and field-of-study, such that you can no longer identify scientists from the data we use, while preserving the overall distribution of attributes of the population.\n",
    "\n",
    "This notebook is only to show the steps taken to anonymize the data and **cannot be executed**."
   ]
  },
  {
   "cell_type": "code",
   "execution_count": 1,
   "metadata": {},
   "outputs": [],
   "source": [
    "import pandas as pd\n",
    "import numpy as np"
   ]
  },
  {
   "cell_type": "code",
   "execution_count": 2,
   "metadata": {},
   "outputs": [],
   "source": [
    "astats = pd.read_csv(\n",
    "    '/scratch/fl1092/capstone/revise/Figure1AuthorStats.csv', sep='\\t', dtype={'issn':str}\n",
    ")\n",
    "\n",
    "estats = pd.read_csv(\n",
    "    '/scratch/fl1092/capstone/revise/Figure1EditorStats.csv', sep='\\t', dtype={'issn':str}\n",
    ")"
   ]
  },
  {
   "cell_type": "code",
   "execution_count": 3,
   "metadata": {},
   "outputs": [],
   "source": [
    "outcomes = ['PriorPaperCount', 'PriorCitationCount', 'Hindex', 'Top', 'ColabCount']"
   ]
  },
  {
   "cell_type": "code",
   "execution_count": 4,
   "metadata": {},
   "outputs": [],
   "source": [
    "# shuffle within each group of year0 and discipline\n",
    "# such that the distribution over time and discipline is preserved\n",
    "shuffled_estats = (\n",
    "    estats[['Discipline', 'Parent', 'Year0', 'Age']]\n",
    "    .sort_values(by=['Discipline','Parent','Year0','Age'])\n",
    "    .reset_index(drop=True)\n",
    ")\n",
    "shuffled_astats = (\n",
    "    astats[['Discipline', 'Parent', 'Year0']]\n",
    "    .sort_values(by=['Discipline','Parent','Year0'])\n",
    "    .reset_index(drop=True)\n",
    ")\n",
    "\n",
    "for outcome in outcomes:\n",
    "    \n",
    "    es = (\n",
    "        estats[['Discipline','Parent', 'Year0', 'E'+outcome]]\n",
    "        .sort_values(by=['Discipline','Parent','Year0','E'+outcome])\n",
    "        .reset_index(drop=True)\n",
    "    )\n",
    "    shuffled_estats['E'+outcome] = es['E'+outcome]\n",
    "    \n",
    "    ast = (\n",
    "        astats[['Discipline','Parent', 'Year0', 'A'+outcome]]\n",
    "        .sort_values(by=['Discipline','Parent','Year0','A'+outcome])\n",
    "        .reset_index(drop=True)\n",
    "    )\n",
    "    shuffled_astats['A'+outcome] = ast['A'+outcome]"
   ]
  },
  {
   "cell_type": "code",
   "execution_count": 5,
   "metadata": {},
   "outputs": [],
   "source": [
    "shuffled_estats.to_csv('../data/figure_1/EditorStats.csv',sep='\\t',index=False)"
   ]
  },
  {
   "cell_type": "code",
   "execution_count": 6,
   "metadata": {},
   "outputs": [],
   "source": [
    "shuffled_astats.to_csv('../data/figure_1/AuthorStats.csv',sep='\\t',index=False)"
   ]
  }
 ],
 "metadata": {
  "kernelspec": {
   "display_name": "Python 3",
   "language": "python",
   "name": "python3"
  },
  "language_info": {
   "codemirror_mode": {
    "name": "ipython",
    "version": 3
   },
   "file_extension": ".py",
   "mimetype": "text/x-python",
   "name": "python",
   "nbconvert_exporter": "python",
   "pygments_lexer": "ipython3",
   "version": "3.8.2"
  }
 },
 "nbformat": 4,
 "nbformat_minor": 4
}
