{
 "cells": [
  {
   "cell_type": "code",
   "execution_count": 1,
   "metadata": {},
   "outputs": [],
   "source": [
    "import pandas as pd\n",
    "from tqdm.notebook import tqdm\n",
    "\n",
    "import sys\n",
    "sys.path.insert(1, '../src')\n",
    "from utils import priorCount, getCount"
   ]
  },
  {
   "cell_type": "markdown",
   "metadata": {},
   "source": [
    "## Load data"
   ]
  },
  {
   "cell_type": "code",
   "execution_count": 2,
   "metadata": {},
   "outputs": [
    {
     "data": {
      "text/plain": [
       "(6, 4)"
      ]
     },
     "execution_count": 2,
     "metadata": {},
     "output_type": "execute_result"
    }
   ],
   "source": [
    "editors = pd.read_csv(\"../data/SampleEditors.csv\", sep='\\t',\n",
    "                      dtype={'issn':str,'NewAuthorId':int,'start_year':int,'end_year':int})\n",
    "editors = editors[editors.start_year < 2009]\n",
    "editors.shape"
   ]
  },
  {
   "cell_type": "code",
   "execution_count": 3,
   "metadata": {},
   "outputs": [
    {
     "data": {
      "text/plain": [
       "(10, 4)"
      ]
     },
     "execution_count": 3,
     "metadata": {},
     "output_type": "execute_result"
    }
   ],
   "source": [
    "editor_career = pd.read_csv('../data/EditorCareerDiscipline.csv',sep='\\t',\n",
    "            dtype={'NewAuthorId':int, 'Yfp':int, 'Ylp':int, 'Parent':int})\n",
    "editor_career.shape"
   ]
  },
  {
   "cell_type": "code",
   "execution_count": 11,
   "metadata": {},
   "outputs": [
    {
     "data": {
      "text/plain": [
       "((22754, 4), 6)"
      ]
     },
     "execution_count": 11,
     "metadata": {},
     "output_type": "execute_result"
    }
   ],
   "source": [
    "citations = pd.read_csv('../data/EditorCitations.csv',sep='\\t',\n",
    "                       dtype={'NewAuthorId':int,'CitesFrom':int,'BeingCited':int,'Year':int})\n",
    "citations.shape, citations.NewAuthorId.nunique()"
   ]
  },
  {
   "cell_type": "code",
   "execution_count": 19,
   "metadata": {},
   "outputs": [
    {
     "data": {
      "text/plain": [
       "((817, 2), 6)"
      ]
     },
     "execution_count": 19,
     "metadata": {},
     "output_type": "execute_result"
    }
   ],
   "source": [
    "papers = pd.read_csv('../data/EditorPapers.csv',sep='\\t',usecols=['NewAuthorId','PaperId'],\n",
    "                    dtype={'NewAuthorId':int,'PaperId':int,'Year':int, 'JournalId':int})\n",
    "papers.shape, papers.NewAuthorId.nunique()"
   ]
  },
  {
   "cell_type": "code",
   "execution_count": 20,
   "metadata": {},
   "outputs": [
    {
     "name": "stdout",
     "output_type": "stream",
     "text": [
      "(2237, 8)\n",
      "CPU times: user 6.62 ms, sys: 113 µs, total: 6.74 ms\n",
      "Wall time: 7.48 ms\n"
     ]
    }
   ],
   "source": [
    "%%time\n",
    "selfCitations = citations.merge(papers, left_on=['CitesFrom','NewAuthorId'], right_on=['PaperId','NewAuthorId'])\n",
    "print(selfCitations.shape)"
   ]
  },
  {
   "cell_type": "code",
   "execution_count": 21,
   "metadata": {},
   "outputs": [],
   "source": [
    "selfCitations = selfCitations.drop('PaperId',axis=1)"
   ]
  },
  {
   "cell_type": "markdown",
   "metadata": {},
   "source": [
    "## Count and prior count"
   ]
  },
  {
   "cell_type": "code",
   "execution_count": 22,
   "metadata": {},
   "outputs": [],
   "source": [
    "def aggregate(df):\n",
    "    return df.assign(Count=1).groupby(['NewAuthorId','Year']).Count.sum().reset_index()"
   ]
  },
  {
   "cell_type": "code",
   "execution_count": 23,
   "metadata": {},
   "outputs": [
    {
     "data": {
      "text/plain": [
       "((219, 3), (175, 3))"
      ]
     },
     "execution_count": 23,
     "metadata": {},
     "output_type": "execute_result"
    }
   ],
   "source": [
    "citeCount = aggregate(citations)\n",
    "selfCiteCount = aggregate(selfCitations)\n",
    "citeCount.shape, selfCiteCount.shape"
   ]
  },
  {
   "cell_type": "code",
   "execution_count": 24,
   "metadata": {},
   "outputs": [
    {
     "data": {
      "application/vnd.jupyter.widget-view+json": {
       "model_id": "3a0321e8e46143a890b9dcf47447ae57",
       "version_major": 2,
       "version_minor": 0
      },
      "text/plain": [
       "  0%|          | 0/51 [00:00<?, ?it/s]"
      ]
     },
     "metadata": {},
     "output_type": "display_data"
    },
    {
     "data": {
      "application/vnd.jupyter.widget-view+json": {
       "model_id": "3679a36ceec0481691bc54fb77395560",
       "version_major": 2,
       "version_minor": 0
      },
      "text/plain": [
       "  0%|          | 0/45 [00:00<?, ?it/s]"
      ]
     },
     "metadata": {},
     "output_type": "display_data"
    }
   ],
   "source": [
    "priorCiteCount = priorCount(citeCount)\n",
    "priorSelfCiteCount = priorCount(selfCiteCount)"
   ]
  },
  {
   "cell_type": "markdown",
   "metadata": {},
   "source": [
    "## Editor career"
   ]
  },
  {
   "cell_type": "code",
   "execution_count": 25,
   "metadata": {},
   "outputs": [
    {
     "data": {
      "text/plain": [
       "(6, 7)"
      ]
     },
     "execution_count": 25,
     "metadata": {},
     "output_type": "execute_result"
    }
   ],
   "source": [
    "editors = editors.merge(editor_career, on='NewAuthorId')\n",
    "editors.shape"
   ]
  },
  {
   "cell_type": "code",
   "execution_count": 26,
   "metadata": {},
   "outputs": [],
   "source": [
    "editors = editors.assign(year0 = editors.start_year-1)\n",
    "editors = editors.assign(left = editors.year0-10)\n",
    "editors = editors.assign(right = editors.year0+10)"
   ]
  },
  {
   "cell_type": "code",
   "execution_count": 27,
   "metadata": {},
   "outputs": [
    {
     "data": {
      "text/html": [
       "<div>\n",
       "<style scoped>\n",
       "    .dataframe tbody tr th:only-of-type {\n",
       "        vertical-align: middle;\n",
       "    }\n",
       "\n",
       "    .dataframe tbody tr th {\n",
       "        vertical-align: top;\n",
       "    }\n",
       "\n",
       "    .dataframe thead th {\n",
       "        text-align: right;\n",
       "    }\n",
       "</style>\n",
       "<table border=\"1\" class=\"dataframe\">\n",
       "  <thead>\n",
       "    <tr style=\"text-align: right;\">\n",
       "      <th></th>\n",
       "      <th>NewAuthorId</th>\n",
       "      <th>issn</th>\n",
       "      <th>start_year</th>\n",
       "      <th>end_year</th>\n",
       "      <th>Yfp</th>\n",
       "      <th>Ylp</th>\n",
       "      <th>Parent</th>\n",
       "      <th>year0</th>\n",
       "      <th>left</th>\n",
       "      <th>right</th>\n",
       "    </tr>\n",
       "  </thead>\n",
       "  <tbody>\n",
       "    <tr>\n",
       "      <th>0</th>\n",
       "      <td>77559236</td>\n",
       "      <td>1744117X</td>\n",
       "      <td>2006</td>\n",
       "      <td>2008</td>\n",
       "      <td>1968</td>\n",
       "      <td>2018</td>\n",
       "      <td>86803240</td>\n",
       "      <td>2005</td>\n",
       "      <td>1995</td>\n",
       "      <td>2015</td>\n",
       "    </tr>\n",
       "    <tr>\n",
       "      <th>1</th>\n",
       "      <td>155626607</td>\n",
       "      <td>1744117X</td>\n",
       "      <td>2006</td>\n",
       "      <td>2013</td>\n",
       "      <td>1975</td>\n",
       "      <td>2018</td>\n",
       "      <td>86803240</td>\n",
       "      <td>2005</td>\n",
       "      <td>1995</td>\n",
       "      <td>2015</td>\n",
       "    </tr>\n",
       "    <tr>\n",
       "      <th>2</th>\n",
       "      <td>19273516</td>\n",
       "      <td>1744117X</td>\n",
       "      <td>2007</td>\n",
       "      <td>2019</td>\n",
       "      <td>1993</td>\n",
       "      <td>2018</td>\n",
       "      <td>86803240</td>\n",
       "      <td>2006</td>\n",
       "      <td>1996</td>\n",
       "      <td>2016</td>\n",
       "    </tr>\n",
       "    <tr>\n",
       "      <th>3</th>\n",
       "      <td>98613666</td>\n",
       "      <td>1744117X</td>\n",
       "      <td>2006</td>\n",
       "      <td>2014</td>\n",
       "      <td>1985</td>\n",
       "      <td>2018</td>\n",
       "      <td>86803240</td>\n",
       "      <td>2005</td>\n",
       "      <td>1995</td>\n",
       "      <td>2015</td>\n",
       "    </tr>\n",
       "    <tr>\n",
       "      <th>4</th>\n",
       "      <td>115595906</td>\n",
       "      <td>1744117X</td>\n",
       "      <td>2008</td>\n",
       "      <td>2016</td>\n",
       "      <td>1992</td>\n",
       "      <td>2018</td>\n",
       "      <td>86803240</td>\n",
       "      <td>2007</td>\n",
       "      <td>1997</td>\n",
       "      <td>2017</td>\n",
       "    </tr>\n",
       "  </tbody>\n",
       "</table>\n",
       "</div>"
      ],
      "text/plain": [
       "   NewAuthorId      issn  start_year  end_year   Yfp   Ylp    Parent  year0  \\\n",
       "0     77559236  1744117X        2006      2008  1968  2018  86803240   2005   \n",
       "1    155626607  1744117X        2006      2013  1975  2018  86803240   2005   \n",
       "2     19273516  1744117X        2007      2019  1993  2018  86803240   2006   \n",
       "3     98613666  1744117X        2006      2014  1985  2018  86803240   2005   \n",
       "4    115595906  1744117X        2008      2016  1992  2018  86803240   2007   \n",
       "\n",
       "   left  right  \n",
       "0  1995   2015  \n",
       "1  1995   2015  \n",
       "2  1996   2016  \n",
       "3  1995   2015  \n",
       "4  1997   2017  "
      ]
     },
     "execution_count": 27,
     "metadata": {},
     "output_type": "execute_result"
    }
   ],
   "source": [
    "editors.head()"
   ]
  },
  {
   "cell_type": "markdown",
   "metadata": {},
   "source": [
    "## Calculate average of 10-year window before and after $\\text{year}_0$"
   ]
  },
  {
   "cell_type": "code",
   "execution_count": 28,
   "metadata": {},
   "outputs": [
    {
     "name": "stdout",
     "output_type": "stream",
     "text": [
      "(6, 10) (6, 11)\n",
      "(6, 12)\n",
      "(6, 13)\n",
      "CPU times: user 122 ms, sys: 795 µs, total: 123 ms\n",
      "Wall time: 124 ms\n"
     ]
    }
   ],
   "source": [
    "%%time\n",
    "merged = getCount(editors, 'left', priorSelfCiteCount, 'LeftSc')\n",
    "print(editors.shape, merged.shape)\n",
    "\n",
    "merged = getCount(merged, 'year0', priorSelfCiteCount, 'Year0Sc')\n",
    "print(merged.shape)\n",
    "\n",
    "merged = getCount(merged, 'right', priorSelfCiteCount, 'RightSc')\n",
    "print(merged.shape)"
   ]
  },
  {
   "cell_type": "code",
   "execution_count": 29,
   "metadata": {},
   "outputs": [
    {
     "name": "stdout",
     "output_type": "stream",
     "text": [
      "(6, 14)\n",
      "(6, 15)\n",
      "(6, 16)\n",
      "CPU times: user 121 ms, sys: 0 ns, total: 121 ms\n",
      "Wall time: 122 ms\n"
     ]
    }
   ],
   "source": [
    "%%time\n",
    "merged = getCount(merged, 'left', priorCiteCount, 'LeftIm')\n",
    "print(merged.shape)\n",
    "\n",
    "merged = getCount(merged, 'year0', priorCiteCount, 'Year0Im')\n",
    "print(merged.shape)\n",
    "\n",
    "merged = getCount(merged, 'right', priorCiteCount, 'RightIm')\n",
    "print(merged.shape)"
   ]
  },
  {
   "cell_type": "code",
   "execution_count": 30,
   "metadata": {},
   "outputs": [],
   "source": [
    "merged = merged.assign(BeforeSc = merged.Year0Sc - merged.LeftSc) # self-citation count before year0\n",
    "merged = merged.assign(AfterSc = merged.RightSc - merged.Year0Sc) # self-citation count after year0\n",
    "\n",
    "merged = merged.assign(BeforeIm = merged.Year0Im - merged.LeftIm) # impact before year0\n",
    "merged = merged.assign(AfterIm = merged.RightIm - merged.Year0Im) # impact after year0"
   ]
  },
  {
   "cell_type": "code",
   "execution_count": 31,
   "metadata": {},
   "outputs": [],
   "source": [
    "merged = merged.assign(BeforeSCPercent = merged.apply(\n",
    "    lambda x: 0 if x.BeforeIm == 0 else x.BeforeSc/x.BeforeIm, axis=1)) # percentage of self citation before\n",
    "\n",
    "merged = merged.assign(AfterSCPercent = merged.apply(\n",
    "    lambda x: 0 if x.AfterIm == 0 else x.AfterSc/x.AfterIm, axis=1)) # percentage of self citation after"
   ]
  },
  {
   "cell_type": "code",
   "execution_count": 32,
   "metadata": {},
   "outputs": [
    {
     "data": {
      "text/html": [
       "<div>\n",
       "<style scoped>\n",
       "    .dataframe tbody tr th:only-of-type {\n",
       "        vertical-align: middle;\n",
       "    }\n",
       "\n",
       "    .dataframe tbody tr th {\n",
       "        vertical-align: top;\n",
       "    }\n",
       "\n",
       "    .dataframe thead th {\n",
       "        text-align: right;\n",
       "    }\n",
       "</style>\n",
       "<table border=\"1\" class=\"dataframe\">\n",
       "  <thead>\n",
       "    <tr style=\"text-align: right;\">\n",
       "      <th></th>\n",
       "      <th>issn</th>\n",
       "      <th>NewAuthorId</th>\n",
       "      <th>BeforeSCPercent</th>\n",
       "      <th>AfterSCPercent</th>\n",
       "    </tr>\n",
       "  </thead>\n",
       "  <tbody>\n",
       "    <tr>\n",
       "      <th>0</th>\n",
       "      <td>1744117X</td>\n",
       "      <td>77559236</td>\n",
       "      <td>0.186667</td>\n",
       "      <td>0.123348</td>\n",
       "    </tr>\n",
       "    <tr>\n",
       "      <th>1</th>\n",
       "      <td>1744117X</td>\n",
       "      <td>155626607</td>\n",
       "      <td>0.152209</td>\n",
       "      <td>0.082094</td>\n",
       "    </tr>\n",
       "    <tr>\n",
       "      <th>2</th>\n",
       "      <td>1744117X</td>\n",
       "      <td>98613666</td>\n",
       "      <td>0.157931</td>\n",
       "      <td>0.053663</td>\n",
       "    </tr>\n",
       "    <tr>\n",
       "      <th>3</th>\n",
       "      <td>1744117X</td>\n",
       "      <td>9175261</td>\n",
       "      <td>0.101124</td>\n",
       "      <td>0.031017</td>\n",
       "    </tr>\n",
       "    <tr>\n",
       "      <th>4</th>\n",
       "      <td>1744117X</td>\n",
       "      <td>19273516</td>\n",
       "      <td>0.215116</td>\n",
       "      <td>0.124085</td>\n",
       "    </tr>\n",
       "  </tbody>\n",
       "</table>\n",
       "</div>"
      ],
      "text/plain": [
       "       issn  NewAuthorId  BeforeSCPercent  AfterSCPercent\n",
       "0  1744117X     77559236         0.186667        0.123348\n",
       "1  1744117X    155626607         0.152209        0.082094\n",
       "2  1744117X     98613666         0.157931        0.053663\n",
       "3  1744117X      9175261         0.101124        0.031017\n",
       "4  1744117X     19273516         0.215116        0.124085"
      ]
     },
     "execution_count": 32,
     "metadata": {},
     "output_type": "execute_result"
    }
   ],
   "source": [
    "merged[['issn','NewAuthorId','BeforeSCPercent','AfterSCPercent']].head()"
   ]
  },
  {
   "cell_type": "code",
   "execution_count": null,
   "metadata": {},
   "outputs": [],
   "source": []
  }
 ],
 "metadata": {
  "kernelspec": {
   "display_name": "Python 3",
   "language": "python",
   "name": "python3"
  },
  "language_info": {
   "codemirror_mode": {
    "name": "ipython",
    "version": 3
   },
   "file_extension": ".py",
   "mimetype": "text/x-python",
   "name": "python",
   "nbconvert_exporter": "python",
   "pygments_lexer": "ipython3",
   "version": "3.8.5"
  }
 },
 "nbformat": 4,
 "nbformat_minor": 4
}
