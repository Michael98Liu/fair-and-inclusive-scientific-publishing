{
 "cells": [
  {
   "cell_type": "markdown",
   "metadata": {},
   "source": [
    "# Data anonymization\n",
    "To replace issn and identifier for editors with sequential numbers."
   ]
  },
  {
   "cell_type": "code",
   "execution_count": 2,
   "metadata": {},
   "outputs": [],
   "source": [
    "import sys\n",
    "sys.path.insert(1, '../src')\n",
    "\n",
    "import pandas as pd\n",
    "from tqdm import tqdm_notebook as tqdm\n",
    "from matplotlib import pyplot as plt\n",
    "import seaborn as sns\n",
    "from scipy import stats"
   ]
  },
  {
   "cell_type": "code",
   "execution_count": 3,
   "metadata": {},
   "outputs": [],
   "source": [
    "def anonymize(df):\n",
    "    print(df.shape, end=' ')\n",
    "    df = df.merge(editorMap, on='NewAuthorId').drop('NewAuthorId',axis=1)\n",
    "    df = df.merge(issnMap, on='issn').drop('issn',axis=1)\n",
    "    \n",
    "    print(df.shape)\n",
    "    return df"
   ]
  },
  {
   "cell_type": "code",
   "execution_count": null,
   "metadata": {},
   "outputs": [],
   "source": [
    "editors = pd.read_csv(\"/scratch/fl1092/capstone/elsevier/editors.csv\", sep='\\t',\n",
    "                     usecols=[\"NewAuthorId\", \"issn\", \"start_year\", \"end_year\"],\n",
    "                     dtype={\"NewAuthorId\":int, \"issn\":str, \"start_year\":int, \"end_year\":int})\n",
    "\n",
    "editorMap = editors[['NewAuthorId']].drop_duplicates().reset_index().rename(columns={'index':'EditorId'})\n",
    "issnMap = editors[['issn']].drop_duplicates().reset_index().rename(columns={'index':'IssnId'})\n",
    "\n",
    "editorMap.to_csv('/scratch/fl1092/capstone/anonymize/EditorMap.csv',sep='\\t',index=False)\n",
    "issnMap.to_csv('/scratch/fl1092/capstone/anonymize/IssnMap.csv',sep='\\t',index=False)"
   ]
  },
  {
   "cell_type": "markdown",
   "metadata": {},
   "source": [
    "## Load data"
   ]
  },
  {
   "cell_type": "code",
   "execution_count": 5,
   "metadata": {},
   "outputs": [],
   "source": [
    "editorMap = pd.read_csv('/scratch/fl1092/capstone/anonymize/EditorMap.csv',sep='\\t',\n",
    "                       usecols=['EditorId','NewAuthorId'], dtype={'EditorId':int,'NewAuthorId':int})\n",
    "issnMap = pd.read_csv('/scratch/fl1092/capstone/anonymize/IssnMap.csv',sep='\\t',\n",
    "                     usecols=['IssnId','issn'], dtype={'IssnId':int,'issn':str})"
   ]
  },
  {
   "cell_type": "code",
   "execution_count": 27,
   "metadata": {},
   "outputs": [
    {
     "name": "stdout",
     "output_type": "stream",
     "text": [
      "CPU times: user 23.9 s, sys: 8.73 s, total: 32.6 s\n",
      "Wall time: 32.9 s\n"
     ]
    }
   ],
   "source": [
    "%%time\n",
    "author_career = pd.read_csv('/scratch/fl1092/capstone/conflated/AuthorEraDisp.csv',\n",
    "            sep='\\t', memory_map=True,\n",
    "            usecols=['NewAuthorId', 'Parent', 'Yfp', 'Ylp'], # 'Yfp', 'Ylp', \n",
    "            dtype={'NewAuthorId':int, 'Yfp':int, 'Ylp':int, 'Parent':int})\n",
    "\n",
    "field_name = pd.read_csv(\"/scratch/fl1092/capstone/advanced/FieldsOfStudy.txt\", sep=\"\\t\",\n",
    "                        names = [\"FieldOfStudyId\", \"Rank\", \"NormalizedName\", \"DisplayName\",\n",
    "                                 \"MainType\", \"Level\", \"PaperCount\", \"CitationCount\", \"CreatedDate\"],\n",
    "                       usecols=['FieldOfStudyId','DisplayName'])"
   ]
  },
  {
   "cell_type": "code",
   "execution_count": 14,
   "metadata": {},
   "outputs": [
    {
     "name": "stdout",
     "output_type": "stream",
     "text": [
      "CPU times: user 4min 4s, sys: 1min 34s, total: 5min 39s\n",
      "Wall time: 5min 42s\n"
     ]
    }
   ],
   "source": [
    "%%time\n",
    "paper_journal = pd.read_csv(\"/scratch/fl1092/capstone/mag/PaperJournals.csv\", sep='\\t', memory_map=True,\n",
    "                        usecols=['PaperId', 'JournalId'], dtype={'PaperId':int, 'JournalId':int})\n",
    "\n",
    "paper_year = pd.read_csv(\"/scratch/fl1092/capstone/mag/PaperYear.csv\", sep='\\t', usecols=['PaperId', 'Year'],\n",
    "                    dtype={'PaperId':int, 'Year':int}, memory_map=True)\n",
    "\n",
    "papAuAff = pd.read_csv(\"/scratch/fl1092/capstone/mag/PaperAuthorAffiliations.txt\", sep=\"\\t\",\n",
    "                              names = ['PaperId', 'AuthorId', 'AffiliationId', 'AuthorSequenceNumber', \n",
    "                                       'OriginalAuthor', 'OriginalAffiliation'],\n",
    "                              usecols = ['PaperId', 'AuthorId'], memory_map=True)\n",
    "\n",
    "newid = pd.read_csv(\"/scratch/fl1092/capstone/conflation/AuthorId_to_ScientistId.csv\", memory_map=True,\n",
    "                   usecols=['AuthorId','NewAuthorId'], dtype={'AuthorId':int,'NewAuthorId':int})"
   ]
  },
  {
   "cell_type": "code",
   "execution_count": 25,
   "metadata": {},
   "outputs": [],
   "source": [
    "elsevier_journals = pd.read_csv(\"/scratch/fl1092/capstone/bigmem/Journals_matched.csv\", sep=\"\\t\",\n",
    "                               usecols=['JournalId','issn'],\n",
    "                               dtype={'CitationCount':int,'DisplayName':str,'JournalId':int,\n",
    "                                      'PaperCount':int,'Rank':int,'issn':str})"
   ]
  },
  {
   "cell_type": "code",
   "execution_count": 26,
   "metadata": {},
   "outputs": [],
   "source": [
    "editorials = pd.read_csv('/scratch/fl1092/capstone/elsevier/Editorials.csv',sep='\\t',\n",
    "                        dtype={'PaperId':int,'Editorial':int})"
   ]
  },
  {
   "cell_type": "markdown",
   "metadata": {},
   "source": [
    "## Compute self-publication rate"
   ]
  },
  {
   "cell_type": "code",
   "execution_count": 35,
   "metadata": {},
   "outputs": [],
   "source": [
    "import pandas as pd\n",
    "import numpy as np\n",
    "import scipy\n",
    "from scipy.stats import fisher_exact"
   ]
  },
  {
   "cell_type": "code",
   "execution_count": 45,
   "metadata": {},
   "outputs": [],
   "source": [
    "def getEditors(window):\n",
    "    # window: the number of years that we filter\n",
    "    \n",
    "    editors = (\n",
    "        \n",
    "        pd.read_csv(\"/scratch/fl1092/capstone/revise/EditorGender.csv\", sep='\\t',\n",
    "                    usecols=[\"NewAuthorId\", \"issn\", \"start_year\", \"end_year\"],\n",
    "                    dtype={\"NewAuthorId\":int, \"issn\":str, \"start_year\":int, \"end_year\":int})\n",
    "        .assign(Year0 = lambda df: df.start_year.apply(lambda x: x-1))\n",
    "        .query(f'start_year <= {2018-(window-1)}') # year0 prior to 2014\n",
    "        .merge(author_career, on='NewAuthorId')\n",
    "\n",
    "        .assign(left = lambda df: df.Year0-(window-1))\n",
    "        .assign(right = lambda df: df.Year0+window)\n",
    "        .assign(left = lambda df: df.apply(lambda row: max(row.left, row.Yfp), axis=1))\n",
    "        .assign(right = lambda df: df.apply(lambda row: min(row.right, row.end_year), axis=1))\n",
    "\n",
    "    ) # latest, editor start in 2014, and have 5 years of service, i.e. 14 15, 16, 17, 18\n",
    "    if editors.right.max() != 2018:\n",
    "        print(f'Warning! Max right {editors.right.max()}')\n",
    "    \n",
    "    return editors\n",
    "\n",
    "def getEditorPaper(editors, window):\n",
    "    # editors: NewAuthorId, issn, left, right\n",
    "    \n",
    "    edi_papers = (\n",
    "        editors.merge(newid, on='NewAuthorId')\n",
    "\n",
    "        .merge(papAuAff, on='AuthorId')\n",
    "\n",
    "        .merge(paper_year, on='PaperId')\n",
    "        .query('Year >= left')\n",
    "        .query('Year <= right')\n",
    "\n",
    "        .merge(paper_journal, on='PaperId')\n",
    "        .merge(elsevier_journals, on=['JournalId','issn'])\n",
    "\n",
    "        .merge(editorials, on='PaperId', how='left').fillna(0)\n",
    "        \n",
    "        .query('Editorial == 0')\n",
    "        \n",
    "        .drop_duplicates()\n",
    "    )\n",
    "    \n",
    "    return edi_papers\n",
    "    \n",
    "def getPaperCount(editors, edi_papers):\n",
    "    \n",
    "    before = edi_papers[edi_papers.Year <= edi_papers.Year0].groupby(\n",
    "        ['NewAuthorId','issn','Year0','left','right']).PaperId.nunique().reset_index()\n",
    "\n",
    "    after = edi_papers[edi_papers.Year > edi_papers.Year0].groupby(\n",
    "        ['NewAuthorId','issn','Year0','left','right']).PaperId.nunique().reset_index()\n",
    "\n",
    "    before = before.rename(columns={'PaperId':'BeforeCount'})\n",
    "    after = after.rename(columns={'PaperId':'AfterCount'})\n",
    "    \n",
    "    paper_count = (\n",
    "        before.merge(after, on=['NewAuthorId','issn','Year0','left','right'], how='outer')\n",
    "        .merge(\n",
    "            editors[['NewAuthorId','issn','Year0','left','right']],\n",
    "            on=['NewAuthorId','issn','Year0','left','right'], how='outer')\n",
    "        .fillna(0)\n",
    "\n",
    "        .assign(BeSpan = lambda df: df.Year0 - df.left + 1)\n",
    "        .assign(AfSpan = lambda df: df.right - df.Year0)\n",
    "\n",
    "        .assign(AfAvg = lambda df: df.AfterCount/df.AfSpan)\n",
    "        .assign(BeAvg = lambda df: df.BeforeCount/df.BeSpan)\n",
    "    )\n",
    "    \n",
    "    return paper_count\n",
    "\n",
    "def NQSpipeLine(window):\n",
    "    \n",
    "    outfile = f'../data/figure_3/EditorJournalPub_{window}.csv'\n",
    "    paperOut = f\"../data/figure_3/EditorJournalPublicationNoEditorial_{window}.csv\"\n",
    "    \n",
    "    editors = getEditors(window)\n",
    "    \n",
    "    edi_papers = getEditorPaper(editors, window)\n",
    "    \n",
    "    paper_count = getPaperCount(editors, edi_papers)\n",
    "    \n",
    "    paper_count = anonymize(paper_count)\n",
    "    \n",
    "    paper_count.to_csv(outfile,sep='\\t',index=False)\n",
    "    \n",
    "    edi_papers = anonymize(edi_papers)\n",
    "    \n",
    "    (\n",
    "        edi_papers[['EditorId','IssnId','Year0','Year','Editorial']]\n",
    "        .to_csv(paperOut, sep='\\t') # unique index for each paper each row\n",
    "    )\n",
    "    \n",
    "    editors = anonymize(editors)\n",
    "    editors.to_csv('../data/figure_3/AllEditors.csv',sep='\\t',index=False)"
   ]
  },
  {
   "cell_type": "code",
   "execution_count": 40,
   "metadata": {},
   "outputs": [
    {
     "name": "stdout",
     "output_type": "stream",
     "text": [
      "(12995, 11) (12995, 11)\n",
      "(39801, 15) (39801, 15)\n",
      "(12995, 10) (12995, 10)\n",
      "# Aq: 1, Bq 2, As: 2, Bs: 3 |  questionable: 8.27%,          suspicious: 1.81%\n",
      "CPU times: user 7min 5s, sys: 1min 30s, total: 8min 36s\n",
      "Wall time: 8min 38s\n"
     ]
    }
   ],
   "source": [
    "%%time\n",
    "NQSpipeLine(5)"
   ]
  },
  {
   "cell_type": "markdown",
   "metadata": {},
   "source": [
    "## Cumulative distribution"
   ]
  },
  {
   "cell_type": "code",
   "execution_count": 107,
   "metadata": {},
   "outputs": [
    {
     "name": "stdout",
     "output_type": "stream",
     "text": [
      "CPU times: user 676 ms, sys: 78.5 ms, total: 754 ms\n",
      "Wall time: 808 ms\n"
     ]
    }
   ],
   "source": [
    "%%time\n",
    "field_name = pd.read_csv(\"/scratch/fl1092/capstone/advanced/FieldsOfStudy.txt\", sep=\"\\t\",\n",
    "                        names = [\"FieldOfStudyId\", \"Rank\", \"NormalizedName\", \"DisplayName\",\n",
    "                                 \"MainType\", \"Level\", \"PaperCount\", \"CitationCount\", \"CreatedDate\"],\n",
    "                       usecols=['FieldOfStudyId','DisplayName']).rename(columns={'DisplayName':'Field'})\n",
    "\n",
    "def getJournalField(df):\n",
    "    jfield = (\n",
    "        pd.concat([pd.read_csv('/scratch/fl1092/capstone/bigmem/Elsevier_journal_top_fields.csv',sep='\\t',\n",
    "                     usecols=['issn','Parent','Score'],dtype={'issn':str,'Parent':int,'Score':float})],\n",
    "                  ignore_index=True, sort=False)\n",
    "        .assign(issn = lambda _: _.issn.apply(lambda x: '0'*(8-len(x)) + x))\n",
    "        .sort_values(by='Score',ascending=False).drop_duplicates(subset=['issn'],keep='first')\n",
    "        .merge(field_name, left_on='Parent', right_on='FieldOfStudyId')\n",
    "    )\n",
    "    \n",
    "    jfield = jfield[['issn','FieldOfStudyId','Field']]\n",
    "    \n",
    "    df = df.merge(jfield, on='issn')\n",
    "    \n",
    "    return df"
   ]
  },
  {
   "cell_type": "code",
   "execution_count": 5,
   "metadata": {},
   "outputs": [
    {
     "name": "stdout",
     "output_type": "stream",
     "text": [
      "(12995, 6)\n"
     ]
    }
   ],
   "source": [
    "# number of self publications during the 5-year window before and after year0\n",
    "\n",
    "jpub_count = pd.read_csv('/scratch/fl1092/capstone/revise/EditorJournalPub/5.csv', sep='\\t',\n",
    "                         usecols=['NewAuthorId','issn','AfAvg','AfSpan', 'Year0', 'AfterCount'],\n",
    "                         dtype={'NewAuthorId':int,'issn':str,'BeAvg':float,'AfAvg':float,'AfSpan':int}).fillna(0)\n",
    "print(jpub_count.shape)"
   ]
  },
  {
   "cell_type": "code",
   "execution_count": 6,
   "metadata": {},
   "outputs": [
    {
     "name": "stdout",
     "output_type": "stream",
     "text": [
      "(325866578, 3)\n",
      "CPU times: user 41.4 s, sys: 13.9 s, total: 55.3 s\n",
      "Wall time: 56 s\n"
     ]
    }
   ],
   "source": [
    "%%time\n",
    "# total number of papers published in each year\n",
    "\n",
    "authorProd = (\n",
    "    pd.read_csv(\"/scratch/fl1092/capstone/conflated/PaperCountAnnual.csv\", sep='\\t')\n",
    "    .rename(columns={'PaperCount':'Productivity'})\n",
    ")\n",
    "print(authorProd.shape)"
   ]
  },
  {
   "cell_type": "code",
   "execution_count": 7,
   "metadata": {},
   "outputs": [
    {
     "name": "stdout",
     "output_type": "stream",
     "text": [
      "(12995, 8)\n",
      "CPU times: user 49.9 s, sys: 26 s, total: 1min 15s\n",
      "Wall time: 1min 16s\n"
     ]
    }
   ],
   "source": [
    "%%time\n",
    "editorProd = (\n",
    "    jpub_count.merge(authorProd, on='NewAuthorId', how='left').fillna({'Productivity': 0})\n",
    "    .assign(Year5 = lambda df: df.Year0 + df.AfSpan)\n",
    "    .query('Year > Year0')\n",
    "    .query('Year <= Year5')\n",
    "    .groupby(['NewAuthorId','issn','AfterCount']).Productivity.sum().reset_index()\n",
    "    .assign(Percentage = lambda df: df.AfterCount / df.Productivity)\n",
    "    \n",
    "    .merge(jpub_count, how='right', on=['NewAuthorId','issn','AfterCount']).fillna({'Percentage':0, 'Productivity':0})\n",
    ")\n",
    "print(editorProd.shape)"
   ]
  },
  {
   "cell_type": "code",
   "execution_count": 10,
   "metadata": {},
   "outputs": [
    {
     "name": "stdout",
     "output_type": "stream",
     "text": [
      "(1808, 3) 1808\n",
      "Getting field based on journal (12995, 8)\n",
      "(12995, 10)\n"
     ]
    }
   ],
   "source": [
    "editorProd = editorProd.pipe(getJournalField)"
   ]
  },
  {
   "cell_type": "code",
   "execution_count": 11,
   "metadata": {},
   "outputs": [
    {
     "data": {
      "text/html": [
       "<div>\n",
       "<style scoped>\n",
       "    .dataframe tbody tr th:only-of-type {\n",
       "        vertical-align: middle;\n",
       "    }\n",
       "\n",
       "    .dataframe tbody tr th {\n",
       "        vertical-align: top;\n",
       "    }\n",
       "\n",
       "    .dataframe thead th {\n",
       "        text-align: right;\n",
       "    }\n",
       "</style>\n",
       "<table border=\"1\" class=\"dataframe\">\n",
       "  <thead>\n",
       "    <tr style=\"text-align: right;\">\n",
       "      <th></th>\n",
       "      <th>NewAuthorId</th>\n",
       "      <th>issn</th>\n",
       "      <th>AfterCount</th>\n",
       "      <th>Productivity</th>\n",
       "      <th>Percentage</th>\n",
       "      <th>Year0</th>\n",
       "      <th>AfSpan</th>\n",
       "      <th>AfAvg</th>\n",
       "      <th>FieldOfStudyId</th>\n",
       "      <th>Field</th>\n",
       "    </tr>\n",
       "  </thead>\n",
       "  <tbody>\n",
       "    <tr>\n",
       "      <th>0</th>\n",
       "      <td>2628</td>\n",
       "      <td>15723089</td>\n",
       "      <td>4.0</td>\n",
       "      <td>61.0</td>\n",
       "      <td>0.065574</td>\n",
       "      <td>2009</td>\n",
       "      <td>5</td>\n",
       "      <td>0.8</td>\n",
       "      <td>162324750</td>\n",
       "      <td>Economics</td>\n",
       "    </tr>\n",
       "    <tr>\n",
       "      <th>1</th>\n",
       "      <td>65414</td>\n",
       "      <td>15723089</td>\n",
       "      <td>1.0</td>\n",
       "      <td>5.0</td>\n",
       "      <td>0.200000</td>\n",
       "      <td>2009</td>\n",
       "      <td>5</td>\n",
       "      <td>0.2</td>\n",
       "      <td>162324750</td>\n",
       "      <td>Economics</td>\n",
       "    </tr>\n",
       "    <tr>\n",
       "      <th>2</th>\n",
       "      <td>12772132</td>\n",
       "      <td>15723089</td>\n",
       "      <td>0.0</td>\n",
       "      <td>16.0</td>\n",
       "      <td>0.000000</td>\n",
       "      <td>2005</td>\n",
       "      <td>5</td>\n",
       "      <td>0.0</td>\n",
       "      <td>162324750</td>\n",
       "      <td>Economics</td>\n",
       "    </tr>\n",
       "    <tr>\n",
       "      <th>3</th>\n",
       "      <td>13559183</td>\n",
       "      <td>15723089</td>\n",
       "      <td>0.0</td>\n",
       "      <td>39.0</td>\n",
       "      <td>0.000000</td>\n",
       "      <td>2005</td>\n",
       "      <td>5</td>\n",
       "      <td>0.0</td>\n",
       "      <td>162324750</td>\n",
       "      <td>Economics</td>\n",
       "    </tr>\n",
       "    <tr>\n",
       "      <th>4</th>\n",
       "      <td>14312999</td>\n",
       "      <td>15723089</td>\n",
       "      <td>0.0</td>\n",
       "      <td>37.0</td>\n",
       "      <td>0.000000</td>\n",
       "      <td>2009</td>\n",
       "      <td>5</td>\n",
       "      <td>0.0</td>\n",
       "      <td>162324750</td>\n",
       "      <td>Economics</td>\n",
       "    </tr>\n",
       "  </tbody>\n",
       "</table>\n",
       "</div>"
      ],
      "text/plain": [
       "   NewAuthorId      issn  AfterCount  Productivity  Percentage  Year0  AfSpan  \\\n",
       "0         2628  15723089         4.0          61.0    0.065574   2009       5   \n",
       "1        65414  15723089         1.0           5.0    0.200000   2009       5   \n",
       "2     12772132  15723089         0.0          16.0    0.000000   2005       5   \n",
       "3     13559183  15723089         0.0          39.0    0.000000   2005       5   \n",
       "4     14312999  15723089         0.0          37.0    0.000000   2009       5   \n",
       "\n",
       "   AfAvg  FieldOfStudyId      Field  \n",
       "0    0.8       162324750  Economics  \n",
       "1    0.2       162324750  Economics  \n",
       "2    0.0       162324750  Economics  \n",
       "3    0.0       162324750  Economics  \n",
       "4    0.0       162324750  Economics  "
      ]
     },
     "execution_count": 11,
     "metadata": {},
     "output_type": "execute_result"
    }
   ],
   "source": [
    "editorProd.head()"
   ]
  },
  {
   "cell_type": "code",
   "execution_count": 12,
   "metadata": {},
   "outputs": [],
   "source": [
    "editorProd.to_csv('../data/figure_3/cumulative.csv', sep='\\t', index=False,\n",
    "                  columns=['Percentage', 'FieldOfStudyId', 'Field']\n",
    "                 )"
   ]
  },
  {
   "cell_type": "markdown",
   "metadata": {},
   "source": [
    "## Matching"
   ]
  },
  {
   "cell_type": "code",
   "execution_count": 13,
   "metadata": {},
   "outputs": [],
   "source": [
    "import helper\n",
    "import matcher\n",
    "import getpub\n",
    "import plotter"
   ]
  },
  {
   "cell_type": "code",
   "execution_count": 22,
   "metadata": {},
   "outputs": [
    {
     "data": {
      "text/plain": [
       "<module 'getpub' from '../src/getpub.py'>"
      ]
     },
     "execution_count": 22,
     "metadata": {},
     "output_type": "execute_result"
    }
   ],
   "source": [
    "from imp import reload\n",
    "reload(getpub)"
   ]
  },
  {
   "cell_type": "code",
   "execution_count": 23,
   "metadata": {},
   "outputs": [],
   "source": [
    "def getLine(typ):\n",
    "\n",
    "    L = helper.Loader(dir_name=\"/scratch/fl1092/capstone/matching/dummy/\")\n",
    "    L.load_field()\n",
    "    M = matcher.Matcher(L, matched = pd.DataFrame(columns=[\"EditorsNewId\",\"issn\"]))\n",
    "    M.groups=None\n",
    "    G = getpub.GetPub(L, M, typ)\n",
    "    G.load_lines()\n",
    "    \n",
    "    return G"
   ]
  },
  {
   "cell_type": "code",
   "execution_count": 24,
   "metadata": {},
   "outputs": [],
   "source": [
    "def getLine(typ):\n",
    "\n",
    "    L = helper.Loader(dir_name=\"/scratch/fl1092/capstone/matching/dummy/\")\n",
    "    L.load_field()\n",
    "    M = matcher.Matcher(L, matched = pd.DataFrame(columns=[\"EditorsNewId\",\"issn\"]))\n",
    "    M.groups=None\n",
    "    G = getpub.GetPub(L, M, typ)\n",
    "    G.load_lines()\n",
    "    \n",
    "    return G"
   ]
  },
  {
   "cell_type": "code",
   "execution_count": 25,
   "metadata": {},
   "outputs": [],
   "source": [
    "def calcAvg(df):\n",
    "    editors = df[['EditorsNewId','issn','EditorYear','EdiCount']].drop_duplicates()\n",
    "    authors = df.groupby(['EditorsNewId','issn','EditorYear']).AutCount.mean().reset_index()\n",
    "    assert(editors.shape[0] == authors.shape[0])\n",
    "    \n",
    "    pairs = editors.merge(authors, on=['EditorsNewId','issn','EditorYear'])\n",
    "    \n",
    "    return pairs"
   ]
  },
  {
   "cell_type": "code",
   "execution_count": 26,
   "metadata": {},
   "outputs": [
    {
     "name": "stdout",
     "output_type": "stream",
     "text": [
      "/scratch/fl1092/capstone/matching/dummy/ exists\n",
      "Done initializing\n",
      "fields shape: (127684835, 2)\n",
      "(0, 2) 0 (0, 2) \n",
      "/scratch/fl1092/capstone/matching/appeal/ exists\n",
      "CPU times: user 31.3 s, sys: 6.18 s, total: 37.5 s\n",
      "Wall time: 37.9 s\n"
     ]
    }
   ],
   "source": [
    "%%time\n",
    "pubG = getLine('appeal')"
   ]
  },
  {
   "cell_type": "code",
   "execution_count": 28,
   "metadata": {},
   "outputs": [
    {
     "name": "stdout",
     "output_type": "stream",
     "text": [
      "(4287600, 9)\n",
      "CPU times: user 3min 54s, sys: 1min 9s, total: 5min 3s\n",
      "Wall time: 5min 5s\n"
     ]
    }
   ],
   "source": [
    "%%time\n",
    "# find match\n",
    "editorMatch = (\n",
    "    pd.concat([pubG.n_count, pubG.q_count])\n",
    "    [['EditorsNewId','issn','NewAuthorId','seed','EditorYear','EdiCount','AutCount','Year_x','Year_y']]\n",
    "    .query('EditorYear >= -5')\n",
    "    .query('EditorYear <= 5')\n",
    "    \n",
    "    .rename(columns={'Year_y':'Year'})\n",
    "    .merge(authorProd, on=['NewAuthorId','Year'], how='left')\n",
    "    .rename(columns={'Productivity':'AuthorProd'})\n",
    "    .drop('Year', axis=1)\n",
    "    \n",
    "    .rename(columns={'Year_x':'Year'})\n",
    "    .merge(authorProd.rename(columns={'NewAuthorId':'EditorsNewId'}), on=['EditorsNewId','Year'], how='left')\n",
    "    .rename(columns={'Productivity':'EditorProd'})\n",
    "    .drop('Year', axis=1)\n",
    "    \n",
    "    .fillna({'AuthorProd':0, 'EditorProd':0})\n",
    ")\n",
    "print(editorMatch.shape) # 4287600"
   ]
  },
  {
   "cell_type": "code",
   "execution_count": 29,
   "metadata": {},
   "outputs": [],
   "source": [
    "assert((editorMatch.AutCount <= editorMatch.AuthorProd).all())\n",
    "assert((editorMatch.EdiCount <= editorMatch.EditorProd).all())"
   ]
  },
  {
   "cell_type": "code",
   "execution_count": 30,
   "metadata": {},
   "outputs": [
    {
     "name": "stdout",
     "output_type": "stream",
     "text": [
      "(89511, 7)\n",
      "CPU times: user 455 ms, sys: 140 ms, total: 595 ms\n",
      "Wall time: 597 ms\n"
     ]
    }
   ],
   "source": [
    "%%time\n",
    "matchedAuthor = (\n",
    "    editorMatch.groupby(['EditorsNewId','issn','EditorYear'])\n",
    "    .agg({'AutCount':'sum', 'AuthorProd':'sum'})\n",
    "    .reset_index()\n",
    "    \n",
    "    .assign(AutProdNonZero = lambda df: df.AuthorProd.apply(lambda x: x+1 if x==0 else x))\n",
    "    .assign(AutPercent=lambda df: df.AutCount/df.AutProdNonZero)\n",
    ")\n",
    "print(matchedAuthor.shape) # 89511"
   ]
  },
  {
   "cell_type": "code",
   "execution_count": 31,
   "metadata": {},
   "outputs": [
    {
     "name": "stdout",
     "output_type": "stream",
     "text": [
      "(89511, 7)\n",
      "CPU times: user 551 ms, sys: 183 ms, total: 734 ms\n",
      "Wall time: 736 ms\n"
     ]
    }
   ],
   "source": [
    "%%time\n",
    "matchedEditor = (\n",
    "    editorMatch[['EditorsNewId','issn','EditorYear','EdiCount','EditorProd']].drop_duplicates()\n",
    "    \n",
    "    .assign(EdiProdNonZero = lambda df: df.EditorProd.apply(lambda x: x+1 if x==0 else x))\n",
    "    .assign(EdiPercent=lambda df: df.EdiCount/df.EdiProdNonZero)\n",
    ")\n",
    "print(matchedEditor.shape) # 89511"
   ]
  },
  {
   "cell_type": "code",
   "execution_count": 34,
   "metadata": {},
   "outputs": [],
   "source": [
    "authorCohorts = []\n",
    "editorCohorts = []\n",
    "\n",
    "for i in range(4, -1, -1):\n",
    "    \n",
    "    subset = (\n",
    "        editorProd.query(f'Percentage >= 0.{i+1}')[['NewAuthorId','issn']].assign(Cohort=i)\n",
    "        .rename(columns={'NewAuthorId':'EditorsNewId'})\n",
    "    )\n",
    "    \n",
    "    authorCohorts.append(matchedAuthor.merge(subset, on=['EditorsNewId','issn']))\n",
    "    editorCohorts.append(matchedEditor.merge(subset, on=['EditorsNewId','issn']))\n",
    "authorCohorts = pd.concat(authorCohorts, ignore_index=True, sort=False)\n",
    "editorCohorts = pd.concat(editorCohorts, ignore_index=True, sort=False)"
   ]
  },
  {
   "cell_type": "code",
   "execution_count": 38,
   "metadata": {},
   "outputs": [],
   "source": [
    "editorCohorts.to_csv('../data/figure_3/EditorsMatch.csv', sep='\\t', index=False,\n",
    "                  columns=['EditorYear', 'EdiPercent', 'Cohort'])\n",
    "\n",
    "authorCohorts.to_csv('../data/figure_3/AuthorsMatch.csv', sep='\\t', index=False,\n",
    "                  columns=['EditorYear', 'AutPercent', 'Cohort'])"
   ]
  },
  {
   "cell_type": "markdown",
   "metadata": {},
   "source": [
    "## Compare with other editorial board member"
   ]
  },
  {
   "cell_type": "code",
   "execution_count": 60,
   "metadata": {},
   "outputs": [],
   "source": [
    "def getEditors(window):\n",
    "    # window: the number of years that we filter\n",
    "    \n",
    "    editors = (\n",
    "        pd.read_csv(\"/scratch/fl1092/capstone/revise/EditorGender.csv\", sep='\\t',\n",
    "                    usecols=[\"NewAuthorId\", \"issn\", \"start_year\", \"end_year\"],\n",
    "                    dtype={\"NewAuthorId\":int, \"issn\":str, \"start_year\":int, \"end_year\":int})\n",
    "        \n",
    "        .assign(Year0 = lambda df: df.start_year.apply(lambda x: x-1))\n",
    "        .query(f'start_year <= {2018-(window-1)}') # year0 prior to 2014\n",
    "        \n",
    "        .assign(right = lambda df: df.Year0+window)\n",
    "        .assign(right = lambda df: df.apply(lambda row: min(row.right, row.end_year), axis=1))\n",
    "    \n",
    "        .drop(['Year0', 'end_year'], axis=1)\n",
    "        .assign(Span = lambda df: df.right - df.start_year + 1)\n",
    "        .assign(left = lambda df: df.start_year - 5)\n",
    "    ) # latest, editor start in 2014, and have 5 years of service, i.e. 14, 15, 16, 17, 18\n",
    "    \n",
    "    if editors.right.max() != 2018:\n",
    "        print(f'Warning! Max right {editors.right.max()}')\n",
    "    \n",
    "    return editors\n",
    "\n",
    "def getFull(df, left, right):\n",
    "    full = []\n",
    "    for year in range(df[left].min(), df[right].max() + 1):\n",
    "        full.append(df[(df[left] <= year) & (df[right] >= year)].assign(Year = year))\n",
    "    \n",
    "    return pd.concat(full, ignore_index=True, sort=False)\n",
    "\n",
    "def findPairs():\n",
    "    \n",
    "    ### editors to be matched with editors ###\n",
    "    editors = getEditors(5)\n",
    "    full_editors = (\n",
    "        getFull(editors, 'left', 'right')\n",
    "        .assign(Year0 = lambda df: df.start_year-1)\n",
    "        .assign(EditorYear = lambda df: df.Year-df.Year0)\n",
    "    )\n",
    "    full_candi = getFull(editors, 'start_year', 'right').drop(['start_year','right','Span'], axis=1)\n",
    "    \n",
    "    to_compare = (\n",
    "        full_editors.rename(columns={'NewAuthorId':'EditorsNewId'})\n",
    "        .merge(full_candi, on=['issn','Year'])\n",
    "        \n",
    "        ### total productivity ###\n",
    "        .merge(\n",
    "            authorProd.rename(columns={'Productivity':'PeerProd'}),\n",
    "            on=['NewAuthorId','Year'], how='left')\n",
    "        \n",
    "        .merge(authorProd.rename(columns={'Productivity':'EdiProd','NewAuthorId':'EditorsNewId'}),\n",
    "               on=['EditorsNewId','Year'], how='left')\n",
    "        \n",
    "        .fillna({'PeerProd':0, 'EdiProd':0})\n",
    "        ### total productivity ###\n",
    "        \n",
    "        \n",
    "        ### self pub count ###\n",
    "        .merge(paper_count.rename(columns={'Count':'PeerCount'}),\n",
    "               on=['NewAuthorId','Year','issn'], how='left')\n",
    "        \n",
    "        .merge(paper_count.rename(columns={'Count':'EdiCount','NewAuthorId':'EditorsNewId'}),\n",
    "               on=['EditorsNewId','Year','issn'], how='left')\n",
    "        \n",
    "        .fillna({'PeerCount':0, 'EdiCount':0})\n",
    "        ### self pub count ###\n",
    "    )\n",
    "    \n",
    "    return to_compare"
   ]
  },
  {
   "cell_type": "code",
   "execution_count": 61,
   "metadata": {},
   "outputs": [],
   "source": [
    "# number of papers got published in the editor's journal\n",
    "\n",
    "papers = pd.read_csv('/scratch/fl1092/capstone/revise/EditorJournalPublicationNoEditorial/Alt.csv',\n",
    "                     dtype={'NewAuthorId':int,'issn':str,'Year':int,'PaperId':int,'JournalId':int,'Editorial':int},\n",
    "                     sep='\\t')\n",
    "\n",
    "paper_count = (\n",
    "        papers.groupby(['NewAuthorId','issn','Year']).PaperId.nunique().reset_index()\n",
    "        .rename(columns={'PaperId':'Count'})\n",
    ")"
   ]
  },
  {
   "cell_type": "code",
   "execution_count": 62,
   "metadata": {},
   "outputs": [
    {
     "name": "stdout",
     "output_type": "stream",
     "text": [
      "CPU times: user 3min 46s, sys: 1min 7s, total: 4min 53s\n",
      "Wall time: 4min 55s\n"
     ]
    }
   ],
   "source": [
    "%%time\n",
    "to_compare = findPairs()"
   ]
  },
  {
   "cell_type": "code",
   "execution_count": 63,
   "metadata": {},
   "outputs": [
    {
     "data": {
      "text/plain": [
       "(1109250, 15)"
      ]
     },
     "execution_count": 63,
     "metadata": {},
     "output_type": "execute_result"
    }
   ],
   "source": [
    "to_compare.shape"
   ]
  },
  {
   "cell_type": "code",
   "execution_count": 64,
   "metadata": {},
   "outputs": [
    {
     "name": "stdout",
     "output_type": "stream",
     "text": [
      "CPU times: user 165 ms, sys: 2.02 ms, total: 167 ms\n",
      "Wall time: 168 ms\n"
     ]
    }
   ],
   "source": [
    "%%time\n",
    "peerPercent = (\n",
    "    to_compare.groupby(['EditorsNewId','issn','EditorYear']).agg({'PeerProd':sum, 'PeerCount':sum}).reset_index()\n",
    "    \n",
    "    .assign(PeerProdNonZero = lambda df: df.PeerProd.apply(lambda x: x+1 if x==0 else x))\n",
    "    .assign(PeerPercent=lambda df: df.PeerCount / df.PeerProdNonZero)\n",
    ")"
   ]
  },
  {
   "cell_type": "code",
   "execution_count": 65,
   "metadata": {},
   "outputs": [
    {
     "name": "stdout",
     "output_type": "stream",
     "text": [
      "(82083, 7)\n"
     ]
    }
   ],
   "source": [
    "ediPercent = (\n",
    "    to_compare[['EditorsNewId','issn','EditorYear','EdiProd','EdiCount']].drop_duplicates()\n",
    "    \n",
    "    .assign(EdiProdNonZero = lambda df: df.EdiProd.apply(lambda x: x+1 if x==0 else x))\n",
    "    .assign(EdiPercent = lambda df: df.EdiCount/df.EdiProdNonZero)\n",
    "    .fillna(0)\n",
    ")\n",
    "print(ediPercent.shape)"
   ]
  },
  {
   "cell_type": "code",
   "execution_count": 66,
   "metadata": {},
   "outputs": [],
   "source": [
    "peerCohorts = []\n",
    "editorCohorts = []\n",
    "\n",
    "for i in range(4, -1, -1):\n",
    "    \n",
    "    subset = (\n",
    "        editorProd.query(f'Percentage >= 0.{i+1}')[['NewAuthorId','issn']].assign(Cohort=i)\n",
    "        .rename(columns={'NewAuthorId':'EditorsNewId'})\n",
    "    )\n",
    "    \n",
    "    peerCohorts.append(peerPercent.merge(subset, on=['EditorsNewId','issn']))\n",
    "    editorCohorts.append(ediPercent.merge(subset, on=['EditorsNewId','issn']))\n",
    "    \n",
    "peerCohorts = pd.concat(peerCohorts, ignore_index=True, sort=False)\n",
    "editorCohorts = pd.concat(editorCohorts, ignore_index=True, sort=False)"
   ]
  },
  {
   "cell_type": "code",
   "execution_count": 67,
   "metadata": {},
   "outputs": [],
   "source": [
    "editorCohorts.to_csv('../data/figure_3/EditorsPeer.csv', sep='\\t', index=False,\n",
    "                  columns=['EditorYear', 'EdiPercent', 'Cohort'])\n",
    "\n",
    "peerCohorts.to_csv('../data/figure_3/PeerTrend.csv', sep='\\t', index=False,\n",
    "                  columns=['EditorYear', 'PeerPercent', 'Cohort'])"
   ]
  },
  {
   "cell_type": "markdown",
   "metadata": {},
   "source": [
    "## Editors in chief"
   ]
  },
  {
   "cell_type": "code",
   "execution_count": 96,
   "metadata": {},
   "outputs": [],
   "source": [
    "import scipy"
   ]
  },
  {
   "cell_type": "code",
   "execution_count": 89,
   "metadata": {},
   "outputs": [],
   "source": [
    "chief_editors = (\n",
    "    pd.read_csv('/scratch/fl1092/capstone/elsevier/EditorsInChief.csv',sep='\\t',dtype={'issn':str})\n",
    "    #.rename(columns={'NewAuthorId':'EditorsNewId'})\n",
    ")"
   ]
  },
  {
   "cell_type": "code",
   "execution_count": 92,
   "metadata": {},
   "outputs": [
    {
     "data": {
      "text/plain": [
       "(1171, 12)"
      ]
     },
     "execution_count": 92,
     "metadata": {},
     "output_type": "execute_result"
    }
   ],
   "source": [
    "chiefPercentage = editorProd.merge(chief_editors, on=['NewAuthorId','issn'])\n",
    "chiefPercentage.shape"
   ]
  },
  {
   "cell_type": "code",
   "execution_count": 93,
   "metadata": {},
   "outputs": [
    {
     "data": {
      "text/html": [
       "<div>\n",
       "<style scoped>\n",
       "    .dataframe tbody tr th:only-of-type {\n",
       "        vertical-align: middle;\n",
       "    }\n",
       "\n",
       "    .dataframe tbody tr th {\n",
       "        vertical-align: top;\n",
       "    }\n",
       "\n",
       "    .dataframe thead th {\n",
       "        text-align: right;\n",
       "    }\n",
       "</style>\n",
       "<table border=\"1\" class=\"dataframe\">\n",
       "  <thead>\n",
       "    <tr style=\"text-align: right;\">\n",
       "      <th></th>\n",
       "      <th>NewAuthorId</th>\n",
       "      <th>issn</th>\n",
       "      <th>AfterCount</th>\n",
       "      <th>Productivity</th>\n",
       "      <th>Percentage</th>\n",
       "      <th>Year0</th>\n",
       "      <th>AfSpan</th>\n",
       "      <th>AfAvg</th>\n",
       "      <th>FieldOfStudyId</th>\n",
       "      <th>Field</th>\n",
       "      <th>chief_start</th>\n",
       "      <th>chief_end</th>\n",
       "    </tr>\n",
       "  </thead>\n",
       "  <tbody>\n",
       "    <tr>\n",
       "      <th>0</th>\n",
       "      <td>202221840</td>\n",
       "      <td>15723089</td>\n",
       "      <td>1.0</td>\n",
       "      <td>83.0</td>\n",
       "      <td>0.012048</td>\n",
       "      <td>2005</td>\n",
       "      <td>5</td>\n",
       "      <td>0.2</td>\n",
       "      <td>162324750</td>\n",
       "      <td>Economics</td>\n",
       "      <td>2009</td>\n",
       "      <td>2019</td>\n",
       "    </tr>\n",
       "    <tr>\n",
       "      <th>1</th>\n",
       "      <td>7442671</td>\n",
       "      <td>00381098</td>\n",
       "      <td>3.0</td>\n",
       "      <td>54.0</td>\n",
       "      <td>0.055556</td>\n",
       "      <td>1982</td>\n",
       "      <td>5</td>\n",
       "      <td>0.6</td>\n",
       "      <td>121332964</td>\n",
       "      <td>Physics</td>\n",
       "      <td>1988</td>\n",
       "      <td>1988</td>\n",
       "    </tr>\n",
       "    <tr>\n",
       "      <th>2</th>\n",
       "      <td>215057296</td>\n",
       "      <td>00381098</td>\n",
       "      <td>0.0</td>\n",
       "      <td>13.0</td>\n",
       "      <td>0.000000</td>\n",
       "      <td>2009</td>\n",
       "      <td>1</td>\n",
       "      <td>0.0</td>\n",
       "      <td>121332964</td>\n",
       "      <td>Physics</td>\n",
       "      <td>2010</td>\n",
       "      <td>2010</td>\n",
       "    </tr>\n",
       "    <tr>\n",
       "      <th>3</th>\n",
       "      <td>85986980</td>\n",
       "      <td>00381098</td>\n",
       "      <td>0.0</td>\n",
       "      <td>32.0</td>\n",
       "      <td>0.000000</td>\n",
       "      <td>2009</td>\n",
       "      <td>1</td>\n",
       "      <td>0.0</td>\n",
       "      <td>121332964</td>\n",
       "      <td>Physics</td>\n",
       "      <td>2010</td>\n",
       "      <td>2010</td>\n",
       "    </tr>\n",
       "    <tr>\n",
       "      <th>4</th>\n",
       "      <td>96887077</td>\n",
       "      <td>00472727</td>\n",
       "      <td>1.0</td>\n",
       "      <td>15.0</td>\n",
       "      <td>0.066667</td>\n",
       "      <td>1972</td>\n",
       "      <td>5</td>\n",
       "      <td>0.2</td>\n",
       "      <td>162324750</td>\n",
       "      <td>Economics</td>\n",
       "      <td>1979</td>\n",
       "      <td>1979</td>\n",
       "    </tr>\n",
       "  </tbody>\n",
       "</table>\n",
       "</div>"
      ],
      "text/plain": [
       "   NewAuthorId      issn  AfterCount  Productivity  Percentage  Year0  AfSpan  \\\n",
       "0    202221840  15723089         1.0          83.0    0.012048   2005       5   \n",
       "1      7442671  00381098         3.0          54.0    0.055556   1982       5   \n",
       "2    215057296  00381098         0.0          13.0    0.000000   2009       1   \n",
       "3     85986980  00381098         0.0          32.0    0.000000   2009       1   \n",
       "4     96887077  00472727         1.0          15.0    0.066667   1972       5   \n",
       "\n",
       "   AfAvg  FieldOfStudyId      Field  chief_start  chief_end  \n",
       "0    0.2       162324750  Economics         2009       2019  \n",
       "1    0.6       121332964    Physics         1988       1988  \n",
       "2    0.0       121332964    Physics         2010       2010  \n",
       "3    0.0       121332964    Physics         2010       2010  \n",
       "4    0.2       162324750  Economics         1979       1979  "
      ]
     },
     "execution_count": 93,
     "metadata": {},
     "output_type": "execute_result"
    }
   ],
   "source": [
    "chiefPercentage.head()"
   ]
  },
  {
   "cell_type": "code",
   "execution_count": 101,
   "metadata": {},
   "outputs": [],
   "source": [
    "chiefAndBoard = (\n",
    "    chiefPercentage.rename(columns={'NewAuthorId':'ChiefEditorId', 'Percentage': 'ChiefPercent'})\n",
    "    [['ChiefEditorId', 'ChiefPercent', 'issn', 'chief_start', 'chief_end']]\n",
    "    \n",
    "    .merge(editorProd, on='issn')\n",
    "    .query('Year0 >= chief_start-1')\n",
    "    .query('Year0 < chief_end')\n",
    "    \n",
    "    .groupby(['ChiefEditorId','issn','ChiefPercent']).agg({'Percentage': 'mean', 'NewAuthorId': 'count'})\n",
    "    .reset_index()\n",
    "    .rename(columns={'Percentage':'BoardAvg', 'EditorsNewId':'EditorCount'})\n",
    ")"
   ]
  },
  {
   "cell_type": "code",
   "execution_count": 102,
   "metadata": {},
   "outputs": [],
   "source": [
    "chiefAndBoard.to_csv('../data/figure_3/EICandBoard.csv', sep='\\t', index=False, columns=['ChiefPercent','BoardAvg'])"
   ]
  },
  {
   "cell_type": "markdown",
   "metadata": {},
   "source": [
    "## Gender"
   ]
  },
  {
   "cell_type": "code",
   "execution_count": 108,
   "metadata": {},
   "outputs": [],
   "source": [
    "editor_gender = (\n",
    "    pd.read_csv('/scratch/fl1092/capstone/revise/EditorGender.csv',sep='\\t',\n",
    "                usecols=['NewAuthorId','gender'],\n",
    "                dtype={'NewAuthorId':int,'issn':str, 'start_year':int, 'end_year':int, 'gender':str})\n",
    "    .drop_duplicates()\n",
    ")"
   ]
  },
  {
   "cell_type": "code",
   "execution_count": 109,
   "metadata": {},
   "outputs": [],
   "source": [
    "editors = (\n",
    "    editor_gender.merge(editorProd, on=['NewAuthorId'], how='right')\n",
    "    .pipe(getJournalField)\n",
    ")"
   ]
  },
  {
   "cell_type": "code",
   "execution_count": 112,
   "metadata": {},
   "outputs": [],
   "source": [
    "editors.to_csv('../data/figure_3/EditorPercentageGender.csv', index=False, sep='\\t', columns=['AfAvg','gender'])"
   ]
  },
  {
   "cell_type": "code",
   "execution_count": 110,
   "metadata": {},
   "outputs": [
    {
     "data": {
      "text/html": [
       "<div>\n",
       "<style scoped>\n",
       "    .dataframe tbody tr th:only-of-type {\n",
       "        vertical-align: middle;\n",
       "    }\n",
       "\n",
       "    .dataframe tbody tr th {\n",
       "        vertical-align: top;\n",
       "    }\n",
       "\n",
       "    .dataframe thead th {\n",
       "        text-align: right;\n",
       "    }\n",
       "</style>\n",
       "<table border=\"1\" class=\"dataframe\">\n",
       "  <thead>\n",
       "    <tr style=\"text-align: right;\">\n",
       "      <th></th>\n",
       "      <th>NewAuthorId</th>\n",
       "      <th>gender</th>\n",
       "      <th>issn</th>\n",
       "      <th>AfterCount</th>\n",
       "      <th>Productivity</th>\n",
       "      <th>Percentage</th>\n",
       "      <th>Year0</th>\n",
       "      <th>AfSpan</th>\n",
       "      <th>AfAvg</th>\n",
       "      <th>FieldOfStudyId_x</th>\n",
       "      <th>Field_x</th>\n",
       "      <th>FieldOfStudyId_y</th>\n",
       "      <th>Field_y</th>\n",
       "    </tr>\n",
       "  </thead>\n",
       "  <tbody>\n",
       "    <tr>\n",
       "      <th>0</th>\n",
       "      <td>2628</td>\n",
       "      <td>male</td>\n",
       "      <td>15723089</td>\n",
       "      <td>4.0</td>\n",
       "      <td>61.0</td>\n",
       "      <td>0.065574</td>\n",
       "      <td>2009</td>\n",
       "      <td>5</td>\n",
       "      <td>0.8</td>\n",
       "      <td>162324750</td>\n",
       "      <td>Economics</td>\n",
       "      <td>162324750</td>\n",
       "      <td>Economics</td>\n",
       "    </tr>\n",
       "    <tr>\n",
       "      <th>1</th>\n",
       "      <td>65414</td>\n",
       "      <td>male</td>\n",
       "      <td>15723089</td>\n",
       "      <td>1.0</td>\n",
       "      <td>5.0</td>\n",
       "      <td>0.200000</td>\n",
       "      <td>2009</td>\n",
       "      <td>5</td>\n",
       "      <td>0.2</td>\n",
       "      <td>162324750</td>\n",
       "      <td>Economics</td>\n",
       "      <td>162324750</td>\n",
       "      <td>Economics</td>\n",
       "    </tr>\n",
       "    <tr>\n",
       "      <th>2</th>\n",
       "      <td>12772132</td>\n",
       "      <td>male</td>\n",
       "      <td>15723089</td>\n",
       "      <td>0.0</td>\n",
       "      <td>16.0</td>\n",
       "      <td>0.000000</td>\n",
       "      <td>2005</td>\n",
       "      <td>5</td>\n",
       "      <td>0.0</td>\n",
       "      <td>162324750</td>\n",
       "      <td>Economics</td>\n",
       "      <td>162324750</td>\n",
       "      <td>Economics</td>\n",
       "    </tr>\n",
       "    <tr>\n",
       "      <th>3</th>\n",
       "      <td>13559183</td>\n",
       "      <td>male</td>\n",
       "      <td>15723089</td>\n",
       "      <td>0.0</td>\n",
       "      <td>39.0</td>\n",
       "      <td>0.000000</td>\n",
       "      <td>2005</td>\n",
       "      <td>5</td>\n",
       "      <td>0.0</td>\n",
       "      <td>162324750</td>\n",
       "      <td>Economics</td>\n",
       "      <td>162324750</td>\n",
       "      <td>Economics</td>\n",
       "    </tr>\n",
       "    <tr>\n",
       "      <th>4</th>\n",
       "      <td>14312999</td>\n",
       "      <td>male</td>\n",
       "      <td>15723089</td>\n",
       "      <td>0.0</td>\n",
       "      <td>37.0</td>\n",
       "      <td>0.000000</td>\n",
       "      <td>2009</td>\n",
       "      <td>5</td>\n",
       "      <td>0.0</td>\n",
       "      <td>162324750</td>\n",
       "      <td>Economics</td>\n",
       "      <td>162324750</td>\n",
       "      <td>Economics</td>\n",
       "    </tr>\n",
       "  </tbody>\n",
       "</table>\n",
       "</div>"
      ],
      "text/plain": [
       "   NewAuthorId gender      issn  AfterCount  Productivity  Percentage  Year0  \\\n",
       "0         2628   male  15723089         4.0          61.0    0.065574   2009   \n",
       "1        65414   male  15723089         1.0           5.0    0.200000   2009   \n",
       "2     12772132   male  15723089         0.0          16.0    0.000000   2005   \n",
       "3     13559183   male  15723089         0.0          39.0    0.000000   2005   \n",
       "4     14312999   male  15723089         0.0          37.0    0.000000   2009   \n",
       "\n",
       "   AfSpan  AfAvg  FieldOfStudyId_x    Field_x  FieldOfStudyId_y    Field_y  \n",
       "0       5    0.8         162324750  Economics         162324750  Economics  \n",
       "1       5    0.2         162324750  Economics         162324750  Economics  \n",
       "2       5    0.0         162324750  Economics         162324750  Economics  \n",
       "3       5    0.0         162324750  Economics         162324750  Economics  \n",
       "4       5    0.0         162324750  Economics         162324750  Economics  "
      ]
     },
     "execution_count": 110,
     "metadata": {},
     "output_type": "execute_result"
    }
   ],
   "source": [
    "editors.head()"
   ]
  },
  {
   "cell_type": "code",
   "execution_count": null,
   "metadata": {},
   "outputs": [],
   "source": []
  },
  {
   "cell_type": "code",
   "execution_count": null,
   "metadata": {},
   "outputs": [],
   "source": []
  },
  {
   "cell_type": "code",
   "execution_count": 50,
   "metadata": {},
   "outputs": [
    {
     "name": "stdout",
     "output_type": "stream",
     "text": [
      "Editors: (12995, 6)\n",
      "(12995, 6) (12995, 6)\n"
     ]
    }
   ],
   "source": [
    "editors = anonymize(getEditors(5))"
   ]
  },
  {
   "cell_type": "code",
   "execution_count": 51,
   "metadata": {},
   "outputs": [
    {
     "data": {
      "text/html": [
       "<div>\n",
       "<style scoped>\n",
       "    .dataframe tbody tr th:only-of-type {\n",
       "        vertical-align: middle;\n",
       "    }\n",
       "\n",
       "    .dataframe tbody tr th {\n",
       "        vertical-align: top;\n",
       "    }\n",
       "\n",
       "    .dataframe thead th {\n",
       "        text-align: right;\n",
       "    }\n",
       "</style>\n",
       "<table border=\"1\" class=\"dataframe\">\n",
       "  <thead>\n",
       "    <tr style=\"text-align: right;\">\n",
       "      <th></th>\n",
       "      <th>start_year</th>\n",
       "      <th>gender</th>\n",
       "      <th>right</th>\n",
       "      <th>Span</th>\n",
       "      <th>EditorId</th>\n",
       "      <th>IssnId</th>\n",
       "    </tr>\n",
       "  </thead>\n",
       "  <tbody>\n",
       "    <tr>\n",
       "      <th>0</th>\n",
       "      <td>2005</td>\n",
       "      <td>male</td>\n",
       "      <td>2009</td>\n",
       "      <td>5</td>\n",
       "      <td>0</td>\n",
       "      <td>0</td>\n",
       "    </tr>\n",
       "    <tr>\n",
       "      <th>1</th>\n",
       "      <td>2005</td>\n",
       "      <td>male</td>\n",
       "      <td>2009</td>\n",
       "      <td>5</td>\n",
       "      <td>244</td>\n",
       "      <td>0</td>\n",
       "    </tr>\n",
       "    <tr>\n",
       "      <th>2</th>\n",
       "      <td>1994</td>\n",
       "      <td>male</td>\n",
       "      <td>1994</td>\n",
       "      <td>1</td>\n",
       "      <td>282</td>\n",
       "      <td>0</td>\n",
       "    </tr>\n",
       "    <tr>\n",
       "      <th>3</th>\n",
       "      <td>2005</td>\n",
       "      <td>male</td>\n",
       "      <td>2009</td>\n",
       "      <td>5</td>\n",
       "      <td>294</td>\n",
       "      <td>0</td>\n",
       "    </tr>\n",
       "    <tr>\n",
       "      <th>4</th>\n",
       "      <td>2005</td>\n",
       "      <td>female</td>\n",
       "      <td>2009</td>\n",
       "      <td>5</td>\n",
       "      <td>322</td>\n",
       "      <td>0</td>\n",
       "    </tr>\n",
       "  </tbody>\n",
       "</table>\n",
       "</div>"
      ],
      "text/plain": [
       "   start_year  gender  right  Span  EditorId  IssnId\n",
       "0        2005    male   2009     5         0       0\n",
       "1        2005    male   2009     5       244       0\n",
       "2        1994    male   1994     1       282       0\n",
       "3        2005    male   2009     5       294       0\n",
       "4        2005  female   2009     5       322       0"
      ]
     },
     "execution_count": 51,
     "metadata": {},
     "output_type": "execute_result"
    }
   ],
   "source": [
    "editors.head()"
   ]
  },
  {
   "cell_type": "code",
   "execution_count": 52,
   "metadata": {},
   "outputs": [],
   "source": [
    "editors[['EditorId','IssnId','gender']].to_csv('../data/figure_3/EditorGender.csv', sep='\\t', index=False)"
   ]
  },
  {
   "cell_type": "code",
   "execution_count": null,
   "metadata": {},
   "outputs": [],
   "source": []
  },
  {
   "cell_type": "code",
   "execution_count": null,
   "metadata": {},
   "outputs": [],
   "source": []
  },
  {
   "cell_type": "code",
   "execution_count": null,
   "metadata": {},
   "outputs": [],
   "source": []
  }
 ],
 "metadata": {
  "kernelspec": {
   "display_name": "Python 3",
   "language": "python",
   "name": "python3"
  },
  "language_info": {
   "codemirror_mode": {
    "name": "ipython",
    "version": 3
   },
   "file_extension": ".py",
   "mimetype": "text/x-python",
   "name": "python",
   "nbconvert_exporter": "python",
   "pygments_lexer": "ipython3",
   "version": "3.8.2"
  }
 },
 "nbformat": 4,
 "nbformat_minor": 4
}
