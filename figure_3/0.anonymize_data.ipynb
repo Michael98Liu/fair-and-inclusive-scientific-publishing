{
 "cells": [
  {
   "cell_type": "markdown",
   "metadata": {},
   "source": [
    "# Data anonymization\n",
    "To replace issn and identifier for editors with sequential numbers."
   ]
  },
  {
   "cell_type": "code",
   "execution_count": 3,
   "metadata": {},
   "outputs": [],
   "source": [
    "import sys\n",
    "sys.path.insert(1, '../src')\n",
    "\n",
    "import pandas as pd\n",
    "from tqdm import tqdm_notebook as tqdm\n",
    "from matplotlib import pyplot as plt\n",
    "import seaborn as sns\n",
    "from scipy import stats"
   ]
  },
  {
   "cell_type": "code",
   "execution_count": 4,
   "metadata": {},
   "outputs": [],
   "source": [
    "def anonymize(df):\n",
    "    print(df.shape, end=' ')\n",
    "    df = df.merge(editorMap, on='NewAuthorId').drop('NewAuthorId',axis=1)\n",
    "    df = df.merge(issnMap, on='issn').drop('issn',axis=1)\n",
    "    \n",
    "    print(df.shape)\n",
    "    return df"
   ]
  },
  {
   "cell_type": "code",
   "execution_count": null,
   "metadata": {},
   "outputs": [],
   "source": [
    "editors = pd.read_csv(\"/scratch/fl1092/capstone/elsevier/editors.csv\", sep='\\t',\n",
    "                     usecols=[\"NewAuthorId\", \"issn\", \"start_year\", \"end_year\"],\n",
    "                     dtype={\"NewAuthorId\":int, \"issn\":str, \"start_year\":int, \"end_year\":int})\n",
    "\n",
    "editorMap = editors[['NewAuthorId']].drop_duplicates().reset_index().rename(columns={'index':'EditorId'})\n",
    "issnMap = editors[['issn']].drop_duplicates().reset_index().rename(columns={'index':'IssnId'})\n",
    "\n",
    "editorMap.to_csv('/scratch/fl1092/capstone/anonymize/EditorMap.csv',sep='\\t',index=False)\n",
    "issnMap.to_csv('/scratch/fl1092/capstone/anonymize/IssnMap.csv',sep='\\t',index=False)"
   ]
  },
  {
   "cell_type": "markdown",
   "metadata": {},
   "source": [
    "## Load data"
   ]
  },
  {
   "cell_type": "code",
   "execution_count": 5,
   "metadata": {},
   "outputs": [],
   "source": [
    "editorMap = pd.read_csv('/scratch/fl1092/capstone/anonymize/EditorMap.csv',sep='\\t',\n",
    "                       usecols=['EditorId','NewAuthorId'], dtype={'EditorId':int,'NewAuthorId':int})\n",
    "issnMap = pd.read_csv('/scratch/fl1092/capstone/anonymize/IssnMap.csv',sep='\\t',\n",
    "                     usecols=['IssnId','issn'], dtype={'IssnId':int,'issn':str})"
   ]
  },
  {
   "cell_type": "code",
   "execution_count": 27,
   "metadata": {},
   "outputs": [
    {
     "name": "stdout",
     "output_type": "stream",
     "text": [
      "CPU times: user 23.9 s, sys: 8.73 s, total: 32.6 s\n",
      "Wall time: 32.9 s\n"
     ]
    }
   ],
   "source": [
    "%%time\n",
    "author_career = pd.read_csv('/scratch/fl1092/capstone/conflated/AuthorEraDisp.csv',\n",
    "            sep='\\t', memory_map=True,\n",
    "            usecols=['NewAuthorId', 'Parent', 'Yfp', 'Ylp'], # 'Yfp', 'Ylp', \n",
    "            dtype={'NewAuthorId':int, 'Yfp':int, 'Ylp':int, 'Parent':int})\n",
    "\n",
    "field_name = pd.read_csv(\"/scratch/fl1092/capstone/advanced/FieldsOfStudy.txt\", sep=\"\\t\",\n",
    "                        names = [\"FieldOfStudyId\", \"Rank\", \"NormalizedName\", \"DisplayName\",\n",
    "                                 \"MainType\", \"Level\", \"PaperCount\", \"CitationCount\", \"CreatedDate\"],\n",
    "                       usecols=['FieldOfStudyId','DisplayName'])"
   ]
  },
  {
   "cell_type": "code",
   "execution_count": 14,
   "metadata": {},
   "outputs": [
    {
     "name": "stdout",
     "output_type": "stream",
     "text": [
      "CPU times: user 4min 4s, sys: 1min 34s, total: 5min 39s\n",
      "Wall time: 5min 42s\n"
     ]
    }
   ],
   "source": [
    "%%time\n",
    "paper_journal = pd.read_csv(\"/scratch/fl1092/capstone/mag/PaperJournals.csv\", sep='\\t', memory_map=True,\n",
    "                        usecols=['PaperId', 'JournalId'], dtype={'PaperId':int, 'JournalId':int})\n",
    "\n",
    "paper_year = pd.read_csv(\"/scratch/fl1092/capstone/mag/PaperYear.csv\", sep='\\t', usecols=['PaperId', 'Year'],\n",
    "                    dtype={'PaperId':int, 'Year':int}, memory_map=True)\n",
    "\n",
    "papAuAff = pd.read_csv(\"/scratch/fl1092/capstone/mag/PaperAuthorAffiliations.txt\", sep=\"\\t\",\n",
    "                              names = ['PaperId', 'AuthorId', 'AffiliationId', 'AuthorSequenceNumber', \n",
    "                                       'OriginalAuthor', 'OriginalAffiliation'],\n",
    "                              usecols = ['PaperId', 'AuthorId'], memory_map=True)\n",
    "\n",
    "newid = pd.read_csv(\"/scratch/fl1092/capstone/conflation/AuthorId_to_ScientistId.csv\", memory_map=True,\n",
    "                   usecols=['AuthorId','NewAuthorId'], dtype={'AuthorId':int,'NewAuthorId':int})"
   ]
  },
  {
   "cell_type": "code",
   "execution_count": 25,
   "metadata": {},
   "outputs": [],
   "source": [
    "elsevier_journals = pd.read_csv(\"/scratch/fl1092/capstone/bigmem/Journals_matched.csv\", sep=\"\\t\",\n",
    "                               usecols=['JournalId','issn'],\n",
    "                               dtype={'CitationCount':int,'DisplayName':str,'JournalId':int,\n",
    "                                      'PaperCount':int,'Rank':int,'issn':str})"
   ]
  },
  {
   "cell_type": "code",
   "execution_count": 26,
   "metadata": {},
   "outputs": [],
   "source": [
    "editorials = pd.read_csv('/scratch/fl1092/capstone/elsevier/Editorials.csv',sep='\\t',\n",
    "                        dtype={'PaperId':int,'Editorial':int})"
   ]
  },
  {
   "cell_type": "markdown",
   "metadata": {},
   "source": [
    "## Identify normal, questionable, and suspicious editors"
   ]
  },
  {
   "cell_type": "code",
   "execution_count": 35,
   "metadata": {},
   "outputs": [],
   "source": [
    "import pandas as pd\n",
    "import numpy as np\n",
    "import scipy\n",
    "from scipy.stats import fisher_exact\n",
    "\n",
    "def getBad(filename, Aq=1, Bq=2, As=2, Bs=3):\n",
    "    jpub_count = pd.read_csv(filename, sep='\\t',\n",
    "                    usecols=['EditorId','IssnId','BeAvg','AfAvg','left','right','Year0'],\n",
    "                    dtype={'EditorId':int,'IssnId':int,'BeAvg':float,'AfAvg':float,\n",
    "                           'left':int,'right':int,'Year0':int})\n",
    "    \n",
    "    normal = jpub_count[jpub_count.apply(lambda row: row.AfAvg < max(row.BeAvg * Bq, Aq), axis=1)]\n",
    "    Q = jpub_count[jpub_count.apply(lambda row: row.AfAvg >= max(row.BeAvg * Bq, Aq), axis=1)]\n",
    "    S = jpub_count[jpub_count.apply(lambda row: row.AfAvg >= max(row.BeAvg * Bs, As), axis=1)]\n",
    "    \n",
    "    print(f'# Aq: {Aq}, Bq {Bq}, As: {As}, Bs: {Bs} | ',\n",
    "          f'questionable: {round(Q.shape[0]/jpub_count.shape[0]*100, 2)}%,\\\n",
    "          suspicious: {round(S.shape[0]/jpub_count.shape[0]*100, 2)}%')\n",
    "    \n",
    "    return normal, Q, S"
   ]
  },
  {
   "cell_type": "code",
   "execution_count": 45,
   "metadata": {},
   "outputs": [],
   "source": [
    "def getEditors(window):\n",
    "    # window: the number of years that we filter\n",
    "    \n",
    "    editors = (\n",
    "        \n",
    "        pd.read_csv(\"/scratch/fl1092/capstone/revise/EditorGender.csv\", sep='\\t',\n",
    "                    usecols=[\"NewAuthorId\", \"issn\", \"start_year\", \"end_year\"],\n",
    "                    dtype={\"NewAuthorId\":int, \"issn\":str, \"start_year\":int, \"end_year\":int})\n",
    "        .assign(Year0 = lambda df: df.start_year.apply(lambda x: x-1))\n",
    "        .query(f'start_year <= {2018-(window-1)}') # year0 prior to 2014\n",
    "        .merge(author_career, on='NewAuthorId')\n",
    "\n",
    "        .assign(left = lambda df: df.Year0-(window-1))\n",
    "        .assign(right = lambda df: df.Year0+window)\n",
    "        .assign(left = lambda df: df.apply(lambda row: max(row.left, row.Yfp), axis=1))\n",
    "        .assign(right = lambda df: df.apply(lambda row: min(row.right, row.end_year), axis=1))\n",
    "\n",
    "    ) # latest, editor start in 2014, and have 5 years of service, i.e. 14 15, 16, 17, 18\n",
    "    if editors.right.max() != 2018:\n",
    "        print(f'Warning! Max right {editors.right.max()}')\n",
    "    \n",
    "    return editors\n",
    "\n",
    "def getEditorPaper(editors, window):\n",
    "    # editors: NewAuthorId, issn, left, right\n",
    "    \n",
    "    edi_papers = (\n",
    "        editors.merge(newid, on='NewAuthorId')\n",
    "\n",
    "        .merge(papAuAff, on='AuthorId')\n",
    "\n",
    "        .merge(paper_year, on='PaperId')\n",
    "        .query('Year >= left')\n",
    "        .query('Year <= right')\n",
    "\n",
    "        .merge(paper_journal, on='PaperId')\n",
    "        .merge(elsevier_journals, on=['JournalId','issn'])\n",
    "\n",
    "        .merge(editorials, on='PaperId', how='left').fillna(0)\n",
    "        \n",
    "        .query('Editorial == 0')\n",
    "        \n",
    "        .drop_duplicates()\n",
    "    )\n",
    "    \n",
    "    return edi_papers\n",
    "    \n",
    "def getPaperCount(editors, edi_papers):\n",
    "    \n",
    "    before = edi_papers[edi_papers.Year <= edi_papers.Year0].groupby(\n",
    "        ['NewAuthorId','issn','Year0','left','right']).PaperId.nunique().reset_index()\n",
    "\n",
    "    after = edi_papers[edi_papers.Year > edi_papers.Year0].groupby(\n",
    "        ['NewAuthorId','issn','Year0','left','right']).PaperId.nunique().reset_index()\n",
    "\n",
    "    before = before.rename(columns={'PaperId':'BeforeCount'})\n",
    "    after = after.rename(columns={'PaperId':'AfterCount'})\n",
    "    \n",
    "    paper_count = (\n",
    "        before.merge(after, on=['NewAuthorId','issn','Year0','left','right'], how='outer')\n",
    "        .merge(\n",
    "            editors[['NewAuthorId','issn','Year0','left','right']],\n",
    "            on=['NewAuthorId','issn','Year0','left','right'], how='outer')\n",
    "        .fillna(0)\n",
    "\n",
    "        .assign(BeSpan = lambda df: df.Year0 - df.left + 1)\n",
    "        .assign(AfSpan = lambda df: df.right - df.Year0)\n",
    "\n",
    "        .assign(AfAvg = lambda df: df.AfterCount/df.AfSpan)\n",
    "        .assign(BeAvg = lambda df: df.BeforeCount/df.BeSpan)\n",
    "    )\n",
    "    \n",
    "    return paper_count\n",
    "\n",
    "def NQSpipeLine(window):\n",
    "    \n",
    "    outfile = f'../data/figure_3/EditorJournalPub_{window}.csv'\n",
    "    paperOut = f\"../data/figure_3/EditorJournalPublicationNoEditorial_{window}.csv\"\n",
    "    \n",
    "    editors = getEditors(window)\n",
    "    \n",
    "    edi_papers = getEditorPaper(editors, window)\n",
    "    \n",
    "    paper_count = getPaperCount(editors, edi_papers)\n",
    "    \n",
    "    paper_count = anonymize(paper_count)\n",
    "    \n",
    "    paper_count.to_csv(outfile,sep='\\t',index=False)\n",
    "    \n",
    "    edi_papers = anonymize(edi_papers)\n",
    "    \n",
    "    (\n",
    "        edi_papers[['EditorId','IssnId','Year0','Year','Editorial']]\n",
    "        .to_csv(paperOut, sep='\\t') # unique index for each paper each row\n",
    "    )\n",
    "    \n",
    "    editors = anonymize(editors)\n",
    "    editors.to_csv('../data/figure_3/AllEditors.csv',sep='\\t',index=False)\n",
    "    \n",
    "    n, q, s = getBad(outfile)"
   ]
  },
  {
   "cell_type": "code",
   "execution_count": 40,
   "metadata": {},
   "outputs": [
    {
     "name": "stdout",
     "output_type": "stream",
     "text": [
      "(12995, 11) (12995, 11)\n",
      "(39801, 15) (39801, 15)\n",
      "(12995, 10) (12995, 10)\n",
      "# Aq: 1, Bq 2, As: 2, Bs: 3 |  questionable: 8.27%,          suspicious: 1.81%\n",
      "CPU times: user 7min 5s, sys: 1min 30s, total: 8min 36s\n",
      "Wall time: 8min 38s\n"
     ]
    }
   ],
   "source": [
    "%%time\n",
    "NQSpipeLine(5)"
   ]
  },
  {
   "cell_type": "markdown",
   "metadata": {},
   "source": [
    "## Editors in chief"
   ]
  },
  {
   "cell_type": "code",
   "execution_count": 29,
   "metadata": {},
   "outputs": [
    {
     "data": {
      "text/plain": [
       "(1665, 4)"
      ]
     },
     "execution_count": 29,
     "metadata": {},
     "output_type": "execute_result"
    }
   ],
   "source": [
    "chief_editors = pd.read_csv('/scratch/fl1092/capstone/elsevier/EditorsInChief.csv',sep='\\t',\n",
    "                           dtype={'NewAuthorId':int,'issn':str,'chief_start':int,'chief_end':int})\n",
    "chief_editors.shape"
   ]
  },
  {
   "cell_type": "code",
   "execution_count": 30,
   "metadata": {},
   "outputs": [
    {
     "name": "stdout",
     "output_type": "stream",
     "text": [
      "(1665, 4) (1665, 4)\n"
     ]
    }
   ],
   "source": [
    "chief_editors = anonymize(chief_editors)"
   ]
  },
  {
   "cell_type": "code",
   "execution_count": 31,
   "metadata": {},
   "outputs": [],
   "source": [
    "chief_editors.to_csv(\"../data/figure_2/EditorsInChief.csv\",sep='\\t')"
   ]
  },
  {
   "cell_type": "markdown",
   "metadata": {},
   "source": [
    "## Matching"
   ]
  },
  {
   "cell_type": "code",
   "execution_count": 4,
   "metadata": {},
   "outputs": [],
   "source": [
    "import helper\n",
    "import matcher\n",
    "import getpub\n",
    "import plotter"
   ]
  },
  {
   "cell_type": "code",
   "execution_count": 5,
   "metadata": {},
   "outputs": [],
   "source": [
    "def getLine(typ):\n",
    "\n",
    "    L = helper.Loader(dir_name=\"/scratch/fl1092/capstone/matching/dummy/\")\n",
    "    L.load_field()\n",
    "    M = matcher.Matcher(L, matched = pd.DataFrame(columns=[\"EditorsNewId\",\"issn\"]))\n",
    "    M.groups=None\n",
    "    G = getpub.GetPub(L, M, typ)\n",
    "    G.load_lines()\n",
    "    \n",
    "    return G"
   ]
  },
  {
   "cell_type": "code",
   "execution_count": 6,
   "metadata": {},
   "outputs": [],
   "source": [
    "def calcAvg(df):\n",
    "    editors = df[['EditorsNewId','issn','EditorYear','EdiCount']].drop_duplicates()\n",
    "    authors = df.groupby(['EditorsNewId','issn','EditorYear']).AutCount.mean().reset_index()\n",
    "    assert(editors.shape[0] == authors.shape[0])\n",
    "    \n",
    "    pairs = editors.merge(authors, on=['EditorsNewId','issn','EditorYear'])\n",
    "    \n",
    "    return pairs"
   ]
  },
  {
   "cell_type": "code",
   "execution_count": 7,
   "metadata": {},
   "outputs": [
    {
     "name": "stdout",
     "output_type": "stream",
     "text": [
      "/scratch/fl1092/capstone/matching/dummy/ exists\n",
      "Done initializing\n",
      "fields shape: (127684835, 2)\n",
      "(0, 2) 0 (0, 2) \n",
      "/scratch/fl1092/capstone/matching/revise_jpub_figure2/ exists\n",
      "CPU times: user 31.3 s, sys: 6.74 s, total: 38 s\n",
      "Wall time: 38.6 s\n"
     ]
    }
   ],
   "source": [
    "%%time\n",
    "pubG = getLine('revise_jpub_figure2')"
   ]
  },
  {
   "cell_type": "code",
   "execution_count": 4,
   "metadata": {},
   "outputs": [
    {
     "name": "stdout",
     "output_type": "stream",
     "text": [
      "/scratch/fl1092/capstone/matching/dummy/ exists\n",
      "Done initializing\n",
      "fields shape: (127684835, 2)\n",
      "(0, 2) 0 (0, 2) \n",
      "/scratch/fl1092/capstone/matching/jpub_figure2/ exists\n",
      "/scratch/fl1092/capstone/matching/dummy/ exists\n",
      "Done initializing\n",
      "fields shape: (127684835, 2)\n",
      "(0, 2) 0 (0, 2) \n",
      "/scratch/fl1092/capstone/matching/jcite_figure2/ exists\n",
      "CPU times: user 1min 5s, sys: 15.1 s, total: 1min 20s\n",
      "Wall time: 1min 21s\n"
     ]
    }
   ],
   "source": [
    "%%time\n",
    "pubG = getLine('revise_jpub_figure2')"
   ]
  },
  {
   "cell_type": "code",
   "execution_count": 8,
   "metadata": {},
   "outputs": [],
   "source": [
    "pubG.n_count = calcAvg(pubG.n_count)\n",
    "pubG.q_count = calcAvg(pubG.q_count)\n",
    "pubG.s_count = calcAvg(pubG.s_count)"
   ]
  },
  {
   "cell_type": "code",
   "execution_count": 9,
   "metadata": {},
   "outputs": [],
   "source": [
    "pubG.n_count.drop(['EditorsNewId', 'issn'],axis=1).to_csv('../data/figure_3/NormPub.csv',sep='\\t',index=False)\n",
    "pubG.q_count.drop(['EditorsNewId', 'issn'],axis=1).to_csv('../data/figure_3/QuesPub.csv',sep='\\t',index=False)\n",
    "pubG.s_count.drop(['EditorsNewId', 'issn'],axis=1).to_csv('../data/figure_3/SuspPub.csv',sep='\\t',index=False)"
   ]
  },
  {
   "cell_type": "markdown",
   "metadata": {},
   "source": [
    "## Compare with other editorial board member"
   ]
  },
  {
   "cell_type": "code",
   "execution_count": 6,
   "metadata": {},
   "outputs": [],
   "source": [
    "def findPairs(candidates):\n",
    "    # find pairs of editors to compare\n",
    "    \n",
    "    editors = (\n",
    "        pd.read_csv(\"/scratch/fl1092/capstone/elsevier/editors.csv\", sep='\\t',\n",
    "                    usecols=[\"NewAuthorId\", \"issn\", \"start_year\", \"end_year\"],\n",
    "                    dtype={\"NewAuthorId\":int, \"issn\":str, \"start_year\":int, \"end_year\":int})\n",
    "    )\n",
    "    \n",
    "    full_editors = getFull(editors, 'start_year', 'end_year')\n",
    "    \n",
    "    full_candi = getFull(candidates, 'start_year', 'right')\n",
    "    \n",
    "    to_compare = (\n",
    "        full_candi.rename(columns={'NewAuthorId':'Candidate'})\n",
    "        .merge(full_editors, on=['issn','Year'])\n",
    "    )\n",
    "    print('Pairs to be compared', to_compare.shape)\n",
    "    \n",
    "    return to_compare"
   ]
  },
  {
   "cell_type": "code",
   "execution_count": 17,
   "metadata": {},
   "outputs": [],
   "source": [
    "def getEditorPaperInYear(pairs):\n",
    "    # the number of editors \"NewAuthorId\" papers in \"issn\", in \"Year\"\n",
    "    \n",
    "    editors = pd.concat([\n",
    "        pairs[['Candidate','issn','Year']].drop_duplicates().rename(columns={'Candidate':'NewAuthorId'}),\n",
    "        pairs[['NewAuthorId','issn','Year']]]).drop_duplicates()\n",
    "    \n",
    "    papers = (\n",
    "        editors.merge(newid, on='NewAuthorId')\n",
    "        .merge(papAuAff, on='AuthorId')\n",
    "        .drop('AuthorId', axis=1)\n",
    "        .drop_duplicates()\n",
    "        .merge(paper_year, on=['PaperId','Year'])\n",
    "        \n",
    "        .merge(paper_journal, on='PaperId')\n",
    "        .merge(elsevier_journals, on=['JournalId','issn'])\n",
    "\n",
    "        .merge(editorials, on='PaperId', how='left').fillna(0)\n",
    "        \n",
    "        .query('Editorial == 0')\n",
    "    )\n",
    "    \n",
    "    paper_count = (\n",
    "        papers.groupby(['NewAuthorId','issn','Year']).PaperId.nunique().reset_index()\n",
    "        .rename(columns={'PaperId':'Count'})\n",
    "    )\n",
    "    \n",
    "    return papers, paper_count"
   ]
  },
  {
   "cell_type": "code",
   "execution_count": 46,
   "metadata": {},
   "outputs": [],
   "source": [
    "def getEditors(window):\n",
    "    # window: the number of years that we filter\n",
    "    \n",
    "    editors = (\n",
    "        # \"/scratch/fl1092/capstone/revise/EditorGender.csv\"\n",
    "        # \"/scratch/fl1092/capstone/elsevier/editors.csv\"\n",
    "        pd.read_csv(\"/scratch/fl1092/capstone/revise/EditorGender.csv\", sep='\\t',\n",
    "                    usecols=[\"NewAuthorId\", \"issn\", \"start_year\", \"end_year\"],\n",
    "                    dtype={\"NewAuthorId\":int, \"issn\":str, \"start_year\":int, \"end_year\":int})\n",
    "        \n",
    "        .assign(Year0 = lambda df: df.start_year.apply(lambda x: x-1))\n",
    "        .query(f'start_year <= {2018-(window-1)}') # year0 prior to 2014\n",
    "        \n",
    "        .assign(right = lambda df: df.Year0+window)\n",
    "        .assign(right = lambda df: df.apply(lambda row: min(row.right, row.end_year), axis=1))\n",
    "    \n",
    "        .drop(['Year0', 'end_year'], axis=1)\n",
    "        .assign(Span = lambda df: df.right - df.start_year + 1)\n",
    "    ) # latest, editor start in 2014, and have 5 years of service, i.e. 14 15, 16, 17, 18\n",
    "    if editors.right.max() != 2018:\n",
    "        print(f'Warning! Max right {editors.right.max()}')\n",
    "\n",
    "    print('Editors:', editors.shape) # 5: (15956, 4)\n",
    "    \n",
    "    return editors"
   ]
  },
  {
   "cell_type": "code",
   "execution_count": 19,
   "metadata": {},
   "outputs": [],
   "source": [
    "def getFull(df, left, right):\n",
    "    full = []\n",
    "    for year in range(df[left].min(), df[right].max() + 1):\n",
    "        full.append(df[(df[left] <= year) & (df[right] >= year)].assign(Year = year))\n",
    "    \n",
    "    return pd.concat(full, ignore_index=True, sort=False)"
   ]
  },
  {
   "cell_type": "code",
   "execution_count": 20,
   "metadata": {},
   "outputs": [
    {
     "name": "stdout",
     "output_type": "stream",
     "text": [
      "Editors: (12995, 5)\n",
      "CPU times: user 187 ms, sys: 4.8 ms, total: 192 ms\n",
      "Wall time: 221 ms\n"
     ]
    }
   ],
   "source": [
    "%%time\n",
    "candidates = getEditors(5)"
   ]
  },
  {
   "cell_type": "code",
   "execution_count": 21,
   "metadata": {},
   "outputs": [
    {
     "name": "stdout",
     "output_type": "stream",
     "text": [
      "Pairs to be compared (1305384, 9)\n"
     ]
    }
   ],
   "source": [
    "pairs = findPairs(candidates)\n",
    "assert(pairs[['Candidate','issn','Year','NewAuthorId']].drop_duplicates().shape[0] == pairs.shape[0])"
   ]
  },
  {
   "cell_type": "code",
   "execution_count": 22,
   "metadata": {},
   "outputs": [
    {
     "data": {
      "text/html": [
       "<div>\n",
       "<style scoped>\n",
       "    .dataframe tbody tr th:only-of-type {\n",
       "        vertical-align: middle;\n",
       "    }\n",
       "\n",
       "    .dataframe tbody tr th {\n",
       "        vertical-align: top;\n",
       "    }\n",
       "\n",
       "    .dataframe thead th {\n",
       "        text-align: right;\n",
       "    }\n",
       "</style>\n",
       "<table border=\"1\" class=\"dataframe\">\n",
       "  <thead>\n",
       "    <tr style=\"text-align: right;\">\n",
       "      <th></th>\n",
       "      <th>Candidate</th>\n",
       "      <th>issn</th>\n",
       "      <th>start_year_x</th>\n",
       "      <th>right</th>\n",
       "      <th>Span</th>\n",
       "      <th>Year</th>\n",
       "      <th>NewAuthorId</th>\n",
       "      <th>start_year_y</th>\n",
       "      <th>end_year</th>\n",
       "    </tr>\n",
       "  </thead>\n",
       "  <tbody>\n",
       "    <tr>\n",
       "      <th>0</th>\n",
       "      <td>8823286</td>\n",
       "      <td>00029343</td>\n",
       "      <td>1956</td>\n",
       "      <td>1960</td>\n",
       "      <td>5</td>\n",
       "      <td>1956</td>\n",
       "      <td>8823286</td>\n",
       "      <td>1956</td>\n",
       "      <td>1971</td>\n",
       "    </tr>\n",
       "    <tr>\n",
       "      <th>1</th>\n",
       "      <td>8823286</td>\n",
       "      <td>00029343</td>\n",
       "      <td>1956</td>\n",
       "      <td>1960</td>\n",
       "      <td>5</td>\n",
       "      <td>1957</td>\n",
       "      <td>8823286</td>\n",
       "      <td>1956</td>\n",
       "      <td>1971</td>\n",
       "    </tr>\n",
       "    <tr>\n",
       "      <th>2</th>\n",
       "      <td>8823286</td>\n",
       "      <td>00029343</td>\n",
       "      <td>1956</td>\n",
       "      <td>1960</td>\n",
       "      <td>5</td>\n",
       "      <td>1958</td>\n",
       "      <td>8823286</td>\n",
       "      <td>1956</td>\n",
       "      <td>1971</td>\n",
       "    </tr>\n",
       "    <tr>\n",
       "      <th>3</th>\n",
       "      <td>8823286</td>\n",
       "      <td>00029343</td>\n",
       "      <td>1956</td>\n",
       "      <td>1960</td>\n",
       "      <td>5</td>\n",
       "      <td>1959</td>\n",
       "      <td>8823286</td>\n",
       "      <td>1956</td>\n",
       "      <td>1971</td>\n",
       "    </tr>\n",
       "    <tr>\n",
       "      <th>4</th>\n",
       "      <td>8823286</td>\n",
       "      <td>00029343</td>\n",
       "      <td>1956</td>\n",
       "      <td>1960</td>\n",
       "      <td>5</td>\n",
       "      <td>1960</td>\n",
       "      <td>8823286</td>\n",
       "      <td>1956</td>\n",
       "      <td>1971</td>\n",
       "    </tr>\n",
       "  </tbody>\n",
       "</table>\n",
       "</div>"
      ],
      "text/plain": [
       "   Candidate      issn  start_year_x  right  Span  Year  NewAuthorId  \\\n",
       "0    8823286  00029343          1956   1960     5  1956      8823286   \n",
       "1    8823286  00029343          1956   1960     5  1957      8823286   \n",
       "2    8823286  00029343          1956   1960     5  1958      8823286   \n",
       "3    8823286  00029343          1956   1960     5  1959      8823286   \n",
       "4    8823286  00029343          1956   1960     5  1960      8823286   \n",
       "\n",
       "   start_year_y  end_year  \n",
       "0          1956      1971  \n",
       "1          1956      1971  \n",
       "2          1956      1971  \n",
       "3          1956      1971  \n",
       "4          1956      1971  "
      ]
     },
     "execution_count": 22,
     "metadata": {},
     "output_type": "execute_result"
    }
   ],
   "source": [
    "pairs.head()"
   ]
  },
  {
   "cell_type": "code",
   "execution_count": 28,
   "metadata": {},
   "outputs": [
    {
     "name": "stdout",
     "output_type": "stream",
     "text": [
      "CPU times: user 6min 47s, sys: 1min 23s, total: 8min 11s\n",
      "Wall time: 8min 14s\n"
     ]
    }
   ],
   "source": [
    "%%time\n",
    "papers, paper_count = getEditorPaperInYear(pairs)"
   ]
  },
  {
   "cell_type": "code",
   "execution_count": 29,
   "metadata": {},
   "outputs": [
    {
     "data": {
      "text/plain": [
       "(43623, 6)"
      ]
     },
     "execution_count": 29,
     "metadata": {},
     "output_type": "execute_result"
    }
   ],
   "source": [
    "papers.shape"
   ]
  },
  {
   "cell_type": "code",
   "execution_count": 30,
   "metadata": {},
   "outputs": [
    {
     "data": {
      "text/plain": [
       "(25636, 4)"
      ]
     },
     "execution_count": 30,
     "metadata": {},
     "output_type": "execute_result"
    }
   ],
   "source": [
    "paper_year = (\n",
    "    papers.groupby(['NewAuthorId','issn','Year']).PaperId.nunique().reset_index()\n",
    "    .rename(columns={'PaperId':'Count'})\n",
    ")\n",
    "paper_year.shape"
   ]
  },
  {
   "cell_type": "code",
   "execution_count": 31,
   "metadata": {},
   "outputs": [
    {
     "name": "stdout",
     "output_type": "stream",
     "text": [
      "(1305384, 7)\n",
      "(55601, 7)\n",
      "CPU times: user 1.04 s, sys: 71.5 ms, total: 1.11 s\n",
      "Wall time: 1.11 s\n"
     ]
    }
   ],
   "source": [
    "%%time\n",
    "to_plot = (\n",
    "    pairs[['Candidate','issn','Year','NewAuthorId']]\n",
    "    .merge(\n",
    "        candidates.assign(Year0 = lambda df: df.start_year - 1)\n",
    "        .drop(['start_year', 'right', 'Span'], axis=1)\n",
    "        .rename(columns={'NewAuthorId':'Candidate'}),\n",
    "        on=['Candidate','issn']\n",
    "    )\n",
    "    \n",
    "    .merge(paper_year.rename(\n",
    "        columns={'NewAuthorId':'Candidate','Count':'EdiCount'}),\n",
    "           on=['Candidate','issn','Year'], how='left')\n",
    "    .merge(paper_year.rename(columns={'Count':'AutCount'}), on=['NewAuthorId','issn','Year'], how='left')\n",
    "    .fillna(0)\n",
    ")\n",
    "print(to_plot.shape)\n",
    "\n",
    "assert(to_plot[['Candidate','issn','Year']].drop_duplicates().shape[0]\n",
    "       == to_plot[['Candidate','issn','Year','EdiCount']].drop_duplicates().shape[0])\n",
    "\n",
    "assert(pairs.shape[0] == to_plot.shape[0])\n",
    "\n",
    "to_plot = (\n",
    "    to_plot.groupby(['Candidate','issn','Year','EdiCount','Year0']).AutCount.mean().reset_index()\n",
    "    .rename(columns={'Candidate':'NewAuthorId'})\n",
    "    .assign(EditorYear = lambda df: df.Year-df.Year0)\n",
    ")\n",
    "print(to_plot.shape)\n",
    "\n",
    "# (1305384, 7)\n",
    "# (55601, 7)"
   ]
  },
  {
   "cell_type": "code",
   "execution_count": 33,
   "metadata": {},
   "outputs": [
    {
     "name": "stdout",
     "output_type": "stream",
     "text": [
      "(55601, 7) (55601, 7)\n"
     ]
    }
   ],
   "source": [
    "anoToPlot = anonymize(to_plot)"
   ]
  },
  {
   "cell_type": "code",
   "execution_count": 34,
   "metadata": {},
   "outputs": [],
   "source": [
    "anoToPlot.to_csv('../data/figure_3/CompareWColleagues.csv', sep='\\t', index=False)"
   ]
  },
  {
   "cell_type": "markdown",
   "metadata": {},
   "source": [
    "## Gender"
   ]
  },
  {
   "cell_type": "code",
   "execution_count": 50,
   "metadata": {},
   "outputs": [
    {
     "name": "stdout",
     "output_type": "stream",
     "text": [
      "Editors: (12995, 6)\n",
      "(12995, 6) (12995, 6)\n"
     ]
    }
   ],
   "source": [
    "editors = anonymize(getEditors(5))"
   ]
  },
  {
   "cell_type": "code",
   "execution_count": 51,
   "metadata": {},
   "outputs": [
    {
     "data": {
      "text/html": [
       "<div>\n",
       "<style scoped>\n",
       "    .dataframe tbody tr th:only-of-type {\n",
       "        vertical-align: middle;\n",
       "    }\n",
       "\n",
       "    .dataframe tbody tr th {\n",
       "        vertical-align: top;\n",
       "    }\n",
       "\n",
       "    .dataframe thead th {\n",
       "        text-align: right;\n",
       "    }\n",
       "</style>\n",
       "<table border=\"1\" class=\"dataframe\">\n",
       "  <thead>\n",
       "    <tr style=\"text-align: right;\">\n",
       "      <th></th>\n",
       "      <th>start_year</th>\n",
       "      <th>gender</th>\n",
       "      <th>right</th>\n",
       "      <th>Span</th>\n",
       "      <th>EditorId</th>\n",
       "      <th>IssnId</th>\n",
       "    </tr>\n",
       "  </thead>\n",
       "  <tbody>\n",
       "    <tr>\n",
       "      <th>0</th>\n",
       "      <td>2005</td>\n",
       "      <td>male</td>\n",
       "      <td>2009</td>\n",
       "      <td>5</td>\n",
       "      <td>0</td>\n",
       "      <td>0</td>\n",
       "    </tr>\n",
       "    <tr>\n",
       "      <th>1</th>\n",
       "      <td>2005</td>\n",
       "      <td>male</td>\n",
       "      <td>2009</td>\n",
       "      <td>5</td>\n",
       "      <td>244</td>\n",
       "      <td>0</td>\n",
       "    </tr>\n",
       "    <tr>\n",
       "      <th>2</th>\n",
       "      <td>1994</td>\n",
       "      <td>male</td>\n",
       "      <td>1994</td>\n",
       "      <td>1</td>\n",
       "      <td>282</td>\n",
       "      <td>0</td>\n",
       "    </tr>\n",
       "    <tr>\n",
       "      <th>3</th>\n",
       "      <td>2005</td>\n",
       "      <td>male</td>\n",
       "      <td>2009</td>\n",
       "      <td>5</td>\n",
       "      <td>294</td>\n",
       "      <td>0</td>\n",
       "    </tr>\n",
       "    <tr>\n",
       "      <th>4</th>\n",
       "      <td>2005</td>\n",
       "      <td>female</td>\n",
       "      <td>2009</td>\n",
       "      <td>5</td>\n",
       "      <td>322</td>\n",
       "      <td>0</td>\n",
       "    </tr>\n",
       "  </tbody>\n",
       "</table>\n",
       "</div>"
      ],
      "text/plain": [
       "   start_year  gender  right  Span  EditorId  IssnId\n",
       "0        2005    male   2009     5         0       0\n",
       "1        2005    male   2009     5       244       0\n",
       "2        1994    male   1994     1       282       0\n",
       "3        2005    male   2009     5       294       0\n",
       "4        2005  female   2009     5       322       0"
      ]
     },
     "execution_count": 51,
     "metadata": {},
     "output_type": "execute_result"
    }
   ],
   "source": [
    "editors.head()"
   ]
  },
  {
   "cell_type": "code",
   "execution_count": 52,
   "metadata": {},
   "outputs": [],
   "source": [
    "editors[['EditorId','IssnId','gender']].to_csv('../data/figure_3/EditorGender.csv', sep='\\t', index=False)"
   ]
  },
  {
   "cell_type": "code",
   "execution_count": null,
   "metadata": {},
   "outputs": [],
   "source": []
  }
 ],
 "metadata": {
  "kernelspec": {
   "display_name": "Python 3",
   "language": "python",
   "name": "python3"
  },
  "language_info": {
   "codemirror_mode": {
    "name": "ipython",
    "version": 3
   },
   "file_extension": ".py",
   "mimetype": "text/x-python",
   "name": "python",
   "nbconvert_exporter": "python",
   "pygments_lexer": "ipython3",
   "version": "3.8.5"
  }
 },
 "nbformat": 4,
 "nbformat_minor": 4
}
