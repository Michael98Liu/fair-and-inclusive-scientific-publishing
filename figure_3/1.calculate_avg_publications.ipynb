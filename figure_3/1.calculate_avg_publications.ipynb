{
 "cells": [
  {
   "cell_type": "markdown",
   "metadata": {},
   "source": [
    "# Calculating avg. publication count\n",
    "\n",
    "Classifying which editors are normal, questionable, and suspicious requires us knowing the average number of papers an editor publishes in his or her journal in the 5-year window (or as long as someone remains on the editorial board, whichever is shorter) after he or she becomes and editor, and 5-year window before someone becomes an editor (or as long one is research-active, whichever is shorter).\n",
    "\n",
    "Again, computations demonstrated on the sample set of editors."
   ]
  },
  {
   "cell_type": "code",
   "execution_count": 1,
   "metadata": {},
   "outputs": [],
   "source": [
    "import pandas as pd"
   ]
  },
  {
   "cell_type": "markdown",
   "metadata": {},
   "source": [
    "## Load data"
   ]
  },
  {
   "cell_type": "code",
   "execution_count": 2,
   "metadata": {},
   "outputs": [
    {
     "name": "stdout",
     "output_type": "stream",
     "text": [
      "CPU times: user 3.06 ms, sys: 15 µs, total: 3.07 ms\n",
      "Wall time: 3.72 ms\n"
     ]
    }
   ],
   "source": [
    "%%time\n",
    "editor_career = pd.read_csv('../data/EditorCareerDiscipline.csv',\n",
    "            sep='\\t', memory_map=True,\n",
    "            usecols=['NewAuthorId', 'Yfp', 'Ylp', 'Parent'],\n",
    "            dtype={'NewAuthorId':int, 'Yfp':int, 'Ylp':int, 'Parent':int})"
   ]
  },
  {
   "cell_type": "code",
   "execution_count": 3,
   "metadata": {},
   "outputs": [
    {
     "data": {
      "text/plain": [
       "((817, 4), 6)"
      ]
     },
     "execution_count": 3,
     "metadata": {},
     "output_type": "execute_result"
    }
   ],
   "source": [
    "papers = pd.read_csv('../data/EditorPapers.csv',sep='\\t',\n",
    "                    dtype={'NewAuthorId':int,'PaperId':int,'Year':int,'JournalId':int})\n",
    "papers.shape, papers.NewAuthorId.nunique()"
   ]
  },
  {
   "cell_type": "code",
   "execution_count": 4,
   "metadata": {},
   "outputs": [
    {
     "data": {
      "text/plain": [
       "(1817, 2)"
      ]
     },
     "execution_count": 4,
     "metadata": {},
     "output_type": "execute_result"
    }
   ],
   "source": [
    "elsevier_journals = pd.read_csv('../data/ElsevierJournals.csv', sep='\\t',\n",
    "                               usecols=['JournalId','issn'], dtype={'JournalId':int, 'issn':str})\n",
    "assert(elsevier_journals.issn.apply(lambda x: len(x)==8).all())\n",
    "elsevier_journals.shape"
   ]
  },
  {
   "cell_type": "code",
   "execution_count": 5,
   "metadata": {},
   "outputs": [],
   "source": [
    "editorials = pd.read_csv('../data/Editorials.csv', sep='\\t', dtype={'PaperId':int}).assign(Editorial = 1)"
   ]
  },
  {
   "cell_type": "markdown",
   "metadata": {},
   "source": [
    "# Average paper count and NQS"
   ]
  },
  {
   "cell_type": "code",
   "execution_count": 6,
   "metadata": {},
   "outputs": [],
   "source": [
    "def printStats(df, msg=''):\n",
    "    print(msg, df.shape, df[['NewAuthorId','issn']].drop_duplicates().shape)\n",
    "    return df"
   ]
  },
  {
   "cell_type": "code",
   "execution_count": 7,
   "metadata": {},
   "outputs": [],
   "source": [
    "def getEditors(filename, window=5):\n",
    "    # window: the number of years that we filter\n",
    "\n",
    "    editors = (\n",
    "        pd.read_csv(filename, sep='\\t',\n",
    "                      dtype={'issn':str,'NewAuthorId':int,'start_year':int,'end_year':int})\n",
    "        \n",
    "        .assign(Year0 = lambda df: df.start_year.apply(lambda x: x-1))\n",
    "        .query(f'start_year <= {2018-(window-1)}') # year0 prior to 2014\n",
    "        .merge(editor_career, on='NewAuthorId')\n",
    "\n",
    "        .assign(left = lambda df: df.Year0-(window-1))\n",
    "        .assign(right = lambda df: df.Year0+window)\n",
    "        .assign(left = lambda df: df.apply(lambda row: max(row.left, row.Yfp), axis=1))\n",
    "        .assign(right = lambda df: df.apply(lambda row: min(row.right, row.end_year), axis=1))\n",
    "\n",
    "    ) # latest, editor start in 2014, and have 5 years of service, i.e. 14 15, 16, 17, 18\n",
    "\n",
    "    print('Editors:', editors.shape) # 5: (15956, 4)\n",
    "    \n",
    "    return editors"
   ]
  },
  {
   "cell_type": "code",
   "execution_count": 8,
   "metadata": {},
   "outputs": [],
   "source": [
    "def getEditorPaper(editors, papers, window):\n",
    "    # editors: NewAuthorId, issn, left, right\n",
    "    \n",
    "    edi_papers = (\n",
    "        editors.merge(papers, on='NewAuthorId')\n",
    "        \n",
    "        .query('Year >= left')\n",
    "        .query('Year <= right')\n",
    "        .pipe(printStats, 'Only papers in range')\n",
    "\n",
    "        .merge(elsevier_journals, on=['JournalId','issn'])\n",
    "        .pipe(printStats, 'Only elsevier journals')\n",
    "\n",
    "        .merge(editorials, on='PaperId', how='left').fillna(0)\n",
    "        .pipe(printStats, 'Shape not change')\n",
    "        \n",
    "        .query('Editorial == 0') # filter editorials\n",
    "        .pipe(printStats, 'Editorials filtered')\n",
    "    )\n",
    "    print('Editor papers:', edi_papers.shape)\n",
    "    \n",
    "    (\n",
    "        edi_papers[['NewAuthorId','issn','Year0','PaperId','Year','Editorial']]\n",
    "        .to_csv(f\"../data/EditorJournalPublicationNoEditorial_{window}.csv\",\n",
    "                sep='\\t',index=False)\n",
    "    )\n",
    "    \n",
    "    return edi_papers"
   ]
  },
  {
   "cell_type": "code",
   "execution_count": 9,
   "metadata": {},
   "outputs": [],
   "source": [
    "def getPaperCount(editors, edi_papers):\n",
    "    \n",
    "    before = edi_papers[edi_papers.Year <= edi_papers.Year0].groupby(\n",
    "        ['NewAuthorId','issn','Year0','left','right']).PaperId.nunique().reset_index()\n",
    "\n",
    "    after = edi_papers[edi_papers.Year > edi_papers.Year0].groupby(\n",
    "        ['NewAuthorId','issn','Year0','left','right']).PaperId.nunique().reset_index()\n",
    "\n",
    "    before = before.rename(columns={'PaperId':'BeforeCount'})\n",
    "    after = after.rename(columns={'PaperId':'AfterCount'})\n",
    "\n",
    "    print(f'Before: {before.shape}, after: {after.shape}')\n",
    "    \n",
    "    paper_count = (\n",
    "        before.merge(after, on=['NewAuthorId','issn','Year0','left','right'], how='outer')\n",
    "        .merge(\n",
    "            editors[['NewAuthorId','issn','Year0','left','right']],\n",
    "            on=['NewAuthorId','issn','Year0','left','right'], how='outer')\n",
    "        .fillna(0)\n",
    "\n",
    "        .assign(BeSpan = lambda df: df.Year0 - df.left + 1)\n",
    "        .assign(AfSpan = lambda df: df.right - df.Year0)\n",
    "\n",
    "        .assign(AfAvg = lambda df: df.AfterCount/df.AfSpan)\n",
    "        .assign(BeAvg = lambda df: df.BeforeCount/df.BeSpan)\n",
    "    )\n",
    "    \n",
    "    print(f'Paper count: {paper_count.shape}')\n",
    "    \n",
    "    return paper_count"
   ]
  },
  {
   "cell_type": "code",
   "execution_count": 10,
   "metadata": {},
   "outputs": [
    {
     "name": "stdout",
     "output_type": "stream",
     "text": [
      "Editors: (6, 10)\n"
     ]
    }
   ],
   "source": [
    "editors = getEditors(\"../data/SampleEditors.csv\", 5)"
   ]
  },
  {
   "cell_type": "code",
   "execution_count": 11,
   "metadata": {},
   "outputs": [
    {
     "name": "stdout",
     "output_type": "stream",
     "text": [
      "Only papers in range (252, 13) (6, 2)\n",
      "Only elsevier journals (0, 13) (0, 2)\n",
      "Shape not change (0, 15) (0, 2)\n",
      "Editorials filtered (0, 15) (0, 2)\n",
      "Editor papers: (0, 15)\n"
     ]
    }
   ],
   "source": [
    "edi_papers = getEditorPaper(editors, papers, 5)"
   ]
  },
  {
   "cell_type": "code",
   "execution_count": 12,
   "metadata": {},
   "outputs": [
    {
     "name": "stdout",
     "output_type": "stream",
     "text": [
      "Before: (0, 6), after: (0, 6)\n",
      "Paper count: (6, 11)\n"
     ]
    }
   ],
   "source": [
    "paper_count = getPaperCount(editors, edi_papers)"
   ]
  },
  {
   "cell_type": "code",
   "execution_count": 13,
   "metadata": {},
   "outputs": [
    {
     "data": {
      "text/html": [
       "<div>\n",
       "<style scoped>\n",
       "    .dataframe tbody tr th:only-of-type {\n",
       "        vertical-align: middle;\n",
       "    }\n",
       "\n",
       "    .dataframe tbody tr th {\n",
       "        vertical-align: top;\n",
       "    }\n",
       "\n",
       "    .dataframe thead th {\n",
       "        text-align: right;\n",
       "    }\n",
       "</style>\n",
       "<table border=\"1\" class=\"dataframe\">\n",
       "  <thead>\n",
       "    <tr style=\"text-align: right;\">\n",
       "      <th></th>\n",
       "      <th>BeforeCount</th>\n",
       "      <th>AfterCount</th>\n",
       "      <th>NewAuthorId</th>\n",
       "      <th>issn</th>\n",
       "      <th>Year0</th>\n",
       "      <th>left</th>\n",
       "      <th>right</th>\n",
       "      <th>BeSpan</th>\n",
       "      <th>AfSpan</th>\n",
       "      <th>AfAvg</th>\n",
       "      <th>BeAvg</th>\n",
       "    </tr>\n",
       "  </thead>\n",
       "  <tbody>\n",
       "    <tr>\n",
       "      <th>0</th>\n",
       "      <td>0.0</td>\n",
       "      <td>0.0</td>\n",
       "      <td>77559236</td>\n",
       "      <td>1744117X</td>\n",
       "      <td>2005</td>\n",
       "      <td>2001</td>\n",
       "      <td>2008</td>\n",
       "      <td>5</td>\n",
       "      <td>3</td>\n",
       "      <td>0.0</td>\n",
       "      <td>0.0</td>\n",
       "    </tr>\n",
       "    <tr>\n",
       "      <th>1</th>\n",
       "      <td>0.0</td>\n",
       "      <td>0.0</td>\n",
       "      <td>155626607</td>\n",
       "      <td>1744117X</td>\n",
       "      <td>2005</td>\n",
       "      <td>2001</td>\n",
       "      <td>2010</td>\n",
       "      <td>5</td>\n",
       "      <td>5</td>\n",
       "      <td>0.0</td>\n",
       "      <td>0.0</td>\n",
       "    </tr>\n",
       "    <tr>\n",
       "      <th>2</th>\n",
       "      <td>0.0</td>\n",
       "      <td>0.0</td>\n",
       "      <td>19273516</td>\n",
       "      <td>1744117X</td>\n",
       "      <td>2006</td>\n",
       "      <td>2002</td>\n",
       "      <td>2011</td>\n",
       "      <td>5</td>\n",
       "      <td>5</td>\n",
       "      <td>0.0</td>\n",
       "      <td>0.0</td>\n",
       "    </tr>\n",
       "    <tr>\n",
       "      <th>3</th>\n",
       "      <td>0.0</td>\n",
       "      <td>0.0</td>\n",
       "      <td>98613666</td>\n",
       "      <td>1744117X</td>\n",
       "      <td>2005</td>\n",
       "      <td>2001</td>\n",
       "      <td>2010</td>\n",
       "      <td>5</td>\n",
       "      <td>5</td>\n",
       "      <td>0.0</td>\n",
       "      <td>0.0</td>\n",
       "    </tr>\n",
       "    <tr>\n",
       "      <th>4</th>\n",
       "      <td>0.0</td>\n",
       "      <td>0.0</td>\n",
       "      <td>115595906</td>\n",
       "      <td>1744117X</td>\n",
       "      <td>2007</td>\n",
       "      <td>2003</td>\n",
       "      <td>2012</td>\n",
       "      <td>5</td>\n",
       "      <td>5</td>\n",
       "      <td>0.0</td>\n",
       "      <td>0.0</td>\n",
       "    </tr>\n",
       "    <tr>\n",
       "      <th>5</th>\n",
       "      <td>0.0</td>\n",
       "      <td>0.0</td>\n",
       "      <td>9175261</td>\n",
       "      <td>1744117X</td>\n",
       "      <td>2005</td>\n",
       "      <td>2001</td>\n",
       "      <td>2008</td>\n",
       "      <td>5</td>\n",
       "      <td>3</td>\n",
       "      <td>0.0</td>\n",
       "      <td>0.0</td>\n",
       "    </tr>\n",
       "  </tbody>\n",
       "</table>\n",
       "</div>"
      ],
      "text/plain": [
       "   BeforeCount  AfterCount  NewAuthorId      issn  Year0  left  right  BeSpan  \\\n",
       "0          0.0         0.0     77559236  1744117X   2005  2001   2008       5   \n",
       "1          0.0         0.0    155626607  1744117X   2005  2001   2010       5   \n",
       "2          0.0         0.0     19273516  1744117X   2006  2002   2011       5   \n",
       "3          0.0         0.0     98613666  1744117X   2005  2001   2010       5   \n",
       "4          0.0         0.0    115595906  1744117X   2007  2003   2012       5   \n",
       "5          0.0         0.0      9175261  1744117X   2005  2001   2008       5   \n",
       "\n",
       "   AfSpan  AfAvg  BeAvg  \n",
       "0       3    0.0    0.0  \n",
       "1       5    0.0    0.0  \n",
       "2       5    0.0    0.0  \n",
       "3       5    0.0    0.0  \n",
       "4       5    0.0    0.0  \n",
       "5       3    0.0    0.0  "
      ]
     },
     "execution_count": 13,
     "metadata": {},
     "output_type": "execute_result"
    }
   ],
   "source": [
    "paper_count"
   ]
  },
  {
   "cell_type": "code",
   "execution_count": null,
   "metadata": {},
   "outputs": [],
   "source": []
  }
 ],
 "metadata": {
  "kernelspec": {
   "display_name": "Python 3",
   "language": "python",
   "name": "python3"
  },
  "language_info": {
   "codemirror_mode": {
    "name": "ipython",
    "version": 3
   },
   "file_extension": ".py",
   "mimetype": "text/x-python",
   "name": "python",
   "nbconvert_exporter": "python",
   "pygments_lexer": "ipython3",
   "version": "3.8.5"
  }
 },
 "nbformat": 4,
 "nbformat_minor": 4
}
