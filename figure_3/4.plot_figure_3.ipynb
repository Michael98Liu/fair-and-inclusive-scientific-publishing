{
 "cells": [
  {
   "cell_type": "markdown",
   "metadata": {},
   "source": [
    "# Plot figure 3"
   ]
  },
  {
   "cell_type": "code",
   "execution_count": 1,
   "metadata": {},
   "outputs": [],
   "source": [
    "import pandas as pd\n",
    "import numpy as np\n",
    "import scipy.stats\n",
    "from scipy.stats import ttest_ind\n",
    "from matplotlib import pyplot as plt\n",
    "import matplotlib.gridspec as gridspec\n",
    "import matplotlib\n",
    "\n",
    "matplotlib.rcParams['pdf.fonttype'] = 42\n",
    "matplotlib.rcParams['ps.fonttype'] = 42\n",
    "matplotlib.rcParams['grid.linewidth'] = 0.5\n",
    "matplotlib.rcParams['axes.linewidth'] = 0.5\n",
    "plt.rcParams[\"font.size\"] = 7"
   ]
  },
  {
   "cell_type": "code",
   "execution_count": 2,
   "metadata": {},
   "outputs": [],
   "source": [
    "colors = {'normal': '#69bade', 'q': '#f3c33b', 'bad': '#f34d4d'}"
   ]
  },
  {
   "cell_type": "code",
   "execution_count": 3,
   "metadata": {},
   "outputs": [],
   "source": [
    "def set_size(w,h, ax=None):\n",
    "    \"\"\" w, h: width, height in inches \"\"\"\n",
    "    if not ax: ax=plt.gca()\n",
    "    l = ax.figure.subplotpars.left\n",
    "    r = ax.figure.subplotpars.right\n",
    "    t = ax.figure.subplotpars.top\n",
    "    b = ax.figure.subplotpars.bottom\n",
    "    figw = float(w)/(r-l)\n",
    "    figh = float(h)/(t-b)\n",
    "    ax.figure.set_size_inches(figw, figh)"
   ]
  },
  {
   "cell_type": "code",
   "execution_count": 4,
   "metadata": {},
   "outputs": [],
   "source": [
    "def getBad(filename, Aq=1, Bq=2, As=2, Bs=3):\n",
    "    jpub_count = pd.read_csv(filename, sep='\\t',\n",
    "                    usecols=['EditorId','IssnId','BeAvg','AfAvg','left','right','Year0'],\n",
    "                    dtype={'EditorId':int,'IssnId':int,'BeAvg':float,'AfAvg':float,\n",
    "                           'left':int,'right':int,'Year0':int})\n",
    "    \n",
    "    normal = jpub_count[jpub_count.apply(lambda row: row.AfAvg < max(row.BeAvg * Bq, Aq), axis=1)]\n",
    "    Q = jpub_count[jpub_count.apply(lambda row: row.AfAvg >= max(row.BeAvg * Bq, Aq), axis=1)]\n",
    "    S = jpub_count[jpub_count.apply(lambda row: row.AfAvg >= max(row.BeAvg * Bs, As), axis=1)]\n",
    "    \n",
    "    print(f'# Aq: {Aq}, Bq {Bq}, As: {As}, Bs: {Bs} | ',\n",
    "          f'questionable: {round(Q.shape[0]/jpub_count.shape[0]*100, 2)}%,\\\n",
    "          suspicious: {round(S.shape[0]/jpub_count.shape[0]*100, 2)}%')\n",
    "    \n",
    "    return normal, Q, S"
   ]
  },
  {
   "cell_type": "code",
   "execution_count": 5,
   "metadata": {},
   "outputs": [
    {
     "name": "stdout",
     "output_type": "stream",
     "text": [
      "# Aq: 1, Bq 2, As: 2, Bs: 3 |  questionable: 8.27%,          suspicious: 1.81%\n"
     ]
    }
   ],
   "source": [
    "pubCountFile = '../data/figure_3/EditorJournalPub_5.csv'\n",
    "\n",
    "n, q, s = getBad(pubCountFile)\n",
    "\n",
    "n = n[['EditorId','IssnId','left','right','Year0']].drop_duplicates()\n",
    "s = s[['EditorId','IssnId','left','right','Year0']].drop_duplicates()\n",
    "q = q[['EditorId','IssnId','left','right','Year0']].drop_duplicates()"
   ]
  },
  {
   "cell_type": "code",
   "execution_count": 6,
   "metadata": {},
   "outputs": [
    {
     "name": "stdout",
     "output_type": "stream",
     "text": [
      "(12995, 4)\n"
     ]
    }
   ],
   "source": [
    "jpub_count = pd.read_csv(pubCountFile, sep='\\t',\n",
    "                         usecols=['EditorId','IssnId','BeAvg','AfAvg'],\n",
    "                         dtype={'EditorId':int,'IssnId':int,'BeAvg':float,'AfAvg':float}).fillna(0)\n",
    "print(jpub_count.shape)"
   ]
  },
  {
   "cell_type": "markdown",
   "metadata": {},
   "source": [
    "## a"
   ]
  },
  {
   "cell_type": "code",
   "execution_count": 22,
   "metadata": {},
   "outputs": [
    {
     "name": "stdout",
     "output_type": "stream",
     "text": [
      "(12995, 4)\n",
      "(11920, 9) (1075, 9) (235, 9)\n"
     ]
    }
   ],
   "source": [
    "print(jpub_count.shape)\n",
    "\n",
    "to_plot= jpub_count.assign(Before_log = jpub_count.BeAvg.apply(np.log10))\n",
    "to_plot= to_plot.assign(After_log = to_plot.AfAvg.apply(np.log10))\n",
    "to_plot = to_plot.assign(Before_log = to_plot.Before_log.apply(lambda x: -0.8 if x == -np.inf else x))\n",
    "to_plot = to_plot.assign(After_log = to_plot.After_log.apply(lambda x: -0.9 if x == -np.inf else x))\n",
    "\n",
    "scatter_normal = n.merge(to_plot, on=['EditorId','IssnId'])\n",
    "scatter_q = q.merge(to_plot, on=['EditorId','IssnId'])\n",
    "scatter_bad = s.merge(to_plot, on=['EditorId','IssnId'])\n",
    "\n",
    "print(scatter_normal.shape, scatter_q.shape, scatter_bad.shape)"
   ]
  },
  {
   "cell_type": "code",
   "execution_count": 24,
   "metadata": {},
   "outputs": [
    {
     "name": "stdout",
     "output_type": "stream",
     "text": [
      "[-0.8, -0.6989700043360187, -0.3010299956639812, 0.0, 0.3010299956639812, 0.6989700043360189, 1.0]\n",
      "CPU times: user 415 ms, sys: 0 ns, total: 415 ms\n",
      "Wall time: 417 ms\n"
     ]
    },
    {
     "data": {
      "image/png": "[encoded data removed]",
      "text/plain": [
       "<Figure size 215.036x125.655 with 1 Axes>"
      ]
     },
     "metadata": {
      "needs_background": "light"
     },
     "output_type": "display_data"
    }
   ],
   "source": [
    "%%time\n",
    "cm = 1/2.54  # centimeters in inches\n",
    "\n",
    "ax = plt.gca()\n",
    "\n",
    "ax.scatter(x=scatter_normal.Before_log, y=scatter_normal.After_log, c=colors['normal'],\n",
    "           label = 'Normal editors', s=2)\n",
    "ax.scatter(x=scatter_q.Before_log, y=scatter_q.After_log, c=colors['q'],\n",
    "           label = 'Questionable editors', s=2)\n",
    "ax.scatter(x=scatter_bad.Before_log, y=scatter_bad.After_log, c=colors['bad'],\n",
    "           label = 'Suspicious editors', s=2)\n",
    "#ax.set_xlabel(\"Mean number of papers per year in the editor’s journal\\nbefore joining as editor\") #$\\bf{before}$\n",
    "#ax.set_ylabel(\"Mean number of papers per year in the\\neditor’s journal after joining as editor\") # $\\bf{after}$\n",
    "\n",
    "xlabels = ['0']\n",
    "xlabels.extend([0.2, 0.5, 1, 2, 5, 10])\n",
    "xticks = [-0.8]\n",
    "xticks.extend(np.log10(x) for x in [0.2, 0.5, 1, 2, 5, 10])\n",
    "ax.set_xticks(xticks)\n",
    "ax.set_xticklabels(xlabels)\n",
    "ax.set_xlim(-0.85, 1.1)\n",
    "\n",
    "print(xticks)\n",
    "\n",
    "ylabels = ['0']\n",
    "ylabels.extend([0.2, 0.5, 1, 2, 5, 10])\n",
    "yticks = [-0.9]\n",
    "yticks.extend(np.log10(x) for x in [0.2, 0.5, 1, 2, 5, 10])\n",
    "ax.set_yticks(yticks)\n",
    "ax.set_yticklabels(ylabels)\n",
    "ax.set_ylim(-1, 1.29)\n",
    "ax.spines['right'].set_visible(False)\n",
    "ax.spines['top'].set_visible(False)\n",
    "plt.tight_layout()\n",
    "# ax.legend(loc='lower right')\n",
    "\n",
    "set_size(7*cm, 4*cm, ax)\n",
    "plt.savefig(\"../figures/main_2_scatter.pdf\", bbox_inches = 'tight', pad_inches = 0)"
   ]
  },
  {
   "cell_type": "markdown",
   "metadata": {},
   "source": [
    "## b"
   ]
  },
  {
   "cell_type": "code",
   "execution_count": 79,
   "metadata": {},
   "outputs": [],
   "source": [
    "from scipy.stats import ttest_ind\n",
    "from scipy.optimize import curve_fit\n",
    "import scipy\n",
    "from scipy import stats\n",
    "import sys\n",
    "sys.path.insert(1, '../src')\n",
    "\n",
    "import utils\n",
    "\n",
    "def f(x, A, B): # this is your 'straight line' y=f(x)\n",
    "    return A*x + B\n",
    "\n",
    "def meanCI(a, conf=0.95):\n",
    "    mean, sem, m = np.mean(a), stats.sem(a), stats.t.ppf((1+conf)/2., len(a)-1)\n",
    "    return mean, m*sem"
   ]
  },
  {
   "cell_type": "code",
   "execution_count": 26,
   "metadata": {},
   "outputs": [],
   "source": [
    "def printTtest(a, b):\n",
    "    s1 = a.shape[0]\n",
    "    s2 = b.shape[0]\n",
    "    m1 = a.mean()\n",
    "    m2 = b.mean()\n",
    "    \n",
    "    ttest = ttest_ind(a, b, permutations=1000, random_state=42)\n",
    "    pval = round(ttest.pvalue, 3) if ttest.pvalue > 0.001 else 'p < 0.001'\n",
    "    \n",
    "    std_pooled = np.sqrt( (np.std(a)**2 + np.std(b)**2)/2)\n",
    "    cohend = abs(a.mean()-b.mean())/std_pooled\n",
    "    \n",
    "    print('Means', round(m1, 2), round(m2, 2))\n",
    "    print('Shapes', s1, s2)\n",
    "    \n",
    "    print(f\"$t_{s1+s2-2} = {round(ttest.statistic, 2)}$, $P = {pval}\", \"Cohen'd:\", cohend)\n",
    "    print('rel', ttest_rel(a, b))"
   ]
  },
  {
   "cell_type": "code",
   "execution_count": 27,
   "metadata": {},
   "outputs": [],
   "source": [
    "def expand(df):\n",
    "    # expand five year before and five year after\n",
    "    # df: n, q, or s (with left and right)\n",
    "    \n",
    "    res = []\n",
    "    for year in range( df.left.min(), df.right.max()+1):\n",
    "        sub = df[(df.left <= year) & (df.right >= year)].assign(Year = year)\n",
    "        sub = sub.assign(EditorYear = year-sub.Year0)\n",
    "        res.append(sub)\n",
    "    \n",
    "    return pd.concat(res, ignore_index=True, sort=False)"
   ]
  },
  {
   "cell_type": "code",
   "execution_count": 46,
   "metadata": {},
   "outputs": [],
   "source": [
    "def plotScatter(df, ax, c, window):\n",
    "    means = []\n",
    "    err = []\n",
    "    \n",
    "    for year in range(-window+1, 1):\n",
    "        v = df[df.EditorYear == year].JournalCount.values\n",
    "        \n",
    "        me, sem = meanCI(v, 0.95) # CI here; standard error is: sem = scipy.stats.sem(v)\n",
    "        \n",
    "        err.append(sem)\n",
    "        means.append(me)\n",
    "        \n",
    "    x = [_ for _ in range(-window+1, 1)]\n",
    "    popt, pcov = curve_fit(f, x, means)\n",
    "    ax.errorbar(x, means, yerr=err, color=c, fmt='o', elinewidth=0.5, ms=2)\n",
    "    \n",
    "    print([round(x, 2) for x in means])\n",
    "    \n",
    "    # x = [_ for _ in range(-10, 11)]\n",
    "    ax.plot(x, [f(_, *popt) for _ in x], color=c, linewidth=1)\n",
    "                  \n",
    "    means = []\n",
    "    err = []\n",
    "    \n",
    "    for year in range(1, window+1):\n",
    "        v = df[df.EditorYear == year].JournalCount.values\n",
    "        \n",
    "        me, sem = meanCI(v, 0.95) # CI here; standard error is: sem = scipy.stats.sem(v)\n",
    "        \n",
    "        err.append(sem)\n",
    "        means.append(me)\n",
    "        \n",
    "    x = [_ for _ in range(1, window+1)]\n",
    "    popt, pcov = curve_fit(f, x, means)\n",
    "    ax.errorbar(x, means, yerr=err, color=c, fmt='o', elinewidth=0.5, ms=2)\n",
    "    \n",
    "    x = [_ for _ in range(1, window+1)]\n",
    "    ax.plot(x, [f(_, *popt) for _ in x], color=c, linewidth=1)\n",
    "    \n",
    "    print([round(x, 2) for x in means])\n",
    "    \n",
    "#     print('T-test',\n",
    "#           ttest_ind(df[df.EditorYear == 0].JournalCount, df[df.EditorYear == 1].JournalCount,\n",
    "#                     permutations=1000, random_state=42))\n",
    "    \n",
    "    #printTtest(df[df.EditorYear == 0].JournalCount, df[df.EditorYear == 1].JournalCount)    "
   ]
  },
  {
   "cell_type": "code",
   "execution_count": 47,
   "metadata": {},
   "outputs": [],
   "source": [
    "def plotPub(ax, window,\n",
    "            norm_editor_pub,\n",
    "            q_editor_pub,\n",
    "            bad_editor_pub):\n",
    "    \n",
    "    plotScatter(norm_editor_pub, ax, colors['normal'], window)\n",
    "    plotScatter(q_editor_pub, ax, colors['q'], window)\n",
    "    plotScatter(bad_editor_pub, ax, colors['bad'], window)\n",
    "    \n",
    "    #ax.spines['left'].set_position(('data', 0))\n",
    "    ax.vlines(0.5, 0, 5, color='grey', alpha=0.5, linestyles='dashed', linewidth=1)\n",
    "    #ax.set_ylabel(\"Number of papers in the\\neditor's journal each year\")\n",
    "    ax.set_ylim(0, 4.25)\n",
    "    ax.set_yticks([1, 2, 3, 4])"
   ]
  },
  {
   "cell_type": "code",
   "execution_count": 60,
   "metadata": {},
   "outputs": [],
   "source": [
    "def plotFigure2b(ax, window):\n",
    "    ax.set_xlim(-window+0.8, window+0.2)\n",
    "    \n",
    "    #xticks = [x if x <=0 else x - 1 for x in range(-window+1, window+2, 2)]\n",
    "    xticks = [x for x in range(-4, 6)]\n",
    "    ax.set_xticks(xticks)\n",
    "    ax.spines['right'].set_visible(False)\n",
    "    ax.spines['top'].set_visible(False)\n",
    "    ax.grid(b=True, ls=':')\n",
    "    \n",
    "    editor_pub = (\n",
    "        pd.read_csv(\"../data/figure_3/EditorJournalPublicationNoEditorial_5.csv\",sep='\\t',\n",
    "                    usecols=['EditorId','IssnId','Year0','Year','Editorial'],\n",
    "                    dtype={'EditorId':int,'IssnId':int,'Year0':int,'Year':int,'Editorial':int})\n",
    "        .reset_index().rename(columns={'index':'PaperId'})\n",
    "        \n",
    "        .query('Editorial == 0')\n",
    "        .assign(EditorYear = lambda df: df.Year - df.Year0)\n",
    "        .groupby(['EditorId','IssnId','Year0','EditorYear','Year']).PaperId.nunique().reset_index()\n",
    "        .rename(columns={'PaperId':'JournalCount'})\n",
    "    )\n",
    "    print(editor_pub.shape)\n",
    "    \n",
    "    beAfAvg_file = f'../data/figure_3/EditorJournalPub_{window}.csv'\n",
    "    n, q, s = getBad(beAfAvg_file)\n",
    "    \n",
    "    bad_editor_pub = editor_pub.merge(expand(s),\n",
    "                                      on=['EditorId','IssnId','Year','EditorYear','Year0'], how='right').fillna(0)\n",
    "    q_editor_pub = editor_pub.merge(expand(q),\n",
    "                                    on=['EditorId','IssnId','Year','EditorYear','Year0'], how='right').fillna(0)\n",
    "    norm_editor_pub = editor_pub.merge(expand(n),\n",
    "                                       on=['EditorId','IssnId','Year','EditorYear','Year0'], how='right').fillna(0)\n",
    "    \n",
    "    #print(bad_editor_pub.shape, q_editor_pub.shape, norm_editor_pub.shape)\n",
    "    \n",
    "    plotPub(ax, window, norm_editor_pub, q_editor_pub, bad_editor_pub)\n",
    "    \n",
    "    return [norm_editor_pub, q_editor_pub, bad_editor_pub]"
   ]
  },
  {
   "cell_type": "code",
   "execution_count": 61,
   "metadata": {},
   "outputs": [
    {
     "name": "stdout",
     "output_type": "stream",
     "text": [
      "(24470, 6)\n",
      "# Aq: 1, Bq 2, As: 2, Bs: 3 |  questionable: 8.27%,          suspicious: 1.81%\n",
      "[0.22, 0.24, 0.27, 0.28, 0.31]\n",
      "[0.29, 0.27, 0.27, 0.27, 0.27]\n",
      "[0.28, 0.3, 0.38, 0.44, 0.54]\n",
      "[1.73, 1.81, 1.96, 1.97, 1.92]\n",
      "[0.27, 0.33, 0.44, 0.55, 0.69]\n",
      "[2.72, 3.14, 3.64, 3.64, 3.31]\n"
     ]
    },
    {
     "data": {
      "image/png": "[encoded data removed]",
      "text/plain": [
       "<Figure size 310.897x150.18 with 1 Axes>"
      ]
     },
     "metadata": {
      "needs_background": "light"
     },
     "output_type": "display_data"
    }
   ],
   "source": [
    "cm = 1/2.54  # centimeters in inches\n",
    "fig = plt.figure(figsize=(10*cm, 5*cm))\n",
    "plt.rcParams.update({'font.size': 7})\n",
    "\n",
    "ax = plt.gca()\n",
    "df = plotFigure2b(ax, 5)\n",
    "\n",
    "set_size(8.5*cm, 4*cm, ax)\n",
    "#plt.savefig(f\"../figures/main_2_paper_trend.pdf\",bbox_inches = 'tight', pad_inches = 0)\n",
    "# [0.22, 0.24, 0.27, 0.28, 0.31]\n",
    "# [0.29, 0.27, 0.27, 0.27, 0.27]\n",
    "# [0.28, 0.3, 0.38, 0.44, 0.54]\n",
    "# [1.73, 1.81, 1.96, 1.97, 1.92]\n",
    "# [0.27, 0.33, 0.44, 0.55, 0.69]\n",
    "# [2.72, 3.14, 3.64, 3.64, 3.31]"
   ]
  },
  {
   "cell_type": "code",
   "execution_count": 78,
   "metadata": {},
   "outputs": [
    {
     "name": "stdout",
     "output_type": "stream",
     "text": [
      "$t_{23838}$ = -2.32, $P$ = 0.011, $\\beta$ = -0.03, 95\\% CI = -0.06 -- -0.01\n",
      "$t_{2148}$ = 18.24, $P < 0.001$, $\\beta$ = 0.69, 95\\% CI = 0.62 -- 0.77\n",
      "$t_{468}$ = 11.47, $P < 0.001$, $\\beta$ = 0.83, 95\\% CI = 0.69 -- 0.97\n"
     ]
    }
   ],
   "source": [
    "utils.bootstrapTTest(df[0], 'JournalCount', 'EditorYear', 0, 1)\n",
    "utils.bootstrapTTest(df[1], 'JournalCount', 'EditorYear', 0, 1)\n",
    "utils.bootstrapTTest(df[2], 'JournalCount', 'EditorYear', 0, 1)"
   ]
  },
  {
   "cell_type": "markdown",
   "metadata": {},
   "source": [
    "## c"
   ]
  },
  {
   "cell_type": "code",
   "execution_count": 13,
   "metadata": {},
   "outputs": [],
   "source": [
    "def plotBars(G, axes=None, ylim=10):\n",
    "    \n",
    "    if axes is None:\n",
    "        ax = plt.subplot(1,3,1)\n",
    "    else:\n",
    "        ax = axes[0]\n",
    "    plotDiff(G['n_count'], ax, 'green')\n",
    "    ax.set_ylim(-ylim*0.1, ylim)\n",
    "    \n",
    "    if axes is None:\n",
    "        ax = plt.subplot(1,3,2)\n",
    "    else:\n",
    "        ax = axes[1]\n",
    "    plotDiff(G['q_count'], ax, 'orange')\n",
    "    ax.set_ylim(-ylim*0.1, ylim)\n",
    "    \n",
    "    if axes is None:\n",
    "        ax = plt.subplot(1,3,3)\n",
    "    else:\n",
    "        ax = axes[2]\n",
    "    plotDiff(G['s_count'], ax, 'red')\n",
    "    ax.set_ylim(-ylim*0.1, ylim)\n",
    "\n",
    "\n",
    "    plt.tight_layout()"
   ]
  },
  {
   "cell_type": "code",
   "execution_count": 14,
   "metadata": {},
   "outputs": [],
   "source": [
    "def ci_diff(sample1, sample2, ci=0.95):\n",
    "\n",
    "    n1, n2 = sample1.size, sample2.size\n",
    "    assert(n1==n2)\n",
    "    s1, s2 = np.std(sample1), np.std(sample2)\n",
    "\n",
    "    sp = np.sqrt(((n1-1)*s1**2 + (n2-1)*s2**2)/(n1+n2-2))\n",
    "    se = sp*np.sqrt(1/n1 + 1/n2)\n",
    "\n",
    "    degrees_freedom = n1+n2-2\n",
    "    sample_mean = np.mean(sample1)-np.mean(sample2)\n",
    "    confidence_interval = scipy.stats.t.interval(ci, degrees_freedom, sample_mean, se)\n",
    "    \n",
    "    try:\n",
    "        assert(round((confidence_interval[0]+confidence_interval[1])/2, 4) == round(sample_mean, 4))\n",
    "    except Exception as e:\n",
    "        print(confidence_interval, sample_mean)\n",
    "\n",
    "    return [abs(x-sample_mean) for x in confidence_interval]"
   ]
  },
  {
   "cell_type": "code",
   "execution_count": 15,
   "metadata": {},
   "outputs": [],
   "source": [
    "def getStars(pvalue):\n",
    "    if pvalue >= 0.05:\n",
    "        stars = ''\n",
    "    elif pvalue < 0.05 and pvalue >= 0.01:\n",
    "        stars = '*'\n",
    "    elif pvalue < 0.01 and pvalue >= 0.001:\n",
    "        stars = '*\\n*'\n",
    "    elif pvalue < 0.001:\n",
    "        stars = '*\\n*\\n*'\n",
    "    else:\n",
    "        stars = ''\n",
    "        # print('pvalue', pvalue)\n",
    "        \n",
    "    return stars\n",
    "    ax.text(row.year+9, mean_diff[ind]+errbar[ind], stars, color='black', ha=\"center\", fontsize=10, linespacing=0.3)"
   ]
  },
  {
   "cell_type": "code",
   "execution_count": 24,
   "metadata": {},
   "outputs": [],
   "source": [
    "def plotDiff(dfToPlot, ax, c):\n",
    "    df = dfToPlot.copy()\n",
    "    df = df.assign(Diff = df.EdiCount - df.AutCount)\n",
    "    \n",
    "    df = df[(df.EditorYear >= -4) & (df.EditorYear <= 5)]\n",
    "    \n",
    "    ### compute confidence intervals for each year ###\n",
    "    ci_lo = []\n",
    "    ci_hi = []\n",
    "    stars = []\n",
    "    locs = []\n",
    "    means = []\n",
    "    \n",
    "    for year in range(-4, 6):\n",
    "        if year == 0: continue\n",
    "        locs.append(year)\n",
    "        means.append(df[df.EditorYear == year].Diff.mean())\n",
    "            \n",
    "        seed_lo = []\n",
    "        seed_hi = []\n",
    "        temp = df[df.EditorYear == year]\n",
    "        \n",
    "        if temp.shape[0] == 0:\n",
    "            lo, hi, star = 0, 0, ''\n",
    "        else:\n",
    "            # print(temp.shape)\n",
    "            pvalue = ttest_ind(temp.EdiCount, temp.AutCount)[1]\n",
    "            star = getStars(pvalue)\n",
    "            lo, hi = ci_diff(temp.EdiCount, temp.AutCount)\n",
    "        \n",
    "        ci_lo.append(lo)\n",
    "        ci_hi.append(hi)\n",
    "        stars.append(star)\n",
    "        \n",
    "    ci = [ci_lo, ci_hi]\n",
    "    ### compute confidence intervals for each year ###\n",
    "    print(locs)\n",
    "    ax.bar(locs, means, yerr = ci, color=c, width=0.7,\n",
    "           ecolor=c, alpha=0.8, linewidth=0.5, edgecolor=c,\n",
    "            error_kw={'elinewidth':0.5})\n",
    "    pprintmean(means)\n",
    "    ### plot stars ###\n",
    "    for year in range(-4, 6):\n",
    "        if year == 0: continue\n",
    "        if year < 0: ind = year + 4\n",
    "        else: ind = year + 3\n",
    "        loc = means[ind]+ci_hi[ind] #if means[ind] >= 0 else means[ind]-ci_lo[ind]\n",
    "        ax.text(year, loc, stars[ind], color=c, ha=\"center\", fontsize=7, linespacing=0.3)\n",
    "        \n",
    "    ylim = ax.get_ylim()\n",
    "    #ax.set_ylim(ylim[0], ylim[1]*1.2)\n",
    "    \n",
    "    ### plot stars ###\n",
    "    \n",
    "    return means, ci_lo, ci_hi"
   ]
  },
  {
   "cell_type": "code",
   "execution_count": 17,
   "metadata": {},
   "outputs": [],
   "source": [
    "def pprintmean(l):\n",
    "    for ind, x in enumerate(l):\n",
    "        print(round(x, 2), end = ' ')\n",
    "        if ind == 9:\n",
    "            print('\\t', end=' ')\n",
    "    print()"
   ]
  },
  {
   "cell_type": "code",
   "execution_count": 18,
   "metadata": {},
   "outputs": [],
   "source": [
    "pubG = {}\n",
    "pubG['n_count'] = pd.read_csv('../data/figure_3/NormPub.csv',sep='\\t')\n",
    "pubG['q_count'] = pd.read_csv('../data/figure_3/QuesPub.csv',sep='\\t')\n",
    "pubG['s_count'] = pd.read_csv('../data/figure_3/SuspPub.csv',sep='\\t')"
   ]
  },
  {
   "cell_type": "code",
   "execution_count": 28,
   "metadata": {},
   "outputs": [],
   "source": [
    "colors = {'normal': '#69bade', 'q': '#f3c33b', 'bad': '#f34d4d'}"
   ]
  },
  {
   "cell_type": "code",
   "execution_count": 29,
   "metadata": {},
   "outputs": [
    {
     "name": "stdout",
     "output_type": "stream",
     "text": [
      "[-4, -3, -2, -1, 1, 2, 3, 4, 5]\n",
      "0.01 0.02 0.01 -0.02 0.13 0.13 0.14 0.13 0.13 \n",
      "[-4, -3, -2, -1, 1, 2, 3, 4, 5]\n",
      "0.0 0.01 -0.02 -0.0 1.49 1.26 1.47 1.32 1.21 \n",
      "[-4, -3, -2, -1, 1, 2, 3, 4, 5]\n",
      "0.01 0.03 -0.02 0.07 2.51 2.29 2.72 2.72 2.14 \n",
      "CPU times: user 454 ms, sys: 24.7 ms, total: 479 ms\n",
      "Wall time: 482 ms\n"
     ]
    },
    {
     "data": {
      "image/png": "[encoded data removed]",
      "text/plain": [
       "<Figure size 223.07x236.515 with 3 Axes>"
      ]
     },
     "metadata": {
      "needs_background": "light"
     },
     "output_type": "display_data"
    }
   ],
   "source": [
    "%%time\n",
    "cm = 1/2.54  # centimeters in inches\n",
    "fig = plt.figure(figsize=(8.5*cm, 8*cm))\n",
    "plt.rcParams.update({'font.size': 7})\n",
    "\n",
    "spec2 = gridspec.GridSpec(ncols=1, nrows=3, figure=fig, hspace=0)\n",
    "axes = [fig.add_subplot(spec2[0, 0]), fig.add_subplot(spec2[1, 0]), fig.add_subplot(spec2[2, 0])]\n",
    "\n",
    "axes[0].set_xticks([])\n",
    "axes[1].set_xticks([])\n",
    "# axes[1].set_ylabel(\"Mean difference between editors and their\\nmatched scientists in terms of the number\\n\"+\n",
    "#                    \"of papers published in the journal\")\n",
    "axes[2].set_xticks([-4, -3, -2, -1, 0, 1, 2, 3, 4, 5])\n",
    "\n",
    "for ax in axes:\n",
    "    ax.spines['right'].set_visible(False)\n",
    "    ax.spines['bottom'].set_position('zero')\n",
    "    ax.spines['top'].set_visible(False)\n",
    "    ax.set_yticks([0, 1, 2, 3])\n",
    "    ax.grid(b=True, ls=':', axis='y')\n",
    "    ax.set_xlim(-4.6, 5.6)\n",
    "    \n",
    "axes[0].vlines(0.5, -0.4, 4, color='grey', alpha=0.5, linestyles='dashed', linewidth=1)\n",
    "axes[1].vlines(0.5, -0.4, 3.6, color='grey', alpha=0.5, linestyles='dashed', linewidth=1)\n",
    "axes[2].vlines(0.5, 0, 3.6, color='grey', alpha=0.5, linestyles='dashed', linewidth=1)\n",
    "\n",
    "\n",
    "axes[2].spines['left'].set_bounds(0, 3.6)\n",
    "\n",
    "# axes[2].text(-4, 3.2, \"Normal editors\", c=colors['normal'], ha='left')\n",
    "# axes[1].text(-4, 3.2, \"Questionable editors\", c=colors['q'], ha='left')\n",
    "# axes[0].text(-4, 3.2, \"Suspicious editors\", c=colors['bad'], ha='left')\n",
    "\n",
    "\n",
    "plotBars(pubG, axes, ylim=4)\n",
    "\n",
    "set_size(7*cm, 7.5*cm, axes[2])\n",
    "plt.savefig(\"../figures/main_2_pub_match.pdf\",bbox_inches = 'tight', pad_inches = 0)"
   ]
  },
  {
   "cell_type": "markdown",
   "metadata": {},
   "source": [
    "## d"
   ]
  },
  {
   "cell_type": "code",
   "execution_count": 19,
   "metadata": {},
   "outputs": [],
   "source": [
    "from scipy.optimize import curve_fit\n",
    "import scipy\n",
    "from scipy import stats\n",
    "\n",
    "def f(x, A, B): # this is your 'straight line' y=f(x)\n",
    "    return A*x + B\n",
    "\n",
    "def meanCI(a, conf=0.95):\n",
    "    mean, sem, m = np.mean(a), stats.sem(a), stats.t.ppf((1+conf)/2., len(a)-1)\n",
    "    return mean, m*sem"
   ]
  },
  {
   "cell_type": "code",
   "execution_count": 7,
   "metadata": {},
   "outputs": [],
   "source": [
    "def plotScatter(df, ax, c, window, outcome):\n",
    "    means = []\n",
    "    err = []\n",
    "                  \n",
    "    means = []\n",
    "    err = []\n",
    "    \n",
    "    for year in range(1, window+1):\n",
    "        v = df[df.EditorYear == year][outcome].values\n",
    "        \n",
    "        me, sem = meanCI(v, 0.95) # CI here; standard error is: sem = scipy.stats.sem(v)\n",
    "        \n",
    "        err.append(sem)\n",
    "        means.append(me)\n",
    "        \n",
    "    x = [_ for _ in range(1, window+1)]\n",
    "    popt, pcov = curve_fit(f, x, means)\n",
    "    ax.errorbar(x, means, yerr=err, color=c, fmt='o', elinewidth=0.5, ms=3)\n",
    "    \n",
    "    x = [_ for _ in range(1, window+1)]\n",
    "    ax.plot(x, [f(_, *popt) for _ in x], color=c, linewidth=1)\n",
    "    \n",
    "    print([round(x, 2) for x in means])"
   ]
  },
  {
   "cell_type": "code",
   "execution_count": 8,
   "metadata": {},
   "outputs": [],
   "source": [
    "def plotPub(ax, window,\n",
    "            norm_editor_pub,\n",
    "            q_editor_pub,\n",
    "            bad_editor_pub):\n",
    "    \n",
    "    plotScatter(norm_editor_pub, ax, colors['normal'], window, 'EdiCount')\n",
    "    plotScatter(q_editor_pub, ax, colors['q'], window, 'EdiCount')\n",
    "    plotScatter(bad_editor_pub, ax, colors['bad'], window, 'EdiCount')\n",
    "    \n",
    "    ax.set_ylim(0, 4.25)\n",
    "    ax.set_yticks([0, 1, 2, 3, 4])"
   ]
  },
  {
   "cell_type": "code",
   "execution_count": 9,
   "metadata": {},
   "outputs": [
    {
     "data": {
      "text/plain": [
       "(55601, 7)"
      ]
     },
     "execution_count": 9,
     "metadata": {},
     "output_type": "execute_result"
    }
   ],
   "source": [
    "to_plot = pd.read_csv('../data/figure_3/CompareWColleagues.csv', sep='\\t')\n",
    "to_plot.shape"
   ]
  },
  {
   "cell_type": "code",
   "execution_count": 10,
   "metadata": {},
   "outputs": [],
   "source": [
    "norm_editor_pub = to_plot.merge(n, on=['EditorId','IssnId'])\n",
    "q_editor_pub = to_plot.merge(q, on=['EditorId','IssnId'])\n",
    "bad_editor_pub = to_plot.merge(s, on=['EditorId','IssnId'])"
   ]
  },
  {
   "cell_type": "code",
   "execution_count": 22,
   "metadata": {},
   "outputs": [],
   "source": [
    "def styleAx(ax):\n",
    "    ax.set_ylim(0, 4)\n",
    "    ax.set_yticks([0, 1, 2, 3, 4])\n",
    "    \n",
    "    ax.set_xticks([1, 2, 3, 4, 5])\n",
    "    ax.set_xlim(0.8, 5.2)\n",
    "    \n",
    "    ax.spines['right'].set_visible(False)\n",
    "    ax.spines['top'].set_visible(False)\n",
    "    ax.grid(b=True, ls=':')\n",
    "\n",
    "    ax.set_xlabel('Year since becoming editor')"
   ]
  },
  {
   "cell_type": "code",
   "execution_count": 23,
   "metadata": {},
   "outputs": [
    {
     "name": "stdout",
     "output_type": "stream",
     "text": [
      "[0.35, 0.33, 0.34, 0.34, 0.34]\n",
      "[0.29, 0.27, 0.27, 0.27, 0.27]\n",
      "[0.91, 0.93, 0.99, 1.04, 0.99]\n",
      "[1.73, 1.81, 1.96, 1.97, 1.92]\n",
      "[1.42, 1.47, 1.58, 1.74, 1.57]\n",
      "[2.72, 3.14, 3.64, 3.64, 3.31]\n"
     ]
    },
    {
     "data": {
      "image/png": "[encoded data removed]",
      "text/plain": [
       "<Figure size 111.13x330.879 with 3 Axes>"
      ]
     },
     "metadata": {
      "needs_background": "light"
     },
     "output_type": "display_data"
    }
   ],
   "source": [
    "cm = 1/2.54\n",
    "fig = plt.figure(figsize=(4*cm, 10*cm))\n",
    "\n",
    "ax = plt.subplot(3, 1, 1)\n",
    "plotScatter(norm_editor_pub, ax, 'green', 5, 'AutCount')\n",
    "plotScatter(norm_editor_pub, ax, colors['normal'], 5, 'EdiCount')\n",
    "styleAx(ax)\n",
    "\n",
    "ax = plt.subplot(3, 1, 2)\n",
    "plotScatter(q_editor_pub, ax, 'green', 5, 'AutCount')\n",
    "plotScatter(q_editor_pub, ax, colors['q'], 5, 'EdiCount')\n",
    "styleAx(ax)\n",
    "\n",
    "ax = plt.subplot(3, 1, 3)\n",
    "plotScatter(bad_editor_pub, ax, 'green', 5, 'AutCount')\n",
    "plotScatter(bad_editor_pub, ax, colors['bad'], 5, 'EdiCount')\n",
    "styleAx(ax)\n",
    "\n",
    "plt.tight_layout()\n",
    "\n",
    "set_size(3*cm, 10*cm, ax)\n",
    "\n",
    "plt.savefig(f\"../figures/compare_nqs_with_peer.pdf\",bbox_inches = 'tight', pad_inches = 0)"
   ]
  },
  {
   "cell_type": "code",
   "execution_count": null,
   "metadata": {},
   "outputs": [],
   "source": []
  }
 ],
 "metadata": {
  "kernelspec": {
   "display_name": "Python 3",
   "language": "python",
   "name": "python3"
  },
  "language_info": {
   "codemirror_mode": {
    "name": "ipython",
    "version": 3
   },
   "file_extension": ".py",
   "mimetype": "text/x-python",
   "name": "python",
   "nbconvert_exporter": "python",
   "pygments_lexer": "ipython3",
   "version": "3.8.5"
  }
 },
 "nbformat": 4,
 "nbformat_minor": 4
}
