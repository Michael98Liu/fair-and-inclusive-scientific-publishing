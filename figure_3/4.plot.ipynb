{
 "cells": [
  {
   "cell_type": "code",
   "execution_count": 1,
   "metadata": {},
   "outputs": [],
   "source": [
    "import pandas as pd\n",
    "import numpy as np\n",
    "from tqdm.notebook import tqdm\n",
    "\n",
    "import scipy.stats as st\n",
    "import scipy\n",
    "\n",
    "from matplotlib.gridspec import GridSpec\n",
    "\n",
    "import matplotlib\n",
    "from matplotlib import pyplot as plt\n",
    "from matplotlib.patches import Patch\n",
    "import matplotlib.gridspec as gridspec\n",
    "\n",
    "import seaborn as sns\n",
    "from scipy.stats import fisher_exact\n",
    "\n",
    "matplotlib.rcParams['pdf.fonttype'] = 42\n",
    "matplotlib.rcParams['ps.fonttype'] = 42\n",
    "matplotlib.rcParams['grid.linewidth'] = 0.5\n",
    "matplotlib.rcParams['axes.linewidth'] = 0.5\n",
    "plt.rcParams[\"font.size\"] = 7\n",
    "\n",
    "cm = 1/2.54  # centimeters in inches\n",
    "\n",
    "cm = 1/2.54"
   ]
  },
  {
   "cell_type": "code",
   "execution_count": 5,
   "metadata": {},
   "outputs": [],
   "source": [
    "editorProd = pd.read_csv('../data/figure_3/cumulative.csv', sep='\\t')"
   ]
  },
  {
   "cell_type": "code",
   "execution_count": 6,
   "metadata": {},
   "outputs": [],
   "source": [
    "topFields = ['Political science','Philosophy','Materials science','Medicine']"
   ]
  },
  {
   "cell_type": "code",
   "execution_count": 17,
   "metadata": {},
   "outputs": [],
   "source": [
    "def plotStep(df, col, ax, bins, marks, main=False):\n",
    "    \n",
    "    N = df.shape[0]\n",
    "    \n",
    "    x = []\n",
    "    y = []\n",
    "    \n",
    "    markY = [int(N * marks[i]) for i in range(len(marks))]\n",
    "    markInd = 0\n",
    "    \n",
    "    for b in tqdm(bins):\n",
    "        \n",
    "        n = df.query(f'{col} >= {b}').shape[0]\n",
    "        p = n/N\n",
    "        \n",
    "        x.append(b)\n",
    "        y.append(p)\n",
    "        \n",
    "        #print(b, markY[markInd])\n",
    "        \n",
    "        if markInd < len(marks) and b == marks[markInd]:\n",
    "            print(b, n, p, marks[markInd])\n",
    "            markInd += 1\n",
    "            \n",
    "            if main:\n",
    "                ax.plot([b, b], [0, p], color='red', ls='--', lw=0.5)\n",
    "            \n",
    "                ax.plot([b, 0.75], [p, p], color='red', ls='--', lw=0.5)\n",
    "                ax.plot([0.85, 1], [p, p], color='red', ls='--', lw=0.5)\n",
    "            \n",
    "                ax.text(0.8, p, f'{int(p*100)}%', color='red', ha='center', va='center')\n",
    "                \n",
    "            else:\n",
    "                ax.plot([b, b], [0, p], color='red', ls='--', lw=0.5)\n",
    "            \n",
    "                ax.plot([b, 0.6], [p, p], color='red', ls='--', lw=0.5)\n",
    "                ax.plot([0.8, 1], [p, p], color='red', ls='--', lw=0.5)\n",
    "            \n",
    "                ax.text(0.7, p, f'{int(p*100)}%', color='red', ha='center', va='center')\n",
    "                \n",
    "    \n",
    "    if main:\n",
    "        ax.plot(x, y, lw=1, color='#377eb8')\n",
    "        ax.set_yticks([0, 0.1, 0.2, 0.3, 0.4])\n",
    "        ax.set_yticklabels(['0%', \"10%\", \"20%\", \"30%\", \"40%\"])\n",
    "        \n",
    "        ax.set_xticks([0, 0.2, 0.4, 0.6, 0.8, 1])\n",
    "        ax.set_xticklabels(['0%', \"20%\", \"40%\", \"60%\", \"80%\", \"100%\"])\n",
    "        \n",
    "    else:\n",
    "        ax.plot(x, y, lw=1, color='#377eb8')\n",
    "        ax.set_yticks([0, 0.2, 0.4])\n",
    "        #ax.set_yticklabels([0, \"20%\", \"40%\"])\n",
    "        ax.set_yticklabels(['', \"\", \"\"])\n",
    "        \n",
    "        \n",
    "        ax.set_xticks([0, 0.5, 1])\n",
    "        ax.set_xticklabels(['0%', \"50%\", \"100%\"])\n",
    "        \n",
    "    \n",
    "    ax.invert_xaxis()\n",
    "    \n",
    "    return y"
   ]
  },
  {
   "cell_type": "code",
   "execution_count": 112,
   "metadata": {},
   "outputs": [
    {
     "data": {
      "text/plain": [
       "0.01"
      ]
     },
     "execution_count": 112,
     "metadata": {},
     "output_type": "execute_result"
    }
   ],
   "source": [
    "round(editorProd.query('Percentage >= 0.66').shape[0]/editorProd.shape[0], 2)"
   ]
  },
  {
   "cell_type": "code",
   "execution_count": null,
   "metadata": {},
   "outputs": [],
   "source": [
    "round(editorProd.query('Percentage >= 0.66').shape[0]/editorProd.shape[0], 2)"
   ]
  },
  {
   "cell_type": "code",
   "execution_count": null,
   "metadata": {},
   "outputs": [],
   "source": []
  },
  {
   "cell_type": "code",
   "execution_count": 19,
   "metadata": {},
   "outputs": [
    {
     "data": {
      "application/vnd.jupyter.widget-view+json": {
       "model_id": "a99cf9f399174d3dbc9ab8d3c71298e3",
       "version_major": 2,
       "version_minor": 0
      },
      "text/plain": [
       "  0%|          | 0/100 [00:00<?, ?it/s]"
      ]
     },
     "metadata": {},
     "output_type": "display_data"
    },
    {
     "name": "stdout",
     "output_type": "stream",
     "text": [
      "0.5 425 0.03270488649480569 0.5\n",
      "0.4 563 0.043324355521354364 0.4\n",
      "0.3 883 0.06794921123509041 0.3\n",
      "0.2 1604 0.12343208926510196 0.2\n",
      "0.1 3221 0.24786456329357445 0.1\n"
     ]
    },
    {
     "data": {
      "application/vnd.jupyter.widget-view+json": {
       "model_id": "66fe5ddc91bc4cdbb3385c0a50240d56",
       "version_major": 2,
       "version_minor": 0
      },
      "text/plain": [
       "  0%|          | 0/100 [00:00<?, ?it/s]"
      ]
     },
     "metadata": {},
     "output_type": "display_data"
    },
    {
     "name": "stdout",
     "output_type": "stream",
     "text": [
      "0.5 25 0.08064516129032258 0.5\n",
      "0.4 28 0.09032258064516129 0.4\n",
      "0.3 35 0.11290322580645161 0.3\n",
      "0.2 52 0.16774193548387098 0.2\n",
      "0.1 87 0.2806451612903226 0.1\n"
     ]
    },
    {
     "data": {
      "application/vnd.jupyter.widget-view+json": {
       "model_id": "5ad6b257f8104ffcad3f8bdfb455fea4",
       "version_major": 2,
       "version_minor": 0
      },
      "text/plain": [
       "  0%|          | 0/100 [00:00<?, ?it/s]"
      ]
     },
     "metadata": {},
     "output_type": "display_data"
    },
    {
     "name": "stdout",
     "output_type": "stream",
     "text": [
      "0.5 5 0.06329113924050633 0.5\n",
      "0.4 6 0.0759493670886076 0.4\n",
      "0.3 8 0.10126582278481013 0.3\n",
      "0.2 17 0.21518987341772153 0.2\n",
      "0.1 28 0.35443037974683544 0.1\n"
     ]
    },
    {
     "data": {
      "application/vnd.jupyter.widget-view+json": {
       "model_id": "19ec298debe54ceeae26e51d4e73d885",
       "version_major": 2,
       "version_minor": 0
      },
      "text/plain": [
       "  0%|          | 0/100 [00:00<?, ?it/s]"
      ]
     },
     "metadata": {},
     "output_type": "display_data"
    },
    {
     "name": "stdout",
     "output_type": "stream",
     "text": [
      "0.5 9 0.05325443786982249 0.5\n",
      "0.4 13 0.07692307692307693 0.4\n",
      "0.3 22 0.1301775147928994 0.3\n",
      "0.2 29 0.17159763313609466 0.2\n",
      "0.1 52 0.3076923076923077 0.1\n"
     ]
    },
    {
     "data": {
      "application/vnd.jupyter.widget-view+json": {
       "model_id": "5d86d4b11322497cb294ee3db69ccb81",
       "version_major": 2,
       "version_minor": 0
      },
      "text/plain": [
       "  0%|          | 0/100 [00:00<?, ?it/s]"
      ]
     },
     "metadata": {},
     "output_type": "display_data"
    },
    {
     "name": "stdout",
     "output_type": "stream",
     "text": [
      "0.5 49 0.05314533622559653 0.5\n",
      "0.4 63 0.06832971800433839 0.4\n",
      "0.3 94 0.1019522776572668 0.3\n",
      "0.2 171 0.18546637744034708 0.2\n",
      "0.1 322 0.3492407809110629 0.1\n"
     ]
    },
    {
     "name": "stderr",
     "output_type": "stream",
     "text": [
      "<ipython-input-19-a0d3e402d417>:28: UserWarning: This figure includes Axes that are not compatible with tight_layout, so results might be incorrect.\n",
      "  plt.tight_layout()\n"
     ]
    },
    {
     "data": {
      "image/png": "[encoded data removed]",
      "text/plain": [
       "<Figure size 566.929x283.465 with 5 Axes>"
      ]
     },
     "metadata": {
      "needs_background": "light"
     },
     "output_type": "display_data"
    }
   ],
   "source": [
    "fig = plt.figure(figsize=(20*cm, 10*cm))\n",
    "\n",
    "gs1 = GridSpec(2, 4, hspace=0.4)\n",
    "\n",
    "axes = [fig.add_subplot(gs1[0:2, 0:2]),\n",
    "        fig.add_subplot(gs1[0, 2]), fig.add_subplot(gs1[0, 3]),\n",
    "        fig.add_subplot(gs1[1, 2]), fig.add_subplot(gs1[1, 3])]\n",
    "\n",
    "y = plotStep(editorProd, \"Percentage\", axes[0],\n",
    "             [x/100 for x in range(100, 0, -1)], [0.5, 0.4, 0.3, 0.2, 0.1], main=True)\n",
    "\n",
    "y = plotStep(editorProd.query('Field == \"Political science\"'), \"Percentage\", axes[1],\n",
    "             [x/100 for x in range(100, 0, -1)], [0.5, 0.4, 0.3, 0.2, 0.1])\n",
    "             \n",
    "y = plotStep(editorProd.query('Field == \"Philosophy\"'), \"Percentage\", axes[2],\n",
    "             [x/100 for x in range(100, 0, -1)], [0.5, 0.4, 0.3, 0.2, 0.1])\n",
    "\n",
    "y = plotStep(editorProd.query('Field == \"Materials science\"'), \"Percentage\", axes[3],\n",
    "             [x/100 for x in range(100, 0, -1)], [0.5, 0.4, 0.3, 0.2, 0.1])\n",
    "\n",
    "y = plotStep(editorProd.query('Field == \"Medicine\"'), \"Percentage\", axes[4],\n",
    "             [x/100 for x in range(100, 0, -1)], [0.5, 0.4, 0.3, 0.2, 0.1])\n",
    "\n",
    "for ax in axes:\n",
    "    ax.set_xlim(1, 0)\n",
    "    ax.set_ylim(0, 0.4)\n",
    "\n",
    "plt.tight_layout()\n",
    "\n",
    "axes[-1].set_xlabel('')\n",
    "axes[-3].set_xlabel('')\n",
    "\n",
    "axes[0].set_title('All disciplines')\n",
    "axes[1].set_title('Political science')\n",
    "axes[2].set_title('Philosophy')\n",
    "axes[3].set_title('Materials science')\n",
    "axes[4].set_title('Medicine')\n",
    "\n",
    "\n",
    "axes[0].set_xticks([x/10 for x in range(11)])\n",
    "axes[0].set_xticklabels([f'{int(x/10*100)}%' for x in range(11)])\n",
    "\n",
    "for ax in axes[1:]:\n",
    "    \n",
    "    ax.set_yticks([0, 0.1, 0.2, 0.3, 0.4])\n",
    "    ax.set_yticklabels(['', '', '', '', ''])\n",
    "\n",
    "\n",
    "plt.savefig(\"../figures/main_3_cumulative.pdf\", bbox_inches = 'tight', pad_inches = 0)"
   ]
  },
  {
   "cell_type": "markdown",
   "metadata": {},
   "source": [
    "### supplementary"
   ]
  },
  {
   "cell_type": "code",
   "execution_count": 21,
   "metadata": {},
   "outputs": [
    {
     "data": {
      "text/plain": [
       "[('Sociology', 0.0),\n",
       " ('Geography', 0.0),\n",
       " ('Computer science', 0.12327773749093546),\n",
       " ('Economics', 0.20645397873120647),\n",
       " ('Engineering', 0.22418136020151133),\n",
       " ('Psychology', 0.234375),\n",
       " ('Geology', 0.24444444444444444),\n",
       " ('Mathematics', 0.25214676034348166),\n",
       " ('Business', 0.2610619469026549),\n",
       " ('Political science', 0.2806451612903226),\n",
       " ('Biology', 0.2858748594979393),\n",
       " ('Physics', 0.293007769145394),\n",
       " ('Chemistry', 0.3004694835680751),\n",
       " ('Materials science', 0.3076923076923077),\n",
       " ('Medicine', 0.3492407809110629),\n",
       " ('Philosophy', 0.35443037974683544)]"
      ]
     },
     "execution_count": 21,
     "metadata": {},
     "output_type": "execute_result"
    }
   ],
   "source": [
    "all_fields = []\n",
    "\n",
    "for field in editorProd.Field.unique():\n",
    "    \n",
    "    subset = editorProd.query(f'Field == \"{field}\"')\n",
    "    n = subset.query(f'Percentage >= 0.1').shape[0]\n",
    "    \n",
    "    all_fields.append((field, n/subset.shape[0]))\n",
    "    \n",
    "sorted(all_fields, key=lambda x: x[1])"
   ]
  },
  {
   "cell_type": "code",
   "execution_count": 22,
   "metadata": {},
   "outputs": [
    {
     "name": "stdout",
     "output_type": "stream",
     "text": [
      "Philosophy\n"
     ]
    },
    {
     "data": {
      "application/vnd.jupyter.widget-view+json": {
       "model_id": "ed69c4a322ab4f6ab31caa80d7051020",
       "version_major": 2,
       "version_minor": 0
      },
      "text/plain": [
       "  0%|          | 0/100 [00:00<?, ?it/s]"
      ]
     },
     "metadata": {},
     "output_type": "display_data"
    },
    {
     "name": "stdout",
     "output_type": "stream",
     "text": [
      "0.5 5 0.06329113924050633 0.5\n",
      "0.4 6 0.0759493670886076 0.4\n",
      "0.3 8 0.10126582278481013 0.3\n",
      "0.2 17 0.21518987341772153 0.2\n",
      "0.1 28 0.35443037974683544 0.1\n",
      "Medicine\n"
     ]
    },
    {
     "data": {
      "application/vnd.jupyter.widget-view+json": {
       "model_id": "5c400179a5e548b0b430d98b7f4ff943",
       "version_major": 2,
       "version_minor": 0
      },
      "text/plain": [
       "  0%|          | 0/100 [00:00<?, ?it/s]"
      ]
     },
     "metadata": {},
     "output_type": "display_data"
    },
    {
     "name": "stdout",
     "output_type": "stream",
     "text": [
      "0.5 49 0.05314533622559653 0.5\n",
      "0.4 63 0.06832971800433839 0.4\n",
      "0.3 94 0.1019522776572668 0.3\n",
      "0.2 171 0.18546637744034708 0.2\n",
      "0.1 322 0.3492407809110629 0.1\n",
      "Materials science\n"
     ]
    },
    {
     "data": {
      "application/vnd.jupyter.widget-view+json": {
       "model_id": "7cb927197e504d44bf09a910f6a6905d",
       "version_major": 2,
       "version_minor": 0
      },
      "text/plain": [
       "  0%|          | 0/100 [00:00<?, ?it/s]"
      ]
     },
     "metadata": {},
     "output_type": "display_data"
    },
    {
     "name": "stdout",
     "output_type": "stream",
     "text": [
      "0.5 9 0.05325443786982249 0.5\n",
      "0.4 13 0.07692307692307693 0.4\n",
      "0.3 22 0.1301775147928994 0.3\n",
      "0.2 29 0.17159763313609466 0.2\n",
      "0.1 52 0.3076923076923077 0.1\n",
      "Chemistry\n"
     ]
    },
    {
     "data": {
      "application/vnd.jupyter.widget-view+json": {
       "model_id": "d60f79600f0f47c599ded2da5964893a",
       "version_major": 2,
       "version_minor": 0
      },
      "text/plain": [
       "  0%|          | 0/100 [00:00<?, ?it/s]"
      ]
     },
     "metadata": {},
     "output_type": "display_data"
    },
    {
     "name": "stdout",
     "output_type": "stream",
     "text": [
      "0.5 19 0.0297339593114241 0.5\n",
      "0.4 32 0.050078247261345854 0.4\n",
      "0.3 54 0.08450704225352113 0.3\n",
      "0.2 99 0.15492957746478872 0.2\n",
      "0.1 192 0.3004694835680751 0.1\n",
      "Physics\n"
     ]
    },
    {
     "data": {
      "application/vnd.jupyter.widget-view+json": {
       "model_id": "defae3d463de4a3eb34e845e1c298275",
       "version_major": 2,
       "version_minor": 0
      },
      "text/plain": [
       "  0%|          | 0/100 [00:00<?, ?it/s]"
      ]
     },
     "metadata": {},
     "output_type": "display_data"
    },
    {
     "name": "stdout",
     "output_type": "stream",
     "text": [
      "0.5 37 0.041065482796892344 0.5\n",
      "0.4 49 0.05438401775804662 0.4\n",
      "0.3 80 0.08879023307436182 0.3\n",
      "0.2 130 0.14428412874583796 0.2\n",
      "0.1 264 0.293007769145394 0.1\n",
      "Biology\n"
     ]
    },
    {
     "data": {
      "application/vnd.jupyter.widget-view+json": {
       "model_id": "73b07f0fc3e74a0380a75462a31c589b",
       "version_major": 2,
       "version_minor": 0
      },
      "text/plain": [
       "  0%|          | 0/100 [00:00<?, ?it/s]"
      ]
     },
     "metadata": {},
     "output_type": "display_data"
    },
    {
     "name": "stdout",
     "output_type": "stream",
     "text": [
      "0.5 88 0.032971150243536904 0.5\n",
      "0.4 122 0.04571000374672162 0.4\n",
      "0.3 209 0.07830648182840015 0.3\n",
      "0.2 393 0.14724615961034096 0.2\n",
      "0.1 763 0.2858748594979393 0.1\n",
      "Political science\n"
     ]
    },
    {
     "data": {
      "application/vnd.jupyter.widget-view+json": {
       "model_id": "f1f513872900416fb81bc61d4d25a571",
       "version_major": 2,
       "version_minor": 0
      },
      "text/plain": [
       "  0%|          | 0/100 [00:00<?, ?it/s]"
      ]
     },
     "metadata": {},
     "output_type": "display_data"
    },
    {
     "name": "stdout",
     "output_type": "stream",
     "text": [
      "0.5 25 0.08064516129032258 0.5\n",
      "0.4 28 0.09032258064516129 0.4\n",
      "0.3 35 0.11290322580645161 0.3\n",
      "0.2 52 0.16774193548387098 0.2\n",
      "0.1 87 0.2806451612903226 0.1\n",
      "Business\n"
     ]
    },
    {
     "data": {
      "application/vnd.jupyter.widget-view+json": {
       "model_id": "835947e63750488fba47cb68994d0982",
       "version_major": 2,
       "version_minor": 0
      },
      "text/plain": [
       "  0%|          | 0/100 [00:00<?, ?it/s]"
      ]
     },
     "metadata": {},
     "output_type": "display_data"
    },
    {
     "name": "stdout",
     "output_type": "stream",
     "text": [
      "0.5 12 0.02654867256637168 0.5\n",
      "0.4 15 0.033185840707964605 0.4\n",
      "0.3 29 0.06415929203539823 0.3\n",
      "0.2 59 0.13053097345132744 0.2\n",
      "0.1 118 0.2610619469026549 0.1\n",
      "Mathematics\n"
     ]
    },
    {
     "data": {
      "application/vnd.jupyter.widget-view+json": {
       "model_id": "c4ca10d90f7f43c3961490c3a3b36446",
       "version_major": 2,
       "version_minor": 0
      },
      "text/plain": [
       "  0%|          | 0/100 [00:00<?, ?it/s]"
      ]
     },
     "metadata": {},
     "output_type": "display_data"
    },
    {
     "name": "stdout",
     "output_type": "stream",
     "text": [
      "0.5 44 0.03434816549570648 0.5\n",
      "0.4 64 0.04996096799375488 0.4\n",
      "0.3 88 0.06869633099141297 0.3\n",
      "0.2 142 0.11085089773614364 0.2\n",
      "0.1 323 0.25214676034348166 0.1\n",
      "Geology\n"
     ]
    },
    {
     "data": {
      "application/vnd.jupyter.widget-view+json": {
       "model_id": "8722f1cf7b2d48cca79fb7be31349176",
       "version_major": 2,
       "version_minor": 0
      },
      "text/plain": [
       "  0%|          | 0/100 [00:00<?, ?it/s]"
      ]
     },
     "metadata": {},
     "output_type": "display_data"
    },
    {
     "name": "stdout",
     "output_type": "stream",
     "text": [
      "0.5 6 0.02666666666666667 0.5\n",
      "0.4 7 0.03111111111111111 0.4\n",
      "0.3 13 0.057777777777777775 0.3\n",
      "0.2 24 0.10666666666666667 0.2\n",
      "0.1 55 0.24444444444444444 0.1\n",
      "Psychology\n"
     ]
    },
    {
     "data": {
      "application/vnd.jupyter.widget-view+json": {
       "model_id": "89bb7aee47d645c1a6222650bcfaaa7a",
       "version_major": 2,
       "version_minor": 0
      },
      "text/plain": [
       "  0%|          | 0/100 [00:00<?, ?it/s]"
      ]
     },
     "metadata": {},
     "output_type": "display_data"
    },
    {
     "name": "stdout",
     "output_type": "stream",
     "text": [
      "0.5 24 0.028846153846153848 0.5\n",
      "0.4 34 0.040865384615384616 0.4\n",
      "0.3 51 0.06129807692307692 0.3\n",
      "0.2 89 0.10697115384615384 0.2\n",
      "0.1 195 0.234375 0.1\n",
      "Engineering\n"
     ]
    },
    {
     "data": {
      "application/vnd.jupyter.widget-view+json": {
       "model_id": "67fe2a12fba64ba0b9c59d856b2a5af1",
       "version_major": 2,
       "version_minor": 0
      },
      "text/plain": [
       "  0%|          | 0/100 [00:00<?, ?it/s]"
      ]
     },
     "metadata": {},
     "output_type": "display_data"
    },
    {
     "name": "stdout",
     "output_type": "stream",
     "text": [
      "0.5 11 0.027707808564231738 0.5\n",
      "0.4 14 0.03526448362720403 0.4\n",
      "0.3 25 0.06297229219143577 0.3\n",
      "0.2 41 0.10327455919395466 0.2\n",
      "0.1 89 0.22418136020151133 0.1\n",
      "Economics\n"
     ]
    },
    {
     "data": {
      "application/vnd.jupyter.widget-view+json": {
       "model_id": "4403c1be8a634744ab4c96437e1a17a7",
       "version_major": 2,
       "version_minor": 0
      },
      "text/plain": [
       "  0%|          | 0/100 [00:00<?, ?it/s]"
      ]
     },
     "metadata": {},
     "output_type": "display_data"
    },
    {
     "name": "stdout",
     "output_type": "stream",
     "text": [
      "0.5 76 0.027869453612027868 0.5\n",
      "0.4 94 0.03447011367803447 0.4\n",
      "0.3 141 0.0517051705170517 0.3\n",
      "0.2 288 0.10561056105610561 0.2\n",
      "0.1 563 0.20645397873120647 0.1\n",
      "Computer science\n"
     ]
    },
    {
     "data": {
      "application/vnd.jupyter.widget-view+json": {
       "model_id": "1d73c038c38b425b84be3b25899b2d41",
       "version_major": 2,
       "version_minor": 0
      },
      "text/plain": [
       "  0%|          | 0/100 [00:00<?, ?it/s]"
      ]
     },
     "metadata": {},
     "output_type": "display_data"
    },
    {
     "name": "stdout",
     "output_type": "stream",
     "text": [
      "0.5 20 0.014503263234227702 0.5\n",
      "0.4 22 0.01595358955765047 0.4\n",
      "0.3 34 0.024655547498187092 0.3\n",
      "0.2 70 0.050761421319796954 0.2\n",
      "0.1 170 0.12327773749093546 0.1\n"
     ]
    },
    {
     "data": {
      "image/png": "[encoded data removed]",
      "text/plain": [
       "<Figure size 538.583x566.929 with 14 Axes>"
      ]
     },
     "metadata": {
      "needs_background": "light"
     },
     "output_type": "display_data"
    }
   ],
   "source": [
    "fig = plt.figure(figsize=(19*cm, 20*cm))\n",
    "\n",
    "axes = [plt.subplot(4, 4, i+1) for i in range(14)]\n",
    "ind = 0\n",
    "\n",
    "for field, percentage in sorted(all_fields, key=lambda x: x[1], reverse=True):\n",
    "    \n",
    "    if field == 'Geography': continue\n",
    "    if field == 'Sociology': continue\n",
    "        \n",
    "    print(field)\n",
    "    axes[ind].set_title(field)\n",
    "    \n",
    "    y = plotStep(editorProd.query(f'Field == \"{field}\"'), \"Percentage\", axes[ind],\n",
    "             [x/100 for x in range(100, 0, -1)], [0.5, 0.4, 0.3, 0.2, 0.1])\n",
    "        \n",
    "    ind += 1\n",
    "    \n",
    "for ax in axes:\n",
    "    \n",
    "    ax.set_xlim(1, 0)\n",
    "    ax.set_ylim(0, 0.4)\n",
    "    \n",
    "    ax.set_xlabel('Self-publication rate')\n",
    "    ax.set_ylabel('%editors')\n",
    "    \n",
    "    ax.set_yticks([0, 0.1, 0.2, 0.3, 0.4])\n",
    "    ax.set_yticklabels(['', '', '', '', ''])\n",
    "    \n",
    "axes[0].set_yticklabels(['0%', '10%', '20%', '30%', '40%'])\n",
    "axes[4].set_yticklabels(['', '', '', '', ''])\n",
    "axes[8].set_yticklabels(['', '', '', '', ''])\n",
    "\n",
    "plt.tight_layout()\n",
    "\n",
    "plt.savefig(\"../figures/sup_3_cumulative_all_field.pdf\", bbox_inches = 'tight', pad_inches = 0)"
   ]
  },
  {
   "cell_type": "markdown",
   "metadata": {},
   "source": [
    "# Match"
   ]
  },
  {
   "cell_type": "code",
   "execution_count": 11,
   "metadata": {},
   "outputs": [],
   "source": [
    "from scipy.stats import ttest_ind, wilcoxon, ks_2samp"
   ]
  },
  {
   "cell_type": "code",
   "execution_count": 12,
   "metadata": {},
   "outputs": [],
   "source": [
    "def caclCIValues(a, conf=0.95):\n",
    "    sem, m = scipy.stats.sem(a), scipy.stats.t.ppf((1+conf)/2., len(a)-1)\n",
    "    return m*sem\n",
    "\n",
    "def compareEachYear(matchedEditor, matchedAuthor, ediCol='EdiPercent', autCol='AutPercent'):\n",
    "\n",
    "    df = []\n",
    "    \n",
    "    for year in [-4, -3, -2, -1, 0]:\n",
    "\n",
    "        anualEdi = matchedEditor.query(f'EditorYear == {year}')[ediCol]\n",
    "        anualAut = matchedAuthor.query(f'EditorYear == {year}')[autCol]\n",
    "        \n",
    "        stdDiff = (anualEdi.mean() - anualAut.mean())/np.sqrt((np.var(anualEdi) + np.var(anualAut))/2)\n",
    "        \n",
    "        ediCI = caclCIValues(anualEdi)\n",
    "        autCI = caclCIValues(anualAut)\n",
    "        \n",
    "        t1 = ttest_ind(anualEdi, anualAut)\n",
    "        t2 = wilcoxon(anualEdi, anualAut)\n",
    "        t3 = ks_2samp(anualEdi, anualAut)\n",
    "        \n",
    "        df.append({'Self publication rate cohort':None,\n",
    "                   'Year since becoming editor': year,\n",
    "                   'Author mean': round(anualAut.mean(), 3),\n",
    "                   'Editor mean': round(anualEdi.mean(), 3),\n",
    "                   'Standardized difference': round(stdDiff, 3),\n",
    "                   'P-value (Wilcoxon test)': round(t2.pvalue, 3) if t2.pvalue >= 0.001 else 'p < 0.001',\n",
    "                   'P-value (Kolmogorov–Smirnov test)': round(t3.pvalue, 3) if t3.pvalue >= 0.001 else 'p < 0.001',\n",
    "                  })\n",
    "        \n",
    "    return pd.DataFrame(df)"
   ]
  },
  {
   "cell_type": "code",
   "execution_count": 13,
   "metadata": {},
   "outputs": [],
   "source": [
    "matchedEditors = pd.read_csv('../data/figure_3/EditorsMatch.csv', sep='\\t')\n",
    "matchedAuthors = pd.read_csv('../data/figure_3/AuthorsMatch.csv', sep='\\t')"
   ]
  },
  {
   "cell_type": "code",
   "execution_count": 14,
   "metadata": {},
   "outputs": [
    {
     "data": {
      "text/plain": [
       "(25, 7)"
      ]
     },
     "execution_count": 14,
     "metadata": {},
     "output_type": "execute_result"
    }
   ],
   "source": [
    "dfs = []\n",
    "\n",
    "for i in range(4, -1, -1):\n",
    "    \n",
    "    df = compareEachYear(matchedEditors.query('Cohort==@i'), matchedAuthors.query('Cohort==@i'))\n",
    "    df['Self publication rate cohort'] = f'>= 0.{i+1}'\n",
    "    \n",
    "    dfs.append(df)\n",
    "    \n",
    "dfs = pd.concat(dfs, ignore_index=True, sort=False)\n",
    "dfs.shape"
   ]
  },
  {
   "cell_type": "code",
   "execution_count": 15,
   "metadata": {},
   "outputs": [
    {
     "name": "stdout",
     "output_type": "stream",
     "text": [
      "\\begin{tabular}{lrrrrlr}\n",
      "\\toprule\n",
      "Self publication rate cohort &  Year since becoming editor &  Author mean &  Editor mean &  Standardized difference & P-value (Wilcoxon test) &  P-value (Kolmogorov–Smirnov test) \\\\\n",
      "\\midrule\n",
      "                      >= 0.5 &                          -4 &        0.067 &        0.085 &                    0.077 &                   0.500 &                              1.000 \\\\\n",
      "                      >= 0.5 &                          -3 &        0.054 &        0.084 &                    0.140 &                   0.132 &                              0.969 \\\\\n",
      "                      >= 0.5 &                          -2 &        0.062 &        0.087 &                    0.104 &                   0.307 &                              1.000 \\\\\n",
      "                      >= 0.5 &                          -1 &        0.046 &        0.086 &                    0.208 &                   0.038 &                              0.561 \\\\\n",
      "                      >= 0.5 &                           0 &        0.066 &        0.066 &                    0.002 &                   0.977 &                              1.000 \\\\\n",
      "                      >= 0.4 &                          -4 &        0.070 &        0.092 &                    0.098 &                   0.348 &                              1.000 \\\\\n",
      "                      >= 0.4 &                          -3 &        0.065 &        0.076 &                    0.054 &                   0.443 &                              0.999 \\\\\n",
      "                      >= 0.4 &                          -2 &        0.068 &        0.088 &                    0.090 &                   0.271 &                              0.999 \\\\\n",
      "                      >= 0.4 &                          -1 &        0.052 &        0.092 &                    0.203 &                   0.019 &                              0.464 \\\\\n",
      "                      >= 0.4 &                           0 &        0.059 &        0.060 &                    0.003 &                   0.989 &                              1.000 \\\\\n",
      "                      >= 0.3 &                          -4 &        0.068 &        0.094 &                    0.115 &                   0.106 &                              0.911 \\\\\n",
      "                      >= 0.3 &                          -3 &        0.066 &        0.084 &                    0.081 &                   0.274 &                              0.781 \\\\\n",
      "                      >= 0.3 &                          -2 &        0.077 &        0.090 &                    0.061 &                   0.411 &                              0.998 \\\\\n",
      "                      >= 0.3 &                          -1 &        0.062 &        0.098 &                    0.168 &                   0.023 &                              0.520 \\\\\n",
      "                      >= 0.3 &                           0 &        0.049 &        0.050 &                    0.002 &                   0.990 &                              1.000 \\\\\n",
      "                      >= 0.2 &                          -4 &        0.056 &        0.075 &                    0.100 &                   0.065 &                              0.770 \\\\\n",
      "                      >= 0.2 &                          -3 &        0.066 &        0.071 &                    0.024 &                   0.384 &                              0.833 \\\\\n",
      "                      >= 0.2 &                          -2 &        0.070 &        0.080 &                    0.048 &                   0.562 &                              0.959 \\\\\n",
      "                      >= 0.2 &                          -1 &        0.055 &        0.093 &                    0.190 &                   0.002 &                              0.134 \\\\\n",
      "                      >= 0.2 &                           0 &        0.036 &        0.037 &                    0.001 &                   0.998 &                              1.000 \\\\\n",
      "                      >= 0.1 &                          -4 &        0.046 &        0.062 &                    0.094 &                   0.018 &                              0.310 \\\\\n",
      "                      >= 0.1 &                          -3 &        0.056 &        0.065 &                    0.051 &                   0.090 &                              0.304 \\\\\n",
      "                      >= 0.1 &                          -2 &        0.058 &        0.068 &                    0.059 &                   0.038 &                              0.236 \\\\\n",
      "                      >= 0.1 &                          -1 &        0.051 &        0.076 &                    0.145 &               p < 0.001 &                              0.025 \\\\\n",
      "                      >= 0.1 &                           0 &        0.026 &        0.026 &                    0.001 &                   0.988 &                              1.000 \\\\\n",
      "\\bottomrule\n",
      "\\end{tabular}\n",
      "\n"
     ]
    }
   ],
   "source": [
    "print(dfs.to_latex(index=False))"
   ]
  },
  {
   "cell_type": "code",
   "execution_count": 16,
   "metadata": {},
   "outputs": [],
   "source": [
    "def plotMatched(ax, matchedEditor, matchedAuthor, matched=False,\n",
    "                ediCol='EdiPercent', autCol='AutPercent', color='#4daf4a', left=1, right=5, ytop=0.6):\n",
    "    \n",
    "    edi = matchedEditor.query(f'EditorYear > 0').query(f'EditorYear <= {right}')\n",
    "    aut = matchedAuthor.query(f'EditorYear > 0').query(f'EditorYear <= {right}')\n",
    "    \n",
    "    sns.lineplot(data=aut, x='EditorYear', y=autCol, ax=ax, color=color, lw=0.5)\n",
    "    sns.lineplot(data=edi, x='EditorYear', y=ediCol, ax=ax, color='#377eb8', lw=0.5)\n",
    "    \n",
    "    if left < 1:\n",
    "        edi = (\n",
    "            matchedEditor.query(f'EditorYear >= {left}').query(f'EditorYear <= 0')\n",
    "        )\n",
    "        aut = (\n",
    "            matchedAuthor.query(f'EditorYear >= {left}').query(f'EditorYear <= 0')\n",
    "        )\n",
    "        \n",
    "        sns.lineplot(data=aut, x='EditorYear', y=autCol, ax=ax, color=color, lw=0.5)\n",
    "        sns.lineplot(data=edi, x='EditorYear', y=ediCol, ax=ax, color='#377eb8', lw=0.5)\n",
    "        \n",
    "        ax.plot([0.5, 0.5], [0, ytop], lw=0.5, color='grey', ls=':')"
   ]
  },
  {
   "cell_type": "code",
   "execution_count": 17,
   "metadata": {},
   "outputs": [
    {
     "data": {
      "image/png": "[encoded data removed]",
      "text/plain": [
       "<Figure size 510.236x113.386 with 5 Axes>"
      ]
     },
     "metadata": {
      "needs_background": "light"
     },
     "output_type": "display_data"
    }
   ],
   "source": [
    "fig = plt.figure(figsize=(18*cm, 4*cm))\n",
    "\n",
    "axes = [plt.subplot(1, 5, i+1) for i in range(5)]\n",
    "\n",
    "for i in range(5):\n",
    "    \n",
    "    plotMatched(axes[i], matchedEditors.query('Cohort==@i'), matchedAuthors.query('Cohort==@i'), left=-4, right=5)\n",
    "    \n",
    "    axes[i].set_ylim(0, 0.6)\n",
    "    axes[i].set_xlim(-4, 5)\n",
    "    \n",
    "    axes[i].set_title(f'>= {i+1}0%')\n",
    "    \n",
    "    if i==0: axes[i].set_ylabel('Percentage of self published papers')\n",
    "    else: axes[i].set_ylabel('')\n",
    "    \n",
    "    axes[i].set_yticks([0, 0.2, 0.4, 0.6])\n",
    "    \n",
    "    if i==0: axes[i].set_yticklabels([0, \"20%\", \"40%\", \"60%\"])\n",
    "    else: axes[i].set_yticklabels(['', \"\", \"\", \"\"])\n",
    "        \n",
    "    axes[i].set_xticks([-4, 0, 1, 5])\n",
    "    \n",
    "    \n",
    "plt.tight_layout()\n",
    "#plt.savefig(\"../figures/sup_3_matched_before_and_after.pdf\", bbox_inches = 'tight', pad_inches = 0)"
   ]
  },
  {
   "cell_type": "markdown",
   "metadata": {},
   "source": [
    "# Match and peer"
   ]
  },
  {
   "cell_type": "code",
   "execution_count": 18,
   "metadata": {},
   "outputs": [],
   "source": [
    "ediPercent = pd.read_csv('../data/figure_3/EditorsPeer.csv', sep='\\t')\n",
    "peerPercent = pd.read_csv('../data/figure_3/PeerTrend.csv', sep='\\t')\n",
    "\n",
    "matchedEditors = pd.read_csv('../data/figure_3/EditorsMatch.csv', sep='\\t')\n",
    "matchedAuthors = pd.read_csv('../data/figure_3/AuthorsMatch.csv', sep='\\t')"
   ]
  },
  {
   "cell_type": "code",
   "execution_count": 27,
   "metadata": {},
   "outputs": [
    {
     "data": {
      "image/png": "[encoded data removed]",
      "text/plain": [
       "<Figure size 340.157x147.402 with 10 Axes>"
      ]
     },
     "metadata": {
      "needs_background": "light"
     },
     "output_type": "display_data"
    }
   ],
   "source": [
    "fig = plt.figure(figsize=(12*cm, 5.2*cm))\n",
    "\n",
    "axes = [plt.subplot(2, 5, i+1) for i in range(10)]\n",
    "\n",
    "cutoffs = [0.1, 0.2, 0.3, 0.4, 0.5]\n",
    "\n",
    "for ind, i in enumerate(range(5)):\n",
    "    \n",
    "    plotMatched(axes[i], matchedEditors.query('Cohort==@ind'), matchedAuthors.query('Cohort==@ind'))\n",
    "\n",
    "\n",
    "for ind, i in enumerate(range(5, 10)):\n",
    "    \n",
    "    plotMatched(\n",
    "        axes[i], ediPercent.query('Cohort==@ind'), peerPercent.query('Cohort==@ind'),\n",
    "        ediCol='EdiPercent', autCol='PeerPercent', color='#984ea3'\n",
    "    )\n",
    "    \n",
    "    \n",
    "for i in range(10):\n",
    "    \n",
    "    axes[i].set_ylabel('') # Percentage of self published papers\n",
    "    axes[i].set_xlabel('') # Year after becoming and editor\n",
    "    \n",
    "    axes[i].set_ylim(0, 0.6)\n",
    "    axes[i].set_yticks([0, 0.2, 0.4, 0.6])\n",
    "    \n",
    "    axes[i].set_xlim(1, 5)\n",
    "    \n",
    "    \n",
    "    if i%5==0:\n",
    "        axes[i].set_yticklabels(['0%', \"20%\", \"40%\", \"60%\"])\n",
    "    else:\n",
    "        axes[i].set_yticklabels(['', \"\", \"\", \"\"])\n",
    "        axes[i].tick_params(axis='y', length=0)\n",
    "        \n",
    "    \n",
    "    axes[i].set_xticks([1,2,3,4,5])\n",
    "    \n",
    "    if i<5:\n",
    "        axes[i].set_xticklabels(['', \"\", \"\", \"\", ''])\n",
    "        axes[i].tick_params(axis='x', length=0)\n",
    "        \n",
    "    #axes[i].set_title(f'>= {int(cutoffs[ind]*100)}%')\n",
    "    # remove the ticks\n",
    "    # add grid\n",
    "    axes[i].grid(ls='--', lw=0.5, alpha=0.8)\n",
    "    \n",
    "plt.tight_layout()\n",
    "plt.savefig(\"../figures/main_3_temporal.pdf\", bbox_inches = 'tight', pad_inches = 0)"
   ]
  },
  {
   "cell_type": "markdown",
   "metadata": {},
   "source": [
    "# Editor-in-chief"
   ]
  },
  {
   "cell_type": "code",
   "execution_count": 20,
   "metadata": {},
   "outputs": [],
   "source": [
    "chiefAndBoard = pd.read_csv('../data/figure_3/EICandBoard.csv', sep='\\t')"
   ]
  },
  {
   "cell_type": "code",
   "execution_count": 21,
   "metadata": {},
   "outputs": [],
   "source": [
    "pearsonR, pearsonP = scipy.stats.pearsonr(chiefAndBoard.ChiefPercent, chiefAndBoard.BoardAvg)"
   ]
  },
  {
   "cell_type": "code",
   "execution_count": 22,
   "metadata": {},
   "outputs": [
    {
     "data": {
      "text/plain": [
       "'2.05e-110'"
      ]
     },
     "execution_count": 22,
     "metadata": {},
     "output_type": "execute_result"
    }
   ],
   "source": [
    "\"{:.2e}\".format(pearsonP)"
   ]
  },
  {
   "cell_type": "code",
   "execution_count": 10,
   "metadata": {},
   "outputs": [
    {
     "data": {
      "text/plain": [
       "(-0.02, 1.02)"
      ]
     },
     "execution_count": 10,
     "metadata": {},
     "output_type": "execute_result"
    },
    {
     "data": {
      "image/png": "[encoded data removed]",
      "text/plain": [
       "<Figure size 226.772x226.772 with 1 Axes>"
      ]
     },
     "metadata": {
      "needs_background": "light"
     },
     "output_type": "display_data"
    }
   ],
   "source": [
    "fig = plt.figure(figsize=(8*cm, 8*cm))\n",
    "\n",
    "ax = plt.gca()\n",
    "\n",
    "sns.regplot(data=chiefAndBoard, x='ChiefPercent', y='BoardAvg', ax=ax, scatter_kws={'s': 5},line_kws={'linewidth': 1} )\n",
    "\n",
    "ax.spines['top'].set_visible(False)\n",
    "ax.spines['right'].set_visible(False)\n",
    "\n",
    "ax.set_xlabel('Self-publication rate of editor-in-chief')\n",
    "ax.set_ylabel('Average self-publication rate of editorial board')\n",
    "\n",
    "ax.text(0.1, 0.8, f'$r$ = {\"{:.2f}\".format(pearsonR)}, $p$ = {\"{:.2e}\".format(pearsonP)}')\n",
    "\n",
    "ax.set_xlim(-0.02, 1.02)\n",
    "\n",
    "#plt.savefig(\"../figures/sup_3_eic.pdf\", bbox_inches = 'tight', pad_inches = 0)"
   ]
  },
  {
   "cell_type": "code",
   "execution_count": 5,
   "metadata": {},
   "outputs": [],
   "source": [
    "chiefAndBoardLog = (\n",
    "    chiefAndBoard.query('BoardAvg != 0').query('ChiefPercent != 0')\n",
    "    .assign(BoardAvg = lambda df: df.BoardAvg.apply(lambda x: np.log10(x) if x != 0 else 0))\n",
    "    .assign(ChiefPercent = lambda df: df.ChiefPercent.apply(lambda x: np.log10(x) if x != 0 else 0))\n",
    ")"
   ]
  },
  {
   "cell_type": "code",
   "execution_count": 8,
   "metadata": {},
   "outputs": [
    {
     "data": {
      "image/png": "[encoded data removed]",
      "text/plain": [
       "<Figure size 155.906x155.906 with 1 Axes>"
      ]
     },
     "metadata": {
      "needs_background": "light"
     },
     "output_type": "display_data"
    }
   ],
   "source": [
    "fig = plt.figure(figsize=(5.5*cm, 5.5*cm))\n",
    "\n",
    "ax = plt.gca()\n",
    "\n",
    "sns.regplot(data=chiefAndBoardLog, x='ChiefPercent', y='BoardAvg', ax=ax, scatter_kws={'s': 5, 'alpha': 0.1},line_kws={'linewidth': 1} )\n",
    "\n",
    "ax.spines['top'].set_visible(False)\n",
    "ax.spines['right'].set_visible(False)\n",
    "\n",
    "ax.set_xlabel('')#Self-publication rate of editor-in-chief\n",
    "ax.set_ylabel('')#Average self-publication\\nrate of editorial board\n",
    "\n",
    "ax.set_xticks([-2, -1, 0])\n",
    "#ax.set_xticklabels([\"$10^{-2}$\", \"$10^{-1}$\", \"$10^{0}$\"])\n",
    "ax.set_xticklabels([\"1%\", \"10%\", \"100%\"])\n",
    "\n",
    "\n",
    "ax.set_yticks([-2, -1, 0])\n",
    "#ax.set_yticklabels([\"$10^{-2}$\", \"$10^{-1}$\", \"$10^{0}$\"])\n",
    "ax.set_yticklabels([\"1%\", \"10%\", \"100%\"])\n",
    "\n",
    "\n",
    "ax.set_xlim(-2.6, 0.2)\n",
    "\n",
    "ax.text(-2.3, 0.008, f'$r$ = {\"{:.2f}\".format(pearsonR)}, $p$ = {\"{:.2e}\".format(pearsonP)}')\n",
    "\n",
    "plt.savefig(\"../figures/main_3_eic.pdf\", bbox_inches = 'tight', pad_inches = 0)"
   ]
  },
  {
   "cell_type": "markdown",
   "metadata": {},
   "source": [
    "# Gender"
   ]
  },
  {
   "cell_type": "code",
   "execution_count": 103,
   "metadata": {},
   "outputs": [],
   "source": [
    "def compareMaleFemale(editors, sortBy='Percentage'):\n",
    "    \n",
    "    editors = editors.sort_values(by=sortBy, ascending=False)\n",
    "    \n",
    "    N = editors.shape[0]\n",
    "    \n",
    "    maleCount = editors.query('gender == \"male\"').shape[0]\n",
    "    femaleCount = editors.query('gender == \"female\"').shape[0]\n",
    "\n",
    "    print(maleCount, femaleCount)\n",
    "\n",
    "    for i in [i/100 for i in range(1, 11)]:\n",
    "\n",
    "        subset=editors.head(int(i*N))\n",
    "\n",
    "        m = subset.query('gender == \"male\"').shape[0]\n",
    "        f = subset.query('gender == \"female\"').shape[0]\n",
    "\n",
    "        pValue = fisher_exact([[m, maleCount-m], [f, femaleCount - f]])[1]\n",
    "\n",
    "        if m/maleCount > f/femaleCount: print('more male', end='\\t')\n",
    "        else: print('less', end='\\t')\n",
    "\n",
    "        pStr = round(pValue, 4) if pValue >= 0.05 else '*'\n",
    "\n",
    "        print(i, round(m/maleCount*100, 2), round(f/femaleCount*100, 2), pStr, m, f)\n",
    "        \n",
    "        yield (m, maleCount, f, femaleCount)\n",
    "        \n",
    "def plotPvalue(ax, x, y, pVal, ytop, lw=0.2, c='black'):\n",
    "    # x: [x0, x1]\n",
    "    # y: [y0, y1]\n",
    "    ylo, yhi = ax.get_ylim()\n",
    "    \n",
    "    height = ytop\n",
    "    gap = ytop * 0.02\n",
    "    vlength = ytop * 0.02\n",
    "    \n",
    "    yPos = height + gap + vlength\n",
    "    ax.hlines(yPos, x[0], x[1], color=c, lw=lw)\n",
    "    ax.vlines(x[0], height + gap, yPos, color=c, lw=lw)\n",
    "    ax.vlines(x[1], height + gap, yPos, color=c, lw=lw)\n",
    "    \n",
    "    #stars = '***' if pVal < 0.001 else '**' if pVal < 0.01 else '*' if pVal < 0.05 else f'p={round(pVal, 2)}'\n",
    "    stars = f\"$p$={round(pVal, 3)}\" if pVal >= 0.001 else \"$p$={:.2e}\".format(pVal)\n",
    "    offset = 0.01 if pVal < 0.05 else 0.04\n",
    "    \n",
    "    ax.text((x[0] + x[1])/2-0.3, yPos + offset*ytop, stars, ha='center', color=c)\n",
    "    \n",
    "    ax.set_ylim(ylo, (yPos + offset*ytop)*1.2)\n",
    "\n",
    "def plotBar(ax, m, mAll, f, fAll, c, x=[1, 2], ytop=None, confidence=0.95, showP = True):\n",
    "    \n",
    "    means = [m/mAll, f/fAll]\n",
    "    \n",
    "    p1 = m/mAll\n",
    "    p2 = f/fAll\n",
    "    \n",
    "    errs = [np.sqrt(p1*(1-p1)/mAll) * st.t.ppf((1 + confidence) / 2., mAll-1),\n",
    "            np.sqrt(p2*(1-p2)/fAll) * st.t.ppf((1 + confidence) / 2., fAll-1)\n",
    "           ]\n",
    "    \n",
    "    p_value = scipy.stats.fisher_exact(np.array([[m, mAll-m], [f, fAll-f]]))\n",
    "    \n",
    "    col = [c, c]\n",
    "    barCol = ['white', c]\n",
    "    \n",
    "    bars = ax.bar(x, means, yerr=errs, width=0.8,alpha=0.8,\n",
    "                  color=barCol,ecolor=col, edgecolor=col, linewidth=0.5,\n",
    "                  error_kw={'elinewidth':0.5})\n",
    "    \n",
    "    bars[0].set_hatch('/////')\n",
    "    \n",
    "    if ytop is None:\n",
    "        ytop = max(means[0] +errs[0], means[1]+errs[1])\n",
    "    \n",
    "    if showP:\n",
    "        print('p value', p_value)\n",
    "        plotPvalue(ax, x, [means[i] + errs[i] for i in range(len(means))], p_value[1], ytop)\n",
    "    \n",
    "    return max(means[0] +errs[0], means[1]+errs[1])"
   ]
  },
  {
   "cell_type": "code",
   "execution_count": 29,
   "metadata": {},
   "outputs": [],
   "source": [
    "editors = pd.read_csv('../data/figure_3/EditorPercentageGender.csv', sep='\\t')"
   ]
  },
  {
   "cell_type": "code",
   "execution_count": 91,
   "metadata": {},
   "outputs": [
    {
     "name": "stdout",
     "output_type": "stream",
     "text": [
      "11017 1978\n",
      "more male\t0.01 1.08 0.51 * 119 10\n",
      "more male\t0.02 2.18 0.96 * 240 19\n",
      "more male\t0.03 3.19 1.92 * 351 38\n",
      "more male\t0.04 4.17 3.03 * 459 60\n",
      "more male\t0.05 5.19 3.89 * 572 77\n",
      "more male\t0.06 6.24 4.6 * 688 91\n",
      "more male\t0.07 7.28 5.41 * 802 107\n",
      "more male\t0.08 8.34 6.07 * 919 120\n",
      "more male\t0.09 9.33 7.13 * 1028 141\n",
      "more male\t0.1 10.4 7.74 * 1146 153\n"
     ]
    }
   ],
   "source": [
    "toPlotBars = [(m, mAll, f, fAll) for m, mAll, f, fAll in compareMaleFemale(editors, 'AfAvg')]"
   ]
  },
  {
   "cell_type": "code",
   "execution_count": 104,
   "metadata": {},
   "outputs": [
    {
     "name": "stdout",
     "output_type": "stream",
     "text": [
      "p value (2.148944760506515, 0.018377592247254465)\n",
      "p value (2.296117950997006, 0.00015468030508644296)\n",
      "p value (1.6800556613735727, 0.001982225546050242)\n",
      "p value (1.3897234324682706, 0.017647565331380163)\n",
      "p value (1.3520071120837038, 0.013594465747821223)\n",
      "p value (1.381213036165113, 0.003940366137074453)\n",
      "p value (1.3728592275424174, 0.002176509445463139)\n",
      "p value (1.4091090645012214, 0.0004399527413842141)\n",
      "p value (1.3407911823573306, 0.0013594161795122863)\n",
      "p value (1.384825027164143, 0.0002080011276296638)\n"
     ]
    },
    {
     "data": {
      "image/png": "[encoded data removed]",
      "text/plain": [
       "<Figure size 340.157x127.559 with 1 Axes>"
      ]
     },
     "metadata": {
      "needs_background": "light"
     },
     "output_type": "display_data"
    }
   ],
   "source": [
    "fig = plt.figure(figsize=(12*cm, 4.5*cm))\n",
    "ax = plt.gca()\n",
    "\n",
    "for ind, (m, mAll, f, fAll) in enumerate(toPlotBars):\n",
    " \n",
    "    plotBar(ax, m, mAll, f, fAll, \"#f34d4d\", x=[ind*2, ind*2+0.8], ytop=None, confidence=0.95, showP = True)\n",
    "    \n",
    "ax.set_xticks([2*x + 0.4 for x in range(1, 11, 2)])\n",
    "ax.set_xticklabels([f'Highest {x+1}%' for x in range(1, 11, 2)])\n",
    "\n",
    "#ax.set_ylabel('Percentage of editors among those with\\nhighest self-publication rate by gender')\n",
    "\n",
    "ax.spines['top'].set_visible(False)\n",
    "ax.spines['right'].set_visible(False)\n",
    "\n",
    "ax.set_yticks([0, 0.02, 0.04, 0.06, 0.08, 0.1, 0.12])\n",
    "ax.set_yticklabels([\"0%\", \"2%\", \"4%\", '6%', '8%', '10%', '12%'])\n",
    "ax.set_ylim(0, 0.12)\n",
    "\n",
    "\n",
    "plt.savefig(\"../figures/main_3_gender.pdf\", bbox_inches = 'tight', pad_inches = 0)"
   ]
  }
 ],
 "metadata": {
  "kernelspec": {
   "display_name": "Python 3",
   "language": "python",
   "name": "python3"
  },
  "language_info": {
   "codemirror_mode": {
    "name": "ipython",
    "version": 3
   },
   "file_extension": ".py",
   "mimetype": "text/x-python",
   "name": "python",
   "nbconvert_exporter": "python",
   "pygments_lexer": "ipython3",
   "version": "3.8.2"
  }
 },
 "nbformat": 4,
 "nbformat_minor": 4
}
