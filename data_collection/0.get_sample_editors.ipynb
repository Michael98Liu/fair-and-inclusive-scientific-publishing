{
 "cells": [
  {
   "cell_type": "markdown",
   "metadata": {},
   "source": [
    "# Obtain Editorial Board Makeup\n",
    "\n",
    "This notebook demonstrates the process of downloading Editorial Board pages and parsing editors from them using a random issue (Volume 15) from a arbitrary journal (Comparative Biochemistry and Physiology Part D: Genomics and Proteomics).\n",
    "\n",
    "The xml data returned by Elsevier API is downloaded and stored in `../data/editorial_board_info/`, and the parsed editors are stored in `../data/SampleEditorsVol15.csv`. In case you are interested in testing the API yourself, you should first apply to get an API key at [Elsevier Developer Portal](https://dev.elsevier.com/), and initialize the global variable `APIKEY` with your key.\n",
    "\n",
    "Jump to\n",
    "\n",
    "- [Download editorial info page](#Download-editorial-info-page)\n",
    "- [Insert delimiters](#Parse-editor-records)\n",
    "- [Extract editors](#Extract-editors)"
   ]
  },
  {
   "cell_type": "code",
   "execution_count": 1,
   "metadata": {},
   "outputs": [],
   "source": [
    "APIKEY = \"\""
   ]
  },
  {
   "cell_type": "code",
   "execution_count": 2,
   "metadata": {},
   "outputs": [],
   "source": [
    "import sys\n",
    "sys.path.insert(1, '../src')\n",
    "\n",
    "from utils import loadText\n",
    "\n",
    "import requests\n",
    "import time\n",
    "import glob\n",
    "import re\n",
    "\n",
    "import pandas as pd\n",
    "from tqdm.notebook import tqdm\n",
    "from bs4 import BeautifulSoup\n",
    "from unidecode import unidecode"
   ]
  },
  {
   "cell_type": "markdown",
   "metadata": {},
   "source": [
    "## Download editorial info page"
   ]
  },
  {
   "cell_type": "code",
   "execution_count": 3,
   "metadata": {},
   "outputs": [],
   "source": [
    "headers = {'User-Agent': 'Mozilla/5.0 (Macintosh; Intel Mac OS X 10_10_1) AppleWebKit/537.36 (KHTML, like Gecko) Chrome/39.0.2171.95 Safari/537.36',\n",
    "          'accept':'text/html,application/xhtml+xml,application/xml;q=0.9,image/avif,image/webp,image/apng,*/*;q=0.8,application/signed-exchange;v=b3;q=0.9',\n",
    "          \"X-ELS-APIKey\": APIKEY}"
   ]
  },
  {
   "cell_type": "code",
   "execution_count": 4,
   "metadata": {},
   "outputs": [],
   "source": [
    "# the link to each pdf file that shows the editorial page\n",
    "links = pd.read_csv('../data/EditorialPageLinks.csv',sep='\\t',dtype={'issn':str})"
   ]
  },
  {
   "cell_type": "code",
   "execution_count": 5,
   "metadata": {},
   "outputs": [
    {
     "data": {
      "text/html": [
       "<div>\n",
       "<style scoped>\n",
       "    .dataframe tbody tr th:only-of-type {\n",
       "        vertical-align: middle;\n",
       "    }\n",
       "\n",
       "    .dataframe tbody tr th {\n",
       "        vertical-align: top;\n",
       "    }\n",
       "\n",
       "    .dataframe thead th {\n",
       "        text-align: right;\n",
       "    }\n",
       "</style>\n",
       "<table border=\"1\" class=\"dataframe\">\n",
       "  <thead>\n",
       "    <tr style=\"text-align: right;\">\n",
       "      <th></th>\n",
       "      <th>title</th>\n",
       "      <th>issue</th>\n",
       "      <th>volume</th>\n",
       "      <th>date</th>\n",
       "      <th>date_text</th>\n",
       "      <th>pdf_link</th>\n",
       "      <th>issn</th>\n",
       "      <th>supplement_text</th>\n",
       "      <th>exist</th>\n",
       "    </tr>\n",
       "  </thead>\n",
       "  <tbody>\n",
       "    <tr>\n",
       "      <th>0</th>\n",
       "      <td>Comparative Biochemistry and Physiology Part D...</td>\n",
       "      <td>NaN</td>\n",
       "      <td>15</td>\n",
       "      <td>20150901</td>\n",
       "      <td>September 2015</td>\n",
       "      <td>https://www.sciencedirect.com/science/article/...</td>\n",
       "      <td>1744117X</td>\n",
       "      <td>Volume 15</td>\n",
       "      <td>1.0</td>\n",
       "    </tr>\n",
       "  </tbody>\n",
       "</table>\n",
       "</div>"
      ],
      "text/plain": [
       "                                               title  issue  volume      date  \\\n",
       "0  Comparative Biochemistry and Physiology Part D...    NaN      15  20150901   \n",
       "\n",
       "        date_text                                           pdf_link  \\\n",
       "0  September 2015  https://www.sciencedirect.com/science/article/...   \n",
       "\n",
       "       issn supplement_text  exist  \n",
       "0  1744117X       Volume 15    1.0  "
      ]
     },
     "execution_count": 5,
     "metadata": {},
     "output_type": "execute_result"
    }
   ],
   "source": [
    "links"
   ]
  },
  {
   "cell_type": "code",
   "execution_count": 6,
   "metadata": {},
   "outputs": [],
   "source": [
    "collected = set(glob.glob('../data/editorial_board_info/*_*.xml'))"
   ]
  },
  {
   "cell_type": "code",
   "execution_count": 7,
   "metadata": {},
   "outputs": [
    {
     "data": {
      "application/vnd.jupyter.widget-view+json": {
       "model_id": "dffd7f4d20b34e79a9e247054b151a5b",
       "version_major": 2,
       "version_minor": 0
      },
      "text/plain": [
       "|          | 0/? [00:00<?, ?it/s]"
      ]
     },
     "metadata": {},
     "output_type": "display_data"
    },
    {
     "name": "stdout",
     "output_type": "stream",
     "text": [
      "CPU times: user 20.8 ms, sys: 996 µs, total: 21.8 ms\n",
      "Wall time: 21.4 ms\n"
     ]
    }
   ],
   "source": [
    "%%time\n",
    "url = \"https://api.elsevier.com/content/article/pii/{}?view=FULL\"\n",
    "\n",
    "for ind, row in tqdm(links.iterrows()):\n",
    "    l = row['pdf_link'].split('/')\n",
    "    outfile = f\"../data/editorial_board_info/{row['issn']}_{row['supplement_text']}.xml\"\n",
    "    \n",
    "    if outfile in collected: continue\n",
    "        \n",
    "    if l[5] == 'pii':\n",
    "        res = requests.get(url.format(l[6]), headers=headers)\n",
    "        assert(res.status_code==200)\n",
    "        \n",
    "        with open(outfile, 'w+') as f:\n",
    "            f.write(res.text)\n",
    "    else:\n",
    "        print(\"error\", \"l[5] != 'pii', ind is {}, link is {}\".format(ind, row['pdf_link']))\n",
    "        \n",
    "    time.sleep(2)"
   ]
  },
  {
   "cell_type": "markdown",
   "metadata": {},
   "source": [
    "## Parse editor records\n",
    "\n",
    "Parsing editor records contains several steps.\n",
    "\n",
    "First, we need to extract the raw-text from xml files.\n",
    "\n",
    "Then, as you can see, the raw-text lacks delimiters which seperate editor records. So we need to insert new line characters which faciliates further parsing. Editor roles needs to be identified. Then observe that each editor record ends in a country name or abbreviation, after which I insert '\\n'."
   ]
  },
  {
   "cell_type": "code",
   "execution_count": 8,
   "metadata": {},
   "outputs": [],
   "source": [
    "def isOverlap(a, b):\n",
    "    # span should not overlap, so that don't break down \"associate editors\" into \"associate \\n editor\\n s\"\n",
    "    \n",
    "    if a[0] >= b[0] and a[0] <= b[1]:\n",
    "        return True\n",
    "    if a[1] <= b[1] and a[1] >= b[0]:\n",
    "        return True\n",
    "    if b[0] >= a[0] and b[0] <= a[1]:\n",
    "        return True\n",
    "    if b[1] <= a[1] and b[1] >= a[0]:\n",
    "        return True\n",
    "    \n",
    "    return False"
   ]
  },
  {
   "cell_type": "code",
   "execution_count": 9,
   "metadata": {},
   "outputs": [],
   "source": [
    "def match(text, title_list):\n",
    "    # find the positions of editor-role\n",
    "    \n",
    "    span = []\n",
    "    text = text.lower() # convert to lowercase to match\n",
    "    \n",
    "    for i in range(0, len(text)):\n",
    "        for query in title_list:\n",
    "            if i+len(query) <= len(text) and text[i:i+len(query)] == query:\n",
    "                new_span = (i, i+len(query))\n",
    "                span.append(new_span)\n",
    "                    \n",
    "    # only keep the longest match\n",
    "    keep = [1 for _ in range(len(span))]\n",
    "    for i in range(len(span)):\n",
    "        for j in range(len(span)):\n",
    "            if isOverlap(span[i], span[j]):\n",
    "                if span[i][1]-span[i][0] > span[j][1] - span[j][0]:\n",
    "                    keep[j] = 0 # when two overlaps, discard the shorter one\n",
    "                    \n",
    "    kept = [span[i] for i in range(len(span)) if keep[i] == 1]\n",
    "    \n",
    "    return set(kept)"
   ]
  },
  {
   "cell_type": "markdown",
   "metadata": {},
   "source": [
    "### Editor roles\n",
    "\n",
    "The editor roles (editor-in-chief, associate editor, etc.) are collected from the list of current elsevier editors shown on the website of each elsevier journals."
   ]
  },
  {
   "cell_type": "code",
   "execution_count": 10,
   "metadata": {},
   "outputs": [
    {
     "name": "stdout",
     "output_type": "stream",
     "text": [
      "(1477, 2) 1278\n"
     ]
    }
   ],
   "source": [
    "## editor titles\n",
    "title_df = pd.read_csv(\"../data/EditorTitles.csv\", sep=\"\\t\", index_col=0)\n",
    "print(title_df.shape, title_df.normalized.nunique())"
   ]
  },
  {
   "cell_type": "code",
   "execution_count": 11,
   "metadata": {},
   "outputs": [],
   "source": [
    "title_df = title_df.append({'original': 'emeritus editor-in-chief', 'normalized': 'emeritus editor in chief'}, ignore_index=True)"
   ]
  },
  {
   "cell_type": "code",
   "execution_count": 12,
   "metadata": {},
   "outputs": [
    {
     "data": {
      "text/html": [
       "<div>\n",
       "<style scoped>\n",
       "    .dataframe tbody tr th:only-of-type {\n",
       "        vertical-align: middle;\n",
       "    }\n",
       "\n",
       "    .dataframe tbody tr th {\n",
       "        vertical-align: top;\n",
       "    }\n",
       "\n",
       "    .dataframe thead th {\n",
       "        text-align: right;\n",
       "    }\n",
       "</style>\n",
       "<table border=\"1\" class=\"dataframe\">\n",
       "  <thead>\n",
       "    <tr style=\"text-align: right;\">\n",
       "      <th></th>\n",
       "      <th>original</th>\n",
       "      <th>normalized</th>\n",
       "    </tr>\n",
       "  </thead>\n",
       "  <tbody>\n",
       "    <tr>\n",
       "      <th>0</th>\n",
       "      <td>editor- in- chief</td>\n",
       "      <td>editor in chief</td>\n",
       "    </tr>\n",
       "    <tr>\n",
       "      <th>1</th>\n",
       "      <td>editorial board</td>\n",
       "      <td>editorial board</td>\n",
       "    </tr>\n",
       "    <tr>\n",
       "      <th>2</th>\n",
       "      <td>editor-in-chief</td>\n",
       "      <td>editor in chief</td>\n",
       "    </tr>\n",
       "    <tr>\n",
       "      <th>3</th>\n",
       "      <td>associate editors</td>\n",
       "      <td>associate editor</td>\n",
       "    </tr>\n",
       "    <tr>\n",
       "      <th>4</th>\n",
       "      <td>founding editor</td>\n",
       "      <td>founding editor</td>\n",
       "    </tr>\n",
       "  </tbody>\n",
       "</table>\n",
       "</div>"
      ],
      "text/plain": [
       "            original        normalized\n",
       "0  editor- in- chief   editor in chief\n",
       "1    editorial board   editorial board\n",
       "2    editor-in-chief   editor in chief\n",
       "3  associate editors  associate editor\n",
       "4    founding editor   founding editor"
      ]
     },
     "execution_count": 12,
     "metadata": {},
     "output_type": "execute_result"
    }
   ],
   "source": [
    "title_df.head()"
   ]
  },
  {
   "cell_type": "markdown",
   "metadata": {},
   "source": [
    "### Countries\n",
    "\n",
    "The list of all countries around the world.\n",
    "\n",
    "Manually added common abbreviations: USA, UK, Russia.\n",
    "\n",
    "Removed \"Jersey\", since New Jersey is a state in the US, and Jersey is an uncommon country."
   ]
  },
  {
   "cell_type": "code",
   "execution_count": 13,
   "metadata": {},
   "outputs": [],
   "source": [
    "import pycountry"
   ]
  },
  {
   "cell_type": "code",
   "execution_count": 14,
   "metadata": {},
   "outputs": [],
   "source": [
    "# get country list\n",
    "country_list = []\n",
    "\n",
    "for c in pycountry.countries:\n",
    "    country_list.append(c.name)\n",
    "    try:\n",
    "        country_list.append(c.official_name)\n",
    "    except Exception as e:\n",
    "        continue\n",
    "\n",
    "# some special change to make\n",
    "country_list.append(\"USA\")\n",
    "country_list.append(\"UK\")\n",
    "country_list.append(\"Russia\")\n",
    "country_list.append('South Korea')\n",
    "country_list.remove(\"Jersey\")\n",
    "country_list = sorted(country_list, key = len, reverse = True)\n",
    "country_list = [x.lower() for x in country_list]"
   ]
  },
  {
   "cell_type": "markdown",
   "metadata": {},
   "source": [
    "### Clean raw text and insert delimiters before and after roles"
   ]
  },
  {
   "cell_type": "code",
   "execution_count": 15,
   "metadata": {},
   "outputs": [],
   "source": [
    "def findRoles(text):\n",
    "    \n",
    "    processed = text\n",
    "    span = match(text, title_df.original)\n",
    "    start = set([s[0] for s in span])\n",
    "    end = set([s[1] for s in span])\n",
    "    start.update(end)\n",
    "    insert_pos = sorted(start, reverse = True)\n",
    "\n",
    "    for insert_ind in insert_pos:\n",
    "        if insert_ind != 0:\n",
    "            new_entry = processed[:insert_ind] + '\\n' + processed[insert_ind:]\n",
    "            processed = new_entry\n",
    "    \n",
    "    return processed"
   ]
  },
  {
   "cell_type": "code",
   "execution_count": 16,
   "metadata": {},
   "outputs": [],
   "source": [
    "def removeEmail(text):\n",
    "    # if email is present (appears after country name), remove email\n",
    "    email_re = r'[\\w\\.-]+@[\\w\\.-]+'\n",
    "    \n",
    "    processed = re.sub(email_re, \"\", text)\n",
    "    processed = processed.replace(\"Email\", \"\").replace(\"email\", \"\").replace(\"ail\", \"\")\n",
    "    processed = processed.replace(\":\", '').replace(\" .\", '')\n",
    "\n",
    "    return processed"
   ]
  },
  {
   "cell_type": "code",
   "execution_count": 17,
   "metadata": {},
   "outputs": [],
   "source": [
    "def cleanText(df):\n",
    "    df = df.assign(plaintext = df.text.apply(removeEmail))\n",
    "    df = df.assign(plaintext = df.text.apply(findRoles))\n",
    "    \n",
    "    return df"
   ]
  },
  {
   "cell_type": "code",
   "execution_count": 18,
   "metadata": {
    "scrolled": true
   },
   "outputs": [
    {
     "name": "stdout",
     "output_type": "stream",
     "text": [
      "CPU times: user 9.06 ms, sys: 0 ns, total: 9.06 ms\n",
      "Wall time: 8.89 ms\n"
     ]
    }
   ],
   "source": [
    "%%time\n",
    "df = pd.DataFrame()\n",
    "\n",
    "for file in glob.glob(\"../data/editorial_board_info/*\"):\n",
    "    issn, issue = file.split('/')[-1].replace('.xml','').split('_')\n",
    "    \n",
    "    text = loadText(file)\n",
    "    soup = BeautifulSoup(text, 'html.parser')\n",
    "    rawtext = soup.find('xocs:rawtext') # find the raw-text field in the xml\n",
    "    \n",
    "    try:\n",
    "        df = df.append({'issn': issn, 'issue': issue, 'text': rawtext.text.strip()}, ignore_index=True)\n",
    "    except Exception as e:\n",
    "        continue"
   ]
  },
  {
   "cell_type": "code",
   "execution_count": 19,
   "metadata": {},
   "outputs": [
    {
     "data": {
      "text/plain": [
       "(1, 3)"
      ]
     },
     "execution_count": 19,
     "metadata": {},
     "output_type": "execute_result"
    }
   ],
   "source": [
    "df.shape"
   ]
  },
  {
   "cell_type": "code",
   "execution_count": 20,
   "metadata": {},
   "outputs": [
    {
     "name": "stdout",
     "output_type": "stream",
     "text": [
      "CPU times: user 4.72 s, sys: 74 ms, total: 4.79 s\n",
      "Wall time: 4.98 s\n"
     ]
    }
   ],
   "source": [
    "%%time\n",
    "df = cleanText(df)"
   ]
  },
  {
   "cell_type": "code",
   "execution_count": 21,
   "metadata": {},
   "outputs": [
    {
     "data": {
      "text/html": [
       "<div>\n",
       "<style scoped>\n",
       "    .dataframe tbody tr th:only-of-type {\n",
       "        vertical-align: middle;\n",
       "    }\n",
       "\n",
       "    .dataframe tbody tr th {\n",
       "        vertical-align: top;\n",
       "    }\n",
       "\n",
       "    .dataframe thead th {\n",
       "        text-align: right;\n",
       "    }\n",
       "</style>\n",
       "<table border=\"1\" class=\"dataframe\">\n",
       "  <thead>\n",
       "    <tr style=\"text-align: right;\">\n",
       "      <th></th>\n",
       "      <th>issn</th>\n",
       "      <th>issue</th>\n",
       "      <th>text</th>\n",
       "      <th>plaintext</th>\n",
       "    </tr>\n",
       "  </thead>\n",
       "  <tbody>\n",
       "    <tr>\n",
       "      <th>0</th>\n",
       "      <td>1744117X</td>\n",
       "      <td>Volume 15</td>\n",
       "      <td>Editor-in-Chief M. Rise Memorial University of...</td>\n",
       "      <td>Editor-in-Chief\\n M. Rise Memorial University ...</td>\n",
       "    </tr>\n",
       "  </tbody>\n",
       "</table>\n",
       "</div>"
      ],
      "text/plain": [
       "       issn      issue                                               text  \\\n",
       "0  1744117X  Volume 15  Editor-in-Chief M. Rise Memorial University of...   \n",
       "\n",
       "                                           plaintext  \n",
       "0  Editor-in-Chief\\n M. Rise Memorial University ...  "
      ]
     },
     "execution_count": 21,
     "metadata": {},
     "output_type": "execute_result"
    }
   ],
   "source": [
    "df.head()"
   ]
  },
  {
   "cell_type": "markdown",
   "metadata": {},
   "source": [
    "### Insert delimeter after countries"
   ]
  },
  {
   "cell_type": "code",
   "execution_count": 22,
   "metadata": {},
   "outputs": [],
   "source": [
    "def notPart(start, end, text):\n",
    "    # make sure the \"matched\" country name is not part of another word\n",
    "    # Make sure we don't match province, eg. Peru and Perugia\n",
    "    # or Singapore at the end of \"National University of Singapore\"\n",
    "    if start > 0:\n",
    "        if not (text[start-1] == ' ' or text[start-1] == ',' or text[start-1] == '.'):\n",
    "            return False\n",
    "    \n",
    "    if end < len(text):\n",
    "        if not (text[end] == ' ' or text[end] == ',' or text[end] == '.'):\n",
    "            return False\n",
    "    \n",
    "    return True\n",
    "\n",
    "def matchCountry(text, country_list):\n",
    "    # find the positions of editor-role\n",
    "    \n",
    "    span = []\n",
    "    text = text.lower() # convert to lowercase to match\n",
    "    \n",
    "    for i in range(0, len(text)):\n",
    "        for query in country_list:\n",
    "            if i+len(query) <= len(text) and text[i:i+len(query)] == query:\n",
    "                if notPart(i, i+len(query), text):\n",
    "                    new_span = (i, i+len(query))\n",
    "                    span.append(new_span)\n",
    "                    \n",
    "    # only keep the longest match\n",
    "    keep = [1 for _ in range(len(span))]\n",
    "    for i in range(len(span)):\n",
    "        for j in range(len(span)):\n",
    "            if isOverlap(span[i], span[j]):\n",
    "                if span[i][1]-span[i][0] > span[j][1] - span[j][0]:\n",
    "                    keep[j] = 0 # when two overlaps, discard the shorter one\n",
    "                    \n",
    "    kept = [span[i] for i in range(len(span)) if keep[i] == 1]\n",
    "    \n",
    "    return set(kept)"
   ]
  },
  {
   "cell_type": "code",
   "execution_count": 23,
   "metadata": {},
   "outputs": [],
   "source": [
    "def findCountry(text):\n",
    "    processed = text\n",
    "\n",
    "    span = matchCountry(processed, country_list)\n",
    "    start = set([s[0] for s in span])\n",
    "    end = set([s[1] for s in span])\n",
    "    insert_pos = sorted(end, reverse = True)\n",
    "\n",
    "    for insert_ind in insert_pos:\n",
    "        if insert_ind != 0:\n",
    "            new_entry = processed[:insert_ind] + '\\n' + processed[insert_ind:]\n",
    "            processed = new_entry\n",
    "\n",
    "\n",
    "    return processed"
   ]
  },
  {
   "cell_type": "code",
   "execution_count": 24,
   "metadata": {},
   "outputs": [
    {
     "name": "stdout",
     "output_type": "stream",
     "text": [
      "CPU times: user 1.1 s, sys: 3.04 ms, total: 1.1 s\n",
      "Wall time: 1.11 s\n"
     ]
    }
   ],
   "source": [
    "%%time\n",
    "df = df.assign(plaintext = df.plaintext.apply(findCountry))"
   ]
  },
  {
   "cell_type": "code",
   "execution_count": 25,
   "metadata": {},
   "outputs": [
    {
     "data": {
      "text/html": [
       "<div>\n",
       "<style scoped>\n",
       "    .dataframe tbody tr th:only-of-type {\n",
       "        vertical-align: middle;\n",
       "    }\n",
       "\n",
       "    .dataframe tbody tr th {\n",
       "        vertical-align: top;\n",
       "    }\n",
       "\n",
       "    .dataframe thead th {\n",
       "        text-align: right;\n",
       "    }\n",
       "</style>\n",
       "<table border=\"1\" class=\"dataframe\">\n",
       "  <thead>\n",
       "    <tr style=\"text-align: right;\">\n",
       "      <th></th>\n",
       "      <th>issn</th>\n",
       "      <th>issue</th>\n",
       "      <th>text</th>\n",
       "      <th>plaintext</th>\n",
       "    </tr>\n",
       "  </thead>\n",
       "  <tbody>\n",
       "    <tr>\n",
       "      <th>0</th>\n",
       "      <td>1744117X</td>\n",
       "      <td>Volume 15</td>\n",
       "      <td>Editor-in-Chief M. Rise Memorial University of...</td>\n",
       "      <td>Editor-in-Chief\\n M. Rise Memorial University ...</td>\n",
       "    </tr>\n",
       "  </tbody>\n",
       "</table>\n",
       "</div>"
      ],
      "text/plain": [
       "       issn      issue                                               text  \\\n",
       "0  1744117X  Volume 15  Editor-in-Chief M. Rise Memorial University of...   \n",
       "\n",
       "                                           plaintext  \n",
       "0  Editor-in-Chief\\n M. Rise Memorial University ...  "
      ]
     },
     "execution_count": 25,
     "metadata": {},
     "output_type": "execute_result"
    }
   ],
   "source": [
    "df.head()"
   ]
  },
  {
   "cell_type": "markdown",
   "metadata": {},
   "source": [
    "## Extract editors\n",
    "\n",
    "First, each line consists of \"editor name, affiliation, country\"."
   ]
  },
  {
   "cell_type": "code",
   "execution_count": 26,
   "metadata": {},
   "outputs": [],
   "source": [
    "def parseEditorRole(df, title_list):\n",
    "    # split each line as an entry of editor\n",
    "    # identify the role of each \"editor\"\n",
    "    \n",
    "    editorDf = pd.DataFrame()\n",
    "\n",
    "    for ind, row in tqdm(df.iterrows()):\n",
    "        currentEditorTitle = \"<NO-TITLE>\"\n",
    "        issue = row['issue']\n",
    "        issn = row['issn']\n",
    "\n",
    "        #for ind, row in df.iterrows():\n",
    "            # s = df.at[ind, 'country']\n",
    "\n",
    "        for line in row['plaintext'].split('\\n'):\n",
    "            line = line.strip()\n",
    "\n",
    "            if line.lower() in title_list:\n",
    "                currentEditorTitle = line.lower()\n",
    "            else:\n",
    "                if len(line) < 200:\n",
    "                    if currentEditorTitle != \"\":\n",
    "                        newEntry = {'issn': issn, 'issue': issue, 'editor': line, 'title': currentEditorTitle}\n",
    "                        editorDf = editorDf.append(newEntry, ignore_index=True)\n",
    "                        \n",
    "    return editorDf"
   ]
  },
  {
   "cell_type": "code",
   "execution_count": 27,
   "metadata": {},
   "outputs": [],
   "source": [
    "def remove_non_alpha(s):\n",
    "    # remove all the starting non-alphabetical characters\n",
    "    \n",
    "    while 1:\n",
    "        if len(s) == 0:\n",
    "            break\n",
    "        if s[0].isalpha():\n",
    "            break\n",
    "        s = s[1:]\n",
    "    \n",
    "    return s"
   ]
  },
  {
   "cell_type": "code",
   "execution_count": 28,
   "metadata": {},
   "outputs": [
    {
     "name": "stdout",
     "output_type": "stream",
     "text": [
      "Tests:\n",
      "1.  bbb\n",
      "2.  111\n"
     ]
    }
   ],
   "source": [
    "def remove_bracket(s):\n",
    "    # if starting with open bracket\n",
    "    # find the [matching] closing one, and remove everything in between\n",
    "    # if not matching one is found, simply remove it\n",
    "    \n",
    "    if s[0] == '(':\n",
    "        bi = find_matching_bracket(s)\n",
    "        s = s[bi+1:].strip()\n",
    "    \n",
    "    return s\n",
    "\n",
    "def find_matching_bracket(s):\n",
    "    count = 0\n",
    "    for ind in range(len(s)):\n",
    "        if s[ind] == '(':\n",
    "            count += 1\n",
    "        if s[ind] == ')':\n",
    "            count -= 1\n",
    "        if count == 0:\n",
    "            return ind\n",
    "    return 0\n",
    "\n",
    "print('Tests:')\n",
    "print('1. ', remove_bracket('(aaaa) bbb'))\n",
    "print('2. ', remove_bracket('(a(acc)aaa) 111'))"
   ]
  },
  {
   "cell_type": "code",
   "execution_count": 29,
   "metadata": {},
   "outputs": [],
   "source": [
    "def not_irregular(s):\n",
    "    s = s.lower()\n",
    "\n",
    "    if s[:10] == \"journal of\" or s[:5] == 'phone' or s[:3] == 'fax':\n",
    "        return False\n",
    "\n",
    "    return True\n",
    "\n",
    "def remove_em(s):\n",
    "\n",
    "    if len(s) >= 3 and s.lower()[:3] == \"e-m\" :\n",
    "        s = s[3:].strip()\n",
    "        \n",
    "    return s"
   ]
  },
  {
   "cell_type": "code",
   "execution_count": 30,
   "metadata": {},
   "outputs": [],
   "source": [
    "title_list = title_df.original.values"
   ]
  },
  {
   "cell_type": "code",
   "execution_count": 31,
   "metadata": {},
   "outputs": [
    {
     "data": {
      "application/vnd.jupyter.widget-view+json": {
       "model_id": "5dbb196e78274fbdac17e5c12f66a8d0",
       "version_major": 2,
       "version_minor": 0
      },
      "text/plain": [
       "|          | 0/? [00:00<?, ?it/s]"
      ]
     },
     "metadata": {},
     "output_type": "display_data"
    },
    {
     "name": "stdout",
     "output_type": "stream",
     "text": [
      "(141, 4)\n",
      "CPU times: user 297 ms, sys: 4.65 ms, total: 302 ms\n",
      "Wall time: 324 ms\n"
     ]
    }
   ],
   "source": [
    "%%time\n",
    "editorDf = parseEditorRole(df, title_list)\n",
    "print(editorDf.shape)"
   ]
  },
  {
   "cell_type": "code",
   "execution_count": 32,
   "metadata": {},
   "outputs": [
    {
     "data": {
      "text/plain": [
       "(138, 4)"
      ]
     },
     "execution_count": 32,
     "metadata": {},
     "output_type": "execute_result"
    }
   ],
   "source": [
    "# remove empty lines\n",
    "editorDf = editorDf[editorDf.editor.apply(lambda x: len(x) > 1)]\n",
    "editorDf.shape"
   ]
  },
  {
   "cell_type": "code",
   "execution_count": 33,
   "metadata": {},
   "outputs": [],
   "source": [
    "# convert to ascii\n",
    "editorDf = editorDf.assign(editor = editorDf.editor.apply(unidecode))"
   ]
  },
  {
   "cell_type": "code",
   "execution_count": 34,
   "metadata": {},
   "outputs": [
    {
     "data": {
      "text/plain": [
       "(138, 4)"
      ]
     },
     "execution_count": 34,
     "metadata": {},
     "output_type": "execute_result"
    }
   ],
   "source": [
    "# if a line start with number, remove the entire line\n",
    "editorDf = editorDf[editorDf.editor.apply(lambda x: not x[0].isnumeric())]\n",
    "editorDf.shape"
   ]
  },
  {
   "cell_type": "code",
   "execution_count": 35,
   "metadata": {},
   "outputs": [],
   "source": [
    "# if line start with bracket, remove everything in between\n",
    "editorDf = editorDf.assign(editor = editorDf.editor.apply(remove_bracket))"
   ]
  },
  {
   "cell_type": "code",
   "execution_count": 36,
   "metadata": {},
   "outputs": [],
   "source": [
    "# remove all the starting non-alphabetical characters\n",
    "editorDf = editorDf.assign(editor = editorDf.editor.apply(remove_non_alpha))"
   ]
  },
  {
   "cell_type": "code",
   "execution_count": 37,
   "metadata": {},
   "outputs": [
    {
     "data": {
      "text/plain": [
       "(138, 4)"
      ]
     },
     "execution_count": 37,
     "metadata": {},
     "output_type": "execute_result"
    }
   ],
   "source": [
    "# remove the entries that are obviously not editors\n",
    "editorDf = editorDf[editorDf.editor.apply(not_irregular)]\n",
    "editorDf.shape # 138"
   ]
  },
  {
   "cell_type": "code",
   "execution_count": 38,
   "metadata": {},
   "outputs": [],
   "source": [
    "# remove the starting 'e-m' of each line (for example, journal 09258388)\n",
    "editorDf = editorDf.assign(editor = editorDf.editor.apply(remove_em))"
   ]
  },
  {
   "cell_type": "code",
   "execution_count": 39,
   "metadata": {},
   "outputs": [
    {
     "data": {
      "text/plain": [
       "(131, 4)"
      ]
     },
     "execution_count": 39,
     "metadata": {},
     "output_type": "execute_result"
    }
   ],
   "source": [
    "# drop those with less than 2 words\n",
    "editorDf = editorDf[editorDf.editor.apply(lambda x: len(x.split()) > 2)]\n",
    "editorDf.shape # 131"
   ]
  },
  {
   "cell_type": "code",
   "execution_count": 40,
   "metadata": {},
   "outputs": [
    {
     "data": {
      "text/html": [
       "<div>\n",
       "<style scoped>\n",
       "    .dataframe tbody tr th:only-of-type {\n",
       "        vertical-align: middle;\n",
       "    }\n",
       "\n",
       "    .dataframe tbody tr th {\n",
       "        vertical-align: top;\n",
       "    }\n",
       "\n",
       "    .dataframe thead th {\n",
       "        text-align: right;\n",
       "    }\n",
       "</style>\n",
       "<table border=\"1\" class=\"dataframe\">\n",
       "  <thead>\n",
       "    <tr style=\"text-align: right;\">\n",
       "      <th></th>\n",
       "      <th>editor</th>\n",
       "      <th>issn</th>\n",
       "      <th>issue</th>\n",
       "      <th>title</th>\n",
       "    </tr>\n",
       "  </thead>\n",
       "  <tbody>\n",
       "    <tr>\n",
       "      <th>0</th>\n",
       "      <td>M. Rise Memorial University of Newfoundland, N...</td>\n",
       "      <td>1744117X</td>\n",
       "      <td>Volume 15</td>\n",
       "      <td>editor-in-chief</td>\n",
       "    </tr>\n",
       "    <tr>\n",
       "      <th>2</th>\n",
       "      <td>T.P. Mommsen University of Victoria, Victoria,...</td>\n",
       "      <td>1744117X</td>\n",
       "      <td>Volume 15</td>\n",
       "      <td>emeritus editor-in-chief</td>\n",
       "    </tr>\n",
       "    <tr>\n",
       "      <th>5</th>\n",
       "      <td>J. Altimiras Linkoping University, Sweden</td>\n",
       "      <td>1744117X</td>\n",
       "      <td>Volume 15</td>\n",
       "      <td>editorial board</td>\n",
       "    </tr>\n",
       "    <tr>\n",
       "      <th>6</th>\n",
       "      <td>G. Anderson University of Manitoba, Winnipeg, ...</td>\n",
       "      <td>1744117X</td>\n",
       "      <td>Volume 15</td>\n",
       "      <td>editorial board</td>\n",
       "    </tr>\n",
       "    <tr>\n",
       "      <th>7</th>\n",
       "      <td>N.J. Bernier University of Guelph, Guelph, ON,...</td>\n",
       "      <td>1744117X</td>\n",
       "      <td>Volume 15</td>\n",
       "      <td>editorial board</td>\n",
       "    </tr>\n",
       "  </tbody>\n",
       "</table>\n",
       "</div>"
      ],
      "text/plain": [
       "                                              editor      issn      issue  \\\n",
       "0  M. Rise Memorial University of Newfoundland, N...  1744117X  Volume 15   \n",
       "2  T.P. Mommsen University of Victoria, Victoria,...  1744117X  Volume 15   \n",
       "5          J. Altimiras Linkoping University, Sweden  1744117X  Volume 15   \n",
       "6  G. Anderson University of Manitoba, Winnipeg, ...  1744117X  Volume 15   \n",
       "7  N.J. Bernier University of Guelph, Guelph, ON,...  1744117X  Volume 15   \n",
       "\n",
       "                      title  \n",
       "0           editor-in-chief  \n",
       "2  emeritus editor-in-chief  \n",
       "5           editorial board  \n",
       "6           editorial board  \n",
       "7           editorial board  "
      ]
     },
     "execution_count": 40,
     "metadata": {},
     "output_type": "execute_result"
    }
   ],
   "source": [
    "editorDf.head()"
   ]
  },
  {
   "cell_type": "markdown",
   "metadata": {},
   "source": [
    "### Parse editor names\n",
    "\n",
    "Parse editor names to be either \"first-name last-name\", \"first-name middle-name last-name\", \"first-name middle-initial last-name\", or \"first-initial middle-initial last-name\".\n",
    "\n",
    "1. Convert to lower case;\n",
    "2. Pick the first two, unless the middle one is an initial;\n",
    "2. Remove titles, \"Dr.\", and \"Prof.\" and \"Professor\", \"professor\";\n",
    "3. If first name is \"A.B.\", seperate as two\n",
    "4. Remove \".\"."
   ]
  },
  {
   "cell_type": "code",
   "execution_count": 41,
   "metadata": {},
   "outputs": [
    {
     "name": "stdout",
     "output_type": "stream",
     "text": [
      "Tests:\n",
      "('j l liu', '')\n",
      "('jay l lee', '')\n",
      "('mike liu', 'nasa')\n",
      "('mike l na', '')\n",
      "('m a liu', 'university of california')\n",
      "('m a li', 'university')\n",
      "('mike france', '')\n"
     ]
    }
   ],
   "source": [
    "def parse_name(s):\n",
    "    \n",
    "    s = s.lower().split()\n",
    "    name = []\n",
    "    \n",
    "    # remove title\n",
    "    if s[0] in ['dr.', 'dr', 'prof.', 'prof', 'professor', 'doctor']:\n",
    "        s = s[1:]\n",
    "        \n",
    "    if len(s[0]) >=3 and s[0][1] == '.' and s[0][0].isalpha() and s[0][2].isalpha():\n",
    "        s[0] = s[0][0] + ' ' + s[0][2]\n",
    "    \n",
    "    if len(s) <= 2:\n",
    "        name = ' '.join(s).strip()\n",
    "        name = ''.join([i for i in name if i.isalpha() or i == ' '])\n",
    "        return name, ''\n",
    "    else:\n",
    "        name.append(s[0])\n",
    "        name.append(s[1])\n",
    "        ind = 2\n",
    "    \n",
    "    while (len(name[-1]) == 2 and name[-1][1] == '.' and name[-1][0].isalpha()) or len(name[-1]) == 1:\n",
    "        if ind == len(s):\n",
    "            break\n",
    "        name.append(s[ind]) # some ppl may have multiple middle names\n",
    "        ind += 1\n",
    "        \n",
    "    name = ' '.join(name)\n",
    "    name = ''.join([i for i in name if i.isalpha() or i == ' '])\n",
    "    aff = ' '.join(s[ind:])\n",
    "    \n",
    "    return name, aff\n",
    "\n",
    "# test cases\n",
    "print('Tests:')\n",
    "print(parse_name(\"Professor J. L Liu,*\"))\n",
    "print(parse_name(\"Dr. Jay l Lee\"))\n",
    "print(parse_name(\"mike liu nasa\"))\n",
    "print(parse_name(\"mike l. na\"))\n",
    "print(parse_name(\"m.a. liu, university of california\"))\n",
    "print(parse_name(\"m.a li university\"))\n",
    "print(parse_name(\"mike, france\"))"
   ]
  },
  {
   "cell_type": "code",
   "execution_count": 42,
   "metadata": {},
   "outputs": [],
   "source": [
    "def return_name(s):\n",
    "    return parse_name(s)[0]\n",
    "\n",
    "def return_aff(s):\n",
    "    return parse_name(s)[1]"
   ]
  },
  {
   "cell_type": "code",
   "execution_count": 43,
   "metadata": {},
   "outputs": [],
   "source": [
    "editorDf['editorName'] = editorDf.editor.apply(return_name)\n",
    "editorDf['editorAff'] = editorDf.editor.apply(return_aff)"
   ]
  },
  {
   "cell_type": "code",
   "execution_count": 44,
   "metadata": {},
   "outputs": [],
   "source": [
    "editorDf = editorDf.drop(['editor'],axis=1)"
   ]
  },
  {
   "cell_type": "markdown",
   "metadata": {},
   "source": [
    "### Get editor year"
   ]
  },
  {
   "cell_type": "code",
   "execution_count": 45,
   "metadata": {},
   "outputs": [],
   "source": [
    "# the link to each pdf file that shows the editorial page\n",
    "links = pd.read_csv('../data/EditorialPageLinks.csv',sep='\\t',dtype={'issn':str},\n",
    "                   usecols=['issn','supplement_text','date'])"
   ]
  },
  {
   "cell_type": "code",
   "execution_count": 46,
   "metadata": {},
   "outputs": [],
   "source": [
    "links = links.rename(columns={'supplement_text':'issue'})"
   ]
  },
  {
   "cell_type": "code",
   "execution_count": 47,
   "metadata": {},
   "outputs": [
    {
     "data": {
      "text/plain": [
       "(131, 6)"
      ]
     },
     "execution_count": 47,
     "metadata": {},
     "output_type": "execute_result"
    }
   ],
   "source": [
    "editorDf = editorDf.merge(links, on=['issn','issue'])\n",
    "editorDf.shape"
   ]
  },
  {
   "cell_type": "code",
   "execution_count": 48,
   "metadata": {},
   "outputs": [],
   "source": [
    "editorDf = editorDf.assign(Year = editorDf.date.apply(lambda x: int(str(x)[:4])))"
   ]
  },
  {
   "cell_type": "code",
   "execution_count": 49,
   "metadata": {},
   "outputs": [],
   "source": [
    "editorDf.drop_duplicates().to_csv(\"../data/SampleEditorsVol15.csv\",sep='\\t',index=False) # sample"
   ]
  },
  {
   "cell_type": "code",
   "execution_count": 50,
   "metadata": {},
   "outputs": [
    {
     "data": {
      "text/plain": [
       "((131, 7), (90, 7))"
      ]
     },
     "execution_count": 50,
     "metadata": {},
     "output_type": "execute_result"
    }
   ],
   "source": [
    "editorDf.shape, editorDf.drop_duplicates().shape # (131, 7), (90, 7)"
   ]
  },
  {
   "cell_type": "code",
   "execution_count": 51,
   "metadata": {},
   "outputs": [
    {
     "data": {
      "text/html": [
       "<div>\n",
       "<style scoped>\n",
       "    .dataframe tbody tr th:only-of-type {\n",
       "        vertical-align: middle;\n",
       "    }\n",
       "\n",
       "    .dataframe tbody tr th {\n",
       "        vertical-align: top;\n",
       "    }\n",
       "\n",
       "    .dataframe thead th {\n",
       "        text-align: right;\n",
       "    }\n",
       "</style>\n",
       "<table border=\"1\" class=\"dataframe\">\n",
       "  <thead>\n",
       "    <tr style=\"text-align: right;\">\n",
       "      <th></th>\n",
       "      <th>issn</th>\n",
       "      <th>issue</th>\n",
       "      <th>title</th>\n",
       "      <th>editorName</th>\n",
       "      <th>editorAff</th>\n",
       "      <th>date</th>\n",
       "      <th>Year</th>\n",
       "    </tr>\n",
       "  </thead>\n",
       "  <tbody>\n",
       "    <tr>\n",
       "      <th>0</th>\n",
       "      <td>1744117X</td>\n",
       "      <td>Volume 15</td>\n",
       "      <td>editor-in-chief</td>\n",
       "      <td>m rise</td>\n",
       "      <td>memorial university of newfoundland, newfoundl...</td>\n",
       "      <td>20150901</td>\n",
       "      <td>2015</td>\n",
       "    </tr>\n",
       "    <tr>\n",
       "      <th>1</th>\n",
       "      <td>1744117X</td>\n",
       "      <td>Volume 15</td>\n",
       "      <td>emeritus editor-in-chief</td>\n",
       "      <td>t p mommsen</td>\n",
       "      <td>university of victoria, victoria, bc, canada</td>\n",
       "      <td>20150901</td>\n",
       "      <td>2015</td>\n",
       "    </tr>\n",
       "    <tr>\n",
       "      <th>2</th>\n",
       "      <td>1744117X</td>\n",
       "      <td>Volume 15</td>\n",
       "      <td>editorial board</td>\n",
       "      <td>j altimiras</td>\n",
       "      <td>linkoping university, sweden</td>\n",
       "      <td>20150901</td>\n",
       "      <td>2015</td>\n",
       "    </tr>\n",
       "    <tr>\n",
       "      <th>3</th>\n",
       "      <td>1744117X</td>\n",
       "      <td>Volume 15</td>\n",
       "      <td>editorial board</td>\n",
       "      <td>g anderson</td>\n",
       "      <td>university of manitoba, winnipeg, manitoba, ca...</td>\n",
       "      <td>20150901</td>\n",
       "      <td>2015</td>\n",
       "    </tr>\n",
       "    <tr>\n",
       "      <th>4</th>\n",
       "      <td>1744117X</td>\n",
       "      <td>Volume 15</td>\n",
       "      <td>editorial board</td>\n",
       "      <td>n j bernier</td>\n",
       "      <td>university of guelph, guelph, on, canada</td>\n",
       "      <td>20150901</td>\n",
       "      <td>2015</td>\n",
       "    </tr>\n",
       "  </tbody>\n",
       "</table>\n",
       "</div>"
      ],
      "text/plain": [
       "       issn      issue                     title   editorName  \\\n",
       "0  1744117X  Volume 15           editor-in-chief       m rise   \n",
       "1  1744117X  Volume 15  emeritus editor-in-chief  t p mommsen   \n",
       "2  1744117X  Volume 15           editorial board  j altimiras   \n",
       "3  1744117X  Volume 15           editorial board   g anderson   \n",
       "4  1744117X  Volume 15           editorial board  n j bernier   \n",
       "\n",
       "                                           editorAff      date  Year  \n",
       "0  memorial university of newfoundland, newfoundl...  20150901  2015  \n",
       "1       university of victoria, victoria, bc, canada  20150901  2015  \n",
       "2                       linkoping university, sweden  20150901  2015  \n",
       "3  university of manitoba, winnipeg, manitoba, ca...  20150901  2015  \n",
       "4           university of guelph, guelph, on, canada  20150901  2015  "
      ]
     },
     "execution_count": 51,
     "metadata": {},
     "output_type": "execute_result"
    }
   ],
   "source": [
    "editorDf.head()"
   ]
  },
  {
   "cell_type": "code",
   "execution_count": null,
   "metadata": {},
   "outputs": [],
   "source": []
  }
 ],
 "metadata": {
  "kernelspec": {
   "display_name": "Python 3",
   "language": "python",
   "name": "python3"
  },
  "language_info": {
   "codemirror_mode": {
    "name": "ipython",
    "version": 3
   },
   "file_extension": ".py",
   "mimetype": "text/x-python",
   "name": "python",
   "nbconvert_exporter": "python",
   "pygments_lexer": "ipython3",
   "version": "3.8.5"
  }
 },
 "nbformat": 4,
 "nbformat_minor": 4
}
