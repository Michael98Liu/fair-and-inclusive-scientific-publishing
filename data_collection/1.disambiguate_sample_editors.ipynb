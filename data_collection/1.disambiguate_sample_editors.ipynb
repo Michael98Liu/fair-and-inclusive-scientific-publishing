{
 "cells": [
  {
   "cell_type": "markdown",
   "metadata": {},
   "source": [
    "# Disambiguate sample editors\n",
    "\n",
    "This notebook is concerned with identifying collected editorial board members in MAG. The process relies on the assumption that it is extremely unlikely that two scientists that shares the same name are affiliated with the same institution in any given years. Therefore, editors are disambiguated based on their first and last name (or first and middle initial and last name), affiliation, and year(s) of the affiliation."
   ]
  },
  {
   "cell_type": "code",
   "execution_count": 1,
   "metadata": {},
   "outputs": [],
   "source": [
    "from sklearn.feature_extraction.text import TfidfVectorizer\n",
    "from sklearn.metrics.pairwise import cosine_similarity\n",
    "\n",
    "import pandas as pd\n",
    "from fuzzywuzzy import fuzz\n",
    "from unidecode import unidecode\n",
    "\n",
    "import re"
   ]
  },
  {
   "cell_type": "markdown",
   "metadata": {},
   "source": [
    "## Parse editor name\n",
    "\n",
    "We allow first names with two letters to be interpreted in two ways. It is possible that \"DJ Trump\" is actually \"D. J. Trump\" but mistakened to be \"Dj Trump\" in the process of OCR, and it is also possible that \"Dj\" is actually someone's first name. Therefore, we allow both possiblities to exist in the first step of parsing.\n",
    "\n",
    "In the later steps, only the correct interpretation of name can find a match within MAG, because it is extremely unlikely that \"Dj Trump\" and \"D. J. Trump\" are both affiliation with the same institution in the same year."
   ]
  },
  {
   "cell_type": "code",
   "execution_count": 2,
   "metadata": {},
   "outputs": [],
   "source": [
    "def parse_initial(name, mode=0):\n",
    "    '''\n",
    "    param: name - string\n",
    "    mode: 0 or 1, whether to treat length-2 first name as seperate initials\n",
    "    \n",
    "    return: first, middle, last, first_initial, middle_initial, last_initial\n",
    "    '''\n",
    "    if mode != 0 and mode != 1:\n",
    "        raise(\"Error. Mode values must be 0 or 1\")\n",
    "        \n",
    "    l = name.split()\n",
    "    if len(l) == 0:\n",
    "        return '', '', '', '', '', ''\n",
    "    \n",
    "    if len(l) == 1:\n",
    "        first, middle, last = '', '', l[0]\n",
    "        f_ini, m_ini, l_ini = '', '', last[0]\n",
    "        \n",
    "        return first, middle, last, f_ini, m_ini, l_ini\n",
    "    \n",
    "    # if the name is two parts, first name and last name\n",
    "    # assumes that if first or middle name is of length 1, it is an initial\n",
    "    elif len(l) == 2:\n",
    "        first, middle, last = l[0], '', l[1]\n",
    "        f_ini, m_ini, l_ini = first[0], '', last[0]\n",
    "        \n",
    "        if len(first) == 1:\n",
    "            first = ''\n",
    "            \n",
    "        elif len(first) == 2:\n",
    "            # if mode == 0, treat as first name\n",
    "            if mode == 1:\n",
    "                # treat as combination of two initials\n",
    "                f_ini, m_ini = first[0], first[1]\n",
    "                first = ''\n",
    "        \n",
    "        return first, middle, last, f_ini, m_ini, l_ini\n",
    "    \n",
    "    # if the name is three parts, first, middle, and last\n",
    "    elif len(l) == 3:\n",
    "        first, middle, last = l[0], l[1], l[2]\n",
    "        f_ini, m_ini, l_ini = first[0], middle[0], last[0]\n",
    "        \n",
    "        if len(first) == 1:\n",
    "            first = ''\n",
    "        if len(middle) == 1:\n",
    "            middle = ''\n",
    "            \n",
    "        return first, middle, last, f_ini, m_ini, l_ini\n",
    "    \n",
    "    # if the name is more than three parts, first, middle, ..., last\n",
    "    elif len(l) > 3:\n",
    "        first, middle, last = l[0], ' '.join(l[1:-1]), l[-1]\n",
    "        f_ini, m_ini, l_ini = first[0], middle[0], last[0]\n",
    "        \n",
    "        if len(first) == 1:\n",
    "            first = ''\n",
    "        if len(middle) == 1:\n",
    "            middle = ''\n",
    "        \n",
    "        return first, middle, last, f_ini, m_ini, l_ini"
   ]
  },
  {
   "cell_type": "code",
   "execution_count": 3,
   "metadata": {},
   "outputs": [
    {
     "name": "stdout",
     "output_type": "stream",
     "text": [
      "(90, 5)\n",
      "(90, 5)\n"
     ]
    }
   ],
   "source": [
    "all_editors = pd.read_csv(\"../data/SampleEditorsVol15.csv\",sep='\\t',\n",
    "                        usecols=['issn','title','editorName','editorAff','Year'],\n",
    "                        dtype={'issn':str,'Year':int,'issn':str})\n",
    "print(all_editors.shape)\n",
    "\n",
    "all_editors = all_editors.drop_duplicates()\n",
    "print(all_editors.shape)\n",
    "\n",
    "all_editors = all_editors.rename(columns={'editorName':'normalized_name'})"
   ]
  },
  {
   "cell_type": "code",
   "execution_count": 4,
   "metadata": {},
   "outputs": [
    {
     "data": {
      "text/plain": [
       "(180, 10)"
      ]
     },
     "execution_count": 4,
     "metadata": {},
     "output_type": "execute_result"
    }
   ],
   "source": [
    "editors_0 = all_editors.assign(first = all_editors.normalized_name.apply(lambda x: parse_initial(x, 0)[0]),\n",
    "                                middle = all_editors.normalized_name.apply(lambda x: parse_initial(x, 0)[1]),\n",
    "                                last = all_editors.normalized_name.apply(lambda x: parse_initial(x, 0)[2]),\n",
    "                                f_ini = all_editors.normalized_name.apply(lambda x: parse_initial(x, 0)[3]),\n",
    "                                m_ini= all_editors.normalized_name.apply(lambda x: parse_initial(x, 0)[4]))\n",
    "\n",
    "editors_1 = all_editors.assign(first = all_editors.normalized_name.apply(lambda x: parse_initial(x, 1)[0]),\n",
    "                                middle = all_editors.normalized_name.apply(lambda x: parse_initial(x, 1)[1]),\n",
    "                                last = all_editors.normalized_name.apply(lambda x: parse_initial(x, 1)[2]),\n",
    "                                f_ini = all_editors.normalized_name.apply(lambda x: parse_initial(x, 1)[3]),\n",
    "                                m_ini= all_editors.normalized_name.apply(lambda x: parse_initial(x, 1)[4]))\n",
    "\n",
    "all_editors = editors_1.append(editors_0, ignore_index=True, sort=False)\n",
    "all_editors.shape"
   ]
  },
  {
   "cell_type": "code",
   "execution_count": 5,
   "metadata": {},
   "outputs": [
    {
     "name": "stdout",
     "output_type": "stream",
     "text": [
      "(180, 10)\n"
     ]
    }
   ],
   "source": [
    "all_editors = all_editors.dropna(subset=['editorAff'])\n",
    "print(all_editors.shape)"
   ]
  },
  {
   "cell_type": "code",
   "execution_count": 6,
   "metadata": {},
   "outputs": [
    {
     "name": "stdout",
     "output_type": "stream",
     "text": [
      "(92, 10)\n"
     ]
    }
   ],
   "source": [
    "all_editors = all_editors.drop_duplicates()\n",
    "print(all_editors.shape)"
   ]
  },
  {
   "cell_type": "code",
   "execution_count": 7,
   "metadata": {},
   "outputs": [
    {
     "data": {
      "text/html": [
       "<div>\n",
       "<style scoped>\n",
       "    .dataframe tbody tr th:only-of-type {\n",
       "        vertical-align: middle;\n",
       "    }\n",
       "\n",
       "    .dataframe tbody tr th {\n",
       "        vertical-align: top;\n",
       "    }\n",
       "\n",
       "    .dataframe thead th {\n",
       "        text-align: right;\n",
       "    }\n",
       "</style>\n",
       "<table border=\"1\" class=\"dataframe\">\n",
       "  <thead>\n",
       "    <tr style=\"text-align: right;\">\n",
       "      <th></th>\n",
       "      <th>issn</th>\n",
       "      <th>title</th>\n",
       "      <th>normalized_name</th>\n",
       "      <th>editorAff</th>\n",
       "      <th>Year</th>\n",
       "      <th>first</th>\n",
       "      <th>middle</th>\n",
       "      <th>last</th>\n",
       "      <th>f_ini</th>\n",
       "      <th>m_ini</th>\n",
       "    </tr>\n",
       "  </thead>\n",
       "  <tbody>\n",
       "    <tr>\n",
       "      <th>0</th>\n",
       "      <td>1744117X</td>\n",
       "      <td>editor-in-chief</td>\n",
       "      <td>m rise</td>\n",
       "      <td>memorial university of newfoundland, newfoundl...</td>\n",
       "      <td>2015</td>\n",
       "      <td></td>\n",
       "      <td></td>\n",
       "      <td>rise</td>\n",
       "      <td>m</td>\n",
       "      <td></td>\n",
       "    </tr>\n",
       "    <tr>\n",
       "      <th>1</th>\n",
       "      <td>1744117X</td>\n",
       "      <td>emeritus editor-in-chief</td>\n",
       "      <td>t p mommsen</td>\n",
       "      <td>university of victoria, victoria, bc, canada</td>\n",
       "      <td>2015</td>\n",
       "      <td></td>\n",
       "      <td></td>\n",
       "      <td>mommsen</td>\n",
       "      <td>t</td>\n",
       "      <td>p</td>\n",
       "    </tr>\n",
       "    <tr>\n",
       "      <th>2</th>\n",
       "      <td>1744117X</td>\n",
       "      <td>editorial board</td>\n",
       "      <td>j altimiras</td>\n",
       "      <td>linkoping university, sweden</td>\n",
       "      <td>2015</td>\n",
       "      <td></td>\n",
       "      <td></td>\n",
       "      <td>altimiras</td>\n",
       "      <td>j</td>\n",
       "      <td></td>\n",
       "    </tr>\n",
       "    <tr>\n",
       "      <th>3</th>\n",
       "      <td>1744117X</td>\n",
       "      <td>editorial board</td>\n",
       "      <td>g anderson</td>\n",
       "      <td>university of manitoba, winnipeg, manitoba, ca...</td>\n",
       "      <td>2015</td>\n",
       "      <td></td>\n",
       "      <td></td>\n",
       "      <td>anderson</td>\n",
       "      <td>g</td>\n",
       "      <td></td>\n",
       "    </tr>\n",
       "    <tr>\n",
       "      <th>4</th>\n",
       "      <td>1744117X</td>\n",
       "      <td>editorial board</td>\n",
       "      <td>n j bernier</td>\n",
       "      <td>university of guelph, guelph, on, canada</td>\n",
       "      <td>2015</td>\n",
       "      <td></td>\n",
       "      <td></td>\n",
       "      <td>bernier</td>\n",
       "      <td>n</td>\n",
       "      <td>j</td>\n",
       "    </tr>\n",
       "  </tbody>\n",
       "</table>\n",
       "</div>"
      ],
      "text/plain": [
       "       issn                     title normalized_name  \\\n",
       "0  1744117X           editor-in-chief          m rise   \n",
       "1  1744117X  emeritus editor-in-chief     t p mommsen   \n",
       "2  1744117X           editorial board     j altimiras   \n",
       "3  1744117X           editorial board      g anderson   \n",
       "4  1744117X           editorial board     n j bernier   \n",
       "\n",
       "                                           editorAff  Year first middle  \\\n",
       "0  memorial university of newfoundland, newfoundl...  2015                \n",
       "1       university of victoria, victoria, bc, canada  2015                \n",
       "2                       linkoping university, sweden  2015                \n",
       "3  university of manitoba, winnipeg, manitoba, ca...  2015                \n",
       "4           university of guelph, guelph, on, canada  2015                \n",
       "\n",
       "        last f_ini m_ini  \n",
       "0       rise     m        \n",
       "1    mommsen     t     p  \n",
       "2  altimiras     j        \n",
       "3   anderson     g        \n",
       "4    bernier     n     j  "
      ]
     },
     "execution_count": 7,
     "metadata": {},
     "output_type": "execute_result"
    }
   ],
   "source": [
    "all_editors.head()"
   ]
  },
  {
   "cell_type": "markdown",
   "metadata": {},
   "source": [
    "## Remove country\n",
    "\n",
    "This step is to remove as much noise as possible from intitution names.\n",
    "\n",
    "Notice that Elsevier journals sometimes display affiliations as \"institution name, city, country\" but affiliations in MAG is much cleaner, i.e. without the city and country info. Therefore, to increase the accuracy when matching affiliations that we collected with the affiliations in MAG, we first remove all city, country, and country abbreviations from editors' affiliation. If an affiliation is within US or Canada, we also remove two-letter state abbreviations if found."
   ]
  },
  {
   "cell_type": "code",
   "execution_count": 8,
   "metadata": {},
   "outputs": [
    {
     "data": {
      "text/plain": [
       "(13879, 4)"
      ]
     },
     "execution_count": 8,
     "metadata": {},
     "output_type": "execute_result"
    }
   ],
   "source": [
    "cities = pd.read_csv(\"../data/worldcities.csv\", sep=\",\", \n",
    "                     usecols=['city_ascii', 'country', 'iso2', 'iso3'],\n",
    "                    dtype={'city_ascii':str, 'country':str, 'iso2':str, 'iso3':str}).drop_duplicates()\n",
    "cities.shape"
   ]
  },
  {
   "cell_type": "code",
   "execution_count": 9,
   "metadata": {},
   "outputs": [],
   "source": [
    "city_names = set([x.lower() for x in cities.city_ascii])\n",
    "\n",
    "country_names = [x.lower() for x in cities.country]\n",
    "country_names.extend([x.lower() for x in cities.iso2 if type(x) == str])\n",
    "country_names.extend([x.lower() for x in cities.iso3])\n",
    "country_names = set(country_names)\n",
    "country_names.add('scotland')\n",
    "country_names.add('uk')\n",
    "\n",
    "us_states = [x.lower() for x in [\"AL\", \"AK\", \"AZ\", \"AR\", \"CA\", \"CO\", \"CT\", \"DC\", \"DE\", \"FL\", \"GA\",\n",
    "\"HI\", \"ID\", \"IL\", \"IN\", \"IA\", \"KS\", \"KY\", \"LA\", \"ME\", \"MD\",\n",
    "\"MA\", \"MI\", \"MN\", \"MS\", \"MO\", \"MT\", \"NE\", \"NV\", \"NH\", \"NJ\",\n",
    "\"NM\", \"NY\", \"NC\", \"ND\", \"OH\", \"OK\", \"OR\", \"PA\", \"RI\", \"SC\",\n",
    "\"SD\", \"TN\", \"TX\", \"UT\", \"VT\", \"VA\", \"WA\", \"WV\", \"WI\", \"WY\"] ]\n",
    "\n",
    "canada_states = [x.lower() for x in ['AB', 'BC', 'MB', 'NB', 'NL', 'NT', 'NS', 'NU', 'ON', 'PE', 'QC', 'SK', 'YT'] ]"
   ]
  },
  {
   "cell_type": "code",
   "execution_count": 10,
   "metadata": {},
   "outputs": [],
   "source": [
    "def clean_aff(x):\n",
    "    # throw away country and city names\n",
    "    # if in the States, identify state as well\n",
    "    \n",
    "    l = str(x).split(',')\n",
    "    \n",
    "    country = re.sub('[^0-9a-zA-Z ]+', '', l[-1]).strip()\n",
    "    if country in country_names:\n",
    "        l = l[:-1]\n",
    "    \n",
    "    if len(l) > 0 and country in ['usa', 'us', 'united states', 'the united states']:\n",
    "        state = re.sub('[^0-9a-zA-Z]+', '', l[-1]).strip()\n",
    "        if state in us_states:\n",
    "            l = l[:-1]\n",
    "            \n",
    "    if len(l) > 0 and country == 'canada':\n",
    "        state = re.sub('[^0-9a-zA-Z]+', '', l[-1]).strip()\n",
    "        if state in canada_states:\n",
    "            l = l[:-1]\n",
    "    \n",
    "    if len(l) > 0:\n",
    "        city = re.sub('[^0-9a-zA-Z ]+', '', l[-1]).strip()\n",
    "        if city in city_names:\n",
    "            l = l[:-1]\n",
    "    \n",
    "    return  ' '.join(l).strip()"
   ]
  },
  {
   "cell_type": "code",
   "execution_count": 11,
   "metadata": {},
   "outputs": [],
   "source": [
    "assert(clean_aff('university of california, ca, usa') == 'university of california')\n",
    "assert(clean_aff('hong kong') == '')\n",
    "assert(clean_aff('c a, united states') == '')\n",
    "assert(clean_aff('peking university, beijing, china') == 'peking university')"
   ]
  },
  {
   "cell_type": "code",
   "execution_count": 12,
   "metadata": {},
   "outputs": [],
   "source": [
    "all_editors = all_editors.assign(cleaned_aff = all_editors.editorAff.apply(clean_aff))"
   ]
  },
  {
   "cell_type": "code",
   "execution_count": 13,
   "metadata": {},
   "outputs": [
    {
     "data": {
      "text/html": [
       "<div>\n",
       "<style scoped>\n",
       "    .dataframe tbody tr th:only-of-type {\n",
       "        vertical-align: middle;\n",
       "    }\n",
       "\n",
       "    .dataframe tbody tr th {\n",
       "        vertical-align: top;\n",
       "    }\n",
       "\n",
       "    .dataframe thead th {\n",
       "        text-align: right;\n",
       "    }\n",
       "</style>\n",
       "<table border=\"1\" class=\"dataframe\">\n",
       "  <thead>\n",
       "    <tr style=\"text-align: right;\">\n",
       "      <th></th>\n",
       "      <th>issn</th>\n",
       "      <th>title</th>\n",
       "      <th>normalized_name</th>\n",
       "      <th>editorAff</th>\n",
       "      <th>Year</th>\n",
       "      <th>first</th>\n",
       "      <th>middle</th>\n",
       "      <th>last</th>\n",
       "      <th>f_ini</th>\n",
       "      <th>m_ini</th>\n",
       "      <th>cleaned_aff</th>\n",
       "    </tr>\n",
       "  </thead>\n",
       "  <tbody>\n",
       "    <tr>\n",
       "      <th>0</th>\n",
       "      <td>1744117X</td>\n",
       "      <td>editor-in-chief</td>\n",
       "      <td>m rise</td>\n",
       "      <td>memorial university of newfoundland, newfoundl...</td>\n",
       "      <td>2015</td>\n",
       "      <td></td>\n",
       "      <td></td>\n",
       "      <td>rise</td>\n",
       "      <td>m</td>\n",
       "      <td></td>\n",
       "      <td>memorial university of newfoundland  newfoundl...</td>\n",
       "    </tr>\n",
       "    <tr>\n",
       "      <th>1</th>\n",
       "      <td>1744117X</td>\n",
       "      <td>emeritus editor-in-chief</td>\n",
       "      <td>t p mommsen</td>\n",
       "      <td>university of victoria, victoria, bc, canada</td>\n",
       "      <td>2015</td>\n",
       "      <td></td>\n",
       "      <td></td>\n",
       "      <td>mommsen</td>\n",
       "      <td>t</td>\n",
       "      <td>p</td>\n",
       "      <td>university of victoria</td>\n",
       "    </tr>\n",
       "    <tr>\n",
       "      <th>2</th>\n",
       "      <td>1744117X</td>\n",
       "      <td>editorial board</td>\n",
       "      <td>j altimiras</td>\n",
       "      <td>linkoping university, sweden</td>\n",
       "      <td>2015</td>\n",
       "      <td></td>\n",
       "      <td></td>\n",
       "      <td>altimiras</td>\n",
       "      <td>j</td>\n",
       "      <td></td>\n",
       "      <td>linkoping university</td>\n",
       "    </tr>\n",
       "    <tr>\n",
       "      <th>3</th>\n",
       "      <td>1744117X</td>\n",
       "      <td>editorial board</td>\n",
       "      <td>g anderson</td>\n",
       "      <td>university of manitoba, winnipeg, manitoba, ca...</td>\n",
       "      <td>2015</td>\n",
       "      <td></td>\n",
       "      <td></td>\n",
       "      <td>anderson</td>\n",
       "      <td>g</td>\n",
       "      <td></td>\n",
       "      <td>university of manitoba  winnipeg  manitoba</td>\n",
       "    </tr>\n",
       "    <tr>\n",
       "      <th>4</th>\n",
       "      <td>1744117X</td>\n",
       "      <td>editorial board</td>\n",
       "      <td>n j bernier</td>\n",
       "      <td>university of guelph, guelph, on, canada</td>\n",
       "      <td>2015</td>\n",
       "      <td></td>\n",
       "      <td></td>\n",
       "      <td>bernier</td>\n",
       "      <td>n</td>\n",
       "      <td>j</td>\n",
       "      <td>university of guelph  guelph</td>\n",
       "    </tr>\n",
       "  </tbody>\n",
       "</table>\n",
       "</div>"
      ],
      "text/plain": [
       "       issn                     title normalized_name  \\\n",
       "0  1744117X           editor-in-chief          m rise   \n",
       "1  1744117X  emeritus editor-in-chief     t p mommsen   \n",
       "2  1744117X           editorial board     j altimiras   \n",
       "3  1744117X           editorial board      g anderson   \n",
       "4  1744117X           editorial board     n j bernier   \n",
       "\n",
       "                                           editorAff  Year first middle  \\\n",
       "0  memorial university of newfoundland, newfoundl...  2015                \n",
       "1       university of victoria, victoria, bc, canada  2015                \n",
       "2                       linkoping university, sweden  2015                \n",
       "3  university of manitoba, winnipeg, manitoba, ca...  2015                \n",
       "4           university of guelph, guelph, on, canada  2015                \n",
       "\n",
       "        last f_ini m_ini                                        cleaned_aff  \n",
       "0       rise     m        memorial university of newfoundland  newfoundl...  \n",
       "1    mommsen     t     p                             university of victoria  \n",
       "2  altimiras     j                                     linkoping university  \n",
       "3   anderson     g               university of manitoba  winnipeg  manitoba  \n",
       "4    bernier     n     j                       university of guelph  guelph  "
      ]
     },
     "execution_count": 13,
     "metadata": {},
     "output_type": "execute_result"
    }
   ],
   "source": [
    "all_editors.head()"
   ]
  },
  {
   "cell_type": "markdown",
   "metadata": {},
   "source": [
    "## Match editor names\n",
    "\n",
    "Find potential matches who have the same name as editors."
   ]
  },
  {
   "cell_type": "code",
   "execution_count": 14,
   "metadata": {},
   "outputs": [],
   "source": [
    "def filterSameName(merged):\n",
    "    merged = merged[(merged.first_x == '') | (merged.first_y == '') | (merged.first_x == merged.first_y)]\n",
    "    merged = merged[(merged.middle_x =='') | (merged.middle_y == '') | (merged.middle_x == merged.middle_y)]\n",
    "    merged = merged[(merged.m_ini_x == '') | (merged.m_ini_y == '') | (merged.m_ini_x == merged.m_ini_y)]\n",
    "    merged = merged.drop(['first_x','first_y','middle_x','middle_y','last','f_ini','m_ini_x','m_ini_y'],axis=1)\n",
    "    \n",
    "    return merged"
   ]
  },
  {
   "cell_type": "code",
   "execution_count": 15,
   "metadata": {},
   "outputs": [
    {
     "name": "stdout",
     "output_type": "stream",
     "text": [
      "(188651, 6)\n",
      "CPU times: user 72.5 ms, sys: 25.8 ms, total: 98.3 ms\n",
      "Wall time: 98.8 ms\n"
     ]
    }
   ],
   "source": [
    "%%time\n",
    "authors = pd.read_csv(\"../data/mag/AuthorNames.csv\", sep='\\t', memory_map=True,\n",
    "                      usecols=['NewAuthorId', 'first','middle','last', 'f_ini', 'm_ini'],\n",
    "                      dtype={'NewAuthorId':int,'first':str,'last':str,'middle':str,'m_ini':str,'f_ini':str})\n",
    "print(authors.shape)"
   ]
  },
  {
   "cell_type": "code",
   "execution_count": 16,
   "metadata": {},
   "outputs": [],
   "source": [
    "all_editors = all_editors.fillna('')\n",
    "authors = authors.fillna('')"
   ]
  },
  {
   "cell_type": "code",
   "execution_count": 17,
   "metadata": {},
   "outputs": [
    {
     "name": "stdout",
     "output_type": "stream",
     "text": [
      "(253968, 15)\n",
      "(195631, 7)\n",
      "CPU times: user 256 ms, sys: 69.7 ms, total: 325 ms\n",
      "Wall time: 330 ms\n"
     ]
    }
   ],
   "source": [
    "%%time\n",
    "merged = all_editors.merge(authors, on=['last', 'f_ini'])\n",
    "print(merged.shape)\n",
    "\n",
    "merged = filterSameName(merged)\n",
    "print(merged.shape) # (195631, 7)"
   ]
  },
  {
   "cell_type": "code",
   "execution_count": 18,
   "metadata": {},
   "outputs": [
    {
     "data": {
      "text/html": [
       "<div>\n",
       "<style scoped>\n",
       "    .dataframe tbody tr th:only-of-type {\n",
       "        vertical-align: middle;\n",
       "    }\n",
       "\n",
       "    .dataframe tbody tr th {\n",
       "        vertical-align: top;\n",
       "    }\n",
       "\n",
       "    .dataframe thead th {\n",
       "        text-align: right;\n",
       "    }\n",
       "</style>\n",
       "<table border=\"1\" class=\"dataframe\">\n",
       "  <thead>\n",
       "    <tr style=\"text-align: right;\">\n",
       "      <th></th>\n",
       "      <th>issn</th>\n",
       "      <th>title</th>\n",
       "      <th>normalized_name</th>\n",
       "      <th>editorAff</th>\n",
       "      <th>Year</th>\n",
       "      <th>cleaned_aff</th>\n",
       "      <th>NewAuthorId</th>\n",
       "    </tr>\n",
       "  </thead>\n",
       "  <tbody>\n",
       "    <tr>\n",
       "      <th>0</th>\n",
       "      <td>1744117X</td>\n",
       "      <td>editor-in-chief</td>\n",
       "      <td>m rise</td>\n",
       "      <td>memorial university of newfoundland, newfoundl...</td>\n",
       "      <td>2015</td>\n",
       "      <td>memorial university of newfoundland  newfoundl...</td>\n",
       "      <td>68738365</td>\n",
       "    </tr>\n",
       "    <tr>\n",
       "      <th>1</th>\n",
       "      <td>1744117X</td>\n",
       "      <td>editor-in-chief</td>\n",
       "      <td>m rise</td>\n",
       "      <td>memorial university of newfoundland, newfoundl...</td>\n",
       "      <td>2015</td>\n",
       "      <td>memorial university of newfoundland  newfoundl...</td>\n",
       "      <td>7616278</td>\n",
       "    </tr>\n",
       "    <tr>\n",
       "      <th>2</th>\n",
       "      <td>1744117X</td>\n",
       "      <td>editor-in-chief</td>\n",
       "      <td>m rise</td>\n",
       "      <td>memorial university of newfoundland, newfoundl...</td>\n",
       "      <td>2015</td>\n",
       "      <td>memorial university of newfoundland  newfoundl...</td>\n",
       "      <td>10083403</td>\n",
       "    </tr>\n",
       "    <tr>\n",
       "      <th>3</th>\n",
       "      <td>1744117X</td>\n",
       "      <td>editor-in-chief</td>\n",
       "      <td>m rise</td>\n",
       "      <td>memorial university of newfoundland, newfoundl...</td>\n",
       "      <td>2015</td>\n",
       "      <td>memorial university of newfoundland  newfoundl...</td>\n",
       "      <td>10444668</td>\n",
       "    </tr>\n",
       "    <tr>\n",
       "      <th>4</th>\n",
       "      <td>1744117X</td>\n",
       "      <td>editor-in-chief</td>\n",
       "      <td>m rise</td>\n",
       "      <td>memorial university of newfoundland, newfoundl...</td>\n",
       "      <td>2015</td>\n",
       "      <td>memorial university of newfoundland  newfoundl...</td>\n",
       "      <td>11042510</td>\n",
       "    </tr>\n",
       "  </tbody>\n",
       "</table>\n",
       "</div>"
      ],
      "text/plain": [
       "       issn            title normalized_name  \\\n",
       "0  1744117X  editor-in-chief          m rise   \n",
       "1  1744117X  editor-in-chief          m rise   \n",
       "2  1744117X  editor-in-chief          m rise   \n",
       "3  1744117X  editor-in-chief          m rise   \n",
       "4  1744117X  editor-in-chief          m rise   \n",
       "\n",
       "                                           editorAff  Year  \\\n",
       "0  memorial university of newfoundland, newfoundl...  2015   \n",
       "1  memorial university of newfoundland, newfoundl...  2015   \n",
       "2  memorial university of newfoundland, newfoundl...  2015   \n",
       "3  memorial university of newfoundland, newfoundl...  2015   \n",
       "4  memorial university of newfoundland, newfoundl...  2015   \n",
       "\n",
       "                                         cleaned_aff  NewAuthorId  \n",
       "0  memorial university of newfoundland  newfoundl...     68738365  \n",
       "1  memorial university of newfoundland  newfoundl...      7616278  \n",
       "2  memorial university of newfoundland  newfoundl...     10083403  \n",
       "3  memorial university of newfoundland  newfoundl...     10444668  \n",
       "4  memorial university of newfoundland  newfoundl...     11042510  "
      ]
     },
     "execution_count": 18,
     "metadata": {},
     "output_type": "execute_result"
    }
   ],
   "source": [
    "merged.head()"
   ]
  },
  {
   "cell_type": "markdown",
   "metadata": {},
   "source": [
    "## Match editor affiliations\n",
    "\n",
    "We use a combination of three measures of similarity to determine whether two institution names, when spelled differently, are representing the same affiliation.\n",
    "\n",
    "`../data/manual_labeled_same.csv` and `../data/manual_labeled_different.csv` contains pairs of institutions that are manually labelled to be same or not. We use these manually labelled data as verification sets to determine the performance of chosen parameter. `../data/AllAffiliationSpellings.csv` contains all affiliations appeared as the affiliation of and editor (according to Elsevier) and all affiliations of a possible match (according to MAG)."
   ]
  },
  {
   "cell_type": "code",
   "execution_count": 19,
   "metadata": {},
   "outputs": [],
   "source": [
    "def subfuzz(a, b):\n",
    "    if len(a) < len(b):\n",
    "        a, b = b, a\n",
    "    # len(a) >= len(b)\n",
    "    score = -1\n",
    "    lenb = len(b)\n",
    "    \n",
    "    for start in range(len(a) - len(b)+1):\n",
    "        score = max(score, fuzz.ratio(a[start:start+lenb], b))\n",
    "        \n",
    "    return score\n",
    "\n",
    "assert(subfuzz('aaab', 'ab') == 100)\n",
    "assert(subfuzz('ab', 'aaab') == 100)\n",
    "assert(subfuzz('abcdabcabc', 'bcxy') == 50)"
   ]
  },
  {
   "cell_type": "markdown",
   "metadata": {},
   "source": [
    "#### Get affiliation names "
   ]
  },
  {
   "cell_type": "code",
   "execution_count": 21,
   "metadata": {},
   "outputs": [
    {
     "name": "stdout",
     "output_type": "stream",
     "text": [
      "(156296, 3)\n",
      "(25512, 2)\n",
      "CPU times: user 89 ms, sys: 4.7 ms, total: 93.7 ms\n",
      "Wall time: 94.5 ms\n"
     ]
    }
   ],
   "source": [
    "%%time\n",
    "year_aff = pd.read_csv(\"../data/mag/AuthorAffYear.csv\", sep='\\t', memory_map=True,\n",
    "                      usecols=['Year', 'NewAuthorId', 'AffiliationId'],\n",
    "                      dtype={'Year':int, 'NewAuthorId':int, 'AffiliationId':int})\n",
    "print(year_aff.shape)\n",
    "\n",
    "affiliations = pd.read_csv(\"../data/mag/Affiliations.txt\", sep=\"\\t\", memory_map=True,\n",
    "                          names=['AffiliationId', \"Rank\", \"NormalizedName\", \"DisplayName\", \"GridId\",\n",
    "                                 \"OfficialPage\", \"WikiPage\", \"PaperCount\", \"CitationCount\", \"Latitude\",\n",
    "                                 \"Longitude\", 'CreatedDate'], usecols=['AffiliationId', 'NormalizedName'],\n",
    "                          dtype={'AffiliationId': int, 'NormalizedName': str}).rename(\n",
    "    columns={'NormalizedName':'AffName'}).drop_duplicates()\n",
    "print(affiliations.shape)"
   ]
  },
  {
   "cell_type": "code",
   "execution_count": 22,
   "metadata": {},
   "outputs": [
    {
     "name": "stdout",
     "output_type": "stream",
     "text": [
      "(13085, 8)\n",
      "(13085, 9)\n",
      "CPU times: user 75.6 ms, sys: 0 ns, total: 75.6 ms\n",
      "Wall time: 75.3 ms\n"
     ]
    }
   ],
   "source": [
    "%%time\n",
    "merged = merged.merge(year_aff, on=['NewAuthorId','Year'])\n",
    "print(merged.shape)\n",
    "\n",
    "merged = merged.merge(affiliations, on='AffiliationId')\n",
    "print(merged.shape)"
   ]
  },
  {
   "cell_type": "code",
   "execution_count": 23,
   "metadata": {},
   "outputs": [
    {
     "data": {
      "text/plain": [
       "(10081, 7)"
      ]
     },
     "execution_count": 23,
     "metadata": {},
     "output_type": "execute_result"
    }
   ],
   "source": [
    "all_matched = merged.drop(['Year', 'AffiliationId'], axis=1).drop_duplicates() # all potential matches\n",
    "all_matched = all_matched.rename(columns={'normalized_name':'EditorName'})\n",
    "\n",
    "all_matched.shape"
   ]
  },
  {
   "cell_type": "code",
   "execution_count": 24,
   "metadata": {},
   "outputs": [
    {
     "data": {
      "text/html": [
       "<div>\n",
       "<style scoped>\n",
       "    .dataframe tbody tr th:only-of-type {\n",
       "        vertical-align: middle;\n",
       "    }\n",
       "\n",
       "    .dataframe tbody tr th {\n",
       "        vertical-align: top;\n",
       "    }\n",
       "\n",
       "    .dataframe thead th {\n",
       "        text-align: right;\n",
       "    }\n",
       "</style>\n",
       "<table border=\"1\" class=\"dataframe\">\n",
       "  <thead>\n",
       "    <tr style=\"text-align: right;\">\n",
       "      <th></th>\n",
       "      <th>issn</th>\n",
       "      <th>title</th>\n",
       "      <th>EditorName</th>\n",
       "      <th>editorAff</th>\n",
       "      <th>cleaned_aff</th>\n",
       "      <th>NewAuthorId</th>\n",
       "      <th>AffName</th>\n",
       "    </tr>\n",
       "  </thead>\n",
       "  <tbody>\n",
       "    <tr>\n",
       "      <th>0</th>\n",
       "      <td>1744117X</td>\n",
       "      <td>editor-in-chief</td>\n",
       "      <td>m rise</td>\n",
       "      <td>memorial university of newfoundland, newfoundl...</td>\n",
       "      <td>memorial university of newfoundland  newfoundl...</td>\n",
       "      <td>16778074</td>\n",
       "      <td>norwegian university of science and technology</td>\n",
       "    </tr>\n",
       "    <tr>\n",
       "      <th>1</th>\n",
       "      <td>1744117X</td>\n",
       "      <td>editorial board</td>\n",
       "      <td>m rise</td>\n",
       "      <td>memorial university of newfoundland, st. johna...</td>\n",
       "      <td>memorial university of newfoundland  st. johna...</td>\n",
       "      <td>16778074</td>\n",
       "      <td>norwegian university of science and technology</td>\n",
       "    </tr>\n",
       "    <tr>\n",
       "      <th>2</th>\n",
       "      <td>1744117X</td>\n",
       "      <td>editor-in-chief</td>\n",
       "      <td>m rise</td>\n",
       "      <td>memorial university of newfoundland, newfoundl...</td>\n",
       "      <td>memorial university of newfoundland  newfoundl...</td>\n",
       "      <td>23046221</td>\n",
       "      <td>memorial university of newfoundland</td>\n",
       "    </tr>\n",
       "  </tbody>\n",
       "</table>\n",
       "</div>"
      ],
      "text/plain": [
       "       issn            title EditorName  \\\n",
       "0  1744117X  editor-in-chief     m rise   \n",
       "1  1744117X  editorial board     m rise   \n",
       "2  1744117X  editor-in-chief     m rise   \n",
       "\n",
       "                                           editorAff  \\\n",
       "0  memorial university of newfoundland, newfoundl...   \n",
       "1  memorial university of newfoundland, st. johna...   \n",
       "2  memorial university of newfoundland, newfoundl...   \n",
       "\n",
       "                                         cleaned_aff  NewAuthorId  \\\n",
       "0  memorial university of newfoundland  newfoundl...     16778074   \n",
       "1  memorial university of newfoundland  st. johna...     16778074   \n",
       "2  memorial university of newfoundland  newfoundl...     23046221   \n",
       "\n",
       "                                          AffName  \n",
       "0  norwegian university of science and technology  \n",
       "1  norwegian university of science and technology  \n",
       "2             memorial university of newfoundland  "
      ]
     },
     "execution_count": 24,
     "metadata": {},
     "output_type": "execute_result"
    }
   ],
   "source": [
    "all_matched.head(3)"
   ]
  },
  {
   "cell_type": "markdown",
   "metadata": {},
   "source": [
    "#### Get corpus"
   ]
  },
  {
   "cell_type": "code",
   "execution_count": 25,
   "metadata": {},
   "outputs": [
    {
     "data": {
      "text/plain": [
       "((3337, 3), (9541, 3), (169128, 1))"
      ]
     },
     "execution_count": 25,
     "metadata": {},
     "output_type": "execute_result"
    }
   ],
   "source": [
    "same = pd.read_csv(\"../data/manual_labeled_same.csv\", sep=\"\\t\", index_col=0)\n",
    "diff = pd.read_csv(\"../data/manual_labeled_different.csv\", sep=\"\\t\", index_col=0)\n",
    "allAff = pd.read_csv(\"../data/AllAffiliationSpellings.csv\", sep=\"\\t\").fillna('')\n",
    "\n",
    "same.shape, diff.shape, allAff.shape"
   ]
  },
  {
   "cell_type": "code",
   "execution_count": 26,
   "metadata": {},
   "outputs": [
    {
     "data": {
      "text/html": [
       "<div>\n",
       "<style scoped>\n",
       "    .dataframe tbody tr th:only-of-type {\n",
       "        vertical-align: middle;\n",
       "    }\n",
       "\n",
       "    .dataframe tbody tr th {\n",
       "        vertical-align: top;\n",
       "    }\n",
       "\n",
       "    .dataframe thead th {\n",
       "        text-align: right;\n",
       "    }\n",
       "</style>\n",
       "<table border=\"1\" class=\"dataframe\">\n",
       "  <thead>\n",
       "    <tr style=\"text-align: right;\">\n",
       "      <th></th>\n",
       "      <th>Affiliations</th>\n",
       "    </tr>\n",
       "  </thead>\n",
       "  <tbody>\n",
       "    <tr>\n",
       "      <th>0</th>\n",
       "      <td>university hospital lausanne lausanne, switzer...</td>\n",
       "    </tr>\n",
       "    <tr>\n",
       "      <th>1</th>\n",
       "      <td>arias (madrid, spain</td>\n",
       "    </tr>\n",
       "    <tr>\n",
       "      <th>2</th>\n",
       "      <td>instituto de agroquimica y tecnologia de alime...</td>\n",
       "    </tr>\n",
       "    <tr>\n",
       "      <th>3</th>\n",
       "      <td>university of padova, italy</td>\n",
       "    </tr>\n",
       "    <tr>\n",
       "      <th>4</th>\n",
       "      <td>(ispra, italy</td>\n",
       "    </tr>\n",
       "  </tbody>\n",
       "</table>\n",
       "</div>"
      ],
      "text/plain": [
       "                                        Affiliations\n",
       "0  university hospital lausanne lausanne, switzer...\n",
       "1                               arias (madrid, spain\n",
       "2  instituto de agroquimica y tecnologia de alime...\n",
       "3                        university of padova, italy\n",
       "4                                      (ispra, italy"
      ]
     },
     "execution_count": 26,
     "metadata": {},
     "output_type": "execute_result"
    }
   ],
   "source": [
    "allAff.head()"
   ]
  },
  {
   "cell_type": "code",
   "execution_count": 27,
   "metadata": {},
   "outputs": [
    {
     "data": {
      "text/plain": [
       "169744"
      ]
     },
     "execution_count": 27,
     "metadata": {},
     "output_type": "execute_result"
    }
   ],
   "source": [
    "corpus = list(set(allAff.Affiliations).union(\n",
    "    set(same.affiliation)).union(set(same.affiliationMag)).union(\n",
    "    set(diff.affiliation)).union(set(diff.affiliationMag)))\n",
    "\n",
    "# corpus = [re.sub('[^0-9a-zA-Z]+', ' ', x) for x in corpus]\n",
    "len(corpus)"
   ]
  },
  {
   "cell_type": "code",
   "execution_count": 28,
   "metadata": {},
   "outputs": [],
   "source": [
    "m = {}\n",
    "for ind in range(len(corpus)):\n",
    "    m[ corpus[ind] ] = ind"
   ]
  },
  {
   "cell_type": "code",
   "execution_count": 29,
   "metadata": {},
   "outputs": [
    {
     "name": "stdout",
     "output_type": "stream",
     "text": [
      "(169744, 99128)\n",
      "CPU times: user 2.5 s, sys: 3.25 s, total: 5.75 s\n",
      "Wall time: 5.85 s\n"
     ]
    }
   ],
   "source": [
    "%%time\n",
    "vectorizer = TfidfVectorizer()\n",
    "\n",
    "sparse_matrix = vectorizer.fit_transform(corpus)\n",
    "\n",
    "doc_term_matrix = sparse_matrix.todense()\n",
    "\n",
    "print(doc_term_matrix.shape)"
   ]
  },
  {
   "cell_type": "markdown",
   "metadata": {},
   "source": [
    "#### Three outcomes and filter"
   ]
  },
  {
   "cell_type": "code",
   "execution_count": 30,
   "metadata": {},
   "outputs": [
    {
     "name": "stdout",
     "output_type": "stream",
     "text": [
      "CPU times: user 14.3 s, sys: 549 ms, total: 14.9 s\n",
      "Wall time: 15.1 s\n"
     ]
    }
   ],
   "source": [
    "%%time\n",
    "all_matched = all_matched.assign(tfidf=all_matched.apply(lambda row: \n",
    "        cosine_similarity(doc_term_matrix[m[row['AffName']]], doc_term_matrix[m[row['cleaned_aff']]])[0][0], axis=1))"
   ]
  },
  {
   "cell_type": "code",
   "execution_count": 31,
   "metadata": {},
   "outputs": [
    {
     "name": "stdout",
     "output_type": "stream",
     "text": [
      "CPU times: user 1.51 s, sys: 20.8 ms, total: 1.53 s\n",
      "Wall time: 1.57 s\n"
     ]
    }
   ],
   "source": [
    "%%time\n",
    "all_matched = all_matched.assign(fuz = all_matched.apply(\n",
    "    lambda row: fuzz.ratio(row['cleaned_aff'], row['AffName']), axis=1))\n",
    "\n",
    "all_matched = all_matched.assign(subfuz = all_matched.apply(\n",
    "    lambda row: subfuzz(row['cleaned_aff'], row['AffName']), axis=1))"
   ]
  },
  {
   "cell_type": "code",
   "execution_count": 32,
   "metadata": {},
   "outputs": [
    {
     "data": {
      "text/plain": [
       "(183, 10)"
      ]
     },
     "execution_count": 32,
     "metadata": {},
     "output_type": "execute_result"
    }
   ],
   "source": [
    "filtered = all_matched[(all_matched.tfidf>=33/100) & (all_matched.subfuz>=94) & (all_matched.subfuz>=19)]\n",
    "filtered.shape # (1915, 11) # (1617, 11)"
   ]
  },
  {
   "cell_type": "code",
   "execution_count": 33,
   "metadata": {},
   "outputs": [
    {
     "data": {
      "text/plain": [
       "(47, 10)"
      ]
     },
     "execution_count": 33,
     "metadata": {},
     "output_type": "execute_result"
    }
   ],
   "source": [
    "# only keep unique matches (each editor (issn, name) is uniquely matched to one author in MAG)\n",
    "filtered = filtered.drop_duplicates(subset=['issn', 'EditorName', 'NewAuthorId'])\n",
    "filtered = filtered.drop_duplicates(subset=['issn', 'EditorName'], keep=False)\n",
    "\n",
    "filtered.shape"
   ]
  },
  {
   "cell_type": "code",
   "execution_count": 34,
   "metadata": {},
   "outputs": [
    {
     "data": {
      "text/plain": [
       "(47, 4)"
      ]
     },
     "execution_count": 34,
     "metadata": {},
     "output_type": "execute_result"
    }
   ],
   "source": [
    "# find the start and end of editors \n",
    "editors = filtered.merge(all_editors[['issn','normalized_name','Year']].drop_duplicates().rename(\n",
    "    columns={'normalized_name':'EditorName'}), on=['issn','EditorName']).groupby(\n",
    "    ['issn','NewAuthorId']).agg({'Year':[min, max]}).reset_index()\n",
    "editors.shape # 47"
   ]
  },
  {
   "cell_type": "code",
   "execution_count": 35,
   "metadata": {},
   "outputs": [],
   "source": [
    "editors.columns = [f'{i} {j}'.strip() for i, j in editors.columns]"
   ]
  },
  {
   "cell_type": "code",
   "execution_count": 36,
   "metadata": {},
   "outputs": [],
   "source": [
    "editors = editors.rename(columns={'Year min':'start_year', 'Year max':'end_year'})"
   ]
  },
  {
   "cell_type": "code",
   "execution_count": 37,
   "metadata": {},
   "outputs": [
    {
     "data": {
      "text/html": [
       "<div>\n",
       "<style scoped>\n",
       "    .dataframe tbody tr th:only-of-type {\n",
       "        vertical-align: middle;\n",
       "    }\n",
       "\n",
       "    .dataframe tbody tr th {\n",
       "        vertical-align: top;\n",
       "    }\n",
       "\n",
       "    .dataframe thead th {\n",
       "        text-align: right;\n",
       "    }\n",
       "</style>\n",
       "<table border=\"1\" class=\"dataframe\">\n",
       "  <thead>\n",
       "    <tr style=\"text-align: right;\">\n",
       "      <th></th>\n",
       "      <th>issn</th>\n",
       "      <th>NewAuthorId</th>\n",
       "      <th>start_year</th>\n",
       "      <th>end_year</th>\n",
       "    </tr>\n",
       "  </thead>\n",
       "  <tbody>\n",
       "    <tr>\n",
       "      <th>0</th>\n",
       "      <td>1744117X</td>\n",
       "      <td>345472</td>\n",
       "      <td>2015</td>\n",
       "      <td>2015</td>\n",
       "    </tr>\n",
       "    <tr>\n",
       "      <th>1</th>\n",
       "      <td>1744117X</td>\n",
       "      <td>1276115</td>\n",
       "      <td>2015</td>\n",
       "      <td>2015</td>\n",
       "    </tr>\n",
       "    <tr>\n",
       "      <th>2</th>\n",
       "      <td>1744117X</td>\n",
       "      <td>1465789</td>\n",
       "      <td>2015</td>\n",
       "      <td>2015</td>\n",
       "    </tr>\n",
       "    <tr>\n",
       "      <th>3</th>\n",
       "      <td>1744117X</td>\n",
       "      <td>1504509</td>\n",
       "      <td>2015</td>\n",
       "      <td>2015</td>\n",
       "    </tr>\n",
       "    <tr>\n",
       "      <th>4</th>\n",
       "      <td>1744117X</td>\n",
       "      <td>1881740</td>\n",
       "      <td>2015</td>\n",
       "      <td>2015</td>\n",
       "    </tr>\n",
       "  </tbody>\n",
       "</table>\n",
       "</div>"
      ],
      "text/plain": [
       "       issn  NewAuthorId  start_year  end_year\n",
       "0  1744117X       345472        2015      2015\n",
       "1  1744117X      1276115        2015      2015\n",
       "2  1744117X      1465789        2015      2015\n",
       "3  1744117X      1504509        2015      2015\n",
       "4  1744117X      1881740        2015      2015"
      ]
     },
     "execution_count": 37,
     "metadata": {},
     "output_type": "execute_result"
    }
   ],
   "source": [
    "editors.head()"
   ]
  },
  {
   "cell_type": "markdown",
   "metadata": {},
   "source": [
    "Since we only parsed one editorial page, the start and end of editorial career is 2015 for all editors. Were the same procedure to be applied on the entired set of editorial pages, you can end up with the complete set of editors and their accurate start and end of editorial career.\n",
    "\n",
    "From the set of editors that we have obtained accordingly, we sample 10 editors from the aforementioned journal, stored at `../data/SampleEditors.csv`, and use them to demonstrate susbsequent analysis."
   ]
  },
  {
   "cell_type": "code",
   "execution_count": null,
   "metadata": {},
   "outputs": [],
   "source": []
  }
 ],
 "metadata": {
  "kernelspec": {
   "display_name": "Python 3",
   "language": "python",
   "name": "python3"
  },
  "language_info": {
   "codemirror_mode": {
    "name": "ipython",
    "version": 3
   },
   "file_extension": ".py",
   "mimetype": "text/x-python",
   "name": "python",
   "nbconvert_exporter": "python",
   "pygments_lexer": "ipython3",
   "version": "3.8.5"
  }
 },
 "nbformat": 4,
 "nbformat_minor": 4
}
