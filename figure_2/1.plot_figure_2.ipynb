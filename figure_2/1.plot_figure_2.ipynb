{
 "cells": [
  {
   "cell_type": "code",
   "execution_count": 1,
   "metadata": {},
   "outputs": [],
   "source": [
    "import pandas as pd\n",
    "import numpy as np\n",
    "import scipy.stats\n",
    "import matplotlib\n",
    "from matplotlib import pyplot as plt\n",
    "import matplotlib.gridspec as gridspec\n",
    "from matplotlib.patches import Patch\n",
    "from matplotlib.lines import Line2D\n",
    "\n",
    "matplotlib.rcParams['pdf.fonttype'] = 42\n",
    "matplotlib.rcParams['ps.fonttype'] = 42\n",
    "matplotlib.rcParams['grid.linewidth'] = 0.5\n",
    "matplotlib.rcParams['axes.linewidth'] = 0.5\n",
    "\n",
    "colors = ['#4daf4a', '#377eb8', '#ff7f00']"
   ]
  },
  {
   "cell_type": "code",
   "execution_count": 2,
   "metadata": {},
   "outputs": [],
   "source": [
    "def plotPvalue(ax, x, y, pVal, scale, lw=0.5, c='black', fontsize=7):\n",
    "    # x: [x0, x1]\n",
    "    # y: [y0, y1]\n",
    "    \n",
    "    height = max(y[0], y[1])\n",
    "    gap = scale * 0.05\n",
    "    vlength = scale * 0.15\n",
    "    \n",
    "    yPos = height + gap + vlength\n",
    "    ax.hlines(yPos, x[0], x[1], color=c, lw=lw)\n",
    "    ax.vlines(x[0], y[0] + gap, yPos, color=c, lw=lw)\n",
    "    ax.vlines(x[1], y[1] + gap, yPos, color=c, lw=lw)\n",
    "    \n",
    "    stars = '***' if pVal < 0.001 else '**' if pVal < 0.01 else '*' if pVal < 0.05 else f'p={round(pVal, 2)}'\n",
    "    offset = 0.01 if pVal < 0.05 else 0.04\n",
    "    \n",
    "    ax.text((x[0] + x[1])/2, yPos + offset*scale, stars, ha='center', color=c, fontsize=fontsize)\n",
    "    \n",
    "    return yPos"
   ]
  },
  {
   "cell_type": "markdown",
   "metadata": {},
   "source": [
    "## Load data"
   ]
  },
  {
   "cell_type": "code",
   "execution_count": 3,
   "metadata": {},
   "outputs": [
    {
     "name": "stdout",
     "output_type": "stream",
     "text": [
      "(8127, 4)\n",
      "(1751, 4)\n",
      "(1013, 4)\n",
      "CPU times: user 8.49 ms, sys: 1.88 ms, total: 10.4 ms\n",
      "Wall time: 63.8 ms\n"
     ]
    }
   ],
   "source": [
    "%%time\n",
    "authors = pd.read_csv('../data/figure_4/AuthorGenderCount.csv',sep='\\t',usecols=['gender','Year','Field','Count'],\n",
    "                      dtype={'gender':str,'Year':int,'Field':str,'Count':int})\n",
    "print(authors.shape)\n",
    "\n",
    "editors = pd.read_csv('../data/figure_4/EditorGenderCount.csv',sep='\\t',usecols=['gender','Year','Field','Count'],\n",
    "                      dtype={'gender':str,'Year':int,'Field':str,'Count':int})\n",
    "print(editors.shape)\n",
    "\n",
    "eic = pd.read_csv('../data/figure_4/ChiefGenderCount.csv',sep='\\t',usecols=['gender','Year','Field','Count'],\n",
    "                      dtype={'gender':str,'Year':int,'Field':str,'Count':int})\n",
    "print(eic.shape)"
   ]
  },
  {
   "cell_type": "code",
   "execution_count": 4,
   "metadata": {},
   "outputs": [],
   "source": [
    "dfs = [authors, editors, eic]"
   ]
  },
  {
   "cell_type": "markdown",
   "metadata": {},
   "source": [
    "## a"
   ]
  },
  {
   "cell_type": "code",
   "execution_count": 5,
   "metadata": {},
   "outputs": [],
   "source": [
    "def computeBarHeight(fr, field=None):\n",
    "    if field is not None:\n",
    "        fr = fr[fr.Field == field]\n",
    "    \n",
    "    if fr.shape[0] != 0:\n",
    "        n = fr.Count.sum()\n",
    "        m = fr[fr.gender == 'male'].Count.sum()\n",
    "        f = fr[fr.gender == 'female'].Count.sum()\n",
    "        p, q = f/n, m/n\n",
    "    else:\n",
    "        p, n = 0, 0\n",
    "    return (p, n)"
   ]
  },
  {
   "cell_type": "code",
   "execution_count": 6,
   "metadata": {},
   "outputs": [],
   "source": [
    "def plotBars(ax, hn, width=0.8, sub=True):\n",
    "    # hn: [(height, total number)]\n",
    "    \n",
    "#     plt.bar([1,2,3], [p[0] for p in hn], width=width, color='white', alpha=1, edgecolor=colors,lw=1,\n",
    "#             yerr=[np.sqrt(p[0]*(1-p[0])/p[1])*scipy.stats.t.ppf((1+0.95)/2., p[1]-1) for p in hn], ecolor=colors,\n",
    "#             error_kw={'elinewidth':2})\n",
    "    \n",
    "    plt.bar([1,2,3], [p[0] for p in hn], width=width, color=colors, alpha=0.5, edgecolor=colors,lw=0.5,\n",
    "            yerr=[np.sqrt(p[0]*(1-p[0])/p[1])*scipy.stats.t.ppf((1+0.95)/2., p[1]-1) for p in hn], ecolor=colors,\n",
    "            error_kw={'elinewidth':0.5})\n",
    "    \n",
    "    ax.set_xticks([1, 2, 3])\n",
    "    ax.spines['right'].set_visible(False)\n",
    "    ax.set_xlim(0.4, 3.6)\n",
    "    ax.grid(b=True, ls=':', axis='y')\n",
    "    ax.tick_params(length=0)\n",
    "    ax.set_xticklabels(['Scientist','Editor','Editor-in-chief'])\n",
    "    \n",
    "    if sub:\n",
    "        ax.set_ylim(0, 0.44)\n",
    "        ax.set_yticks([0, 0.15, 0.30])\n",
    "        ax.set_yticklabels([\"0\", \"15\", \"30\"], fontdict={'fontsize':5})\n",
    "        if sub==1:\n",
    "            ax.spines['top'].set_visible(False)\n",
    "        if sub==3:\n",
    "            ax.spines['bottom'].set_visible(False)\n",
    "    else:\n",
    "        ax.set_ylim(0, 0.28)\n",
    "        \n",
    "        ax.set_yticks([0, 0.10, 0.20, 0.30])\n",
    "        ax.set_yticklabels([\"0\", \"10\", \"20\", \"30\"])\n",
    "        \n",
    "        ax.spines['bottom'].set_visible(False)\n",
    "        ax.spines['top'].set_visible(False)"
   ]
  },
  {
   "cell_type": "markdown",
   "metadata": {},
   "source": [
    "### Plot"
   ]
  },
  {
   "cell_type": "code",
   "execution_count": 7,
   "metadata": {},
   "outputs": [
    {
     "name": "stdout",
     "output_type": "stream",
     "text": [
      "CPU times: user 4.97 ms, sys: 974 µs, total: 5.94 ms\n",
      "Wall time: 5.55 ms\n"
     ]
    }
   ],
   "source": [
    "%%time\n",
    "main = [computeBarHeight(df, None) for df in dfs]"
   ]
  },
  {
   "cell_type": "code",
   "execution_count": 8,
   "metadata": {},
   "outputs": [
    {
     "name": "stdout",
     "output_type": "stream",
     "text": [
      "[(0.2565972618746584, 156919040), (0.13528266383872684, 396991), (0.0838468931983943, 17687)]\n"
     ]
    }
   ],
   "source": [
    "print(main)"
   ]
  },
  {
   "cell_type": "code",
   "execution_count": 9,
   "metadata": {},
   "outputs": [
    {
     "name": "stdout",
     "output_type": "stream",
     "text": [
      "CPU times: user 25.7 ms, sys: 2.19 ms, total: 27.9 ms\n",
      "Wall time: 27.2 ms\n"
     ]
    },
    {
     "data": {
      "text/plain": [
       "[Text(0, 0.0, '0'),\n",
       " Text(0, 0.05, '5'),\n",
       " Text(0, 0.1, '10'),\n",
       " Text(0, 0.15, '15'),\n",
       " Text(0, 0.2, '20'),\n",
       " Text(0, 0.25, '25')]"
      ]
     },
     "execution_count": 9,
     "metadata": {},
     "output_type": "execute_result"
    },
    {
     "data": {
      "image/png": "[encoded data removed]",
      "text/plain": [
       "<Figure size 198.425x198.425 with 1 Axes>"
      ]
     },
     "metadata": {
      "needs_background": "light"
     },
     "output_type": "display_data"
    }
   ],
   "source": [
    "%%time\n",
    "cm = 1/2.54  # centimeters in inches\n",
    "plt.figure(figsize=(7*cm, 7*cm))\n",
    "plt.rcParams.update({'font.size': 7})\n",
    "\n",
    "ax = plt.gca()\n",
    "\n",
    "plotBars(ax, main, width=0.6, sub=0)\n",
    "ax.set_ylabel('Percentage female')\n",
    "ax.set_ylim(0, 0.27)\n",
    "ax.set_yticks([0, 0.05, 0.1, 0.15, 0.20, 0.25])\n",
    "ax.set_yticklabels([0, 5, 10, 15, 20, 25])\n",
    "\n",
    "#plt.savefig('../figures/fig_4_a.pdf', bbox_inches = 'tight', pad_inches = 0)"
   ]
  },
  {
   "cell_type": "markdown",
   "metadata": {},
   "source": [
    "## b"
   ]
  },
  {
   "cell_type": "code",
   "execution_count": 15,
   "metadata": {},
   "outputs": [],
   "source": [
    "def calcCI(p, n):\n",
    "    p=p/100\n",
    "    return np.sqrt(p*(1-p)/n)*scipy.stats.t.ppf((1+0.95)/2., n-1)"
   ]
  },
  {
   "cell_type": "code",
   "execution_count": 16,
   "metadata": {},
   "outputs": [],
   "source": [
    "def computeTrend(fr, field=None, col='Year', colMin=1970, colMax=2018):\n",
    "    # col: the column to get percentage; could be Year, or Decade etc.\n",
    "    \n",
    "    if field is not None:\n",
    "        fr = fr[fr.Field == field]\n",
    "    \n",
    "    total = fr.groupby(col).Count.sum().reset_index()\n",
    "    female = fr.groupby([col, 'gender']).Count.sum().reset_index().rename(columns={'Count':'Fcount'})\n",
    "    female = female[female.gender == 'female']\n",
    "    \n",
    "    total = total.merge(female, on=col, how='left')\n",
    "    total = total.assign(Percent = total.Fcount/total.Count*100)\n",
    "    \n",
    "    df = pd.DataFrame({col: [x for x in range(colMin, colMax+1)]})    \n",
    "    df = df.merge(total, on=col, how='left').fillna(0).sort_values(by=col)\n",
    "    \n",
    "    return (df[col].values, df.Percent.values, df.Count.values)"
   ]
  },
  {
   "cell_type": "code",
   "execution_count": 17,
   "metadata": {},
   "outputs": [],
   "source": [
    "def plotTrend(ax, x, y, n, color='green', lw=1):\n",
    "    ax.plot(x, y, color=color, lw=lw)\n",
    "    \n",
    "    ci = [calcCI(y[i], n[i])*100 for i in range(len(x))]\n",
    "    lo = [y[i]-ci[i] for i in range(len(x))]\n",
    "    hi = [y[i]+ci[i] for i in range(len(x))]\n",
    "    \n",
    "    ax.fill_between(x, lo, hi, color=color, alpha=0.1)\n",
    "    \n",
    "def plotTemporal(ax, xy, lw=1):\n",
    "    # xy: [(x, p, n)]\n",
    "    \n",
    "    plotTrend(ax, xy[0][0], xy[0][1], xy[0][2], colors[0], lw)\n",
    "    plotTrend(ax, xy[1][0], xy[1][1], xy[1][2], colors[1], lw)\n",
    "    plotTrend(ax, xy[2][0], xy[2][1], xy[2][2], colors[2], lw)\n",
    "    \n",
    "    ax.set_xlim(1970, 2018)\n",
    "    ax.set_ylim(0, 1)\n",
    "    \n",
    "    ax.set_xticks([1970, 1980, 1990, 2000, 2010])\n",
    "    ax.set_yticks([0, 25, 50, 75, 100])\n",
    "    ax.grid(b=True, ls=':')\n",
    "    ax.tick_params(length=0)"
   ]
  },
  {
   "cell_type": "code",
   "execution_count": 18,
   "metadata": {},
   "outputs": [
    {
     "name": "stdout",
     "output_type": "stream",
     "text": [
      "CPU times: user 36.2 ms, sys: 1.1 ms, total: 37.3 ms\n",
      "Wall time: 38.9 ms\n"
     ]
    }
   ],
   "source": [
    "%%time\n",
    "maintrend = [computeTrend(df) for df in dfs]"
   ]
  },
  {
   "cell_type": "code",
   "execution_count": 20,
   "metadata": {},
   "outputs": [
    {
     "name": "stdout",
     "output_type": "stream",
     "text": [
      "CPU times: user 171 ms, sys: 9.29 ms, total: 180 ms\n",
      "Wall time: 181 ms\n"
     ]
    },
    {
     "data": {
      "image/png": "[encoded data removed]",
      "text/plain": [
       "<Figure size 396.85x198.425 with 1 Axes>"
      ]
     },
     "metadata": {
      "needs_background": "light"
     },
     "output_type": "display_data"
    }
   ],
   "source": [
    "%%time\n",
    "cm = 1/2.54  # centimeters in inches\n",
    "plt.figure(figsize=(14*cm, 7*cm))\n",
    "plt.rcParams.update({'font.size': 7})\n",
    "\n",
    "lines = [Line2D([0], [0], color=colors[0], lw=1),\n",
    "        Line2D([0], [0], color=colors[1], lw=1),\n",
    "        Line2D([0], [0], color=colors[2], lw=1)]\n",
    "\n",
    "#######\n",
    "ax = plt.gca()\n",
    "plotTemporal(ax, maintrend)\n",
    "ax.set_ylabel('Percentage female')\n",
    "ax.set_xlabel('Year')\n",
    "ax.legend(lines, ['Scientist', 'Editor', 'Editor-in-chief'], loc='upper left')\n",
    "\n",
    "plt.savefig('../figures/fig_4_b.pdf', bbox_inches = 'tight', pad_inches = 0)"
   ]
  },
  {
   "cell_type": "markdown",
   "metadata": {},
   "source": [
    "## c"
   ]
  },
  {
   "cell_type": "code",
   "execution_count": 22,
   "metadata": {},
   "outputs": [],
   "source": [
    "def getDecadeMarker(x):\n",
    "    if x == 197: return '^'\n",
    "    elif x == 198: return 's'\n",
    "    elif x == 199: return 'X'\n",
    "    elif x == 200: return '*'\n",
    "    elif x == 201: return 'o'\n",
    "    else:\n",
    "        print(f\"Decade error {x}\")\n",
    "        \n",
    "def getDecadeColor(x):\n",
    "    if x == 197: return '#e41a1c'\n",
    "    elif x == 198: return '#377eb8'\n",
    "    elif x == 199: return '#4daf4a'\n",
    "    elif x == 200: return '#984ea3'\n",
    "    elif x == 201: return '#ff7f00'\n",
    "    else:\n",
    "        print(f\"Decade error {x}\")"
   ]
  },
  {
   "cell_type": "code",
   "execution_count": 23,
   "metadata": {},
   "outputs": [],
   "source": [
    "def getPercentDecade(df):\n",
    "    df = df.assign(decade = df.Year.apply(lambda x: int(x/10)))\n",
    "    \n",
    "    df_field = df.groupby(['Field','decade']).Count.sum().reset_index()\n",
    "    \n",
    "    df_female = df[df.gender == 'female'].groupby(['Field','decade']).Count.sum().reset_index().rename(\n",
    "        columns={'Count':'Female'})\n",
    "    \n",
    "    df_field = df_field.merge(df_female, on=['Field','decade'], how='left').fillna(0)\n",
    "    df_field = df_field.assign(percent = df_field.Female/df_field.Count)\n",
    "    \n",
    "    return df_field"
   ]
  },
  {
   "cell_type": "code",
   "execution_count": 24,
   "metadata": {},
   "outputs": [],
   "source": [
    "def plotScatterDecade(df, ax, y, markersize=30, fontsize=7):\n",
    "    \n",
    "    df = df.assign(marker = df.decade.apply(lambda x: getDecadeMarker(x)))\n",
    "    df = df.assign(color = df.decade.apply(lambda x: getDecadeColor(x)))\n",
    "    \n",
    "    \n",
    "    for ind, row in df.iterrows():\n",
    "        ax.scatter(x=row.Apercent, y=row[y], s=markersize, marker=row.marker, color=row.color, clip_on=False)\n",
    "        \n",
    "    ax.plot([x/100 for x in range(75)], [x/100 for x in range(75)], color='black', lw=0.5)\n",
    "    \n",
    "    ax.set_xlim(0, 0.68)\n",
    "    ax.set_ylim(0, 0.68)\n",
    "    \n",
    "    ax.set_xticks([0, 0.2, 0.4, 0.6])\n",
    "    ax.set_xticklabels([0, 20, 40, 60])\n",
    "    \n",
    "    ax.set_yticks([0, 0.2, 0.4, 0.6])\n",
    "    ax.set_yticklabels([0, 20, 40, 60])   "
   ]
  },
  {
   "cell_type": "code",
   "execution_count": 25,
   "metadata": {},
   "outputs": [
    {
     "name": "stdout",
     "output_type": "stream",
     "text": [
      "(90, 5)\n",
      "(114, 5)\n",
      "(418, 5)\n",
      "(95, 5) (79, 5) (76, 5)\n",
      "CPU times: user 39.1 ms, sys: 2.89 ms, total: 42 ms\n",
      "Wall time: 40.5 ms\n"
     ]
    }
   ],
   "source": [
    "%%time\n",
    "chief_decade = getPercentDecade(eic).rename(columns={'percent':'Cpercent'})\n",
    "print(chief_decade.shape)\n",
    "\n",
    "edi_decade = getPercentDecade(editors).rename(columns={'percent':'Epercent'})\n",
    "print(edi_decade.shape)\n",
    "\n",
    "aut_decade = getPercentDecade(authors).rename(columns={'percent':'Apercent'})\n",
    "print(aut_decade.shape)\n",
    "\n",
    "decades = [197, 198, 199, 200, 201]\n",
    "\n",
    "chief_decade = chief_decade[chief_decade.decade.isin(decades)]\n",
    "edi_decade = edi_decade[edi_decade.decade.isin(decades)]\n",
    "aut_decade = aut_decade[aut_decade.decade.isin(decades)]\n",
    "\n",
    "print(aut_decade.shape, edi_decade.shape, chief_decade.shape)\n",
    "\n",
    "# (90, 6)\n",
    "# (114, 6)\n",
    "# (418, 6)\n",
    "# (95, 6) (79, 6) (76, 6)"
   ]
  },
  {
   "cell_type": "code",
   "execution_count": 26,
   "metadata": {},
   "outputs": [],
   "source": [
    "top_fields = pd.read_csv('../data/figure_4/Fields.csv',sep='\\t',usecols=['Field'])"
   ]
  },
  {
   "cell_type": "code",
   "execution_count": 27,
   "metadata": {},
   "outputs": [
    {
     "name": "stdout",
     "output_type": "stream",
     "text": [
      "(74, 4) (73, 4)\n"
     ]
    }
   ],
   "source": [
    "edi_plot = top_fields.merge(\n",
    "    edi_decade[['Field','decade','Epercent']], on=['Field']).merge(\n",
    "    aut_decade[['Field','decade','Apercent']], on=['Field','decade'])\n",
    "\n",
    "chief_plot = top_fields.merge(\n",
    "    chief_decade[['Field','decade','Cpercent']], on='Field').merge(\n",
    "    aut_decade[['Field','decade','Apercent']], on=['Field','decade'])\n",
    "\n",
    "print(edi_plot.shape, chief_plot.shape)"
   ]
  },
  {
   "cell_type": "code",
   "execution_count": 28,
   "metadata": {},
   "outputs": [],
   "source": [
    "top_fields = top_fields.sort_values(by='Field').reset_index(drop=True)"
   ]
  },
  {
   "cell_type": "code",
   "execution_count": 29,
   "metadata": {},
   "outputs": [
    {
     "name": "stdout",
     "output_type": "stream",
     "text": [
      "Biology\n",
      "8.89 7.06 8.95 13.99 18.48\n",
      "18.82 23.53 29.94 36.55 41.4\n",
      "Business\n",
      "6.82 7.22 6.26 13.18 21.22\n",
      "7.68 12.53 18.5 25.53 34.27\n",
      "Chemistry\n",
      "1.69 3.54 5.58 5.18 8.37\n",
      "8.84 12.27 16.47 21.72 27.85\n",
      "Computer science\n",
      "2.34 3.33 5.7 7.75 13.36\n",
      "9.44 10.78 11.95 14.35 20.37\n",
      "Economics\n",
      "7.37 6.41 7.15 10.84 17.28\n",
      "9.52 13.24 19.22 26.71 33.25\n",
      "Engineering\n",
      "0.0 1.7 2.57 4.92 8.27\n",
      "2.68 3.62 4.57 6.6 10.76\n",
      "Geology\n",
      "11.4 7.34 9.52 10.27 12.25\n",
      "6.2 9.77 13.27 18.57 23.64\n",
      "Materials science\n",
      "0.33 3.0 3.53 2.72 7.03\n",
      "3.34 4.96 6.23 9.06 14.12\n",
      "Mathematics\n",
      "2.72 3.41 4.52 4.72 8.46\n",
      "6.38 8.65 11.44 15.52 20.96\n",
      "Medicine\n",
      "7.24 12.98 14.47 18.59 18.86\n",
      "15.14 20.19 26.1 33.79 40.89\n",
      "Philosophy\n",
      "13.33 22.51 31.23 30.67 42.29\n",
      "15.26 20.82 27.41 34.56 41.99\n",
      "Physics\n",
      "2.44 2.72 3.92 4.49 6.9\n",
      "6.27 7.66 9.43 12.16 16.17\n",
      "Political science\n",
      "3.68 15.83 18.91 22.62 25.04\n",
      "15.04 21.02 28.2 36.07 43.89\n",
      "Psychology\n",
      "8.39 11.75 17.98 26.27 34.4\n",
      "24.08 33.17 41.9 49.14 55.35\n",
      "Sociology\n",
      "33.33 52.28 64.78 53.06\n",
      "29.8 41.08 50.09 55.98\n",
      "CPU times: user 1.33 s, sys: 50.6 ms, total: 1.38 s\n",
      "Wall time: 1.63 s\n"
     ]
    },
    {
     "data": {
      "image/png": "[encoded data removed]",
      "text/plain": [
       "<Figure size 637.795x198.425 with 15 Axes>"
      ]
     },
     "metadata": {
      "needs_background": "light"
     },
     "output_type": "display_data"
    }
   ],
   "source": [
    "%%time\n",
    "cm = 1/2.54  # centimeters in inches\n",
    "plt.figure(figsize=(22.5*cm, 7*cm))\n",
    "plt.rcParams.update({'font.size': 7})\n",
    "GS = gridspec.GridSpec(3, 5, wspace=0.05, hspace=0.15)\n",
    "\n",
    "axes = [plt.subplot(GS[int(x/5), x%5]) for x in range(15)]\n",
    "\n",
    "for ind, row in top_fields.iterrows():\n",
    "    field = row['Field']\n",
    "    ax = axes[ind]\n",
    "    print(field)\n",
    "    print(' '.join([str(round(x*100, 2)) for x in edi_plot[edi_plot.Field == field].Epercent]))\n",
    "    print(' '.join([str(round(x*100, 2)) for x in edi_plot[edi_plot.Field == field].Apercent]))\n",
    "          \n",
    "\n",
    "    plotScatterDecade(edi_plot[edi_plot.Field == field], ax, 'Epercent')\n",
    "    ax.text(0.5, 0.8, ha = 'center', s=field, fontsize=7, fontweight='bold', transform=ax.transAxes)\n",
    "    \n",
    "    ax.grid(b=True, ls=':')\n",
    "    ax.tick_params(length=0)\n",
    "    \n",
    "for ind in [5]:\n",
    "    axes[ind].set_ylabel('Percentage of female editors')\n",
    "for ind in [12]:\n",
    "    axes[ind].set_xlabel('Percentage of female scientists')\n",
    "    \n",
    "for ind in range(15):\n",
    "    if ind not in [0, 5, 10]:\n",
    "        axes[ind].set_yticklabels([])\n",
    "    \n",
    "for ind in range(15):\n",
    "    if ind not in [10, 11, 12, 13, 14]:\n",
    "        axes[ind].set_xticklabels([])\n",
    "\n",
    "plt.savefig(\"../figures/fig_4_c.pdf\", bbox_inches = 'tight', pad_inches = 0)"
   ]
  },
  {
   "cell_type": "markdown",
   "metadata": {},
   "source": [
    "#### supplementary"
   ]
  },
  {
   "cell_type": "code",
   "execution_count": 30,
   "metadata": {},
   "outputs": [
    {
     "name": "stdout",
     "output_type": "stream",
     "text": [
      "CPU times: user 1.33 s, sys: 31.9 ms, total: 1.36 s\n",
      "Wall time: 1.37 s\n"
     ]
    },
    {
     "data": {
      "image/png": "[encoded data removed]",
      "text/plain": [
       "<Figure size 518.74x283.465 with 15 Axes>"
      ]
     },
     "metadata": {
      "needs_background": "light"
     },
     "output_type": "display_data"
    }
   ],
   "source": [
    "%%time\n",
    "cm = 1/2.54  # centimeters in inches\n",
    "plt.figure(figsize=(18.3*cm, 10*cm))\n",
    "plt.rcParams.update({'font.size': 7})\n",
    "\n",
    "axes = [plt.subplot(3, 5, x+1) for x in range(15)]\n",
    "\n",
    "for ind, row in top_fields.iterrows():\n",
    "    field = row['Field']\n",
    "    ax = axes[ind]\n",
    "    \n",
    "    plotScatterDecade(chief_plot[chief_plot.Field == field], axes[ind], 'Cpercent')\n",
    "    ax.text(0.5, 0.8, ha = 'center', s=field, fontsize=7, fontweight='bold', transform=ax.transAxes)\n",
    "\n",
    "    ax.grid(b=True, ls=':')\n",
    "    ax.tick_params(length=0)\n",
    "    \n",
    "for ind in [5]:\n",
    "    axes[ind].set_ylabel('Percentage of female editors-in-chief')\n",
    "for ind in [12]:\n",
    "    axes[ind].set_xlabel('Percentage of female scientists')\n",
    "    \n",
    "for ind in range(15):\n",
    "    if ind not in [0, 5, 10]:\n",
    "        axes[ind].set_yticklabels([])\n",
    "    \n",
    "for ind in range(15):\n",
    "    if ind not in [10, 11, 12, 13, 14]:\n",
    "        axes[ind].set_xticklabels([])\n",
    "    \n",
    "plt.tight_layout()\n",
    "plt.savefig(\"../figures/sup_4_gender_scatter_by_decade_2.pdf\", bbox_inches = 'tight', pad_inches = 0)"
   ]
  },
  {
   "cell_type": "markdown",
   "metadata": {},
   "source": [
    "##### legend"
   ]
  },
  {
   "cell_type": "code",
   "execution_count": 31,
   "metadata": {},
   "outputs": [
    {
     "data": {
      "image/png": "[encoded data removed]",
      "text/plain": [
       "<Figure size 432x288 with 1 Axes>"
      ]
     },
     "metadata": {
      "needs_background": "light"
     },
     "output_type": "display_data"
    }
   ],
   "source": [
    "ax = plt.gca()\n",
    "ax.scatter([0], [0], marker='^', s=50, color='#e41a1c', label = '1970s')\n",
    "ax.scatter([0], [0], marker='s', s=50, color='#377eb8', label = '1980s')\n",
    "ax.scatter([0], [0], marker='X', s=50, color='#4daf4a', label = '1990s')\n",
    "ax.scatter([0], [0], marker='*', s=50, color='#984ea3', label = '2000s')\n",
    "ax.scatter([0], [0], marker='o', s=50, color='#ff7f00', label = '2010s')\n",
    "\n",
    "ax.legend(ncol=5)\n",
    "plt.savefig(\"../figures/main_4_scatter_legend.pdf\", bbox_inches = 'tight', pad_inches = 0)"
   ]
  },
  {
   "cell_type": "markdown",
   "metadata": {},
   "source": [
    "## d"
   ]
  },
  {
   "cell_type": "code",
   "execution_count": 23,
   "metadata": {},
   "outputs": [],
   "source": [
    "def plotLengthScatter(df, ax, markersize=10, color='grey'):\n",
    "    df = df.groupby(['Field', 'gender']).length.mean().reset_index()\n",
    "    df = df.merge(top_fields, on='Field')\n",
    "    \n",
    "    male = df[df.gender=='male'].rename(columns={'length':'male'})\n",
    "    female = df[df.gender=='female'].rename(columns={'length':'female'})\n",
    "    \n",
    "    df = male.merge(female, on='Field')\n",
    "    print(df.shape)\n",
    "    \n",
    "    ax.plot([x for x in range(11)], [x for x in range(11)], color='black', lw=0.5)\n",
    "    \n",
    "    below = df[df.male > df.female]\n",
    "    ax.scatter(x=below.male, y=below.female, s=markersize, marker='o', color='grey')\n",
    "    \n",
    "    above = df[df.male <= df.female]\n",
    "    ax.scatter(x=above.male, y=above.female, s=markersize, marker='o', color='red')\n",
    "    \n",
    "    \n",
    "    for ind, row in below.iterrows():\n",
    "        if row['Field'] == 'Geology':\n",
    "            ax.annotate(row['Field'], xy=(row['male'],row['female']), xycoords='data',fontsize=6,\n",
    "                xytext=(2.9, 2.6), textcoords='data',\n",
    "                arrowprops=dict(arrowstyle=\"-\", linewidth=0.3,shrinkA=0,connectionstyle=\"arc3,rad=.2\"))\n",
    "            \n",
    "        if row['Field'] == 'Medicine':\n",
    "            ax.annotate(row['Field'], xy=(row['male'],row['female']), xycoords='data',fontsize=6,\n",
    "                xytext=(3.3, 2), textcoords='data',\n",
    "                arrowprops=dict(arrowstyle=\"-\", linewidth=0.3,shrinkA=0,relpos=(0.8,0.5), connectionstyle=\"arc3,rad=.1\"))\n",
    "            \n",
    "        if row['Field'] == 'Materials science':\n",
    "            ax.annotate(row['Field'], xy=(row['male'],row['female']), xycoords='data',fontsize=6,\n",
    "                xytext=(3.5, 1.5), textcoords='data',\n",
    "                arrowprops=dict(arrowstyle=\"-\", linewidth=0.3,shrinkA=0, connectionstyle=\"arc3,rad=0\"))\n",
    "            \n",
    "        if row['Field'] == 'Computer science':\n",
    "            ax.annotate(row['Field'], xy=(row['male'],row['female']), xycoords='data',fontsize=6,\n",
    "                xytext=(6, 1.8), textcoords='data',\n",
    "                arrowprops=dict(arrowstyle=\"-\",relpos=(0,0.5),shrinkA=0, linewidth=0.3,\n",
    "                                connectionstyle=\"arc3,rad=-.2\"))\n",
    "            \n",
    "        if row['Field'] == 'Chemistry':\n",
    "            ax.annotate(row['Field'], xy=(row['male'],row['female']), xycoords='data',fontsize=6,\n",
    "                xytext=(5.8, 2.2), textcoords='data',\n",
    "                arrowprops=dict(arrowstyle=\"-\", linewidth=0.3, relpos=(0.0,0.5), shrinkA=0,connectionstyle=\"arc3,rad=-.2\"))\n",
    "            \n",
    "        if row['Field'] == 'Physics':\n",
    "            ax.annotate(row['Field'], xy=(row['male'],row['female']), xycoords='data',fontsize=6,\n",
    "                xytext=(6, 2.6), textcoords='data',\n",
    "                arrowprops=dict(arrowstyle=\"-\", linewidth=0.3, shrinkA=0,relpos=(0,0.5),connectionstyle=\"arc3,rad=-.1\"))\n",
    "            \n",
    "        if row['Field'] == 'Engineering':\n",
    "            ax.annotate(row['Field'], xy=(row['male'],row['female']), xycoords='data',fontsize=6,\n",
    "                xytext=(6.2, 3), textcoords='data',\n",
    "                arrowprops=dict(arrowstyle=\"-\", linewidth=0.3,shrinkA=0,relpos=(0,0.5), connectionstyle=\"arc3,rad=-.2\"))\n",
    "            \n",
    "        if row['Field'] == 'Biology':\n",
    "            ax.annotate(row['Field'], xy=(row['male'],row['female']), xycoords='data',fontsize=6,\n",
    "                xytext=(6.4, 3.4), textcoords='data',\n",
    "                arrowprops=dict(arrowstyle=\"-\",linewidth=0.3,shrinkA=0,relpos=(0.1,0.5),connectionstyle=\"arc3,rad=0.1\"))\n",
    "            \n",
    "        if row['Field'] == 'Psychology':\n",
    "            ax.annotate(row['Field'], xy=(row['male'],row['female']), xycoords='data',fontsize=6,\n",
    "                xytext=(6.4, 3.8), textcoords='data',\n",
    "                arrowprops=dict(arrowstyle=\"-\",linewidth=0.3,shrinkA=0,relpos=(0.1,0.5),connectionstyle=\"arc3,rad=0.1\"))\n",
    "        \n",
    "        if row['Field'] == 'Political science':\n",
    "            ax.annotate(row['Field'], xy=(row['male'],row['female']), xycoords='data',fontsize=6,\n",
    "                xytext=(6.6, 4.2), textcoords='data',\n",
    "                arrowprops=dict(arrowstyle=\"-\",linewidth=0.3,shrinkA=0,relpos=(0,0.5),connectionstyle=\"arc3,rad=-0.1\"))\n",
    "            \n",
    "        if row['Field'] == 'Mathematics':\n",
    "            ax.annotate(row['Field'], xy=(row['male'],row['female']), xycoords='data',fontsize=6,\n",
    "                xytext=(7, 4.6), textcoords='data',\n",
    "                arrowprops=dict(arrowstyle=\"-\",linewidth=0.3,shrinkA=0,relpos=(0,0.5),connectionstyle=\"arc3,rad=0.1\"))\n",
    "            \n",
    "        if row['Field'] == 'Philosophy':\n",
    "            ax.annotate(row['Field'], xy=(row['male'],row['female']), xycoords='data',fontsize=6,\n",
    "                xytext=(7, 5), textcoords='data',\n",
    "                arrowprops=dict(arrowstyle=\"-\",linewidth=0.3,shrinkA=0,relpos=(0,0.5),connectionstyle=\"arc3,rad=0\"))\n",
    "            \n",
    "        if row['Field'] == 'Economics':\n",
    "            ax.annotate(row['Field'], xy=(row['male'],row['female']), xycoords='data',fontsize=6,\n",
    "                xytext=(7.2, 5.4), textcoords='data',\n",
    "                arrowprops=dict(arrowstyle=\"-\",linewidth=0.3,shrinkA=0,relpos=(0,0.5),connectionstyle=\"arc3,rad=-0.2\"))\n",
    "            \n",
    "        if row['Field'] == 'Business':\n",
    "            ax.annotate(row['Field'], xy=(row['male'],row['female']), xycoords='data',fontsize=6,\n",
    "                xytext=(6.6, 5.8), textcoords='data')\n",
    "        \n",
    "    for ind, row in above.iterrows():\n",
    "        ax.annotate(row['Field'], xy=(row['male'],row['female']), xycoords='data',fontsize=6,color='red',\n",
    "                xytext=(5, 7), textcoords='data')\n",
    "        \n",
    "    return df"
   ]
  },
  {
   "cell_type": "code",
   "execution_count": 3,
   "metadata": {},
   "outputs": [
    {
     "data": {
      "text/plain": [
       "(80776, 3)"
      ]
     },
     "execution_count": 3,
     "metadata": {},
     "output_type": "execute_result"
    }
   ],
   "source": [
    "editor_length = pd.read_csv('../data/figure_4/EditorCareerLength.csv',sep='\\t',\n",
    "                      dtype={'gender':str,'Field':str,'length':int}, usecols=['gender','Field','length'])\n",
    "editor_length.shape"
   ]
  },
  {
   "cell_type": "code",
   "execution_count": 25,
   "metadata": {},
   "outputs": [
    {
     "name": "stdout",
     "output_type": "stream",
     "text": [
      "(15, 5)\n"
     ]
    },
    {
     "data": {
      "image/png": "[encoded data removed]",
      "text/plain": [
       "<Figure size 198.425x198.425 with 1 Axes>"
      ]
     },
     "metadata": {
      "needs_background": "light"
     },
     "output_type": "display_data"
    }
   ],
   "source": [
    "cm = 1/2.54  # centimeters in inches\n",
    "plt.figure(figsize=(7*cm, 7*cm))\n",
    "plt.rcParams.update({'font.size': 7})\n",
    "\n",
    "ax = plt.gca()\n",
    "\n",
    "plotLengthScatter(editor_length, ax)\n",
    "\n",
    "ax.spines['right'].set_visible(False)\n",
    "ax.spines['top'].set_visible(False)\n",
    "ax.set_xlabel('Career length of male editors')\n",
    "ax.set_ylabel('Career length of female editors')\n",
    "\n",
    "ax.set_xlim(0, 9.3)\n",
    "ax.set_ylim(0, 9.3)\n",
    "ax.grid(b=True, ls=':')\n",
    "ax.tick_params(length=0)\n",
    "\n",
    "plt.savefig('../figures/fig_4_d.pdf',bbox_inches = 'tight', pad_inches = 0)"
   ]
  },
  {
   "cell_type": "markdown",
   "metadata": {},
   "source": [
    "##### supplementary"
   ]
  },
  {
   "cell_type": "code",
   "execution_count": 30,
   "metadata": {},
   "outputs": [],
   "source": [
    "def plotLengthScatterNoStyle(df, ax, markersize=10, color='grey'):\n",
    "    df = df.groupby(['Field', 'gender']).length.mean().reset_index()\n",
    "    df = df.merge(top_fields, on='Field')\n",
    "    \n",
    "    male = df[df.gender=='male'].rename(columns={'length':'male'})\n",
    "    female = df[df.gender=='female'].rename(columns={'length':'female'})\n",
    "    \n",
    "    df = male.merge(female, on='Field')\n",
    "    print(df.shape)\n",
    "    \n",
    "    ax.plot([x for x in range(11)], [x for x in range(11)], color='black', lw=0.5)\n",
    "    \n",
    "    below = df[df.male > df.female]\n",
    "    ax.scatter(x=below.male, y=below.female, s=markersize, marker='o', color='grey')\n",
    "    \n",
    "    above = df[df.male <= df.female]\n",
    "    ax.scatter(x=above.male, y=above.female, s=markersize, marker='o', color='red')\n",
    "    \n",
    "    \n",
    "    for ind, row in below.iterrows():\n",
    "        ax.annotate(row['Field'], xy=(row['male'],row['female']), xycoords='data',fontsize=6,\n",
    "            xytext=(row['male']+0.2, row['female']+0.2), textcoords='data')\n",
    "            \n",
    "    for ind, row in above.iterrows():\n",
    "        ax.annotate(row['Field'], xy=(row['male'],row['female']), xycoords='data',fontsize=6,color='red',\n",
    "                xytext=(row['male']+0.2, row['female']+0.2), textcoords='data')\n",
    "        \n",
    "    return df"
   ]
  },
  {
   "cell_type": "code",
   "execution_count": 4,
   "metadata": {},
   "outputs": [
    {
     "data": {
      "text/plain": [
       "(4687, 3)"
      ]
     },
     "execution_count": 4,
     "metadata": {},
     "output_type": "execute_result"
    }
   ],
   "source": [
    "eic_length = pd.read_csv('../data/figure_4/EICCareerLength.csv',sep='\\t',\n",
    "                      dtype={'gender':str,'Field':str,'length':int}, usecols=['gender','Field','length'])\n",
    "eic_length.shape"
   ]
  },
  {
   "cell_type": "code",
   "execution_count": 32,
   "metadata": {},
   "outputs": [
    {
     "name": "stdout",
     "output_type": "stream",
     "text": [
      "(15, 5)\n"
     ]
    },
    {
     "data": {
      "image/png": "[encoded data removed]",
      "text/plain": [
       "<Figure size 518.74x425.197 with 1 Axes>"
      ]
     },
     "metadata": {
      "needs_background": "light"
     },
     "output_type": "display_data"
    }
   ],
   "source": [
    "cm = 1/2.54  # centimeters in inches\n",
    "plt.figure(figsize=(18.3*cm, 15*cm))\n",
    "plt.rcParams.update({'font.size': 7})\n",
    "\n",
    "ax = plt.gca()\n",
    "\n",
    "temp = plotLengthScatterNoStyle(eic_length, ax)\n",
    "\n",
    "ax.spines['right'].set_visible(False)\n",
    "ax.spines['top'].set_visible(False)\n",
    "ax.set_xlabel('Career length of male editors-in-chief')\n",
    "ax.set_ylabel('Career length of female editors-in-chief')\n",
    "\n",
    "ax.set_xlim(0, 9.3)\n",
    "ax.set_ylim(0, 9.3)\n",
    "ax.grid(b=True, ls=':')\n",
    "\n",
    "plt.savefig('../figures/sup_4_EIC_length_scatter_full.pdf', bbox_inches = 'tight', pad_inches = 0)"
   ]
  },
  {
   "cell_type": "markdown",
   "metadata": {},
   "source": [
    "### inset"
   ]
  },
  {
   "cell_type": "code",
   "execution_count": 5,
   "metadata": {},
   "outputs": [],
   "source": [
    "from PIL import ImageColor\n",
    "from scipy.stats import ttest_ind"
   ]
  },
  {
   "cell_type": "code",
   "execution_count": 6,
   "metadata": {},
   "outputs": [],
   "source": [
    "def alphaHex(color):\n",
    "    hexi = [round(x/255, 4) for x in ImageColor.getcolor(color, \"RGBA\")]\n",
    "    hexi[-1] = 0.2\n",
    "    \n",
    "    return hexi"
   ]
  },
  {
   "cell_type": "code",
   "execution_count": 7,
   "metadata": {},
   "outputs": [],
   "source": [
    "def computeBar(df, col, values, cat=None):\n",
    "        \n",
    "    return [df[df[col] == values[0]].length, df[df[col] == values[1]].length]"
   ]
  },
  {
   "cell_type": "code",
   "execution_count": 8,
   "metadata": {},
   "outputs": [
    {
     "name": "stdout",
     "output_type": "stream",
     "text": [
      "CPU times: user 12.9 ms, sys: 1.99 ms, total: 14.9 ms\n",
      "Wall time: 14.4 ms\n"
     ]
    }
   ],
   "source": [
    "%%time\n",
    "cbar = computeBar(eic_length, 'gender', ['male','female'])\n",
    "ebar = computeBar(editor_length, 'gender', ['male','female'])"
   ]
  },
  {
   "cell_type": "code",
   "execution_count": 9,
   "metadata": {},
   "outputs": [],
   "source": [
    "def plotPvalue(ax, x, y, pVal, ytop, lw=0.2, c='black'):\n",
    "    # x: [x0, x1]\n",
    "    # y: [y0, y1]\n",
    "    height = max(y[0], y[1])\n",
    "    gap = ytop * 0.05\n",
    "    vlength = ytop * 0.03\n",
    "    \n",
    "    yPos = height + gap + vlength\n",
    "    ax.hlines(yPos, x[0], x[1], color=c, lw=lw)\n",
    "    ax.vlines(x[0], height + gap, yPos, color=c, lw=lw)\n",
    "    ax.vlines(x[1], height + gap, yPos, color=c, lw=lw)\n",
    "    \n",
    "    stars = '***' if pVal < 0.001 else '**' if pVal < 0.01 else '*' if pVal < 0.05 else f'p={round(pVal, 2)}'\n",
    "    offset = 0.01 if pVal < 0.05 else 0.04\n",
    "    \n",
    "    ax.text((x[0] + x[1])/2, yPos + offset*ytop, stars, ha='center', color=c)"
   ]
  },
  {
   "cell_type": "code",
   "execution_count": 10,
   "metadata": {},
   "outputs": [],
   "source": [
    "def plotBox(ax, ys, ytop, confidence=0.95, showP=True, color='#377eb8'):\n",
    "    #colors = ['#4daf4a', '#377eb8', '#ff7f00']\n",
    "    hexcolor = alphaHex(color)\n",
    "    \n",
    "    p_value = scipy.stats.ttest_ind(ys[0], ys[1], permutations=1000)\n",
    "    print(p_value)\n",
    "    \n",
    "    x = [i+1 for i in range(len(ys))]\n",
    "    \n",
    "    box1 = ax.boxplot(ys[0], positions = [1], showfliers=False, showmeans=True, widths=0.6, patch_artist=True,\n",
    "                      whis = [5, 95],\n",
    "               meanprops = dict(marker='o', markerfacecolor=color, markersize=3, \n",
    "                                markeredgecolor=color, markeredgewidth=1.5),\n",
    "              boxprops = dict(linewidth=0.4, facecolor='white', edgecolor=color),\n",
    "               whiskerprops = dict(linewidth=0.2),\n",
    "              capprops = dict(linewidth=0.2),\n",
    "            medianprops = dict(linewidth=0.4))\n",
    "    \n",
    "    top1 = max([_.get_ydata()[0] for _ in box1['caps']])\n",
    "    \n",
    "    box2 = ax.boxplot(ys[1], positions = [2], showfliers=False, showmeans=True, widths=0.6, patch_artist=True,\n",
    "                      whis = [5, 95],\n",
    "               meanprops = dict(marker='o', markerfacecolor=color, markersize=3,\n",
    "                                markeredgecolor=color),\n",
    "              boxprops = dict(linewidth=0.4, facecolor=hexcolor, edgecolor=color),\n",
    "               whiskerprops = dict(linewidth=0.2),\n",
    "               capprops = dict(linewidth=0.2),\n",
    "                medianprops = dict(linewidth=0.4))\n",
    "    \n",
    "    for box in box1['boxes']:\n",
    "        # change hatch\n",
    "        box.set(hatch = '///')\n",
    "    \n",
    "    top2 = max([_.get_ydata()[0] for _ in box2['caps']])\n",
    "    \n",
    "    top = max(top1, top2)\n",
    "    \n",
    "    plotPvalue(ax, x, [top, top], p_value.pvalue, top)\n",
    "    \n",
    "    return box1, box2"
   ]
  },
  {
   "cell_type": "code",
   "execution_count": 11,
   "metadata": {},
   "outputs": [
    {
     "name": "stdout",
     "output_type": "stream",
     "text": [
      "Ttest_indResult(statistic=15.018492105514174, pvalue=0.0)\n"
     ]
    },
    {
     "data": {
      "image/png": "[encoded data removed]",
      "text/plain": [
       "<Figure size 56.6929x85.0394 with 1 Axes>"
      ]
     },
     "metadata": {
      "needs_background": "light"
     },
     "output_type": "display_data"
    }
   ],
   "source": [
    "cm = 1/2.54  # centimeters in inches\n",
    "fig = plt.figure(figsize=(2*cm, 3*cm))\n",
    "\n",
    "ax = plt.gca()\n",
    "\n",
    "plotBox(ax, ebar, 6)\n",
    "ax.set_xticks([1, 2])\n",
    "ax.set_xticklabels(['', ''])\n",
    "ax.set_ylabel('Career length of editors')\n",
    "ax.spines['right'].set_visible(False)\n",
    "ax.spines['top'].set_visible(False)\n",
    "ax.spines['bottom'].set_visible(False)\n",
    "ax.tick_params(length=0, axis='x')\n",
    "\n",
    "ax.set_ylim(0, 17)\n",
    "ax.set_xlim(0.5, 2.5)\n",
    "\n",
    "plt.savefig('../figures/main_4_editor_length_inset.pdf',bbox_inches = 'tight', pad_inches = 0)"
   ]
  },
  {
   "cell_type": "code",
   "execution_count": 12,
   "metadata": {},
   "outputs": [
    {
     "name": "stdout",
     "output_type": "stream",
     "text": [
      "Ttest_indResult(statistic=6.27105791810874, pvalue=0.0)\n"
     ]
    },
    {
     "data": {
      "image/png": "[encoded data removed]",
      "text/plain": [
       "<Figure size 56.6929x85.0394 with 1 Axes>"
      ]
     },
     "metadata": {
      "needs_background": "light"
     },
     "output_type": "display_data"
    }
   ],
   "source": [
    "cm = 1/2.54  # centimeters in inches\n",
    "fig = plt.figure(figsize=(2*cm, 3*cm))\n",
    "\n",
    "ax = plt.gca()\n",
    "\n",
    "plotBox(ax, cbar, 6, color='#ff7f00')\n",
    "ax.set_xticks([1, 2])\n",
    "ax.set_xticklabels(['', ''])\n",
    "ax.set_ylabel('Career length of editors')\n",
    "ax.spines['right'].set_visible(False)\n",
    "ax.spines['top'].set_visible(False)\n",
    "ax.spines['bottom'].set_visible(False)\n",
    "ax.tick_params(length=0, axis='x')\n",
    "\n",
    "ax.set_ylim(0, 17)\n",
    "ax.set_xlim(0.5, 2.5)\n",
    "\n",
    "plt.savefig('../figures/sup_4_EIC_length_inset.pdf',bbox_inches = 'tight', pad_inches = 0)"
   ]
  },
  {
   "cell_type": "code",
   "execution_count": 13,
   "metadata": {},
   "outputs": [],
   "source": [
    "def bootstrapTTest(df, outcome, indep, v1, v2, ite=1000):\n",
    "    # outcome: name of the column of dependent variables\n",
    "    # indep: name of the column of independent variables\n",
    "    # v1, v2: the two values of independed variable\n",
    "    \n",
    "    ### standardize outcome ###\n",
    "    df[outcome] = (df[outcome] - df[outcome].mean())/df[outcome].std()\n",
    "    ### standardize outcome ###\n",
    "    \n",
    "    betas = []\n",
    "    \n",
    "    df1 = df[df[indep] == v1]\n",
    "    df2 = df[df[indep] == v2]\n",
    "    \n",
    "    ttest = ttest_ind(df2[outcome], df1[outcome], permutations=ite)\n",
    "    pval = ttest.pvalue\n",
    "    pval = f'$P$ = {round(pval, 3)}' if pval >= 0.001 else '$P < 0.001$'\n",
    "    \n",
    "    for i in range(ite):\n",
    "        \n",
    "        s_df1 = df1.sample(replace=True, frac=1)\n",
    "        s_df2 = df2.sample(replace=True, frac=1)\n",
    "        \n",
    "        a = s_df1[outcome]\n",
    "        b = s_df2[outcome]\n",
    "                       \n",
    "        betas.append(np.mean(b)-np.mean(a))\n",
    "        \n",
    "    b = np.mean(betas)\n",
    "    lo = round(np.percentile(np.array(betas), q=2.5), 2)\n",
    "    hi = round(np.percentile(np.array(betas), q=97.5), 2)\n",
    "    \n",
    "    print(\"$t_{\" + f\"{df1.shape[0]+df2.shape[0]-2}\" +\"}$\" + f\" = {round(ttest.statistic, 2)},\", end=' ')\n",
    "    print(f\"{pval},\", end=' ')\n",
    "    print(f\"$\\\\beta$ = {round(b, 2)},\", end=' ')\n",
    "    print(f\"95\\% CI = {lo} -- {hi}\")    "
   ]
  },
  {
   "cell_type": "code",
   "execution_count": 14,
   "metadata": {},
   "outputs": [
    {
     "name": "stdout",
     "output_type": "stream",
     "text": [
      "$t_{80774}$ = 15.02, $P < 0.001$, $\\beta$ = 0.15, 95\\% CI = 0.13 -- 0.16\n"
     ]
    }
   ],
   "source": [
    "bootstrapTTest(editor_length, 'length', 'gender', 'female', 'male')"
   ]
  },
  {
   "cell_type": "code",
   "execution_count": 15,
   "metadata": {},
   "outputs": [
    {
     "name": "stdout",
     "output_type": "stream",
     "text": [
      "$t_{4685}$ = 6.27, $P < 0.001$, $\\beta$ = 0.28, 95\\% CI = 0.22 -- 0.34\n"
     ]
    }
   ],
   "source": [
    "bootstrapTTest(eic_length, 'length', 'gender', 'female', 'male')"
   ]
  },
  {
   "cell_type": "markdown",
   "metadata": {},
   "source": [
    "## e"
   ]
  },
  {
   "cell_type": "code",
   "execution_count": 29,
   "metadata": {},
   "outputs": [],
   "source": [
    "def computeTrend(fr, cat=None, field=None, col='Year', colMin=1970, colMax=2018):\n",
    "    # col: the column to get percentage; could be Year, or Decade etc.\n",
    "    \n",
    "    if cat is not None:\n",
    "        fr = fr[fr.Category==cat]\n",
    "        \n",
    "    if field is not None:\n",
    "        fr = fr[fr.Field == field]\n",
    "        \n",
    "    fr = fr.assign(Count = 1)\n",
    "    \n",
    "    total = fr.groupby(col).Count.count().reset_index()\n",
    "    female = fr.groupby([col, 'gender']).Count.count().reset_index().rename(columns={'Count':'Fcount'})\n",
    "    female = female[female.gender == 'female']\n",
    "    \n",
    "    total = total.merge(female, on=col, how='left')\n",
    "    total = total.assign(Percent = total.Fcount/total.Count*100)\n",
    "    \n",
    "    df = pd.DataFrame({col: [x for x in range(colMin, colMax+1)]})    \n",
    "    df = df.merge(total, on=col, how='left').fillna(0).sort_values(by=col)\n",
    "    \n",
    "    return (df[col].values, df.Percent.values, df.Count.values)"
   ]
  },
  {
   "cell_type": "code",
   "execution_count": 30,
   "metadata": {},
   "outputs": [],
   "source": [
    "def mean(a):\n",
    "    return sum(a)/len(a)\n",
    "\n",
    "def caclCIValues(a, conf=0.95):\n",
    "    sem, m = scipy.stats.sem(a), scipy.stats.t.ppf((1+conf)/2., len(a)-1)\n",
    "    return m*sem\n",
    "\n",
    "def plotTrend(ax, x, y, n, color='green', lw=2, alpha=1):\n",
    "    ax.plot(x, y, color=color, lw=lw, alpha=alpha)\n",
    "    \n",
    "    ci = [calcCI(y[i], n[i])*100 for i in range(len(x))]\n",
    "    lo = [y[i]-ci[i] for i in range(len(x))]\n",
    "    hi = [y[i]+ci[i] for i in range(len(x))]\n",
    "    \n",
    "    ax.fill_between(x, lo, hi, color=color, alpha=0.1)\n",
    "    \n",
    "def plotTemporal(ax, xy, colors, lw=1):\n",
    "    # xy: [(x, p, n)]\n",
    "    alphas=[1, 1]\n",
    "    \n",
    "    plotTrend(ax, xy[0][0], xy[0][1], xy[0][2], colors[0], lw, alpha=alphas[0])\n",
    "    plotAggTrend(ax, xy[1], colors[1], lw, alpha=alphas[1])\n",
    "\n",
    "def plotAggTrend(ax, trends, color='green', lw=2, alpha=1):\n",
    "    x = trends[0][0]\n",
    "    ys = [[trends[seed][1][year] for seed in range(50)] for year in range(len(trends[0][1]))]\n",
    "    \n",
    "    means = [mean(l) for l in ys]\n",
    "    ci = [caclCIValues(l) for l in ys]\n",
    "    \n",
    "    \n",
    "    print(len(ys), len(means))\n",
    "    \n",
    "    lo = [means[i]-ci[i] for i in range(len(x))]\n",
    "    hi = [means[i]+ci[i] for i in range(len(x))]\n",
    "    \n",
    "    ax.plot(x, means, color=color, lw=lw, alpha=alpha)\n",
    "    ax.fill_between(x, lo, hi, color=color, alpha=0.1)"
   ]
  },
  {
   "cell_type": "code",
   "execution_count": 31,
   "metadata": {},
   "outputs": [],
   "source": [
    "etrends = []\n",
    "for seed in range(50):\n",
    "    sampled_range = pd.read_csv(f'../data/figure_4/randomBaseline/editorSampleAgeCitePub/{seed}.csv',sep='\\t',\n",
    "                          usecols=['Year','Field','gender'],\n",
    "                     dtype={'Year':int,'Field':str,'gender':str})\n",
    "    sampled_trend = computeTrend(sampled_range)\n",
    "    \n",
    "    etrends.append(sampled_trend)"
   ]
  },
  {
   "cell_type": "code",
   "execution_count": 32,
   "metadata": {},
   "outputs": [
    {
     "name": "stdout",
     "output_type": "stream",
     "text": [
      "(396991, 3)\n"
     ]
    }
   ],
   "source": [
    "editor_range = pd.read_csv('../data/figure_4/randomBaseline/Editors.csv',sep='\\t',\n",
    "                           dtype={'gender':str,'Field':str,'Year':int})\n",
    "print(editor_range.shape)\n",
    "\n",
    "editor_trend = computeTrend(editor_range)"
   ]
  },
  {
   "cell_type": "code",
   "execution_count": 33,
   "metadata": {},
   "outputs": [
    {
     "name": "stdout",
     "output_type": "stream",
     "text": [
      "(17687, 3)\n"
     ]
    }
   ],
   "source": [
    "chief_range = pd.read_csv('../data/figure_4/randomBaseline/EICs.csv',sep='\\t',\n",
    "                           dtype={'gender':str,'Field':str,'Year':int})\n",
    "print(chief_range.shape)\n",
    "\n",
    "chief_trend = computeTrend(chief_range)"
   ]
  },
  {
   "cell_type": "code",
   "execution_count": 34,
   "metadata": {},
   "outputs": [],
   "source": [
    "ctrends = []\n",
    "for seed in range(50):\n",
    "    sampled_range = pd.read_csv(f'../data/figure_4/randomBaseline/eicSampleAgeCitePub/{seed}.csv',sep='\\t',\n",
    "                          usecols=['Year','Field','gender'],\n",
    "                     dtype={'Year':int,'Field':str,'gender':str})\n",
    "    \n",
    "    sampled_trend = computeTrend(sampled_range)\n",
    "    \n",
    "    ctrends.append(sampled_trend)"
   ]
  },
  {
   "cell_type": "code",
   "execution_count": 35,
   "metadata": {},
   "outputs": [],
   "source": [
    "def plotChief(ax):\n",
    "    maintrend = [chief_trend, ctrends]\n",
    "    colors = ['#ff7f00', '#984ea3', '#e41a1c']\n",
    "    \n",
    "    plotTemporal(ax, maintrend, colors)\n",
    "    ax.set_ylabel('Percentage female')\n",
    "    ax.set_xlabel('Year')\n",
    "\n",
    "    ax.set_xlim(1970, 2018)\n",
    "    ax.set_ylim(0, 0.25)\n",
    "\n",
    "    ax.set_xticks([1970, 1980, 1990, 2000, 2010])\n",
    "    ax.set_yticks([0, 5, 10, 15, 20, 25])\n",
    "    ax.grid(b=True, ls=':')\n",
    "    ax.tick_params(length=0)\n",
    "\n",
    "    lines = [\n",
    "            Line2D([0], [0], color=colors[0], lw=1),\n",
    "            Line2D([0], [0], color=colors[1], lw=1)]\n",
    "    ax.legend(lines, ['Editor-in-chief (real)', 'Editor-in-chief (randomized)'], loc='upper left')"
   ]
  },
  {
   "cell_type": "code",
   "execution_count": 36,
   "metadata": {},
   "outputs": [],
   "source": [
    "def plotEditor(ax):\n",
    "    maintrend = [editor_trend, etrends]\n",
    "    colors = ['#377eb8', '#984ea3', '#e41a1c'] # '#4daf4a', \n",
    "\n",
    "\n",
    "    plotTemporal(ax, maintrend, colors)\n",
    "    ax.set_ylabel('Percentage female')\n",
    "    ax.set_xlabel('Year')\n",
    "\n",
    "    ax.set_xlim(1970, 2018)\n",
    "    ax.set_ylim(0, 0.25)\n",
    "\n",
    "    ax.set_xticks([1970, 1980, 1990, 2000, 2010])\n",
    "    ax.set_yticks([0, 5, 10, 15, 20, 25])\n",
    "    ax.grid(b=True, ls=':')\n",
    "    ax.tick_params(length=0)\n",
    "\n",
    "    lines = [\n",
    "            Line2D([0], [0], color=colors[0], lw=1),\n",
    "            Line2D([0], [0], color=colors[1], lw=1)]\n",
    "    ax.legend(lines, ['Editor (real)', 'Editor (randomized)'], loc='upper left')"
   ]
  },
  {
   "cell_type": "code",
   "execution_count": 37,
   "metadata": {},
   "outputs": [
    {
     "name": "stdout",
     "output_type": "stream",
     "text": [
      "49 49\n",
      "49 49\n"
     ]
    },
    {
     "data": {
      "image/png": "[encoded data removed]",
      "text/plain": [
       "<Figure size 396.85x198.425 with 2 Axes>"
      ]
     },
     "metadata": {
      "needs_background": "light"
     },
     "output_type": "display_data"
    }
   ],
   "source": [
    "plt.figure(figsize=(14*cm, 7*cm))\n",
    "\n",
    "GS = gridspec.GridSpec(1, 2, wspace=0.05)\n",
    "\n",
    "###############################\n",
    "ax = plt.subplot(GS[0:1, 0:1])\n",
    "plotEditor(ax)\n",
    "\n",
    "ax = plt.subplot(GS[0:1, 1:2])\n",
    "plotChief(ax)\n",
    "ax.set_yticklabels([])\n",
    "ax.set_ylabel('')\n",
    "\n",
    "plt.savefig('../figures/fig_4_e.pdf', bbox_inches = 'tight', pad_inches = 0)"
   ]
  },
  {
   "cell_type": "code",
   "execution_count": null,
   "metadata": {},
   "outputs": [],
   "source": []
  }
 ],
 "metadata": {
  "kernelspec": {
   "display_name": "Python 3",
   "language": "python",
   "name": "python3"
  },
  "language_info": {
   "codemirror_mode": {
    "name": "ipython",
    "version": 3
   },
   "file_extension": ".py",
   "mimetype": "text/x-python",
   "name": "python",
   "nbconvert_exporter": "python",
   "pygments_lexer": "ipython3",
   "version": "3.8.5"
  }
 },
 "nbformat": 4,
 "nbformat_minor": 4
}
