{
 "cells": [
  {
   "cell_type": "markdown",
   "metadata": {},
   "source": [
    "# Calculating avg. publication count\n",
    "\n",
    "Classifying which editors are normal, questionable, and suspicious requires us knowing the average number of papers an editor publishes in his or her journal in the 10-year window (or as long as someone keeps publishing, whichever is shorter) before and after he or she becomes and editor."
   ]
  },
  {
   "cell_type": "code",
   "execution_count": 1,
   "metadata": {},
   "outputs": [],
   "source": [
    "import pandas as pd"
   ]
  },
  {
   "cell_type": "markdown",
   "metadata": {},
   "source": [
    "## Load data"
   ]
  },
  {
   "cell_type": "code",
   "execution_count": 23,
   "metadata": {},
   "outputs": [
    {
     "name": "stdout",
     "output_type": "stream",
     "text": [
      "CPU times: user 1.71 ms, sys: 0 ns, total: 1.71 ms\n",
      "Wall time: 1.76 ms\n"
     ]
    }
   ],
   "source": [
    "%%time\n",
    "editor_career = pd.read_csv('../data/EditorCareerDiscipline.csv',\n",
    "            sep='\\t', memory_map=True,\n",
    "            usecols=['NewAuthorId', 'Yfp', 'Ylp', 'Parent'],\n",
    "            dtype={'NewAuthorId':int, 'Yfp':int, 'Ylp':int, 'Parent':int})"
   ]
  },
  {
   "cell_type": "code",
   "execution_count": 24,
   "metadata": {},
   "outputs": [
    {
     "data": {
      "text/plain": [
       "(6, 4)"
      ]
     },
     "execution_count": 24,
     "metadata": {},
     "output_type": "execute_result"
    }
   ],
   "source": [
    "editors = pd.read_csv(\"../data/SampleEditors.csv\", sep='\\t',\n",
    "                      dtype={'issn':str,'NewAuthorId':int,'start_year':int,'end_year':int})\n",
    "editors = editors[editors.start_year < 2009]\n",
    "editors.shape"
   ]
  },
  {
   "cell_type": "code",
   "execution_count": 25,
   "metadata": {},
   "outputs": [
    {
     "data": {
      "text/plain": [
       "((817, 4), 6)"
      ]
     },
     "execution_count": 25,
     "metadata": {},
     "output_type": "execute_result"
    }
   ],
   "source": [
    "papers = pd.read_csv('../data/EditorPapers.csv',sep='\\t',\n",
    "                    dtype={'NewAuthorId':int,'PaperId':int,'Year':int,'JournalId':int})\n",
    "papers.shape, papers.NewAuthorId.nunique()"
   ]
  },
  {
   "cell_type": "code",
   "execution_count": 26,
   "metadata": {},
   "outputs": [
    {
     "data": {
      "text/plain": [
       "(1817, 2)"
      ]
     },
     "execution_count": 26,
     "metadata": {},
     "output_type": "execute_result"
    }
   ],
   "source": [
    "elsevier_journals = pd.read_csv('../data/ElsevierJournals.csv', sep='\\t',\n",
    "                               usecols=['JournalId','issn'], dtype={'JournalId':int, 'issn':str})\n",
    "assert(elsevier_journals.issn.apply(lambda x: len(x)==8).all())\n",
    "elsevier_journals.shape"
   ]
  },
  {
   "cell_type": "code",
   "execution_count": 21,
   "metadata": {},
   "outputs": [
    {
     "name": "stdout",
     "output_type": "stream",
     "text": [
      "(13302, 2)\n",
      "CPU times: user 5.52 ms, sys: 93 µs, total: 5.61 ms\n",
      "Wall time: 24 ms\n"
     ]
    }
   ],
   "source": [
    "%%time\n",
    "editorials = pd.read_csv('../data/Editorials.csv', sep='\\t', dtype={'PaperId':int,'Editorial':int})\n",
    "assert((editorials.Editorial == 1).all())\n",
    "print(editorials.shape)"
   ]
  },
  {
   "cell_type": "markdown",
   "metadata": {},
   "source": [
    "## Exclude editorials"
   ]
  },
  {
   "cell_type": "code",
   "execution_count": 27,
   "metadata": {},
   "outputs": [
    {
     "name": "stdout",
     "output_type": "stream",
     "text": [
      "(817, 4)\n"
     ]
    }
   ],
   "source": [
    "papers = papers[~papers.PaperId.isin(editorials.PaperId)]\n",
    "print(papers.shape)"
   ]
  },
  {
   "cell_type": "markdown",
   "metadata": {},
   "source": [
    "## 10-year window before and after $\\text{year}_0$\n",
    "\n",
    "10-year or as long as one keeps publishing, whicher is shorter."
   ]
  },
  {
   "cell_type": "code",
   "execution_count": 28,
   "metadata": {},
   "outputs": [
    {
     "name": "stdout",
     "output_type": "stream",
     "text": [
      "(6, 7)\n",
      "CPU times: user 2.28 ms, sys: 0 ns, total: 2.28 ms\n",
      "Wall time: 2.3 ms\n"
     ]
    }
   ],
   "source": [
    "%%time\n",
    "editors = editors.merge(editor_career, on='NewAuthorId')\n",
    "print(editors.shape)"
   ]
  },
  {
   "cell_type": "code",
   "execution_count": 29,
   "metadata": {},
   "outputs": [],
   "source": [
    "editors = editors.assign(year0 = editors.start_year-1)\n",
    "editors = editors.assign(left = editors.year0-9)\n",
    "editors = editors.assign(right = editors.year0+10)"
   ]
  },
  {
   "cell_type": "code",
   "execution_count": 30,
   "metadata": {},
   "outputs": [],
   "source": [
    "editors = editors.assign(left = editors.apply(lambda row: max(row.left, row.Yfp), axis=1))\n",
    "editors = editors.assign(right = editors.apply(lambda row: min(row.right, row.Ylp), axis=1))"
   ]
  },
  {
   "cell_type": "markdown",
   "metadata": {},
   "source": [
    "## Paper count"
   ]
  },
  {
   "cell_type": "code",
   "execution_count": 31,
   "metadata": {},
   "outputs": [
    {
     "name": "stdout",
     "output_type": "stream",
     "text": [
      "(817, 13)\n",
      "(511, 13)\n",
      "CPU times: user 3.66 ms, sys: 0 ns, total: 3.66 ms\n",
      "Wall time: 3.69 ms\n"
     ]
    }
   ],
   "source": [
    "%%time\n",
    "edi_papers = editors.merge(papers, on='NewAuthorId')\n",
    "print(edi_papers.shape)\n",
    "\n",
    "edi_papers = edi_papers[ (edi_papers.Year >= edi_papers.left) & (edi_papers.Year <= edi_papers.right) ]\n",
    "print(edi_papers.shape)"
   ]
  },
  {
   "cell_type": "code",
   "execution_count": 32,
   "metadata": {},
   "outputs": [
    {
     "name": "stdout",
     "output_type": "stream",
     "text": [
      "(0, 13)\n"
     ]
    }
   ],
   "source": [
    "edi_papers = edi_papers.merge(elsevier_journals, on=['JournalId','issn'])\n",
    "print(edi_papers.shape)"
   ]
  },
  {
   "cell_type": "code",
   "execution_count": 33,
   "metadata": {},
   "outputs": [],
   "source": [
    "edi_papers = edi_papers.assign(before = edi_papers.Year <= edi_papers.year0)"
   ]
  },
  {
   "cell_type": "code",
   "execution_count": 34,
   "metadata": {},
   "outputs": [
    {
     "name": "stdout",
     "output_type": "stream",
     "text": [
      "(0, 7)\n"
     ]
    }
   ],
   "source": [
    "before = edi_papers[edi_papers.before == True].groupby(\n",
    "    ['NewAuthorId','issn','year0','left','right','before']).PaperId.nunique().reset_index().drop('before',axis=1)\n",
    "after = edi_papers[edi_papers.before == False].groupby(\n",
    "    ['NewAuthorId','issn','year0','left','right','before']).PaperId.nunique().reset_index().drop('before',axis=1)\n",
    "\n",
    "before = before.rename(columns={'PaperId':'BeforeCount'})\n",
    "after = after.rename(columns={'PaperId':'AfterCount'})\n",
    "\n",
    "paper_count = before.merge(after, on=['NewAuthorId','issn','year0','left','right'], how='outer')\n",
    "print(paper_count.shape)"
   ]
  },
  {
   "cell_type": "markdown",
   "metadata": {},
   "source": [
    "## Average paper count within 10-year window before and after"
   ]
  },
  {
   "cell_type": "code",
   "execution_count": 35,
   "metadata": {},
   "outputs": [
    {
     "name": "stdout",
     "output_type": "stream",
     "text": [
      "(6, 7)\n"
     ]
    }
   ],
   "source": [
    "paper_count = paper_count.merge(editors[['NewAuthorId','issn','year0','left','right']],\n",
    "                                on=['NewAuthorId','issn','year0','left','right'], how='outer')\n",
    "print(paper_count.shape)"
   ]
  },
  {
   "cell_type": "code",
   "execution_count": 36,
   "metadata": {},
   "outputs": [],
   "source": [
    "paper_count = paper_count.fillna(0)"
   ]
  },
  {
   "cell_type": "code",
   "execution_count": 37,
   "metadata": {},
   "outputs": [],
   "source": [
    "paper_count = paper_count.assign(BeSpan = paper_count.year0 - paper_count.left + 1)\n",
    "paper_count = paper_count.assign(BeAvg = paper_count.BeforeCount/paper_count.BeSpan)\n",
    "\n",
    "paper_count = paper_count.assign(AfSpan = paper_count.right - paper_count.year0)\n",
    "paper_count = paper_count.assign(AfAvg = paper_count.AfterCount/paper_count.AfSpan)"
   ]
  },
  {
   "cell_type": "code",
   "execution_count": 38,
   "metadata": {},
   "outputs": [
    {
     "data": {
      "text/html": [
       "<div>\n",
       "<style scoped>\n",
       "    .dataframe tbody tr th:only-of-type {\n",
       "        vertical-align: middle;\n",
       "    }\n",
       "\n",
       "    .dataframe tbody tr th {\n",
       "        vertical-align: top;\n",
       "    }\n",
       "\n",
       "    .dataframe thead th {\n",
       "        text-align: right;\n",
       "    }\n",
       "</style>\n",
       "<table border=\"1\" class=\"dataframe\">\n",
       "  <thead>\n",
       "    <tr style=\"text-align: right;\">\n",
       "      <th></th>\n",
       "      <th>BeforeCount</th>\n",
       "      <th>AfterCount</th>\n",
       "      <th>NewAuthorId</th>\n",
       "      <th>issn</th>\n",
       "      <th>year0</th>\n",
       "      <th>left</th>\n",
       "      <th>right</th>\n",
       "      <th>BeSpan</th>\n",
       "      <th>BeAvg</th>\n",
       "      <th>AfSpan</th>\n",
       "      <th>AfAvg</th>\n",
       "    </tr>\n",
       "  </thead>\n",
       "  <tbody>\n",
       "    <tr>\n",
       "      <th>0</th>\n",
       "      <td>0.0</td>\n",
       "      <td>0.0</td>\n",
       "      <td>77559236</td>\n",
       "      <td>1744117X</td>\n",
       "      <td>2005</td>\n",
       "      <td>1996</td>\n",
       "      <td>2015</td>\n",
       "      <td>10</td>\n",
       "      <td>0.0</td>\n",
       "      <td>10</td>\n",
       "      <td>0.0</td>\n",
       "    </tr>\n",
       "    <tr>\n",
       "      <th>1</th>\n",
       "      <td>0.0</td>\n",
       "      <td>0.0</td>\n",
       "      <td>155626607</td>\n",
       "      <td>1744117X</td>\n",
       "      <td>2005</td>\n",
       "      <td>1996</td>\n",
       "      <td>2015</td>\n",
       "      <td>10</td>\n",
       "      <td>0.0</td>\n",
       "      <td>10</td>\n",
       "      <td>0.0</td>\n",
       "    </tr>\n",
       "    <tr>\n",
       "      <th>2</th>\n",
       "      <td>0.0</td>\n",
       "      <td>0.0</td>\n",
       "      <td>19273516</td>\n",
       "      <td>1744117X</td>\n",
       "      <td>2006</td>\n",
       "      <td>1997</td>\n",
       "      <td>2016</td>\n",
       "      <td>10</td>\n",
       "      <td>0.0</td>\n",
       "      <td>10</td>\n",
       "      <td>0.0</td>\n",
       "    </tr>\n",
       "    <tr>\n",
       "      <th>3</th>\n",
       "      <td>0.0</td>\n",
       "      <td>0.0</td>\n",
       "      <td>98613666</td>\n",
       "      <td>1744117X</td>\n",
       "      <td>2005</td>\n",
       "      <td>1996</td>\n",
       "      <td>2015</td>\n",
       "      <td>10</td>\n",
       "      <td>0.0</td>\n",
       "      <td>10</td>\n",
       "      <td>0.0</td>\n",
       "    </tr>\n",
       "    <tr>\n",
       "      <th>4</th>\n",
       "      <td>0.0</td>\n",
       "      <td>0.0</td>\n",
       "      <td>115595906</td>\n",
       "      <td>1744117X</td>\n",
       "      <td>2007</td>\n",
       "      <td>1998</td>\n",
       "      <td>2017</td>\n",
       "      <td>10</td>\n",
       "      <td>0.0</td>\n",
       "      <td>10</td>\n",
       "      <td>0.0</td>\n",
       "    </tr>\n",
       "  </tbody>\n",
       "</table>\n",
       "</div>"
      ],
      "text/plain": [
       "   BeforeCount  AfterCount  NewAuthorId      issn  year0  left  right  BeSpan  \\\n",
       "0          0.0         0.0     77559236  1744117X   2005  1996   2015      10   \n",
       "1          0.0         0.0    155626607  1744117X   2005  1996   2015      10   \n",
       "2          0.0         0.0     19273516  1744117X   2006  1997   2016      10   \n",
       "3          0.0         0.0     98613666  1744117X   2005  1996   2015      10   \n",
       "4          0.0         0.0    115595906  1744117X   2007  1998   2017      10   \n",
       "\n",
       "   BeAvg  AfSpan  AfAvg  \n",
       "0    0.0      10    0.0  \n",
       "1    0.0      10    0.0  \n",
       "2    0.0      10    0.0  \n",
       "3    0.0      10    0.0  \n",
       "4    0.0      10    0.0  "
      ]
     },
     "execution_count": 38,
     "metadata": {},
     "output_type": "execute_result"
    }
   ],
   "source": [
    "paper_count.head()"
   ]
  },
  {
   "cell_type": "code",
   "execution_count": null,
   "metadata": {},
   "outputs": [],
   "source": []
  }
 ],
 "metadata": {
  "kernelspec": {
   "display_name": "Python 3",
   "language": "python",
   "name": "python3"
  },
  "language_info": {
   "codemirror_mode": {
    "name": "ipython",
    "version": 3
   },
   "file_extension": ".py",
   "mimetype": "text/x-python",
   "name": "python",
   "nbconvert_exporter": "python",
   "pygments_lexer": "ipython3",
   "version": "3.8.5"
  }
 },
 "nbformat": 4,
 "nbformat_minor": 4
}
