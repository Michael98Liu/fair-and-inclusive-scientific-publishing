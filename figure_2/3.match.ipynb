{
 "cells": [
  {
   "cell_type": "code",
   "execution_count": 1,
   "metadata": {},
   "outputs": [],
   "source": [
    "import sys\n",
    "sys.path.insert(1, '../src')\n",
    "from utils import priorCount, getCount\n",
    "import pandas as pd\n",
    "import numpy as np\n",
    "from tqdm.notebook import tqdm"
   ]
  },
  {
   "cell_type": "code",
   "execution_count": 2,
   "metadata": {},
   "outputs": [
    {
     "name": "stdout",
     "output_type": "stream",
     "text": [
      "(10, 4)\n",
      "(10, 2)\n",
      "(10, 4)\n",
      "(9, 2)\n",
      "CPU times: user 7.83 ms, sys: 1 µs, total: 7.83 ms\n",
      "Wall time: 7.31 ms\n"
     ]
    }
   ],
   "source": [
    "%%time\n",
    "editors = pd.read_csv(\"../data/SampleEditors.csv\", sep='\\t',\n",
    "                     dtype={\"NewAuthorId\":int,\"issn\":str,\"start_year\":int,\"end_year\":int})\n",
    "print(editors.shape)\n",
    "\n",
    "ediFirstAff = pd.read_csv('../data/EditorFirstAffRank.csv',sep='\\t',dtype={'NewAuthorId':int,'Rank':int})\n",
    "print(ediFirstAff.shape)\n",
    "\n",
    "editor_career = pd.read_csv('../data/EditorCareerDiscipline.csv',sep='\\t',\n",
    "            dtype={'NewAuthorId':int, 'Yfp':int, 'Ylp':int, 'Parent':int})\n",
    "print(editor_career.shape)\n",
    "\n",
    "edi_gender = pd.read_csv('../data/EditorGender.csv',sep='\\t',dtype={'NewAuthorId':int,'Gender':str})\n",
    "print(edi_gender.shape)"
   ]
  },
  {
   "cell_type": "code",
   "execution_count": 3,
   "metadata": {},
   "outputs": [],
   "source": [
    "# bin affiliation rank into bins\n",
    "def map_rank(tiers):\n",
    "    rank_mapping = []\n",
    "    t = 0\n",
    "    for i in range(1001):\n",
    "        if i > tiers[t]:\n",
    "            t+= 1\n",
    "        rank_mapping.append({'Rank':i,'Tier':tiers[t]})\n",
    "    rank_mapping.append({'Rank':1001,'Tier':1001})\n",
    "    rank_mapping = pd.DataFrame(rank_mapping)\n",
    "\n",
    "    return rank_mapping\n",
    "\n",
    "rank_mapping = map_rank([20, 50, 100, 300, 600, 1000])"
   ]
  },
  {
   "cell_type": "markdown",
   "metadata": {},
   "source": [
    "## Editors"
   ]
  },
  {
   "cell_type": "code",
   "execution_count": 4,
   "metadata": {},
   "outputs": [
    {
     "name": "stdout",
     "output_type": "stream",
     "text": [
      "(9, 9) 9\n",
      "CPU times: user 14.5 ms, sys: 0 ns, total: 14.5 ms\n",
      "Wall time: 14.6 ms\n"
     ]
    }
   ],
   "source": [
    "%%time\n",
    "editors = pd.read_csv(\"../data/SampleEditors.csv\", sep='\\t',\n",
    "                     dtype={\"NewAuthorId\":int,\"issn\":str,\"start_year\":int,\"end_year\":int})\n",
    "\n",
    "editors = editors.merge(editor_career, on='NewAuthorId')\n",
    "editors = editors.merge(ediFirstAff, on='NewAuthorId')\n",
    "editors = editors.merge(edi_gender, on='NewAuthorId')\n",
    "editors = editors.merge(rank_mapping, on='Rank')\n",
    "editors = editors.drop('Rank',axis=1).drop_duplicates()\n",
    "\n",
    "print(editors.shape, editors.NewAuthorId.nunique())\n",
    "editors = editors.rename(columns={'Ylp':'Eylp','Yfp':'Eyfp','NewAuthorId':'EditorsNewId'})\n",
    "editors = editors.assign(EditorYear0=editors.start_year-1)"
   ]
  },
  {
   "cell_type": "code",
   "execution_count": 5,
   "metadata": {},
   "outputs": [
    {
     "data": {
      "text/html": [
       "<div>\n",
       "<style scoped>\n",
       "    .dataframe tbody tr th:only-of-type {\n",
       "        vertical-align: middle;\n",
       "    }\n",
       "\n",
       "    .dataframe tbody tr th {\n",
       "        vertical-align: top;\n",
       "    }\n",
       "\n",
       "    .dataframe thead th {\n",
       "        text-align: right;\n",
       "    }\n",
       "</style>\n",
       "<table border=\"1\" class=\"dataframe\">\n",
       "  <thead>\n",
       "    <tr style=\"text-align: right;\">\n",
       "      <th></th>\n",
       "      <th>EditorsNewId</th>\n",
       "      <th>issn</th>\n",
       "      <th>start_year</th>\n",
       "      <th>end_year</th>\n",
       "      <th>Eyfp</th>\n",
       "      <th>Eylp</th>\n",
       "      <th>Parent</th>\n",
       "      <th>gender</th>\n",
       "      <th>Tier</th>\n",
       "      <th>EditorYear0</th>\n",
       "    </tr>\n",
       "  </thead>\n",
       "  <tbody>\n",
       "    <tr>\n",
       "      <th>0</th>\n",
       "      <td>77559236</td>\n",
       "      <td>1744117X</td>\n",
       "      <td>2006</td>\n",
       "      <td>2008</td>\n",
       "      <td>1968</td>\n",
       "      <td>2018</td>\n",
       "      <td>86803240</td>\n",
       "      <td>male</td>\n",
       "      <td>300</td>\n",
       "      <td>2005</td>\n",
       "    </tr>\n",
       "    <tr>\n",
       "      <th>1</th>\n",
       "      <td>19273516</td>\n",
       "      <td>1744117X</td>\n",
       "      <td>2007</td>\n",
       "      <td>2019</td>\n",
       "      <td>1993</td>\n",
       "      <td>2018</td>\n",
       "      <td>86803240</td>\n",
       "      <td>female</td>\n",
       "      <td>300</td>\n",
       "      <td>2006</td>\n",
       "    </tr>\n",
       "    <tr>\n",
       "      <th>2</th>\n",
       "      <td>98613666</td>\n",
       "      <td>1744117X</td>\n",
       "      <td>2006</td>\n",
       "      <td>2014</td>\n",
       "      <td>1985</td>\n",
       "      <td>2018</td>\n",
       "      <td>86803240</td>\n",
       "      <td>male</td>\n",
       "      <td>100</td>\n",
       "      <td>2005</td>\n",
       "    </tr>\n",
       "    <tr>\n",
       "      <th>3</th>\n",
       "      <td>12385375</td>\n",
       "      <td>1744117X</td>\n",
       "      <td>2017</td>\n",
       "      <td>2019</td>\n",
       "      <td>1992</td>\n",
       "      <td>2018</td>\n",
       "      <td>86803240</td>\n",
       "      <td>male</td>\n",
       "      <td>300</td>\n",
       "      <td>2016</td>\n",
       "    </tr>\n",
       "    <tr>\n",
       "      <th>4</th>\n",
       "      <td>115595906</td>\n",
       "      <td>1744117X</td>\n",
       "      <td>2008</td>\n",
       "      <td>2016</td>\n",
       "      <td>1992</td>\n",
       "      <td>2018</td>\n",
       "      <td>86803240</td>\n",
       "      <td>male</td>\n",
       "      <td>300</td>\n",
       "      <td>2007</td>\n",
       "    </tr>\n",
       "  </tbody>\n",
       "</table>\n",
       "</div>"
      ],
      "text/plain": [
       "   EditorsNewId      issn  start_year  end_year  Eyfp  Eylp    Parent  gender  \\\n",
       "0      77559236  1744117X        2006      2008  1968  2018  86803240    male   \n",
       "1      19273516  1744117X        2007      2019  1993  2018  86803240  female   \n",
       "2      98613666  1744117X        2006      2014  1985  2018  86803240    male   \n",
       "3      12385375  1744117X        2017      2019  1992  2018  86803240    male   \n",
       "4     115595906  1744117X        2008      2016  1992  2018  86803240    male   \n",
       "\n",
       "   Tier  EditorYear0  \n",
       "0   300         2005  \n",
       "1   300         2006  \n",
       "2   100         2005  \n",
       "3   300         2016  \n",
       "4   300         2007  "
      ]
     },
     "execution_count": 5,
     "metadata": {},
     "output_type": "execute_result"
    }
   ],
   "source": [
    "editors.head()"
   ]
  },
  {
   "cell_type": "code",
   "execution_count": 6,
   "metadata": {},
   "outputs": [
    {
     "data": {
      "text/plain": [
       "((63, 11), 9)"
      ]
     },
     "execution_count": 6,
     "metadata": {},
     "output_type": "execute_result"
    }
   ],
   "source": [
    "extended = []\n",
    "for delta in range(-3, 4): # year-of-first-publication can be differed by at most 3 years\n",
    "    extended.append(editors.assign(Ayfp=editors.Eyfp+delta))\n",
    "\n",
    "editors = pd.concat(extended, ignore_index=True, sort=False)\n",
    "editors.shape, editors.EditorsNewId.nunique()"
   ]
  },
  {
   "cell_type": "code",
   "execution_count": 7,
   "metadata": {},
   "outputs": [],
   "source": [
    "editors = editors.assign(age=editors.EditorYear0 - editors.Eyfp)\n",
    "editors = editors.assign(age_range=editors.age.apply(lambda x: max(1, round(x*0.1) )) ) # differ by minimum 1 year"
   ]
  },
  {
   "cell_type": "code",
   "execution_count": 8,
   "metadata": {},
   "outputs": [
    {
     "data": {
      "application/vnd.jupyter.widget-view+json": {
       "model_id": "b991e7b0fdec47a08948eb4c63c29e60",
       "version_major": 2,
       "version_minor": 0
      },
      "text/plain": [
       "  0%|          | 0/5 [00:00<?, ?it/s]"
      ]
     },
     "metadata": {},
     "output_type": "display_data"
    },
    {
     "name": "stdout",
     "output_type": "stream",
     "text": [
      "(255, 12) 9\n",
      "CPU times: user 101 ms, sys: 2.77 ms, total: 103 ms\n",
      "Wall time: 103 ms\n"
     ]
    }
   ],
   "source": [
    "%%time\n",
    "extended = pd.DataFrame()\n",
    "for age in tqdm(range(int(editors.age_range.max()) +1)):\n",
    "    temp = editors[editors.age_range == age]\n",
    "\n",
    "    for diff in range(-age, age+1):\n",
    "        newtemp = temp.assign(AuthorYear0=temp.Ayfp + diff + temp.age)\n",
    "\n",
    "        # filter out two cases where difference in end_year is 4\n",
    "        newtemp = newtemp.assign(end_diff=(newtemp.AuthorYear0 - newtemp.EditorYear0).apply(lambda x: abs(x)))\n",
    "        newtemp = newtemp[newtemp.end_diff <= 3]\n",
    "\n",
    "        extended = extended.append(newtemp, ignore_index=True, sort=False)\n",
    "extended = extended.drop(['end_diff', 'age', 'age_range'], axis=1)\n",
    "\n",
    "editors = extended.copy()\n",
    "print(editors.shape, editors.EditorsNewId.nunique())"
   ]
  },
  {
   "cell_type": "code",
   "execution_count": 9,
   "metadata": {},
   "outputs": [
    {
     "data": {
      "text/html": [
       "<div>\n",
       "<style scoped>\n",
       "    .dataframe tbody tr th:only-of-type {\n",
       "        vertical-align: middle;\n",
       "    }\n",
       "\n",
       "    .dataframe tbody tr th {\n",
       "        vertical-align: top;\n",
       "    }\n",
       "\n",
       "    .dataframe thead th {\n",
       "        text-align: right;\n",
       "    }\n",
       "</style>\n",
       "<table border=\"1\" class=\"dataframe\">\n",
       "  <thead>\n",
       "    <tr style=\"text-align: right;\">\n",
       "      <th></th>\n",
       "      <th>EditorsNewId</th>\n",
       "      <th>issn</th>\n",
       "      <th>start_year</th>\n",
       "      <th>end_year</th>\n",
       "      <th>Eyfp</th>\n",
       "      <th>Eylp</th>\n",
       "      <th>Parent</th>\n",
       "      <th>gender</th>\n",
       "      <th>Tier</th>\n",
       "      <th>EditorYear0</th>\n",
       "      <th>Ayfp</th>\n",
       "      <th>AuthorYear0</th>\n",
       "    </tr>\n",
       "  </thead>\n",
       "  <tbody>\n",
       "    <tr>\n",
       "      <th>0</th>\n",
       "      <td>19273516</td>\n",
       "      <td>1744117X</td>\n",
       "      <td>2007</td>\n",
       "      <td>2019</td>\n",
       "      <td>1993</td>\n",
       "      <td>2018</td>\n",
       "      <td>86803240</td>\n",
       "      <td>female</td>\n",
       "      <td>300</td>\n",
       "      <td>2006</td>\n",
       "      <td>1991</td>\n",
       "      <td>2003</td>\n",
       "    </tr>\n",
       "    <tr>\n",
       "      <th>1</th>\n",
       "      <td>51058137</td>\n",
       "      <td>1744117X</td>\n",
       "      <td>2015</td>\n",
       "      <td>2019</td>\n",
       "      <td>2005</td>\n",
       "      <td>2018</td>\n",
       "      <td>86803240</td>\n",
       "      <td>male</td>\n",
       "      <td>600</td>\n",
       "      <td>2014</td>\n",
       "      <td>2003</td>\n",
       "      <td>2011</td>\n",
       "    </tr>\n",
       "    <tr>\n",
       "      <th>2</th>\n",
       "      <td>19273516</td>\n",
       "      <td>1744117X</td>\n",
       "      <td>2007</td>\n",
       "      <td>2019</td>\n",
       "      <td>1993</td>\n",
       "      <td>2018</td>\n",
       "      <td>86803240</td>\n",
       "      <td>female</td>\n",
       "      <td>300</td>\n",
       "      <td>2006</td>\n",
       "      <td>1992</td>\n",
       "      <td>2004</td>\n",
       "    </tr>\n",
       "    <tr>\n",
       "      <th>3</th>\n",
       "      <td>51058137</td>\n",
       "      <td>1744117X</td>\n",
       "      <td>2015</td>\n",
       "      <td>2019</td>\n",
       "      <td>2005</td>\n",
       "      <td>2018</td>\n",
       "      <td>86803240</td>\n",
       "      <td>male</td>\n",
       "      <td>600</td>\n",
       "      <td>2014</td>\n",
       "      <td>2004</td>\n",
       "      <td>2012</td>\n",
       "    </tr>\n",
       "    <tr>\n",
       "      <th>4</th>\n",
       "      <td>19273516</td>\n",
       "      <td>1744117X</td>\n",
       "      <td>2007</td>\n",
       "      <td>2019</td>\n",
       "      <td>1993</td>\n",
       "      <td>2018</td>\n",
       "      <td>86803240</td>\n",
       "      <td>female</td>\n",
       "      <td>300</td>\n",
       "      <td>2006</td>\n",
       "      <td>1993</td>\n",
       "      <td>2005</td>\n",
       "    </tr>\n",
       "  </tbody>\n",
       "</table>\n",
       "</div>"
      ],
      "text/plain": [
       "   EditorsNewId      issn  start_year  end_year  Eyfp  Eylp    Parent  gender  \\\n",
       "0      19273516  1744117X        2007      2019  1993  2018  86803240  female   \n",
       "1      51058137  1744117X        2015      2019  2005  2018  86803240    male   \n",
       "2      19273516  1744117X        2007      2019  1993  2018  86803240  female   \n",
       "3      51058137  1744117X        2015      2019  2005  2018  86803240    male   \n",
       "4      19273516  1744117X        2007      2019  1993  2018  86803240  female   \n",
       "\n",
       "   Tier  EditorYear0  Ayfp  AuthorYear0  \n",
       "0   300         2006  1991         2003  \n",
       "1   600         2014  2003         2011  \n",
       "2   300         2006  1992         2004  \n",
       "3   600         2014  2004         2012  \n",
       "4   300         2006  1993         2005  "
      ]
     },
     "execution_count": 9,
     "metadata": {},
     "output_type": "execute_result"
    }
   ],
   "source": [
    "editors.head()"
   ]
  },
  {
   "cell_type": "markdown",
   "metadata": {},
   "source": [
    "## Authors"
   ]
  },
  {
   "cell_type": "code",
   "execution_count": 10,
   "metadata": {},
   "outputs": [
    {
     "name": "stdout",
     "output_type": "stream",
     "text": [
      "(405890, 4)\n",
      "(434463, 2)\n",
      "(405890, 2)\n"
     ]
    }
   ],
   "source": [
    "author_career = pd.read_csv('../data/figure_2/AuthorCareer.csv',sep='\\t',\n",
    "            dtype={'NewAuthorId':int, 'Yfp':int, 'Ylp':int, 'Parent':int})\n",
    "print(author_career.shape)\n",
    "\n",
    "# load rank of first aff\n",
    "firstAff = pd.read_csv('../data/figure_2/AuthorFirstAffRank.csv',sep='\\t',\n",
    "                      usecols=['NewAuthorId', 'Rank'], dtype={'NewAuthorId':int,'Rank':int})\n",
    "print(firstAff.shape)\n",
    "\n",
    "author_gender = pd.read_csv('../data/figure_2/AuthorGender.csv',sep='\\t',\n",
    "                              dtype={'NewAuthorId':int,'gender':str})\n",
    "print(author_gender.shape)"
   ]
  },
  {
   "cell_type": "code",
   "execution_count": 11,
   "metadata": {},
   "outputs": [
    {
     "name": "stdout",
     "output_type": "stream",
     "text": [
      "(434463, 6)\n",
      "CPU times: user 211 ms, sys: 72.8 ms, total: 284 ms\n",
      "Wall time: 283 ms\n"
     ]
    }
   ],
   "source": [
    "%%time\n",
    "authors = author_career.merge(firstAff, on='NewAuthorId').merge(author_gender, on='NewAuthorId')\n",
    "print(authors.shape)"
   ]
  },
  {
   "cell_type": "code",
   "execution_count": 12,
   "metadata": {},
   "outputs": [
    {
     "name": "stdout",
     "output_type": "stream",
     "text": [
      "(433041, 6)\n",
      "CPU times: user 150 ms, sys: 34.8 ms, total: 185 ms\n",
      "Wall time: 185 ms\n"
     ]
    }
   ],
   "source": [
    "%%time\n",
    "authors = authors.merge(rank_mapping, on='Rank').drop('Rank',axis=1).drop_duplicates()\n",
    "print(authors.shape)"
   ]
  },
  {
   "cell_type": "code",
   "execution_count": 13,
   "metadata": {},
   "outputs": [],
   "source": [
    "authors = authors.rename(columns={'Yfp':'Ayfp','Ylp':'Aylp'})"
   ]
  },
  {
   "cell_type": "markdown",
   "metadata": {},
   "source": [
    "## Potential matches\n",
    "\n",
    "At this stage, match editors and authors on their discipline, gender, rank of first affiliation, and year of first publication."
   ]
  },
  {
   "cell_type": "code",
   "execution_count": 14,
   "metadata": {},
   "outputs": [
    {
     "name": "stdout",
     "output_type": "stream",
     "text": [
      "(364271, 14)\tCPU times: user 226 ms, sys: 155 ms, total: 381 ms\n",
      "Wall time: 383 ms\n"
     ]
    }
   ],
   "source": [
    "%%time\n",
    "matched = editors.merge(authors, on=['Ayfp','Parent','gender','Tier'])\n",
    "matched = matched[~matched.NewAuthorId.isin(editors.EditorsNewId)]\n",
    "\n",
    "print(matched.shape, end='\\t')\n",
    "\n",
    "## make sure that start and end publishing before and after year0 ##\n",
    "matched = matched.assign(lower = np.minimum(matched.EditorYear0, matched.AuthorYear0))\n",
    "matched = matched.assign(upper = np.maximum(matched.EditorYear0, matched.AuthorYear0))\n",
    "\n",
    "matched = matched[matched.Aylp >= matched.upper]\n",
    "matched = matched[matched.Ayfp <= matched.lower]\n",
    "matched = matched[matched.Eylp >= matched.upper]\n",
    "matched = matched[matched.Eyfp <= matched.lower]\n",
    "\n",
    "matched = matched.drop(['lower', 'upper'], axis=1)\n",
    "## make sure that start and end publishing before and after year0 ##"
   ]
  },
  {
   "cell_type": "code",
   "execution_count": 15,
   "metadata": {},
   "outputs": [
    {
     "data": {
      "text/plain": [
       "(315698, 14)"
      ]
     },
     "execution_count": 15,
     "metadata": {},
     "output_type": "execute_result"
    }
   ],
   "source": [
    "matched = matched.drop_duplicates(subset=['EditorsNewId','issn','NewAuthorId','AuthorYear0'])\n",
    "matched.shape # 2633308"
   ]
  },
  {
   "cell_type": "code",
   "execution_count": 16,
   "metadata": {
    "scrolled": true
   },
   "outputs": [
    {
     "data": {
      "text/html": [
       "<div>\n",
       "<style scoped>\n",
       "    .dataframe tbody tr th:only-of-type {\n",
       "        vertical-align: middle;\n",
       "    }\n",
       "\n",
       "    .dataframe tbody tr th {\n",
       "        vertical-align: top;\n",
       "    }\n",
       "\n",
       "    .dataframe thead th {\n",
       "        text-align: right;\n",
       "    }\n",
       "</style>\n",
       "<table border=\"1\" class=\"dataframe\">\n",
       "  <thead>\n",
       "    <tr style=\"text-align: right;\">\n",
       "      <th></th>\n",
       "      <th>EditorsNewId</th>\n",
       "      <th>issn</th>\n",
       "      <th>start_year</th>\n",
       "      <th>end_year</th>\n",
       "      <th>Eyfp</th>\n",
       "      <th>Eylp</th>\n",
       "      <th>Parent</th>\n",
       "      <th>gender</th>\n",
       "      <th>Tier</th>\n",
       "      <th>EditorYear0</th>\n",
       "      <th>Ayfp</th>\n",
       "      <th>AuthorYear0</th>\n",
       "      <th>NewAuthorId</th>\n",
       "      <th>Aylp</th>\n",
       "    </tr>\n",
       "  </thead>\n",
       "  <tbody>\n",
       "    <tr>\n",
       "      <th>0</th>\n",
       "      <td>19273516</td>\n",
       "      <td>1744117X</td>\n",
       "      <td>2007</td>\n",
       "      <td>2019</td>\n",
       "      <td>1993</td>\n",
       "      <td>2018</td>\n",
       "      <td>86803240</td>\n",
       "      <td>female</td>\n",
       "      <td>300</td>\n",
       "      <td>2006</td>\n",
       "      <td>1991</td>\n",
       "      <td>2003</td>\n",
       "      <td>98840</td>\n",
       "      <td>2018</td>\n",
       "    </tr>\n",
       "    <tr>\n",
       "      <th>1</th>\n",
       "      <td>19273516</td>\n",
       "      <td>1744117X</td>\n",
       "      <td>2007</td>\n",
       "      <td>2019</td>\n",
       "      <td>1993</td>\n",
       "      <td>2018</td>\n",
       "      <td>86803240</td>\n",
       "      <td>female</td>\n",
       "      <td>300</td>\n",
       "      <td>2006</td>\n",
       "      <td>1991</td>\n",
       "      <td>2003</td>\n",
       "      <td>150782</td>\n",
       "      <td>2018</td>\n",
       "    </tr>\n",
       "    <tr>\n",
       "      <th>2</th>\n",
       "      <td>19273516</td>\n",
       "      <td>1744117X</td>\n",
       "      <td>2007</td>\n",
       "      <td>2019</td>\n",
       "      <td>1993</td>\n",
       "      <td>2018</td>\n",
       "      <td>86803240</td>\n",
       "      <td>female</td>\n",
       "      <td>300</td>\n",
       "      <td>2006</td>\n",
       "      <td>1991</td>\n",
       "      <td>2003</td>\n",
       "      <td>242024</td>\n",
       "      <td>2018</td>\n",
       "    </tr>\n",
       "    <tr>\n",
       "      <th>3</th>\n",
       "      <td>19273516</td>\n",
       "      <td>1744117X</td>\n",
       "      <td>2007</td>\n",
       "      <td>2019</td>\n",
       "      <td>1993</td>\n",
       "      <td>2018</td>\n",
       "      <td>86803240</td>\n",
       "      <td>female</td>\n",
       "      <td>300</td>\n",
       "      <td>2006</td>\n",
       "      <td>1991</td>\n",
       "      <td>2003</td>\n",
       "      <td>252047</td>\n",
       "      <td>2006</td>\n",
       "    </tr>\n",
       "    <tr>\n",
       "      <th>4</th>\n",
       "      <td>19273516</td>\n",
       "      <td>1744117X</td>\n",
       "      <td>2007</td>\n",
       "      <td>2019</td>\n",
       "      <td>1993</td>\n",
       "      <td>2018</td>\n",
       "      <td>86803240</td>\n",
       "      <td>female</td>\n",
       "      <td>300</td>\n",
       "      <td>2006</td>\n",
       "      <td>1991</td>\n",
       "      <td>2003</td>\n",
       "      <td>283616</td>\n",
       "      <td>2013</td>\n",
       "    </tr>\n",
       "  </tbody>\n",
       "</table>\n",
       "</div>"
      ],
      "text/plain": [
       "   EditorsNewId      issn  start_year  end_year  Eyfp  Eylp    Parent  gender  \\\n",
       "0      19273516  1744117X        2007      2019  1993  2018  86803240  female   \n",
       "1      19273516  1744117X        2007      2019  1993  2018  86803240  female   \n",
       "2      19273516  1744117X        2007      2019  1993  2018  86803240  female   \n",
       "3      19273516  1744117X        2007      2019  1993  2018  86803240  female   \n",
       "4      19273516  1744117X        2007      2019  1993  2018  86803240  female   \n",
       "\n",
       "   Tier  EditorYear0  Ayfp  AuthorYear0  NewAuthorId  Aylp  \n",
       "0   300         2006  1991         2003        98840  2018  \n",
       "1   300         2006  1991         2003       150782  2018  \n",
       "2   300         2006  1991         2003       242024  2018  \n",
       "3   300         2006  1991         2003       252047  2006  \n",
       "4   300         2006  1991         2003       283616  2013  "
      ]
     },
     "execution_count": 16,
     "metadata": {},
     "output_type": "execute_result"
    }
   ],
   "source": [
    "matched.head() # potential pairs of matched editors and authors"
   ]
  },
  {
   "cell_type": "markdown",
   "metadata": {},
   "source": [
    "## Paper count and paper citation"
   ]
  },
  {
   "cell_type": "code",
   "execution_count": 30,
   "metadata": {},
   "outputs": [
    {
     "data": {
      "text/plain": [
       "(29899, 4)"
      ]
     },
     "execution_count": 30,
     "metadata": {},
     "output_type": "execute_result"
    }
   ],
   "source": [
    "jCiteCount = pd.read_csv(\"../data/figure_2/JournalCitationCount.csv\",sep='\\t',\n",
    "                        dtype={'NewAuthorId':int, 'issn':str, 'Year':int, 'Count':int})\n",
    "jCiteCount.shape"
   ]
  },
  {
   "cell_type": "code",
   "execution_count": 18,
   "metadata": {},
   "outputs": [
    {
     "data": {
      "text/plain": [
       "(684, 4)"
      ]
     },
     "execution_count": 18,
     "metadata": {},
     "output_type": "execute_result"
    }
   ],
   "source": [
    "jPaperCount = pd.read_csv(\"../data/figure_2/JournalPaperCount.csv\",sep='\\t',\n",
    "                        dtype={'NewAuthorId':int, 'issn':str, 'Year':int, 'Count':int})\n",
    "jPaperCount.shape"
   ]
  },
  {
   "cell_type": "code",
   "execution_count": 19,
   "metadata": {},
   "outputs": [
    {
     "data": {
      "application/vnd.jupyter.widget-view+json": {
       "model_id": "f16b6b39b895467e80698004a6b59090",
       "version_major": 2,
       "version_minor": 0
      },
      "text/plain": [
       "  0%|          | 0/14 [00:00<?, ?it/s]"
      ]
     },
     "metadata": {},
     "output_type": "display_data"
    }
   ],
   "source": [
    "priorCite = priorCount(jCiteCount)"
   ]
  },
  {
   "cell_type": "code",
   "execution_count": 20,
   "metadata": {},
   "outputs": [
    {
     "data": {
      "application/vnd.jupyter.widget-view+json": {
       "model_id": "1b201d4143f24dcbb52d73f920872990",
       "version_major": 2,
       "version_minor": 0
      },
      "text/plain": [
       "  0%|          | 0/14 [00:00<?, ?it/s]"
      ]
     },
     "metadata": {},
     "output_type": "display_data"
    }
   ],
   "source": [
    "priorPub = priorCount(jPaperCount)"
   ]
  },
  {
   "cell_type": "code",
   "execution_count": 21,
   "metadata": {},
   "outputs": [],
   "source": [
    "def mergeCount(df, count_df, left_on, col):\n",
    "    df = df.merge(count_df, how='left',\n",
    "                    left_on=left_on,\n",
    "                    right_on=['NewAuthorId','Year','issn']).fillna(0)\n",
    "    df = df.rename(columns={'Count':col})\n",
    "    df = df.drop(['NewAuthorId','Year'],axis=1)\n",
    "    \n",
    "    return df"
   ]
  },
  {
   "cell_type": "code",
   "execution_count": 22,
   "metadata": {},
   "outputs": [],
   "source": [
    "def mergePrior(df, prior_df, year_col, id_col, val_col):\n",
    "    df = df.rename(columns={id_col: 'NewAuthorId'})\n",
    "    \n",
    "    df = getCount(df, year_col, prior_df, val_col)\n",
    "    \n",
    "    df = df.rename(columns={'NewAuthorId':id_col})\n",
    "    \n",
    "    return df"
   ]
  },
  {
   "cell_type": "code",
   "execution_count": 23,
   "metadata": {},
   "outputs": [],
   "source": [
    "matchedCount = matched.drop(['Parent','gender','Tier','Ayfp'],axis=1)\n",
    "\n",
    "matchedCount = matchedCount.rename(columns={'NewAuthorId':'AuthorsNewId'})"
   ]
  },
  {
   "cell_type": "code",
   "execution_count": 24,
   "metadata": {},
   "outputs": [],
   "source": [
    "# author citation count in the editor's journal in year0\n",
    "matchedCount = mergeCount(matchedCount, jCiteCount, ['AuthorsNewId','AuthorYear0','issn'], 'AutCiteCount')\n",
    "\n",
    "# editor citation count in the editor's journal in year0\n",
    "matchedCount = mergeCount(matchedCount, jCiteCount, ['EditorsNewId','EditorYear0','issn'], 'EdiCiteCount')\n",
    "\n",
    "# author paper count in the editor's journal in year0\n",
    "matchedCount = mergeCount(matchedCount, jPaperCount, ['AuthorsNewId','AuthorYear0','issn'], 'AutPubCount')\n",
    "\n",
    "# editor paper count in the editor's journal in year0\n",
    "matchedCount = mergeCount(matchedCount, jPaperCount, ['EditorsNewId','EditorYear0','issn'], 'EdiPubCount')"
   ]
  },
  {
   "cell_type": "code",
   "execution_count": 25,
   "metadata": {},
   "outputs": [],
   "source": [
    "# author total citation count in the editor's journal up until year0 \n",
    "matchedCount = mergePrior(matchedCount, priorCite, 'AuthorYear0', 'AuthorsNewId', 'AutCitePrior')\n",
    "\n",
    "# author total paper count in the editor's journal up until year0\n",
    "matchedCount = mergePrior(matchedCount, priorCite, 'EditorYear0', 'EditorsNewId', 'EdiCitePrior')\n",
    "\n",
    "# editor total citation count in the editor's journal up until year0\n",
    "matchedCount = mergePrior(matchedCount, priorPub, 'AuthorYear0', 'AuthorsNewId', 'AutPubPrior')\n",
    "\n",
    "# editor total paper count in the editor's journal up until year0\n",
    "matchedCount = mergePrior(matchedCount, priorPub, 'EditorYear0', 'EditorsNewId', 'EdiPubPrior')"
   ]
  },
  {
   "cell_type": "code",
   "execution_count": 26,
   "metadata": {},
   "outputs": [
    {
     "data": {
      "text/html": [
       "<div>\n",
       "<style scoped>\n",
       "    .dataframe tbody tr th:only-of-type {\n",
       "        vertical-align: middle;\n",
       "    }\n",
       "\n",
       "    .dataframe tbody tr th {\n",
       "        vertical-align: top;\n",
       "    }\n",
       "\n",
       "    .dataframe thead th {\n",
       "        text-align: right;\n",
       "    }\n",
       "</style>\n",
       "<table border=\"1\" class=\"dataframe\">\n",
       "  <thead>\n",
       "    <tr style=\"text-align: right;\">\n",
       "      <th></th>\n",
       "      <th>EditorsNewId</th>\n",
       "      <th>issn</th>\n",
       "      <th>start_year</th>\n",
       "      <th>end_year</th>\n",
       "      <th>Eyfp</th>\n",
       "      <th>Eylp</th>\n",
       "      <th>EditorYear0</th>\n",
       "      <th>AuthorYear0</th>\n",
       "      <th>AuthorsNewId</th>\n",
       "      <th>Aylp</th>\n",
       "      <th>AutCiteCount</th>\n",
       "      <th>EdiCiteCount</th>\n",
       "      <th>AutPubCount</th>\n",
       "      <th>EdiPubCount</th>\n",
       "      <th>AutCitePrior</th>\n",
       "      <th>EdiCitePrior</th>\n",
       "      <th>AutPubPrior</th>\n",
       "      <th>EdiPubPrior</th>\n",
       "    </tr>\n",
       "  </thead>\n",
       "  <tbody>\n",
       "    <tr>\n",
       "      <th>0</th>\n",
       "      <td>98613666</td>\n",
       "      <td>1744117X</td>\n",
       "      <td>2006</td>\n",
       "      <td>2014</td>\n",
       "      <td>1985</td>\n",
       "      <td>2018</td>\n",
       "      <td>2005</td>\n",
       "      <td>2002</td>\n",
       "      <td>475198</td>\n",
       "      <td>2011</td>\n",
       "      <td>0.0</td>\n",
       "      <td>0.0</td>\n",
       "      <td>0.0</td>\n",
       "      <td>0.0</td>\n",
       "      <td>0.0</td>\n",
       "      <td>0.0</td>\n",
       "      <td>0.0</td>\n",
       "      <td>0.0</td>\n",
       "    </tr>\n",
       "    <tr>\n",
       "      <th>1</th>\n",
       "      <td>98613666</td>\n",
       "      <td>1744117X</td>\n",
       "      <td>2006</td>\n",
       "      <td>2014</td>\n",
       "      <td>1985</td>\n",
       "      <td>2018</td>\n",
       "      <td>2005</td>\n",
       "      <td>2002</td>\n",
       "      <td>3985085</td>\n",
       "      <td>2009</td>\n",
       "      <td>0.0</td>\n",
       "      <td>0.0</td>\n",
       "      <td>0.0</td>\n",
       "      <td>0.0</td>\n",
       "      <td>0.0</td>\n",
       "      <td>0.0</td>\n",
       "      <td>0.0</td>\n",
       "      <td>0.0</td>\n",
       "    </tr>\n",
       "    <tr>\n",
       "      <th>2</th>\n",
       "      <td>98613666</td>\n",
       "      <td>1744117X</td>\n",
       "      <td>2006</td>\n",
       "      <td>2014</td>\n",
       "      <td>1985</td>\n",
       "      <td>2018</td>\n",
       "      <td>2005</td>\n",
       "      <td>2002</td>\n",
       "      <td>6714563</td>\n",
       "      <td>2018</td>\n",
       "      <td>0.0</td>\n",
       "      <td>0.0</td>\n",
       "      <td>0.0</td>\n",
       "      <td>0.0</td>\n",
       "      <td>0.0</td>\n",
       "      <td>0.0</td>\n",
       "      <td>0.0</td>\n",
       "      <td>0.0</td>\n",
       "    </tr>\n",
       "    <tr>\n",
       "      <th>3</th>\n",
       "      <td>98613666</td>\n",
       "      <td>1744117X</td>\n",
       "      <td>2006</td>\n",
       "      <td>2014</td>\n",
       "      <td>1985</td>\n",
       "      <td>2018</td>\n",
       "      <td>2005</td>\n",
       "      <td>2002</td>\n",
       "      <td>7385460</td>\n",
       "      <td>2018</td>\n",
       "      <td>0.0</td>\n",
       "      <td>0.0</td>\n",
       "      <td>0.0</td>\n",
       "      <td>0.0</td>\n",
       "      <td>0.0</td>\n",
       "      <td>0.0</td>\n",
       "      <td>0.0</td>\n",
       "      <td>0.0</td>\n",
       "    </tr>\n",
       "    <tr>\n",
       "      <th>4</th>\n",
       "      <td>98613666</td>\n",
       "      <td>1744117X</td>\n",
       "      <td>2006</td>\n",
       "      <td>2014</td>\n",
       "      <td>1985</td>\n",
       "      <td>2018</td>\n",
       "      <td>2005</td>\n",
       "      <td>2002</td>\n",
       "      <td>10620527</td>\n",
       "      <td>2018</td>\n",
       "      <td>0.0</td>\n",
       "      <td>0.0</td>\n",
       "      <td>0.0</td>\n",
       "      <td>0.0</td>\n",
       "      <td>0.0</td>\n",
       "      <td>0.0</td>\n",
       "      <td>0.0</td>\n",
       "      <td>0.0</td>\n",
       "    </tr>\n",
       "  </tbody>\n",
       "</table>\n",
       "</div>"
      ],
      "text/plain": [
       "   EditorsNewId      issn  start_year  end_year  Eyfp  Eylp  EditorYear0  \\\n",
       "0      98613666  1744117X        2006      2014  1985  2018         2005   \n",
       "1      98613666  1744117X        2006      2014  1985  2018         2005   \n",
       "2      98613666  1744117X        2006      2014  1985  2018         2005   \n",
       "3      98613666  1744117X        2006      2014  1985  2018         2005   \n",
       "4      98613666  1744117X        2006      2014  1985  2018         2005   \n",
       "\n",
       "   AuthorYear0  AuthorsNewId  Aylp  AutCiteCount  EdiCiteCount  AutPubCount  \\\n",
       "0         2002        475198  2011           0.0           0.0          0.0   \n",
       "1         2002       3985085  2009           0.0           0.0          0.0   \n",
       "2         2002       6714563  2018           0.0           0.0          0.0   \n",
       "3         2002       7385460  2018           0.0           0.0          0.0   \n",
       "4         2002      10620527  2018           0.0           0.0          0.0   \n",
       "\n",
       "   EdiPubCount  AutCitePrior  EdiCitePrior  AutPubPrior  EdiPubPrior  \n",
       "0          0.0           0.0           0.0          0.0          0.0  \n",
       "1          0.0           0.0           0.0          0.0          0.0  \n",
       "2          0.0           0.0           0.0          0.0          0.0  \n",
       "3          0.0           0.0           0.0          0.0          0.0  \n",
       "4          0.0           0.0           0.0          0.0          0.0  "
      ]
     },
     "execution_count": 26,
     "metadata": {},
     "output_type": "execute_result"
    }
   ],
   "source": [
    "matchedCount.head()"
   ]
  },
  {
   "cell_type": "code",
   "execution_count": 27,
   "metadata": {},
   "outputs": [],
   "source": [
    "def addOne(df, outcome, typ):\n",
    "    # avoid divide by 0, does not affect outcome\n",
    "    edi = 'Edi'+outcome+typ\n",
    "    aut = 'Aut'+outcome+typ\n",
    "    df = df.assign(Ec=df.apply(lambda row: row[edi]+1 if row[edi] == 0 else row[edi], axis=1))\n",
    "    df = df.assign(Ac=df.apply(lambda row: row[aut]+1 if row[edi] == 0 else row[aut], axis=1))\n",
    "    \n",
    "    return df\n",
    "    \n",
    "def _filterMatched(matched, threshold):\n",
    "\n",
    "    matched['diff'] = matched.apply(lambda row: abs(row['Ec']-row['Ac'])/row['Ec'], axis=1)\n",
    "    filtered = matched[(matched['diff'] <= threshold)]\n",
    "    matched = filtered.drop(['diff','Ac','Ec'], axis=1)\n",
    "    \n",
    "    return matched\n",
    "    \n",
    "def filterMatched(matched, outcome, threshold):\n",
    "    \n",
    "    matched = addOne(matched, outcome, 'Prior')\n",
    "    print(matched.shape)\n",
    "    \n",
    "    matched = _filterMatched(matched, threshold)\n",
    "    \n",
    "    print(matched.shape)\n",
    "    \n",
    "    matched = addOne(matched, outcome, 'Count')\n",
    "    print(matched.shape)\n",
    "    \n",
    "    matched = _filterMatched(matched, threshold)\n",
    "    print(matched.shape)\n",
    "\n",
    "    return matched"
   ]
  },
  {
   "cell_type": "code",
   "execution_count": 28,
   "metadata": {},
   "outputs": [
    {
     "name": "stdout",
     "output_type": "stream",
     "text": [
      "(315698, 20)\n",
      "(228140, 18)\n",
      "(228140, 20)\n",
      "(228066, 18)\n",
      "CPU times: user 16.2 s, sys: 796 ms, total: 17 s\n",
      "Wall time: 17.1 s\n"
     ]
    }
   ],
   "source": [
    "%%time\n",
    "citeMatched = filterMatched(matchedCount, 'Cite', 0.1)"
   ]
  },
  {
   "cell_type": "code",
   "execution_count": 29,
   "metadata": {},
   "outputs": [
    {
     "name": "stdout",
     "output_type": "stream",
     "text": [
      "(315698, 20)\n",
      "(274699, 18)\n",
      "(274699, 20)\n",
      "(274688, 18)\n",
      "CPU times: user 17.6 s, sys: 767 ms, total: 18.4 s\n",
      "Wall time: 18.5 s\n"
     ]
    }
   ],
   "source": [
    "%%time\n",
    "pubMatched = filterMatched(matchedCount, 'Pub', 0.1)"
   ]
  },
  {
   "cell_type": "code",
   "execution_count": null,
   "metadata": {},
   "outputs": [],
   "source": []
  }
 ],
 "metadata": {
  "kernelspec": {
   "display_name": "Python 3",
   "language": "python",
   "name": "python3"
  },
  "language_info": {
   "codemirror_mode": {
    "name": "ipython",
    "version": 3
   },
   "file_extension": ".py",
   "mimetype": "text/x-python",
   "name": "python",
   "nbconvert_exporter": "python",
   "pygments_lexer": "ipython3",
   "version": "3.8.5"
  }
 },
 "nbformat": 4,
 "nbformat_minor": 4
}
