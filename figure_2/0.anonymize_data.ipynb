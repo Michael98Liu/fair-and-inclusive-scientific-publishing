{
 "cells": [
  {
   "cell_type": "markdown",
   "metadata": {},
   "source": [
    "# Data anonymization\n",
    "To replace issn and identifier for editors with sequential numbers."
   ]
  },
  {
   "cell_type": "code",
   "execution_count": 11,
   "metadata": {},
   "outputs": [],
   "source": [
    "import sys\n",
    "sys.path.insert(1, '../src')\n",
    "from utils import getBad\n",
    "\n",
    "import pandas as pd"
   ]
  },
  {
   "cell_type": "code",
   "execution_count": 12,
   "metadata": {},
   "outputs": [],
   "source": [
    "def anonymize(df):\n",
    "    print(df.shape, end=' ')\n",
    "    df = df.merge(editorMap, on='NewAuthorId').drop('NewAuthorId',axis=1)\n",
    "    df = df.merge(issnMap, on='issn').drop('issn',axis=1)\n",
    "    \n",
    "    print(df.shape)\n",
    "    return df"
   ]
  },
  {
   "cell_type": "markdown",
   "metadata": {},
   "source": [
    "## Journals and editors"
   ]
  },
  {
   "cell_type": "code",
   "execution_count": 13,
   "metadata": {},
   "outputs": [
    {
     "data": {
      "text/plain": [
       "(19741, 4)"
      ]
     },
     "execution_count": 13,
     "metadata": {},
     "output_type": "execute_result"
    }
   ],
   "source": [
    "editors = pd.read_csv(\"/scratch/fl1092/capstone/elsevier/editors.csv\", sep='\\t',\n",
    "                     usecols=[\"NewAuthorId\", \"issn\", \"start_year\", \"end_year\"],\n",
    "                     dtype={\"NewAuthorId\":int, \"issn\":str, \"start_year\":int, \"end_year\":int})\n",
    "editors.shape"
   ]
  },
  {
   "cell_type": "code",
   "execution_count": 14,
   "metadata": {},
   "outputs": [],
   "source": [
    "editorMap = editors[['NewAuthorId']].drop_duplicates().reset_index().rename(columns={'index':'EditorId'})"
   ]
  },
  {
   "cell_type": "code",
   "execution_count": 15,
   "metadata": {},
   "outputs": [],
   "source": [
    "issnMap = editors[['issn']].drop_duplicates().reset_index().rename(columns={'index':'IssnId'})"
   ]
  },
  {
   "cell_type": "code",
   "execution_count": 16,
   "metadata": {},
   "outputs": [],
   "source": [
    "editorMap.to_csv('/scratch/fl1092/capstone/anonymize/EditorMap.csv',sep='\\t',index=False)"
   ]
  },
  {
   "cell_type": "code",
   "execution_count": 17,
   "metadata": {},
   "outputs": [],
   "source": [
    "issnMap.to_csv('/scratch/fl1092/capstone/anonymize/IssnMap.csv',sep='\\t',index=False)"
   ]
  },
  {
   "cell_type": "markdown",
   "metadata": {},
   "source": [
    "## In-journal publication count\n",
    "\n",
    "The average number of papers an editor publishes in his/her journal before/after he/she becomes an editor. For more details on how this data is calculated, see notebook `1.calculate_avg_publications.ipynb`."
   ]
  },
  {
   "cell_type": "code",
   "execution_count": 18,
   "metadata": {},
   "outputs": [
    {
     "data": {
      "text/plain": [
       "(9971, 4)"
      ]
     },
     "execution_count": 18,
     "metadata": {},
     "output_type": "execute_result"
    }
   ],
   "source": [
    "jpub_count = pd.read_csv('/scratch/fl1092/capstone/temp/tempEditorJournalPub.csv', sep='\\t',\n",
    "                    usecols=['NewAuthorId','issn','BeAvg','AfAvg'],\n",
    "                    dtype={'NewAuthorId':int,'issn':str,'BeAvg':float,'AfAvg':float})\n",
    "jpub_count.shape"
   ]
  },
  {
   "cell_type": "code",
   "execution_count": 19,
   "metadata": {},
   "outputs": [
    {
     "name": "stdout",
     "output_type": "stream",
     "text": [
      "(9971, 4) (9971, 4)\n"
     ]
    }
   ],
   "source": [
    "jpub_count = anonymize(jpub_count)"
   ]
  },
  {
   "cell_type": "code",
   "execution_count": 20,
   "metadata": {},
   "outputs": [],
   "source": [
    "assert(jpub_count.duplicated(subset=['EditorId','IssnId']).any() == False)"
   ]
  },
  {
   "cell_type": "code",
   "execution_count": 21,
   "metadata": {},
   "outputs": [],
   "source": [
    "jpub_count.to_csv('../data/figure_2/EditorJournalPub.csv',sep='\\t',index=False)"
   ]
  },
  {
   "cell_type": "markdown",
   "metadata": {},
   "source": [
    "## Self citation rate"
   ]
  },
  {
   "cell_type": "code",
   "execution_count": 22,
   "metadata": {},
   "outputs": [
    {
     "data": {
      "text/plain": [
       "(9971, 4)"
      ]
     },
     "execution_count": 22,
     "metadata": {},
     "output_type": "execute_result"
    }
   ],
   "source": [
    "sc_count = pd.read_csv('/scratch/fl1092/capstone/plot/EditorSelfCitationPercent.csv',sep='\\t',\n",
    "                      usecols=['NewAuthorId','issn','AfterSCPercent','BeforeSCPercent'],\n",
    "                      dtype={'NewAuthorId':int,'issn':str,'BeforeSCPercent':float,'AfterSCPercent':float})\n",
    "sc_count.shape"
   ]
  },
  {
   "cell_type": "code",
   "execution_count": 23,
   "metadata": {},
   "outputs": [
    {
     "name": "stdout",
     "output_type": "stream",
     "text": [
      "(9971, 4) (9971, 4)\n"
     ]
    }
   ],
   "source": [
    "sc_count = anonymize(sc_count)"
   ]
  },
  {
   "cell_type": "code",
   "execution_count": 24,
   "metadata": {},
   "outputs": [],
   "source": [
    "sc_count.to_csv('../data/figure_2/EditorSelfCitationPercent.csv',sep='\\t',index=False)"
   ]
  },
  {
   "cell_type": "markdown",
   "metadata": {},
   "source": [
    "## Normal, suspicous, and questionable editors"
   ]
  },
  {
   "cell_type": "code",
   "execution_count": 25,
   "metadata": {},
   "outputs": [
    {
     "data": {
      "text/plain": [
       "(9971, 4)"
      ]
     },
     "execution_count": 25,
     "metadata": {},
     "output_type": "execute_result"
    }
   ],
   "source": [
    "jpub_count = pd.read_csv('/scratch/fl1092/capstone/temp/tempEditorJournalPub.csv', sep='\\t',\n",
    "                    usecols=['NewAuthorId','issn','BeAvg','AfAvg'],\n",
    "                    dtype={'NewAuthorId':int,'issn':str,'BeAvg':float,'AfAvg':float})\n",
    "jpub_count.shape"
   ]
  },
  {
   "cell_type": "code",
   "execution_count": 26,
   "metadata": {},
   "outputs": [
    {
     "name": "stdout",
     "output_type": "stream",
     "text": [
      "# Aq: 1, Bq 2, As: 2, Bs: 3 |  questionable: 6.48%,suspicious: 1.53%\n",
      "(9325, 2) (646, 2) (153, 2)\n"
     ]
    }
   ],
   "source": [
    "param = [1, 2, 2, 3]\n",
    "\n",
    "normal, questionable, bad_apples = getBad(*param, jpub_count)\n",
    "\n",
    "normal = normal[['NewAuthorId','issn']].drop_duplicates()\n",
    "bad_apples = bad_apples[['NewAuthorId','issn']].drop_duplicates()\n",
    "questionable = questionable[['NewAuthorId','issn']].drop_duplicates()\n",
    "\n",
    "print(normal.shape, questionable.shape, bad_apples.shape, )"
   ]
  },
  {
   "cell_type": "code",
   "execution_count": 27,
   "metadata": {},
   "outputs": [
    {
     "name": "stdout",
     "output_type": "stream",
     "text": [
      "(9325, 2) (9325, 2)\n",
      "(646, 2) (646, 2)\n",
      "(153, 2) (153, 2)\n"
     ]
    }
   ],
   "source": [
    "normal = anonymize(normal)\n",
    "questionable = anonymize(questionable)\n",
    "bad_apples = anonymize(bad_apples)"
   ]
  },
  {
   "cell_type": "code",
   "execution_count": 28,
   "metadata": {},
   "outputs": [],
   "source": [
    "normal.to_csv('../data/figure_2/NormalEditors.csv',sep='\\t',index=False)\n",
    "questionable.to_csv('../data/figure_2/QuestionableEditors.csv',sep='\\t',index=False)\n",
    "bad_apples.to_csv('../data/figure_2/SuspiciousEditors.csv',sep='\\t',index=False)"
   ]
  },
  {
   "cell_type": "markdown",
   "metadata": {},
   "source": [
    "## Editors in chief"
   ]
  },
  {
   "cell_type": "code",
   "execution_count": 29,
   "metadata": {},
   "outputs": [
    {
     "data": {
      "text/plain": [
       "(1665, 4)"
      ]
     },
     "execution_count": 29,
     "metadata": {},
     "output_type": "execute_result"
    }
   ],
   "source": [
    "chief_editors = pd.read_csv('/scratch/fl1092/capstone/elsevier/EditorsInChief.csv',sep='\\t',\n",
    "                           dtype={'NewAuthorId':int,'issn':str,'chief_start':int,'chief_end':int})\n",
    "chief_editors.shape"
   ]
  },
  {
   "cell_type": "code",
   "execution_count": 30,
   "metadata": {},
   "outputs": [
    {
     "name": "stdout",
     "output_type": "stream",
     "text": [
      "(1665, 4) (1665, 4)\n"
     ]
    }
   ],
   "source": [
    "chief_editors = anonymize(chief_editors)"
   ]
  },
  {
   "cell_type": "code",
   "execution_count": 31,
   "metadata": {},
   "outputs": [],
   "source": [
    "chief_editors.to_csv(\"../data/figure_2/EditorsInChief.csv\",sep='\\t')"
   ]
  },
  {
   "cell_type": "markdown",
   "metadata": {},
   "source": [
    "## Journal self-citation count"
   ]
  },
  {
   "cell_type": "code",
   "execution_count": 32,
   "metadata": {},
   "outputs": [
    {
     "name": "stdout",
     "output_type": "stream",
     "text": [
      "(51206, 3) (59855, 3)\n",
      "(59855, 5)\n"
     ]
    }
   ],
   "source": [
    "self_count = pd.read_csv('/scratch/fl1092/capstone/temp/JournalSelfCitationCount.csv',sep='\\t',\n",
    "                            usecols=['issn', 'Year', 'Count'],\n",
    "                            dtype={'issn':str, 'Year':int, 'Count':int})\n",
    "\n",
    "all_count = pd.read_csv('/scratch/fl1092/capstone/temp/JournalAllCitationCount.csv',sep='\\t',\n",
    "                            usecols=['issn', 'Year', 'Count'],\n",
    "                            dtype={'issn':str, 'Year':int, 'Count':int}).rename(columns={'Count':'All'})\n",
    "print(self_count.shape, all_count.shape)\n",
    "\n",
    "all_count = all_count.merge(self_count, on=['issn','Year'], how='left').fillna(0)\n",
    "all_count = all_count.assign(percent = all_count.Count/all_count.All)\n",
    "\n",
    "assert( (all_count.percent <= 1).all() )\n",
    "print(all_count.shape)\n",
    "# (51206, 3) (59855, 3)\n",
    "# (59855, 5)"
   ]
  },
  {
   "cell_type": "code",
   "execution_count": 33,
   "metadata": {},
   "outputs": [],
   "source": [
    "all_count = all_count.merge(issnMap, on='issn').drop('issn',axis=1)"
   ]
  },
  {
   "cell_type": "code",
   "execution_count": 34,
   "metadata": {},
   "outputs": [],
   "source": [
    "all_count.to_csv('../data/figure_2/JournalSelfCitationCount.csv',sep='\\t',index=False)"
   ]
  },
  {
   "cell_type": "markdown",
   "metadata": {},
   "source": [
    "## Matching\n",
    "\n",
    "For more information on hw"
   ]
  },
  {
   "cell_type": "code",
   "execution_count": 2,
   "metadata": {},
   "outputs": [],
   "source": [
    "import helper\n",
    "import matcher\n",
    "import getpub\n",
    "import plotter"
   ]
  },
  {
   "cell_type": "code",
   "execution_count": 3,
   "metadata": {},
   "outputs": [],
   "source": [
    "def getLine(typ):\n",
    "\n",
    "    L = helper.Loader(dir_name=\"/scratch/fl1092/capstone/matching/dummy/\")\n",
    "    L.load_field()\n",
    "    M = matcher.Matcher(L, matched = pd.DataFrame(columns=[\"EditorsNewId\",\"issn\"]))\n",
    "    M.groups=None\n",
    "    G = getpub.GetPub(L, M, typ)\n",
    "    G.load_lines()\n",
    "    \n",
    "    return G"
   ]
  },
  {
   "cell_type": "code",
   "execution_count": 6,
   "metadata": {},
   "outputs": [],
   "source": [
    "def calcAvg(df):\n",
    "    editors = df[['EditorsNewId','issn','EditorYear','EdiCount']].drop_duplicates()\n",
    "    authors = df.groupby(['EditorsNewId','issn','EditorYear']).AutCount.mean().reset_index()\n",
    "    assert(editors.shape[0] == authors.shape[0])\n",
    "    \n",
    "    pairs = editors.merge(authors, on=['EditorsNewId','issn','EditorYear'])\n",
    "    \n",
    "    return pairs"
   ]
  },
  {
   "cell_type": "code",
   "execution_count": 4,
   "metadata": {},
   "outputs": [
    {
     "name": "stdout",
     "output_type": "stream",
     "text": [
      "/scratch/fl1092/capstone/matching/dummy/ exists\n",
      "Done initializing\n",
      "fields shape: (127684835, 2)\n",
      "(0, 2) 0 (0, 2) \n",
      "/scratch/fl1092/capstone/matching/jpub_figure2/ exists\n",
      "/scratch/fl1092/capstone/matching/dummy/ exists\n",
      "Done initializing\n",
      "fields shape: (127684835, 2)\n",
      "(0, 2) 0 (0, 2) \n",
      "/scratch/fl1092/capstone/matching/jcite_figure2/ exists\n",
      "CPU times: user 1min 5s, sys: 15.1 s, total: 1min 20s\n",
      "Wall time: 1min 21s\n"
     ]
    }
   ],
   "source": [
    "%%time\n",
    "pubG = getLine('jpub_figure2')\n",
    "citeG = getLine('jcite_figure2')"
   ]
  },
  {
   "cell_type": "code",
   "execution_count": 7,
   "metadata": {},
   "outputs": [],
   "source": [
    "pubG.n_count = calcAvg(pubG.n_count)\n",
    "pubG.q_count = calcAvg(pubG.q_count)\n",
    "pubG.s_count = calcAvg(pubG.s_count)\n",
    "\n",
    "citeG.n_count = calcAvg(citeG.n_count)\n",
    "citeG.q_count = calcAvg(citeG.q_count)\n",
    "citeG.s_count = calcAvg(citeG.s_count)"
   ]
  },
  {
   "cell_type": "code",
   "execution_count": 11,
   "metadata": {},
   "outputs": [],
   "source": [
    "pubG.n_count.drop(['EditorsNewId', 'issn'],axis=1).to_csv('../data/figure_2/NormPub.csv',sep='\\t',index=False)\n",
    "pubG.q_count.drop(['EditorsNewId', 'issn'],axis=1).to_csv('../data/figure_2/QuesPub.csv',sep='\\t',index=False)\n",
    "pubG.s_count.drop(['EditorsNewId', 'issn'],axis=1).to_csv('../data/figure_2/SuspPub.csv',sep='\\t',index=False)\n",
    "\n",
    "citeG.n_count.drop(['EditorsNewId', 'issn'],axis=1).to_csv('../data/figure_2/NormCite.csv',sep='\\t',index=False)\n",
    "citeG.q_count.drop(['EditorsNewId', 'issn'],axis=1).to_csv('../data/figure_2/QuesCite.csv',sep='\\t',index=False)\n",
    "citeG.s_count.drop(['EditorsNewId', 'issn'],axis=1).to_csv('../data/figure_2/SuspCite.csv',sep='\\t',index=False)"
   ]
  },
  {
   "cell_type": "code",
   "execution_count": null,
   "metadata": {},
   "outputs": [],
   "source": []
  }
 ],
 "metadata": {
  "kernelspec": {
   "display_name": "Python 3",
   "language": "python",
   "name": "python3"
  },
  "language_info": {
   "codemirror_mode": {
    "name": "ipython",
    "version": 3
   },
   "file_extension": ".py",
   "mimetype": "text/x-python",
   "name": "python",
   "nbconvert_exporter": "python",
   "pygments_lexer": "ipython3",
   "version": "3.8.5"
  }
 },
 "nbformat": 4,
 "nbformat_minor": 4
}
