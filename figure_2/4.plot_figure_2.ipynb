{
 "cells": [
  {
   "cell_type": "markdown",
   "metadata": {},
   "source": [
    "# Plot figure 2"
   ]
  },
  {
   "cell_type": "code",
   "execution_count": 1,
   "metadata": {},
   "outputs": [],
   "source": [
    "import sys\n",
    "sys.path.insert(1, '../src')\n",
    "from utils import getBad\n",
    "\n",
    "import pandas as pd\n",
    "import numpy as np\n",
    "import scipy.stats\n",
    "from matplotlib import pyplot as plt\n",
    "import matplotlib.gridspec as gridspec\n",
    "import matplotlib\n",
    "\n",
    "matplotlib.rcParams['pdf.fonttype'] = 42\n",
    "matplotlib.rcParams['ps.fonttype'] = 42\n",
    "matplotlib.rcParams['grid.linewidth'] = 0.5\n",
    "matplotlib.rcParams['axes.linewidth'] = 0.5\n",
    "plt.rcParams[\"font.size\"] = 7"
   ]
  },
  {
   "cell_type": "code",
   "execution_count": 2,
   "metadata": {},
   "outputs": [],
   "source": [
    "colors = {'normal': '#4daf4a', 'bad': '#e41a1c', 'q': '#f9ba17'}"
   ]
  },
  {
   "cell_type": "code",
   "execution_count": 3,
   "metadata": {},
   "outputs": [
    {
     "data": {
      "text/plain": [
       "(9971, 4)"
      ]
     },
     "execution_count": 3,
     "metadata": {},
     "output_type": "execute_result"
    }
   ],
   "source": [
    "jpub_count = pd.read_csv('../data/figure_2/EditorJournalPub.csv', sep='\\t',\n",
    "                    usecols=['EditorId','IssnId','BeAvg','AfAvg'],\n",
    "                    dtype={'EditorId':int,'IssnId':int,'BeAvg':float,'AfAvg':float})\n",
    "jpub_count.shape"
   ]
  },
  {
   "cell_type": "code",
   "execution_count": 4,
   "metadata": {},
   "outputs": [
    {
     "data": {
      "text/plain": [
       "((9325, 2), (646, 2), (153, 2))"
      ]
     },
     "execution_count": 4,
     "metadata": {},
     "output_type": "execute_result"
    }
   ],
   "source": [
    "normal = pd.read_csv('../data/figure_2/NormalEditors.csv',sep='\\t',dtype={'EditorId':int,'IssnId':int})\n",
    "questionable = pd.read_csv('../data/figure_2/QuestionableEditors.csv',sep='\\t',dtype={'EditorId':int,'IssnId':int})\n",
    "bad_apples = pd.read_csv('../data/figure_2/SuspiciousEditors.csv',sep='\\t',dtype={'EditorId':int,'IssnId':int})\n",
    "\n",
    "normal.shape, questionable.shape, bad_apples.shape"
   ]
  },
  {
   "cell_type": "code",
   "execution_count": 5,
   "metadata": {},
   "outputs": [
    {
     "data": {
      "text/html": [
       "<div>\n",
       "<style scoped>\n",
       "    .dataframe tbody tr th:only-of-type {\n",
       "        vertical-align: middle;\n",
       "    }\n",
       "\n",
       "    .dataframe tbody tr th {\n",
       "        vertical-align: top;\n",
       "    }\n",
       "\n",
       "    .dataframe thead th {\n",
       "        text-align: right;\n",
       "    }\n",
       "</style>\n",
       "<table border=\"1\" class=\"dataframe\">\n",
       "  <thead>\n",
       "    <tr style=\"text-align: right;\">\n",
       "      <th></th>\n",
       "      <th>BeAvg</th>\n",
       "      <th>AfAvg</th>\n",
       "      <th>EditorId</th>\n",
       "      <th>IssnId</th>\n",
       "    </tr>\n",
       "  </thead>\n",
       "  <tbody>\n",
       "    <tr>\n",
       "      <th>0</th>\n",
       "      <td>0.700000</td>\n",
       "      <td>0.6</td>\n",
       "      <td>8</td>\n",
       "      <td>8</td>\n",
       "    </tr>\n",
       "    <tr>\n",
       "      <th>1</th>\n",
       "      <td>0.571429</td>\n",
       "      <td>0.1</td>\n",
       "      <td>162</td>\n",
       "      <td>8</td>\n",
       "    </tr>\n",
       "    <tr>\n",
       "      <th>2</th>\n",
       "      <td>0.100000</td>\n",
       "      <td>0.1</td>\n",
       "      <td>391</td>\n",
       "      <td>8</td>\n",
       "    </tr>\n",
       "    <tr>\n",
       "      <th>3</th>\n",
       "      <td>0.600000</td>\n",
       "      <td>0.7</td>\n",
       "      <td>751</td>\n",
       "      <td>8</td>\n",
       "    </tr>\n",
       "    <tr>\n",
       "      <th>4</th>\n",
       "      <td>0.333333</td>\n",
       "      <td>0.3</td>\n",
       "      <td>1013</td>\n",
       "      <td>8</td>\n",
       "    </tr>\n",
       "  </tbody>\n",
       "</table>\n",
       "</div>"
      ],
      "text/plain": [
       "      BeAvg  AfAvg  EditorId  IssnId\n",
       "0  0.700000    0.6         8       8\n",
       "1  0.571429    0.1       162       8\n",
       "2  0.100000    0.1       391       8\n",
       "3  0.600000    0.7       751       8\n",
       "4  0.333333    0.3      1013       8"
      ]
     },
     "execution_count": 5,
     "metadata": {},
     "output_type": "execute_result"
    }
   ],
   "source": [
    "jpub_count.head()"
   ]
  },
  {
   "cell_type": "markdown",
   "metadata": {},
   "source": [
    "## a"
   ]
  },
  {
   "cell_type": "code",
   "execution_count": 6,
   "metadata": {},
   "outputs": [
    {
     "name": "stdout",
     "output_type": "stream",
     "text": [
      "(9971, 4)\n",
      "(9325, 6) (646, 6) (153, 6)\n"
     ]
    }
   ],
   "source": [
    "print(jpub_count.shape)\n",
    "\n",
    "to_plot= jpub_count.assign(Before_log = jpub_count.BeAvg.apply(np.log10))\n",
    "to_plot= to_plot.assign(After_log = to_plot.AfAvg.apply(np.log10))\n",
    "\n",
    "# for the 0 values, place them at -1.2 and -1.1 on the figure resplectively\n",
    "to_plot = to_plot.assign(Before_log = to_plot.Before_log.apply(lambda x: -1.1 if x == -np.inf else x))\n",
    "to_plot = to_plot.assign(After_log = to_plot.After_log.apply(lambda x: -1.2 if x == -np.inf else x))\n",
    "\n",
    "scatter_q = questionable.merge(to_plot, on=['EditorId','IssnId'])\n",
    "scatter_normal = normal.merge(to_plot, on=['EditorId','IssnId'])\n",
    "scatter_bad = bad_apples.merge(to_plot, on=['EditorId','IssnId'])\n",
    "\n",
    "print(scatter_normal.shape, scatter_q.shape, scatter_bad.shape)"
   ]
  },
  {
   "cell_type": "code",
   "execution_count": 7,
   "metadata": {},
   "outputs": [
    {
     "name": "stdout",
     "output_type": "stream",
     "text": [
      "[-1.1, -1.0, -0.6989700043360187, -0.3010299956639812, 0.0, 0.3010299956639812, 0.6989700043360189, 1.0]\n",
      "CPU times: user 404 ms, sys: 20.1 ms, total: 424 ms\n",
      "Wall time: 523 ms\n"
     ]
    },
    {
     "data": {
      "image/png": "[encoded data removed]",
      "text/plain": [
       "<Figure size 368.504x170.079 with 1 Axes>"
      ]
     },
     "metadata": {
      "needs_background": "light"
     },
     "output_type": "display_data"
    }
   ],
   "source": [
    "%%time\n",
    "cm = 1/2.54  # centimeters in inches\n",
    "plt.figure(figsize=(13*cm, 6*cm))\n",
    "\n",
    "ax = plt.gca()\n",
    "\n",
    "ax.scatter(x=scatter_normal.Before_log, y=scatter_normal.After_log, c=colors['normal'],\n",
    "           label = 'Normal editors', s=2)\n",
    "ax.scatter(x=scatter_q.Before_log, y=scatter_q.After_log, c=colors['q'],\n",
    "           label = 'Questionable editors', s=2)\n",
    "ax.scatter(x=scatter_bad.Before_log, y=scatter_bad.After_log, c=colors['bad'],\n",
    "           label = 'Suspicious editors', s=2)\n",
    "ax.set_xlabel(r\"No. papers per year in journal before joining as editor\") #$\\bf{before}$\n",
    "ax.set_ylabel(\"No. papers per year in journal\\n\" + r\"after joining as editor\") # $\\bf{after}$\n",
    "\n",
    "xlabels = ['0']\n",
    "xlabels.extend([0.1, 0.2, 0.5, 1, 2, 5, 10])\n",
    "xticks = [-1.1]\n",
    "xticks.extend(np.log10(x) for x in [0.1, 0.2, 0.5, 1, 2, 5, 10])\n",
    "ax.set_xticks(xticks)\n",
    "ax.set_xticklabels(xlabels)\n",
    "ax.set_xlim(-1.15, 1.1)\n",
    "\n",
    "print(xticks)\n",
    "\n",
    "ylabels = ['0']\n",
    "ylabels.extend([0.1, 1, 10])\n",
    "yticks = [-1.2]\n",
    "yticks.extend(np.log10(x) for x in [0.1, 1, 10])\n",
    "ax.set_yticks(yticks)\n",
    "ax.set_yticklabels(ylabels)\n",
    "ax.set_ylim(-1.3, 1.1)\n",
    "ax.spines['right'].set_visible(False)\n",
    "ax.spines['top'].set_visible(False)\n",
    "\n",
    "# ax.legend(loc='lower right')\n",
    "\n",
    "plt.savefig(\"../figures/fig_2_a.pdf\", bbox_inches = 'tight', pad_inches = 0)"
   ]
  },
  {
   "cell_type": "markdown",
   "metadata": {},
   "source": [
    "## b"
   ]
  },
  {
   "cell_type": "code",
   "execution_count": 8,
   "metadata": {},
   "outputs": [],
   "source": [
    "def mean_confidence_interval(a, conf=0.95):\n",
    "    mean, sem, m = np.mean(a), scipy.stats.sem(a), scipy.stats.t.ppf((1+conf)/2., len(a)-1)\n",
    "    return m*sem"
   ]
  },
  {
   "cell_type": "code",
   "execution_count": 9,
   "metadata": {},
   "outputs": [],
   "source": [
    "def plotPvalue(ax, x, y, pVal, ytop, lw=0.5, c='black'):\n",
    "    # x: [x0, x1]\n",
    "    # y: [y0, y1]\n",
    "    \n",
    "    height = max(y[0], y[1])\n",
    "    gap = ytop * 0.05\n",
    "    vlength = ytop * 0.15\n",
    "    \n",
    "    yPos = height + gap + vlength\n",
    "    ax.hlines(yPos, x[0], x[1], color=c, lw=lw)\n",
    "    ax.vlines(x[0], y[0] + gap, yPos, color=c, lw=lw)\n",
    "    ax.vlines(x[1], y[1] + gap, yPos, color=c, lw=lw)\n",
    "    \n",
    "    stars = '***' if pVal < 0.001 else '**' if pVal < 0.01 else '*' if pVal < 0.05 else f'p={round(pVal, 2)}'\n",
    "    offset = 0.01 if pVal < 0.05 else 0.04\n",
    "    \n",
    "    ax.text((x[0] + x[1])/2, yPos + offset*ytop, stars, ha='center', color=c)\n",
    "    \n",
    "    return yPos"
   ]
  },
  {
   "cell_type": "code",
   "execution_count": 10,
   "metadata": {},
   "outputs": [],
   "source": [
    "def plotBar(ax, dfs, col='AfterSCPercent', showP = True, delta=0, scale=0.1):\n",
    "    c =['#4daf4a', '#f9ba17', '#e41a1c']\n",
    "    means = [df[col].mean() for df in dfs]\n",
    "    errs = [mean_confidence_interval(df[col].values) for df in dfs]\n",
    "    \n",
    "    if showP:\n",
    "        pVal = scipy.stats.ttest_ind(dfs[0][col], dfs[1][col]).pvalue\n",
    "        mid = plotPvalue(ax, [1, 2], [means[0]+errs[0], means[1]+errs[1]], pVal, scale)\n",
    "\n",
    "        pVal = scipy.stats.ttest_ind(dfs[1][col], dfs[2][col]).pvalue\n",
    "        right = plotPvalue(ax, [2, 3], [mid, means[2]+errs[2]], pVal, scale)\n",
    "\n",
    "        pVal = scipy.stats.ttest_ind(dfs[0][col], dfs[2][col]).pvalue\n",
    "        mid = plotPvalue(ax, [1, 3], [mid, right+delta], pVal, scale)\n",
    "    \n",
    "    ax.bar([1, 2, 3], means, yerr=errs, color=c, ecolor=c, alpha=0.5, error_kw={'elinewidth':0.5})\n",
    "    \n",
    "    ax.set_xticks([1, 2, 3])\n",
    "    ax.set_xticklabels(['Normal', 'Questionable', 'Suspicious'], rotation=45, ha='center')\n",
    "    \n",
    "    labels = ax.get_xticklabels()\n",
    "    for ind in range(3):\n",
    "        labels[ind].set_color(c[ind])"
   ]
  },
  {
   "cell_type": "code",
   "execution_count": 11,
   "metadata": {},
   "outputs": [
    {
     "name": "stdout",
     "output_type": "stream",
     "text": [
      "(9971, 4)\n",
      "(9325, 2) (646, 2) (153, 2)\n"
     ]
    }
   ],
   "source": [
    "sc_count = pd.read_csv('../data/figure_2/EditorSelfCitationPercent.csv',sep='\\t',\n",
    "                      usecols=['EditorId','IssnId','AfterSCPercent','BeforeSCPercent'],\n",
    "                      dtype={'EditorId':int,'IssnId':int,'BeforeSCPercent':float,'AfterSCPercent':float})\n",
    "print(sc_count.shape)\n",
    "\n",
    "print(normal.shape, questionable.shape, bad_apples.shape)\n",
    "\n",
    "normal_sc = sc_count.merge(normal, on=['EditorId','IssnId']).assign(Type='normal\\neditors')\n",
    "q_sc = sc_count.merge(questionable, on=['EditorId','IssnId']).assign(Type='questionable\\neditors')\n",
    "bad_sc = sc_count.merge(bad_apples, on=['EditorId','IssnId']).assign(Type='suspicious\\neditors')"
   ]
  },
  {
   "cell_type": "code",
   "execution_count": 12,
   "metadata": {},
   "outputs": [
    {
     "name": "stdout",
     "output_type": "stream",
     "text": [
      "CPU times: user 138 ms, sys: 3.04 ms, total: 141 ms\n",
      "Wall time: 143 ms\n"
     ]
    },
    {
     "data": {
      "image/png": "[encoded data removed]",
      "text/plain": [
       "<Figure size 70.8661x170.079 with 1 Axes>"
      ]
     },
     "metadata": {},
     "output_type": "display_data"
    }
   ],
   "source": [
    "%%time\n",
    "cm = 1/2.54  # centimeters in inches\n",
    "plt.figure(figsize=(2.5*cm, 6*cm))\n",
    "plt.rcParams.update({'font.size': 7})\n",
    "\n",
    "ax = plt.gca()\n",
    "plotBar(ax, [normal_sc, q_sc, bad_sc], delta=0.01)\n",
    "ax.spines['right'].set_visible(False)\n",
    "ax.spines['top'].set_visible(False)\n",
    "ax.spines['bottom'].set_visible(False)\n",
    "ax.set_ylabel('Percentage of editor self-citations')\n",
    "ax.set_ylim(0, 0.23)\n",
    "ax.set_yticks([0, 0.05, 0.1, 0.15,0.2])\n",
    "ax.set_yticklabels([\"0\", \"5\", \"10\", \"15\", \"20\"])\n",
    "\n",
    "ax.tick_params(axis='x', length=0)\n",
    "\n",
    "plt.savefig(\"../figures/fig_2_b.pdf\",bbox_inches = 'tight', pad_inches = 0)"
   ]
  },
  {
   "cell_type": "markdown",
   "metadata": {},
   "source": [
    "## c"
   ]
  },
  {
   "cell_type": "code",
   "execution_count": 13,
   "metadata": {},
   "outputs": [],
   "source": [
    "bad_apples = bad_apples.assign(s=1)\n",
    "questionable = questionable.assign(q=1)"
   ]
  },
  {
   "cell_type": "code",
   "execution_count": 14,
   "metadata": {},
   "outputs": [
    {
     "name": "stdout",
     "output_type": "stream",
     "text": [
      "(1665, 5)\n"
     ]
    },
    {
     "data": {
      "text/plain": [
       "(1665, 7)"
      ]
     },
     "execution_count": 14,
     "metadata": {},
     "output_type": "execute_result"
    }
   ],
   "source": [
    "chief_editors = pd.read_csv('../data/figure_2/EditorsInChief.csv',sep='\\t',\n",
    "                           dtype={'EditorId':int,'IssnId':int,'chief_start':int,'chief_end':int})\n",
    "print(chief_editors.shape)\n",
    "\n",
    "chief_editors = chief_editors.merge(bad_apples, on=['EditorId','IssnId'], how='left')\n",
    "chief_editors = chief_editors.merge(questionable, on=['EditorId','IssnId'], how='left').fillna(0)\n",
    "\n",
    "chief_editors.shape"
   ]
  },
  {
   "cell_type": "code",
   "execution_count": 15,
   "metadata": {},
   "outputs": [],
   "source": [
    "all_count = pd.read_csv('../data/figure_2/JournalSelfCitationCount.csv',sep='\\t')"
   ]
  },
  {
   "cell_type": "code",
   "execution_count": 16,
   "metadata": {},
   "outputs": [
    {
     "data": {
      "text/plain": [
       "(8016, 6)"
      ]
     },
     "execution_count": 16,
     "metadata": {},
     "output_type": "execute_result"
    }
   ],
   "source": [
    "full_range = []\n",
    "for year in range(chief_editors.chief_start.min(), chief_editors.chief_end.max()+1):\n",
    "    df = chief_editors[(chief_editors.chief_start <= year) & (chief_editors.chief_end >= year)]\n",
    "    full_range.append( df.drop(['chief_start','chief_end'], axis=1).assign(Year=year) )\n",
    "full_range = pd.concat(full_range, ignore_index=True, sort=False)\n",
    "full_range.shape"
   ]
  },
  {
   "cell_type": "code",
   "execution_count": 17,
   "metadata": {},
   "outputs": [
    {
     "data": {
      "text/plain": [
       "(4739, 5)"
      ]
     },
     "execution_count": 17,
     "metadata": {},
     "output_type": "execute_result"
    }
   ],
   "source": [
    "has_bad = full_range.groupby(['Year','IssnId']).agg({'s':sum, 'q':sum}).reset_index()\n",
    "has_bad = has_bad.assign(s=has_bad.s>0)\n",
    "has_bad = has_bad.assign(q=has_bad.q>0)\n",
    "has_bad = has_bad.assign(n=has_bad.q==0)\n",
    "assert((has_bad.s <= has_bad.q).all())\n",
    "has_bad.shape # (4739, 5)"
   ]
  },
  {
   "cell_type": "code",
   "execution_count": 18,
   "metadata": {},
   "outputs": [
    {
     "name": "stdout",
     "output_type": "stream",
     "text": [
      "(4739, 5) (41525, 5)\n",
      "(4739, 8)\n"
     ]
    }
   ],
   "source": [
    "print(has_bad.shape, all_count.shape)\n",
    "to_plot = has_bad.merge(all_count, on=['IssnId','Year'], how='left').fillna(0) # , how='left'\n",
    "print(to_plot.shape)"
   ]
  },
  {
   "cell_type": "code",
   "execution_count": 19,
   "metadata": {},
   "outputs": [],
   "source": [
    "dfs = [to_plot[to_plot.n==True], to_plot[to_plot.q==True], to_plot[to_plot.s==True]]"
   ]
  },
  {
   "cell_type": "code",
   "execution_count": 20,
   "metadata": {},
   "outputs": [
    {
     "data": {
      "text/plain": [
       "0.17725088303536393"
      ]
     },
     "execution_count": 20,
     "metadata": {},
     "output_type": "execute_result"
    }
   ],
   "source": [
    "dfs[-1]['percent'].mean() + mean_confidence_interval(dfs[-1]['percent'].values) # 0.17725088303536396"
   ]
  },
  {
   "cell_type": "code",
   "execution_count": 21,
   "metadata": {},
   "outputs": [
    {
     "name": "stdout",
     "output_type": "stream",
     "text": [
      "CPU times: user 138 ms, sys: 2.95 ms, total: 141 ms\n",
      "Wall time: 202 ms\n"
     ]
    },
    {
     "data": {
      "image/png": "[encoded data removed]",
      "text/plain": [
       "<Figure size 70.8661x170.079 with 1 Axes>"
      ]
     },
     "metadata": {},
     "output_type": "display_data"
    }
   ],
   "source": [
    "%%time\n",
    "cm = 1/2.54  # centimeters in inches\n",
    "plt.figure(figsize=(2.5*cm, 6*cm))\n",
    "plt.rcParams.update({'font.size': 7})\n",
    "\n",
    "ax = plt.gca()\n",
    "plotBar(ax, dfs, 'percent')\n",
    "ax.spines['right'].set_visible(False)\n",
    "ax.spines['top'].set_visible(False)\n",
    "ax.spines['bottom'].set_visible(False)\n",
    "ax.set_ylabel('Percentage of journal self-citations')\n",
    "ax.set_ylim(0, 0.23)\n",
    "ax.tick_params(axis='x', length=0)\n",
    "ax.set_yticks([0, 0.05, 0.1, 0.15,0.2])\n",
    "ax.set_yticklabels([\"0\", \"5\", \"10\", \"15\", \"20\"])\n",
    "\n",
    "plt.savefig(\"../figures/main_2_journal_self_cite.pdf\",bbox_inches = 'tight', pad_inches = 0)"
   ]
  },
  {
   "cell_type": "markdown",
   "metadata": {},
   "source": [
    "## e, f"
   ]
  },
  {
   "cell_type": "code",
   "execution_count": 22,
   "metadata": {},
   "outputs": [],
   "source": [
    "def plotBars(G, axes=None, ylim=10):\n",
    "    \n",
    "    if axes is None:\n",
    "        ax = plt.subplot(1,3,1)\n",
    "    else:\n",
    "        ax = axes[0]\n",
    "    plotDiff(G['n_count'], ax, 'green')\n",
    "    ax.set_ylim(-ylim*0.1, ylim)\n",
    "    \n",
    "    if axes is None:\n",
    "        ax = plt.subplot(1,3,2)\n",
    "    else:\n",
    "        ax = axes[1]\n",
    "    plotDiff(G['q_count'], ax, 'orange')\n",
    "    ax.set_ylim(-ylim*0.1, ylim)\n",
    "    \n",
    "    if axes is None:\n",
    "        ax = plt.subplot(1,3,3)\n",
    "    else:\n",
    "        ax = axes[2]\n",
    "    plotDiff(G['s_count'], ax, 'red')\n",
    "    ax.set_ylim(-ylim*0.1, ylim)\n",
    "\n",
    "\n",
    "    plt.tight_layout()"
   ]
  },
  {
   "cell_type": "code",
   "execution_count": 23,
   "metadata": {},
   "outputs": [],
   "source": [
    "def ci_diff(sample1, sample2, ci=0.95):\n",
    "\n",
    "    n1, n2 = sample1.size, sample2.size\n",
    "    assert(n1==n2)\n",
    "    s1, s2 = np.std(sample1), np.std(sample2)\n",
    "\n",
    "    sp = np.sqrt(((n1-1)*s1**2 + (n2-1)*s2**2)/(n1+n2-2))\n",
    "    se = sp*np.sqrt(1/n1 + 1/n2)\n",
    "\n",
    "    degrees_freedom = n1+n2-2\n",
    "    sample_mean = np.mean(sample1)-np.mean(sample2)\n",
    "    confidence_interval = scipy.stats.t.interval(ci, degrees_freedom, sample_mean, se)\n",
    "    \n",
    "    try:\n",
    "        assert(round((confidence_interval[0]+confidence_interval[1])/2, 4) == round(sample_mean, 4))\n",
    "    except Exception as e:\n",
    "        print(confidence_interval, sample_mean)\n",
    "\n",
    "    return [abs(x-sample_mean) for x in confidence_interval]"
   ]
  },
  {
   "cell_type": "code",
   "execution_count": 24,
   "metadata": {},
   "outputs": [],
   "source": [
    "def getStars(pvalue):\n",
    "    if pvalue >= 0.05:\n",
    "        stars = ''\n",
    "    elif pvalue < 0.05 and pvalue >= 0.01:\n",
    "        stars = '*'\n",
    "    elif pvalue < 0.01 and pvalue >= 0.001:\n",
    "        stars = '*\\n*'\n",
    "    elif pvalue < 0.001:\n",
    "        stars = '*\\n*\\n*'\n",
    "    else:\n",
    "        stars = ''\n",
    "        # print('pvalue', pvalue)\n",
    "        \n",
    "    return stars\n",
    "    ax.text(row.year+9, mean_diff[ind]+errbar[ind], stars, color='black', ha=\"center\", fontsize=10, linespacing=0.3)"
   ]
  },
  {
   "cell_type": "code",
   "execution_count": 25,
   "metadata": {},
   "outputs": [],
   "source": [
    "def plotDiff(dfToPlot, ax, c):\n",
    "    df = dfToPlot.copy()\n",
    "    df = df.assign(Diff = df.EdiCount - df.AutCount)\n",
    "    df = df.assign(EditorYear=df.EditorYear+1)\n",
    "    \n",
    "    df = df[(df.EditorYear >= -9) & (df.EditorYear <= 10)]\n",
    "    \n",
    "    means = [df[df.EditorYear == year].Diff.mean() for year in range(-9, 11)]\n",
    "    \n",
    "    ### compute confidence intervals for each year ###\n",
    "    ci_lo = []\n",
    "    ci_hi = []\n",
    "    stars = []\n",
    "    \n",
    "    for year in range(-9, 11):\n",
    "        seed_lo = []\n",
    "        seed_hi = []\n",
    "        temp = df[df.EditorYear == year]\n",
    "        \n",
    "        if temp.shape[0] == 0:\n",
    "            lo, hi, star = 0, 0, ''\n",
    "        else:\n",
    "            # print(temp.shape)\n",
    "            pvalue = scipy.stats.ttest_ind(temp.EdiCount, temp.AutCount)[1]\n",
    "            star = getStars(pvalue)\n",
    "            lo, hi = ci_diff(temp.EdiCount, temp.AutCount)\n",
    "        \n",
    "        ci_lo.append(lo)\n",
    "        ci_hi.append(hi)\n",
    "        stars.append(star)\n",
    "        \n",
    "    ci = [ci_lo, ci_hi]\n",
    "    ### compute confidence intervals for each year ###\n",
    "    \n",
    "    ax.bar([year for year in range(-9, 11)], means, yerr = ci, color=c, width=0.7,\n",
    "           ecolor=c, alpha=0.5, linewidth=0.5, edgecolor=c,\n",
    "            error_kw={'elinewidth':0.5})\n",
    "    pprintmean(means)\n",
    "    ### plot stars ###\n",
    "    for year in range(-9, 11):\n",
    "        ind = year + 9\n",
    "        loc = means[ind]+ci_hi[ind] #if means[ind] >= 0 else means[ind]-ci_lo[ind]\n",
    "        ax.text(year, loc, stars[ind], color=c, ha=\"center\", fontsize=7, linespacing=0.3)\n",
    "        \n",
    "    ylim = ax.get_ylim()\n",
    "    ax.set_ylim(ylim[0], ylim[1]*1.2)\n",
    "    \n",
    "    ### plot stars ###\n",
    "    \n",
    "    return means, ci_lo, ci_hi"
   ]
  },
  {
   "cell_type": "code",
   "execution_count": 26,
   "metadata": {},
   "outputs": [],
   "source": [
    "def pprintmean(l):\n",
    "    for ind, x in enumerate(l):\n",
    "        print(round(x, 2), end = ' ')\n",
    "        if ind == 9:\n",
    "            print('\\t', end=' ')\n",
    "    print()"
   ]
  },
  {
   "cell_type": "code",
   "execution_count": 27,
   "metadata": {},
   "outputs": [],
   "source": [
    "pubG = {}\n",
    "pubG['n_count'] = pd.read_csv('../data/figure_2/NormPub.csv',sep='\\t')\n",
    "pubG['q_count'] = pd.read_csv('../data/figure_2/QuesPub.csv',sep='\\t')\n",
    "pubG['s_count'] = pd.read_csv('../data/figure_2/SuspPub.csv',sep='\\t')\n",
    "\n",
    "citeG = {}\n",
    "citeG['n_count'] = pd.read_csv('../data/figure_2/NormCite.csv',sep='\\t')\n",
    "citeG['q_count'] = pd.read_csv('../data/figure_2/QuesCite.csv',sep='\\t')\n",
    "citeG['s_count'] = pd.read_csv('../data/figure_2/SuspCite.csv',sep='\\t')"
   ]
  },
  {
   "cell_type": "code",
   "execution_count": 28,
   "metadata": {},
   "outputs": [
    {
     "name": "stdout",
     "output_type": "stream",
     "text": [
      "-0.03 0.01 -0.01 0.03 0.14 0.06 0.04 0.08 -0.03 0.0 \t 0.97 1.19 1.47 1.54 1.59 1.72 1.83 1.88 2.01 2.29 \n",
      "0.2 -0.09 -0.34 -0.36 -0.24 -0.08 0.29 0.59 0.53 0.0 \t 8.68 10.6 13.21 12.73 16.2 19.5 21.38 20.57 21.85 21.53 \n",
      "0.55 0.4 -0.53 -0.57 -0.44 -0.61 0.57 -0.44 0.97 -0.03 \t 16.5 23.13 25.79 26.01 30.8 42.0 40.34 35.41 38.8 40.4 \n",
      "CPU times: user 686 ms, sys: 35.8 ms, total: 722 ms\n",
      "Wall time: 793 ms\n"
     ]
    },
    {
     "data": {
      "image/png": "[encoded data removed]",
      "text/plain": [
       "<Figure size 255.118x198.425 with 3 Axes>"
      ]
     },
     "metadata": {
      "needs_background": "light"
     },
     "output_type": "display_data"
    }
   ],
   "source": [
    "%%time\n",
    "cm = 1/2.54  # centimeters in inches\n",
    "fig = plt.figure(figsize=(9*cm, 7*cm))\n",
    "plt.rcParams.update({'font.size': 7})\n",
    "\n",
    "spec2 = gridspec.GridSpec(ncols=1, nrows=3, figure=fig, hspace=0)\n",
    "axes = [fig.add_subplot(spec2[0, 0]), fig.add_subplot(spec2[1, 0]), fig.add_subplot(spec2[2, 0])]\n",
    "\n",
    "axes[0].set_xticks([])\n",
    "axes[1].set_xticks([])\n",
    "axes[1].set_ylabel(\"Mean difference between editors and their\\nmatched scientists in terms of the number\\n\"+\n",
    "                   r\"of citations received from the journal\")\n",
    "axes[2].set_xticks([10, -5, 0, 5, 10])\n",
    "\n",
    "for ax in axes:\n",
    "    ax.spines['right'].set_visible(False)\n",
    "    ax.spines['bottom'].set_position('zero')\n",
    "\n",
    "    ax.spines['top'].set_visible(False)\n",
    "    ax.vlines(0.5, -20, 120, color='gray', linestyles='dashed', lw=0.5)\n",
    "\n",
    "plotBars(citeG, axes, ylim=68)\n",
    "\n",
    "axes[0].text(-9, 58, \"Normal editors\", c='green', ha='left')\n",
    "axes[1].text(-9, 58, \"Questionable editors\", c='orange', ha='left')\n",
    "axes[2].text(-9, 58, \"Suspicious editors\", c='red', ha='left')\n",
    "\n",
    "axes[2].set_xlabel(\"Year since becoming editor\")\n",
    "\n",
    "plt.savefig(\"../figures/fig_2_e.pdf\",bbox_inches = 'tight', pad_inches = 0)\n",
    "\n",
    "# -0.03 0.01 -0.01 0.03 0.14 0.06 0.04 0.08 -0.03 0.0 \t 0.97 1.19 1.47 1.54 1.59 1.72 1.83 1.88 2.01 2.29 \n",
    "# 0.2 -0.09 -0.34 -0.36 -0.24 -0.08 0.29 0.59 0.53 0.0 \t 8.68 10.6 13.21 12.73 16.2 19.5 21.38 20.57 21.85 21.53 \n",
    "# 0.55 0.4 -0.53 -0.57 -0.44 -0.61 0.57 -0.44 0.97 -0.03 \t 16.5 23.13 25.79 26.01 30.8 42.0 40.34 35.41 38.8 40.4 "
   ]
  },
  {
   "cell_type": "code",
   "execution_count": 29,
   "metadata": {},
   "outputs": [
    {
     "name": "stdout",
     "output_type": "stream",
     "text": [
      "0.01 0.01 0.01 0.0 0.02 0.01 0.01 0.01 -0.05 0.0 \t 0.18 0.16 0.16 0.15 0.14 0.11 0.11 0.11 0.11 0.11 \n",
      "0.01 -0.02 -0.01 -0.06 -0.05 0.04 0.05 0.04 0.03 0.0 \t 1.52 1.44 1.97 1.76 1.67 2.17 2.04 1.79 1.83 1.78 \n",
      "0.0 0.01 -0.03 -0.01 0.03 -0.0 -0.05 0.04 -0.03 0.0 \t 2.35 2.46 3.59 3.53 3.24 4.43 4.35 3.53 3.58 3.12 \n",
      "CPU times: user 710 ms, sys: 33.7 ms, total: 743 ms\n",
      "Wall time: 815 ms\n"
     ]
    },
    {
     "data": {
      "image/png": "[encoded data removed]",
      "text/plain": [
       "<Figure size 255.118x198.425 with 3 Axes>"
      ]
     },
     "metadata": {
      "needs_background": "light"
     },
     "output_type": "display_data"
    }
   ],
   "source": [
    "%%time\n",
    "cm = 1/2.54  # centimeters in inches\n",
    "fig = plt.figure(figsize=(9*cm, 7*cm))\n",
    "plt.rcParams.update({'font.size': 7})\n",
    "\n",
    "spec2 = gridspec.GridSpec(ncols=1, nrows=3, figure=fig, hspace=0)\n",
    "axes = [fig.add_subplot(spec2[0, 0]), fig.add_subplot(spec2[1, 0]), fig.add_subplot(spec2[2, 0])]\n",
    "\n",
    "axes[0].set_xticks([])\n",
    "axes[1].set_xticks([])\n",
    "axes[1].set_ylabel(\"Mean difference between editors and their\\nmatched scientists in terms of the number\\n\"+\n",
    "                   \"of papers published in the journal\")\n",
    "axes[2].set_xticks([10, -5, 0, 5, 10])\n",
    "\n",
    "for ax in axes:\n",
    "    ax.spines['right'].set_visible(False)\n",
    "    ax.spines['bottom'].set_position('zero')\n",
    "    ax.spines['top'].set_visible(False)\n",
    "    ax.vlines(0.5, -20, 120, color='gray', linestyles='dashed', lw=0.5)\n",
    "\n",
    "axes[0].text(-9, 5.8, \"Normal editors\", c='green', ha='left')\n",
    "axes[1].text(-9, 5.8, \"Questionable editors\", c='orange', ha='left')\n",
    "axes[2].text(-9, 5.8, \"Suspicious editors\", c='red', ha='left')\n",
    "\n",
    "\n",
    "plotBars(pubG, axes, ylim=6.8)\n",
    "axes[2].set_xlabel(\"Year since becoming editor\")\n",
    "\n",
    "\n",
    "plt.savefig(\"../figures/main_2_pub_match.pdf\",bbox_inches = 'tight', pad_inches = 0)\n",
    "\n",
    "# 0.01 0.01 0.01 0.0 0.02 0.01 0.01 0.01 -0.05 0.0 \t 0.18 0.16 0.16 0.15 0.14 0.11 0.11 0.11 0.11 0.11 \n",
    "# 0.01 -0.02 -0.01 -0.06 -0.05 0.04 0.05 0.04 0.03 0.0 \t 1.52 1.44 1.97 1.76 1.67 2.17 2.04 1.79 1.83 1.78 \n",
    "# 0.0 0.01 -0.03 -0.01 0.03 -0.0 -0.05 0.04 -0.03 0.0 \t 2.35 2.46 3.59 3.53 3.24 4.43 4.35 3.53 3.58 3.12 "
   ]
  },
  {
   "cell_type": "code",
   "execution_count": null,
   "metadata": {},
   "outputs": [],
   "source": []
  }
 ],
 "metadata": {
  "kernelspec": {
   "display_name": "Python 3",
   "language": "python",
   "name": "python3"
  },
  "language_info": {
   "codemirror_mode": {
    "name": "ipython",
    "version": 3
   },
   "file_extension": ".py",
   "mimetype": "text/x-python",
   "name": "python",
   "nbconvert_exporter": "python",
   "pygments_lexer": "ipython3",
   "version": "3.8.5"
  }
 },
 "nbformat": 4,
 "nbformat_minor": 4
}
