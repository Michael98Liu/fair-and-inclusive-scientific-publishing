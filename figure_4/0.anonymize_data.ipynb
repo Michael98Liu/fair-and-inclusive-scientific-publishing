{
 "cells": [
  {
   "cell_type": "code",
   "execution_count": 1,
   "metadata": {},
   "outputs": [],
   "source": [
    "import pandas as pd"
   ]
  },
  {
   "cell_type": "markdown",
   "metadata": {},
   "source": [
    "## Anonymize editor data\n",
    "\n",
    "Find the editors who publish most of his/her papers in the journals that he/she edits and during editorship."
   ]
  },
  {
   "cell_type": "markdown",
   "metadata": {},
   "source": [
    "### Load data"
   ]
  },
  {
   "cell_type": "code",
   "execution_count": 2,
   "metadata": {},
   "outputs": [
    {
     "name": "stdout",
     "output_type": "stream",
     "text": [
      "editors: (19741, 4) unique: 17920 unique journals: 1167\n"
     ]
    }
   ],
   "source": [
    "editors = pd.read_csv(\"/scratch/fl1092/capstone/elsevier/editors.csv\", sep='\\t',\n",
    "                     usecols=[\"NewAuthorId\", \"issn\", \"start_year\", \"end_year\"],\n",
    "                     dtype={\"NewAuthorId\":int, \"issn\":str, \"start_year\":int, \"end_year\":int})\n",
    "\n",
    "assert(editors.issn.apply(lambda x: len(x) ==8).all())\n",
    "assert(editors[(editors.start_year >= 2018) | (editors.start_year < 1950)].shape[0]==0)\n",
    "\n",
    "print(f\"editors: {editors.shape} unique: {editors.NewAuthorId.nunique()} unique journals: {editors.issn.nunique()}\")"
   ]
  },
  {
   "cell_type": "code",
   "execution_count": 3,
   "metadata": {},
   "outputs": [
    {
     "name": "stdout",
     "output_type": "stream",
     "text": [
      "(82468512, 2)\n",
      "CPU times: user 12.5 s, sys: 4.94 s, total: 17.5 s\n",
      "Wall time: 17.6 s\n"
     ]
    }
   ],
   "source": [
    "%%time\n",
    "paper_journal = pd.read_csv(\"/scratch/fl1092/capstone/mag/PaperJournals.csv\", sep='\\t', memory_map=True,\n",
    "                        usecols=['PaperId', 'JournalId'], dtype={'PaperId':int, 'JournalId':int})\n",
    "\n",
    "print(paper_journal.shape) # (82468512, 2)"
   ]
  },
  {
   "cell_type": "code",
   "execution_count": 4,
   "metadata": {},
   "outputs": [],
   "source": [
    "elsevier_journals = pd.read_csv(\"/scratch/fl1092/capstone/bigmem/Journals_matched.csv\", sep=\"\\t\",\n",
    "                               usecols=['JournalId','issn'],\n",
    "                               dtype={'CitationCount':int,'DisplayName':str,'JournalId':int,\n",
    "                                      'PaperCount':int,'Rank':int,'issn':str})"
   ]
  },
  {
   "cell_type": "code",
   "execution_count": 5,
   "metadata": {},
   "outputs": [
    {
     "name": "stdout",
     "output_type": "stream",
     "text": [
      "(3335486, 3)\n",
      "CPU times: user 1.13 s, sys: 313 ms, total: 1.45 s\n",
      "Wall time: 1.53 s\n"
     ]
    }
   ],
   "source": [
    "%%time\n",
    "papers = pd.read_csv(\"/scratch/fl1092/capstone/elsevier/EditorsPaperNoEditorials.csv\", sep='\\t',\n",
    "                    dtype={'NewAuthorId':int, 'PaperId':int, 'Year':int})\n",
    "assert(papers.duplicated(subset=['NewAuthorId','PaperId']).any()==False)\n",
    "\n",
    "print(papers.shape) # (3295055, 3)"
   ]
  },
  {
   "cell_type": "markdown",
   "metadata": {},
   "source": [
    "### Find out papers editors publish in total, and in the journals they edit"
   ]
  },
  {
   "cell_type": "code",
   "execution_count": 6,
   "metadata": {},
   "outputs": [
    {
     "name": "stdout",
     "output_type": "stream",
     "text": [
      "(3855056, 6)\n",
      "CPU times: user 901 ms, sys: 289 ms, total: 1.19 s\n",
      "Wall time: 1.19 s\n"
     ]
    }
   ],
   "source": [
    "%%time\n",
    "papers = papers.merge(editors, on='NewAuthorId')\n",
    "assert(papers.duplicated(subset=['NewAuthorId','PaperId']).any()==True)\n",
    "print(papers.shape) # (3855056, 6)"
   ]
  },
  {
   "cell_type": "code",
   "execution_count": 7,
   "metadata": {},
   "outputs": [
    {
     "name": "stdout",
     "output_type": "stream",
     "text": [
      "(2606040, 7)\n",
      "CPU times: user 24 s, sys: 6.01 s, total: 30 s\n",
      "Wall time: 30.1 s\n"
     ]
    }
   ],
   "source": [
    "%%time\n",
    "papers = papers.merge(paper_journal, on='PaperId')\n",
    "print(papers.shape) # 2606040"
   ]
  },
  {
   "cell_type": "code",
   "execution_count": 8,
   "metadata": {},
   "outputs": [
    {
     "name": "stdout",
     "output_type": "stream",
     "text": [
      "(2611352, 8)\n",
      "CPU times: user 267 ms, sys: 49 ms, total: 316 ms\n",
      "Wall time: 316 ms\n"
     ]
    }
   ],
   "source": [
    "%%time\n",
    "papers = papers.merge(elsevier_journals, on='issn')\n",
    "print(papers.shape) # 2611352"
   ]
  },
  {
   "cell_type": "code",
   "execution_count": 9,
   "metadata": {},
   "outputs": [],
   "source": [
    "papers = papers.assign(edit=papers.JournalId_x == papers.JournalId_y)\n",
    "\n",
    "papers = papers.assign(during = papers.apply(\n",
    "    lambda row: (row['Year'] >= row['start_year']) & (row['Year'] <= row['end_year']) ,axis=1))"
   ]
  },
  {
   "cell_type": "code",
   "execution_count": 10,
   "metadata": {},
   "outputs": [
    {
     "data": {
      "text/plain": [
       "(2606404, 8)"
      ]
     },
     "execution_count": 10,
     "metadata": {},
     "output_type": "execute_result"
    }
   ],
   "source": [
    "papers = papers.drop(['JournalId_x','JournalId_y'], axis=1).drop_duplicates()\n",
    "papers.shape # (2606404, 8)"
   ]
  },
  {
   "cell_type": "code",
   "execution_count": 11,
   "metadata": {},
   "outputs": [
    {
     "data": {
      "text/plain": [
       "(2606404, 6)"
      ]
     },
     "execution_count": 11,
     "metadata": {},
     "output_type": "execute_result"
    }
   ],
   "source": [
    "papers = papers.sort_values(by=['edit','during'],ascending=False)\n",
    "papers = papers.drop(['start_year','end_year'], axis=1).drop_duplicates()\n",
    "papers.shape # (2606404, 6)"
   ]
  },
  {
   "cell_type": "code",
   "execution_count": 12,
   "metadata": {},
   "outputs": [
    {
     "name": "stdout",
     "output_type": "stream",
     "text": [
      "(2228197, 6)\n"
     ]
    }
   ],
   "source": [
    "papers = papers.drop_duplicates(subset=['NewAuthorId','PaperId'], keep='first')\n",
    "print(papers.shape) # (2228197, 10)"
   ]
  },
  {
   "cell_type": "markdown",
   "metadata": {},
   "source": [
    "### Anonymize"
   ]
  },
  {
   "cell_type": "code",
   "execution_count": 13,
   "metadata": {},
   "outputs": [],
   "source": [
    "papers[['PaperId']].drop_duplicates().reset_index(drop=True).reset_index().rename(\n",
    "    columns={'index':'AnoPaperId'}).to_csv('/scratch/fl1092/capstone/anonymize/PaperMap.csv',sep='\\t',index=False)"
   ]
  },
  {
   "cell_type": "code",
   "execution_count": 14,
   "metadata": {},
   "outputs": [],
   "source": [
    "editorMap = pd.read_csv('/scratch/fl1092/capstone/anonymize/EditorMap.csv',sep='\\t',\n",
    "                        dtype={'EditorId':int,'NewAuthorId':int})"
   ]
  },
  {
   "cell_type": "code",
   "execution_count": 15,
   "metadata": {},
   "outputs": [],
   "source": [
    "issnMap = pd.read_csv('/scratch/fl1092/capstone/anonymize/IssnMap.csv',sep='\\t',dtype={'IssnId':int,'issn':str})"
   ]
  },
  {
   "cell_type": "code",
   "execution_count": 16,
   "metadata": {},
   "outputs": [],
   "source": [
    "paperMap = pd.read_csv('/scratch/fl1092/capstone/anonymize/PaperMap.csv',sep='\\t',\n",
    "                        dtype={'PaperId':int,'AnoPaperId':int})"
   ]
  },
  {
   "cell_type": "code",
   "execution_count": 17,
   "metadata": {},
   "outputs": [],
   "source": [
    "def anonymize(df, anoPaper=True):\n",
    "    print(df.shape, end=' ')\n",
    "    df = df.merge(editorMap, on='NewAuthorId').drop('NewAuthorId',axis=1)\n",
    "    df = df.merge(issnMap, on='issn').drop('issn',axis=1)\n",
    "    if anoPaper:\n",
    "        df = df.merge(paperMap, on='PaperId').drop('PaperId',axis=1)\n",
    "    \n",
    "    print(df.shape)\n",
    "    return df"
   ]
  },
  {
   "cell_type": "code",
   "execution_count": 28,
   "metadata": {},
   "outputs": [
    {
     "name": "stdout",
     "output_type": "stream",
     "text": [
      "(19741, 4) (19741, 4)\n"
     ]
    }
   ],
   "source": [
    "ano_editors = anonymize(editors, False)"
   ]
  },
  {
   "cell_type": "code",
   "execution_count": 29,
   "metadata": {},
   "outputs": [
    {
     "name": "stdout",
     "output_type": "stream",
     "text": [
      "(2228197, 6) (2228197, 6)\n"
     ]
    }
   ],
   "source": [
    "ano_papers = anonymize(papers)"
   ]
  },
  {
   "cell_type": "markdown",
   "metadata": {},
   "source": [
    "### Finding the guys to plot"
   ]
  },
  {
   "cell_type": "code",
   "execution_count": 30,
   "metadata": {},
   "outputs": [
    {
     "name": "stdout",
     "output_type": "stream",
     "text": [
      "(10327, 2) (17894, 2)\n",
      "(10327, 3)\n"
     ]
    }
   ],
   "source": [
    "total = ano_papers.groupby('EditorId').AnoPaperId.nunique().reset_index().rename(columns={'AnoPaperId':'Count'})\n",
    "conflict = ano_papers.groupby(['EditorId','during','edit']).AnoPaperId.nunique().reset_index().rename(\n",
    "    columns={'AnoPaperId':'Conflict'})\n",
    "\n",
    "conflict = conflict[(conflict.during==True) & (conflict.edit==True)].drop(['during','edit'], axis=1)\n",
    "print(conflict.shape, total.shape) # (10327, 2) (17894, 2)\n",
    "\n",
    "conflict = conflict.merge(total, on='EditorId')\n",
    "print(conflict.shape) # (10327, 3)\n",
    "\n",
    "conflict = conflict.assign(percent=conflict.Conflict/conflict.Count)"
   ]
  },
  {
   "cell_type": "code",
   "execution_count": 31,
   "metadata": {},
   "outputs": [
    {
     "data": {
      "text/plain": [
       "array([12054, 15203, 13531])"
      ]
     },
     "execution_count": 31,
     "metadata": {},
     "output_type": "execute_result"
    }
   ],
   "source": [
    "conflict[conflict.Count >= 30].sort_values(by='percent', ascending=False).head(3).EditorId.values"
   ]
  },
  {
   "cell_type": "code",
   "execution_count": 32,
   "metadata": {
    "scrolled": false
   },
   "outputs": [
    {
     "data": {
      "text/plain": [
       "array([ 9348, 10693, 12427,  1357, 13212, 16872, 16028, 17518,  2483,\n",
       "       11631,  6029,  9357])"
      ]
     },
     "execution_count": 32,
     "metadata": {},
     "output_type": "execute_result"
    }
   ],
   "source": [
    "conflict[conflict.Count >= 30].sort_values(by='percent', ascending=False).head(15).tail(12).EditorId.values"
   ]
  },
  {
   "cell_type": "code",
   "execution_count": 33,
   "metadata": {},
   "outputs": [],
   "source": [
    "## three editors to plot\n",
    "to_plot = [12054, 13531, 15203, 9348, 10693, 12427,  1357, 13212, 16872, 16028, 17518,  2483,\n",
    "       11631,  6029,  9357]\n",
    "\n",
    "ano_papers = ano_papers[ano_papers.EditorId.isin(to_plot)]\n",
    "ano_editors = ano_editors[ano_editors.EditorId.isin(to_plot)]\n",
    "\n",
    "ano_papers.to_csv('/scratch/fl1092/capstone/anonymize/figure_4/EditorPapers.csv',sep='\\t',index=False)\n",
    "ano_editors.to_csv('/scratch/fl1092/capstone/anonymize/figure_4/Editors.csv',sep='\\t',index=False)"
   ]
  },
  {
   "cell_type": "markdown",
   "metadata": {},
   "source": [
    "## Anonymize journal data\n",
    "\n",
    "Find out the percentage of papers in a journal that is authored by its editorial board."
   ]
  },
  {
   "cell_type": "markdown",
   "metadata": {},
   "source": [
    "### Load data"
   ]
  },
  {
   "cell_type": "code",
   "execution_count": null,
   "metadata": {},
   "outputs": [],
   "source": [
    "editors = pd.read_csv(\"/scratch/fl1092/capstone/elsevier/editors.csv\", sep='\\t',\n",
    "                     usecols=[\"NewAuthorId\", \"issn\", \"start_year\", \"end_year\"],\n",
    "                     dtype={\"NewAuthorId\":int, \"issn\":str, \"start_year\":int, \"end_year\":int})\n",
    "\n",
    "assert(editors.issn.apply(lambda x: len(x) ==8).all())\n",
    "assert(editors[(editors.start_year >= 2018) | (editors.start_year < 1950)].shape[0]==0)\n",
    "# < 2018 since we care about trend after becoming editor\n",
    "# we consider papers up until 2018, but those who become editor until 2017 (inclusive)\n",
    "print(f\"editors: {editors.shape} unique: {editors.NewAuthorId.nunique()}\")"
   ]
  },
  {
   "cell_type": "code",
   "execution_count": null,
   "metadata": {},
   "outputs": [],
   "source": [
    "%%time\n",
    "paper_journal = pd.read_csv(\"/scratch/fl1092/capstone/mag/PaperJournals.csv\", sep='\\t', memory_map=True,\n",
    "                        usecols=['PaperId', 'JournalId'], dtype={'PaperId':int, 'JournalId':int})\n",
    "\n",
    "print(paper_journal.shape)"
   ]
  },
  {
   "cell_type": "code",
   "execution_count": null,
   "metadata": {},
   "outputs": [],
   "source": [
    "%%time\n",
    "editor_papers = pd.read_csv(\"/scratch/fl1092/capstone/elsevier/EditorsPaperNoEditorials.csv\", sep='\\t',\n",
    "                    dtype={'NewAuthorId':int, 'PaperId':int, 'Year':int})\n",
    "assert(editor_papers.duplicated(subset=['NewAuthorId','PaperId']).any()==False)\n",
    "\n",
    "print(editor_papers.shape) # (3295055, 3)"
   ]
  },
  {
   "cell_type": "code",
   "execution_count": null,
   "metadata": {},
   "outputs": [],
   "source": [
    "%%time\n",
    "paper_year = pd.read_csv(\"/scratch/fl1092/capstone/mag/PaperYear.csv\", sep='\\t', usecols=['PaperId', 'Year'],\n",
    "                    dtype={'PaperId':int, 'Year':int}, memory_map=True)\n",
    "print(paper_year.shape) # (219006118, 2)"
   ]
  },
  {
   "cell_type": "code",
   "execution_count": null,
   "metadata": {},
   "outputs": [],
   "source": [
    "%%time\n",
    "elsevier_journals = pd.read_csv(\"/scratch/fl1092/capstone/bigmem/Journals_matched.csv\", sep=\"\\t\",\n",
    "                               usecols=['JournalId','issn'],\n",
    "                               dtype={'CitationCount':int,'DisplayName':str,'JournalId':int,\n",
    "                                      'PaperCount':int,'Rank':int,'issn':str})\n",
    "print(elsevier_journals.shape) # (1817, 2)"
   ]
  },
  {
   "cell_type": "markdown",
   "metadata": {},
   "source": [
    "### All papers"
   ]
  },
  {
   "cell_type": "code",
   "execution_count": null,
   "metadata": {},
   "outputs": [],
   "source": [
    "%%time\n",
    "elsevier_papers = paper_journal.merge(elsevier_journals, on='JournalId').drop('JournalId', axis=1).drop_duplicates()\n",
    "print(elsevier_papers.shape)\n",
    "\n",
    "elsevier_papers = elsevier_papers.merge(paper_year, on='PaperId')\n",
    "print(elsevier_papers.shape) # (10931065, 2)"
   ]
  },
  {
   "cell_type": "code",
   "execution_count": null,
   "metadata": {},
   "outputs": [],
   "source": [
    "%%time\n",
    "total_papers = elsevier_papers.groupby(['issn','Year']).PaperId.nunique().reset_index().rename(\n",
    "    columns={'PaperId':'Total'})\n",
    "print(total_papers.shape) # (58382, 3)"
   ]
  },
  {
   "cell_type": "code",
   "execution_count": null,
   "metadata": {},
   "outputs": [],
   "source": [
    "total_papers.to_csv(\"/scratch/fl1092/capstone/temp/JournalOutlierTotalPapers.csv\", sep='\\t', index=False)"
   ]
  },
  {
   "cell_type": "markdown",
   "metadata": {},
   "source": [
    "### Papers by editors"
   ]
  },
  {
   "cell_type": "code",
   "execution_count": null,
   "metadata": {},
   "outputs": [],
   "source": [
    "%%time\n",
    "papers = editor_papers.merge(editors, on='NewAuthorId')\n",
    "assert(papers.duplicated(subset=['NewAuthorId','PaperId']).any()==True)\n",
    "print(papers.shape) # (3855056, 6) # (3858984, 5) # (3855971, 5)\n",
    "\n",
    "papers = papers.merge(paper_journal, on='PaperId')\n",
    "print(papers.shape)\n",
    "\n",
    "papers = papers.merge(elsevier_journals, on='issn')\n",
    "print(papers.shape)\n",
    "\n",
    "papers = papers.assign(edit=papers.JournalId_x == papers.JournalId_y)\n",
    "\n",
    "papers = papers.assign(during = papers.apply(\n",
    "    lambda row: (row['Year'] >= row['start_year']) & (row['Year'] <= row['end_year']) ,axis=1))\n",
    "\n",
    "papers = papers.drop(['JournalId_x','JournalId_y'], axis=1).drop_duplicates()\n",
    "print(papers.shape)\n",
    "\n",
    "papers = papers.sort_values(by=['edit','during'],ascending=False)\n",
    "papers = papers.drop(['start_year','end_year'], axis=1).drop_duplicates()\n",
    "print(papers.shape)\n",
    "\n",
    "papers = papers.drop_duplicates(subset=['NewAuthorId','PaperId'], keep='first')\n",
    "print(papers.shape) # (2228197, 10)"
   ]
  },
  {
   "cell_type": "code",
   "execution_count": null,
   "metadata": {},
   "outputs": [],
   "source": [
    "papers = papers[(papers.edit==True) & (papers.during==True)]\n",
    "print(papers.shape)\n",
    "\n",
    "papers = papers.drop_duplicates(subset=['PaperId'])\n",
    "print(papers.shape)\n",
    "# (60387, 6)\n",
    "# (58141, 6)"
   ]
  },
  {
   "cell_type": "code",
   "execution_count": null,
   "metadata": {},
   "outputs": [],
   "source": [
    "editor_papers = papers.groupby(['issn','Year']).PaperId.nunique().reset_index().rename(\n",
    "    columns={'PaperId':'Count'})"
   ]
  },
  {
   "cell_type": "code",
   "execution_count": null,
   "metadata": {},
   "outputs": [],
   "source": [
    "editor_papers.to_csv(\"/scratch/fl1092/capstone/temp/JournalOutlierEditorPapers.csv\", sep='\\t', index=False)"
   ]
  },
  {
   "cell_type": "markdown",
   "metadata": {},
   "source": [
    "### Find the outliers"
   ]
  },
  {
   "cell_type": "code",
   "execution_count": 34,
   "metadata": {},
   "outputs": [
    {
     "data": {
      "text/plain": [
       "((12553, 3), (58382, 3))"
      ]
     },
     "execution_count": 34,
     "metadata": {},
     "output_type": "execute_result"
    }
   ],
   "source": [
    "editor_papers = pd.read_csv(\"/scratch/fl1092/capstone/temp/JournalOutlierEditorPapers.csv\", sep='\\t',\n",
    "                           dtype={\"issn\":str,\"Year\":int,\"Count\":int})\n",
    "\n",
    "total_papers = pd.read_csv(\"/scratch/fl1092/capstone/temp/JournalOutlierTotalPapers.csv\", sep='\\t',\n",
    "                         dtype={\"issn\":str,\"Year\":int,\"Count\":int})\n",
    "\n",
    "editor_papers.shape, total_papers.shape # ((12553, 3), (58382, 3))"
   ]
  },
  {
   "cell_type": "code",
   "execution_count": 35,
   "metadata": {},
   "outputs": [
    {
     "data": {
      "text/plain": [
       "(1809, 3)"
      ]
     },
     "execution_count": 35,
     "metadata": {},
     "output_type": "execute_result"
    }
   ],
   "source": [
    "bad_journals = total_papers.groupby(['issn']).Total.sum().reset_index().merge(\n",
    "    editor_papers.groupby('issn').Count.sum(), on='issn', how='left').fillna(0)\n",
    "bad_journals.shape"
   ]
  },
  {
   "cell_type": "code",
   "execution_count": 36,
   "metadata": {},
   "outputs": [],
   "source": [
    "bad_journals = bad_journals.assign(percent = bad_journals.Count/bad_journals.Total)"
   ]
  },
  {
   "cell_type": "code",
   "execution_count": 40,
   "metadata": {},
   "outputs": [
    {
     "data": {
      "text/plain": [
       "array([ 326, 1366,    6])"
      ]
     },
     "execution_count": 40,
     "metadata": {},
     "output_type": "execute_result"
    }
   ],
   "source": [
    "bad_journals[bad_journals.Total >= 30].merge(\n",
    "    issnMap, on='issn').drop('issn',axis=1).sort_values(by='percent',ascending=False).head(3).IssnId.values"
   ]
  },
  {
   "cell_type": "code",
   "execution_count": 38,
   "metadata": {},
   "outputs": [],
   "source": [
    "editor_papers = editor_papers.merge(issnMap, on='issn').drop('issn',axis=1)\n",
    "total_papers = total_papers.merge(issnMap, on='issn').drop('issn',axis=1)"
   ]
  },
  {
   "cell_type": "code",
   "execution_count": 41,
   "metadata": {},
   "outputs": [],
   "source": [
    "to_plot = [6, 326, 1366]\n",
    "\n",
    "editor_papers = editor_papers[editor_papers.IssnId.isin(to_plot)]\n",
    "total_papers = total_papers[total_papers.IssnId.isin(to_plot)]\n",
    "\n",
    "editor_papers.to_csv('/scratch/fl1092/capstone/anonymize/figure_4/EditorPapersInJournal.csv',sep='\\t',index=False)\n",
    "total_papers.to_csv('/scratch/fl1092/capstone/anonymize/figure_4/TotalPapersInJournal.csv',sep='\\t',index=False)"
   ]
  },
  {
   "cell_type": "code",
   "execution_count": null,
   "metadata": {},
   "outputs": [],
   "source": []
  }
 ],
 "metadata": {
  "kernelspec": {
   "display_name": "Python 3",
   "language": "python",
   "name": "python3"
  },
  "language_info": {
   "codemirror_mode": {
    "name": "ipython",
    "version": 3
   },
   "file_extension": ".py",
   "mimetype": "text/x-python",
   "name": "python",
   "nbconvert_exporter": "python",
   "pygments_lexer": "ipython3",
   "version": "3.8.2"
  }
 },
 "nbformat": 4,
 "nbformat_minor": 4
}
